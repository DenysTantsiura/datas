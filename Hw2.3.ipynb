{
 "cells": [
  {
   "cell_type": "code",
   "execution_count": 1,
   "metadata": {},
   "outputs": [],
   "source": [
    "import matplotlib.pyplot as plt\n",
    "import numpy as np\n",
    "import pandas as pd\n",
    "from pandas import DataFrame, Series\n"
   ]
  },
  {
   "cell_type": "code",
   "execution_count": 2,
   "metadata": {},
   "outputs": [
    {
     "name": "stdout",
     "output_type": "stream",
     "text": [
      "                                                  Name  \\\n",
      "0                        10-Day Green Smoothie Cleanse   \n",
      "1                                    11/22/63: A Novel   \n",
      "2              12 Rules for Life: An Antidote to Chaos   \n",
      "3                               1984 (Signet Classics)   \n",
      "4    5,000 Awesome Facts (About Everything!) (Natio...   \n",
      "..                                                 ...   \n",
      "545       Wrecking Ball (Diary of a Wimpy Kid Book 14)   \n",
      "546  You Are a Badass: How to Stop Doubting Your Gr...   \n",
      "547  You Are a Badass: How to Stop Doubting Your Gr...   \n",
      "548  You Are a Badass: How to Stop Doubting Your Gr...   \n",
      "549  You Are a Badass: How to Stop Doubting Your Gr...   \n",
      "\n",
      "                       Author  User Rating  Reviews  Price  Year        Genre  \n",
      "0                    JJ Smith          4.7    17350      8  2016  Non Fiction  \n",
      "1                Stephen King          4.6     2052     22  2011      Fiction  \n",
      "2          Jordan B. Peterson          4.7    18979     15  2018  Non Fiction  \n",
      "3               George Orwell          4.7    21424      6  2017      Fiction  \n",
      "4    National Geographic Kids          4.8     7665     12  2019  Non Fiction  \n",
      "..                        ...          ...      ...    ...   ...          ...  \n",
      "545               Jeff Kinney          4.9     9413      8  2019      Fiction  \n",
      "546               Jen Sincero          4.7    14331      8  2016  Non Fiction  \n",
      "547               Jen Sincero          4.7    14331      8  2017  Non Fiction  \n",
      "548               Jen Sincero          4.7    14331      8  2018  Non Fiction  \n",
      "549               Jen Sincero          4.7    14331      8  2019  Non Fiction  \n",
      "\n",
      "[550 rows x 7 columns]\n"
     ]
    }
   ],
   "source": [
    "# Прочитайте csv файл (використовуйте функцію read_csv)\n",
    "p3t1 = pd.read_csv('dataset.csv')\n",
    "print(p3t1)\n"
   ]
  },
  {
   "cell_type": "code",
   "execution_count": 4,
   "metadata": {},
   "outputs": [
    {
     "name": "stdout",
     "output_type": "stream",
     "text": [
      "                                                Name  \\\n",
      "0                      10-Day Green Smoothie Cleanse   \n",
      "1                                  11/22/63: A Novel   \n",
      "2            12 Rules for Life: An Antidote to Chaos   \n",
      "3                             1984 (Signet Classics)   \n",
      "4  5,000 Awesome Facts (About Everything!) (Natio...   \n",
      "\n",
      "                     Author  User Rating  Reviews  Price  Year        Genre  \n",
      "0                  JJ Smith          4.7    17350      8  2016  Non Fiction  \n",
      "1              Stephen King          4.6     2052     22  2011      Fiction  \n",
      "2        Jordan B. Peterson          4.7    18979     15  2018  Non Fiction  \n",
      "3             George Orwell          4.7    21424      6  2017      Fiction  \n",
      "4  National Geographic Kids          4.8     7665     12  2019  Non Fiction  \n"
     ]
    }
   ],
   "source": [
    "# Виведіть перші п'ять рядків (використовується функція head)\n",
    "print(p3t1.head(5))  # print(p3t1.head()) -> 5 by default\n"
   ]
  },
  {
   "cell_type": "code",
   "execution_count": 5,
   "metadata": {},
   "outputs": [
    {
     "name": "stdout",
     "output_type": "stream",
     "text": [
      "(550, 7)\n"
     ]
    }
   ],
   "source": [
    "# Виведіть розміри датасету (використовуйте атрибут shape)\n",
    "print(p3t1.shape)\n"
   ]
  },
  {
   "cell_type": "code",
   "execution_count": 6,
   "metadata": {},
   "outputs": [
    {
     "name": "stdout",
     "output_type": "stream",
     "text": [
      "Відповідь: 550\n"
     ]
    }
   ],
   "source": [
    "# Відповідь: Про скільки книг зберігає дані датасет? Відповідь: p3t1.shape[0] -> 550\n",
    "print(f'Відповідь: {p3t1.shape[0]}')  # 550\n"
   ]
  },
  {
   "cell_type": "code",
   "execution_count": 8,
   "metadata": {},
   "outputs": [
    {
     "name": "stdout",
     "output_type": "stream",
     "text": [
      "                                                name  \\\n",
      "0                      10-Day Green Smoothie Cleanse   \n",
      "1                                  11/22/63: A Novel   \n",
      "2            12 Rules for Life: An Antidote to Chaos   \n",
      "3                             1984 (Signet Classics)   \n",
      "4  5,000 Awesome Facts (About Everything!) (Natio...   \n",
      "\n",
      "                     author  user_rating  reviews  price  year        genre  \n",
      "0                  JJ Smith          4.7    17350      8  2016  Non Fiction  \n",
      "1              Stephen King          4.6     2052     22  2011      Fiction  \n",
      "2        Jordan B. Peterson          4.7    18979     15  2018  Non Fiction  \n",
      "3             George Orwell          4.7    21424      6  2017      Fiction  \n",
      "4  National Geographic Kids          4.8     7665     12  2019  Non Fiction  \n"
     ]
    }
   ],
   "source": [
    "# Для спрощення подальшої роботи давайте трохи підправимо назви змінних.\n",
    "\n",
    "p3t1.columns = ['name', 'author', 'user_rating',\n",
    "                'reviews', 'price', 'year', 'genre']\n",
    "print(p3t1.head())\n"
   ]
  },
  {
   "cell_type": "code",
   "execution_count": 9,
   "metadata": {},
   "outputs": [
    {
     "name": "stdout",
     "output_type": "stream",
     "text": [
      "      name  author  user_rating  reviews  price   year  genre\n",
      "0    False   False        False    False  False  False  False\n",
      "1    False   False        False    False  False  False  False\n",
      "2    False   False        False    False  False  False  False\n",
      "3    False   False        False    False  False  False  False\n",
      "4    False   False        False    False  False  False  False\n",
      "..     ...     ...          ...      ...    ...    ...    ...\n",
      "545  False   False        False    False  False  False  False\n",
      "546  False   False        False    False  False  False  False\n",
      "547  False   False        False    False  False  False  False\n",
      "548  False   False        False    False  False  False  False\n",
      "549  False   False        False    False  False  False  False\n",
      "\n",
      "[550 rows x 7 columns]\n",
      "name           0\n",
      "author         0\n",
      "user_rating    0\n",
      "reviews        0\n",
      "price          0\n",
      "year           0\n",
      "genre          0\n",
      "dtype: int64\n"
     ]
    }
   ],
   "source": [
    "# Первинне дослідження даних\n",
    "# Перевірте, чи у всіх рядків вистачає даних: виведіть кількість пропусків (na) у кожному зі стовпців (використовуйте функції isna та sum)\n",
    "map_p3t1 = p3t1.isna()  # alias .isnull()\n",
    "print(map_p3t1)\n",
    "print(p3t2 := np.sum(map_p3t1, axis=0))\n"
   ]
  },
  {
   "cell_type": "code",
   "execution_count": 10,
   "metadata": {},
   "outputs": [
    {
     "name": "stdout",
     "output_type": "stream",
     "text": [
      "Відповідь: ні\n"
     ]
    }
   ],
   "source": [
    "# Відповідь: Чи є в якихось змінних пропуски? (Так / ні) Відповідь: ні\n",
    "print(f'''Відповідь: {'Так' if p3t2.sum() > 0 else 'ні'}''')  # ні\n"
   ]
  },
  {
   "cell_type": "code",
   "execution_count": 17,
   "metadata": {},
   "outputs": [
    {
     "name": "stdout",
     "output_type": "stream",
     "text": [
      "['Non Fiction' 'Fiction']\n"
     ]
    }
   ],
   "source": [
    "# Перевірте, які є унікальні значення в колонці genre (використовуйте функцію unique)\n",
    "#  Тобто унікальні з усіх, а не одиничні, що зустрічаються 1 раз серед усіх?\n",
    "print(pd.unique(p3t1['genre']))\n"
   ]
  },
  {
   "cell_type": "code",
   "execution_count": 18,
   "metadata": {},
   "outputs": [
    {
     "name": "stdout",
     "output_type": "stream",
     "text": [
      "Відповідь: / Non Fiction / Fiction / "
     ]
    }
   ],
   "source": [
    "# Відповідь: Які є унікальні жанри? Відповідь: ['Non Fiction' 'Fiction']\n",
    "unique_genre = np.insert(pd.unique(p3t1['genre']), 0, 'Відповідь:')\n",
    "_ = [print(el, end=' / ') for el in unique_genre]\n"
   ]
  },
  {
   "cell_type": "code",
   "execution_count": 119,
   "metadata": {},
   "outputs": [
    {
     "data": {
      "image/png": "[encoded data removed]",
      "text/plain": [
       "<Figure size 640x480 with 1 Axes>"
      ]
     },
     "metadata": {},
     "output_type": "display_data"
    }
   ],
   "source": [
    "# Тепер подивіться на розподіл цін: побудуйте діаграму (використовуйте kind='hist')\n",
    "plt.hist(p3t1['price'])\n",
    "plt.xlabel('price', fontsize='small', color='midnightblue')\n",
    "plt.ylabel('quantity', fontsize='small', color='midnightblue')\n",
    "plt.title('quantity of prices', fontsize=12)\n",
    "plt.show()\n"
   ]
  },
  {
   "cell_type": "code",
   "execution_count": 41,
   "metadata": {},
   "outputs": [
    {
     "name": "stdout",
     "output_type": "stream",
     "text": [
      "105 / 0.0 / 13.1 / 11.0\n"
     ]
    }
   ],
   "source": [
    "# Визначте, яка ціна у нас максимальна, мінімальна, середня, медіанна (використовуйте функції max, min, mean, median)\n",
    "print(\n",
    "      np.max(p3t1['price']), '/',\n",
    "      p3t1['price'].describe().loc['min'], '/',\n",
    "      p3t1['price'].describe().loc['mean'], '/',\n",
    "      p3t1['price'].describe().loc['50%'],\n",
    "      )\n"
   ]
  },
  {
   "cell_type": "code",
   "execution_count": 42,
   "metadata": {},
   "outputs": [
    {
     "name": "stdout",
     "output_type": "stream",
     "text": [
      "Відповідь: 105\n"
     ]
    }
   ],
   "source": [
    "# Відповідь: Максимальна ціна? Відповідь: 105\n",
    "print(f'''Відповідь: {p3t1['price'].max()}''')  # 105.0\n"
   ]
  },
  {
   "cell_type": "code",
   "execution_count": 43,
   "metadata": {},
   "outputs": [
    {
     "name": "stdout",
     "output_type": "stream",
     "text": [
      "Відповідь: 0\n"
     ]
    }
   ],
   "source": [
    "# Відповідь: Мінімальна ціна? Відповідь: 0\n",
    "print(f'''Відповідь: {p3t1['price'].min()}''')  # 0\n"
   ]
  },
  {
   "cell_type": "code",
   "execution_count": 44,
   "metadata": {},
   "outputs": [
    {
     "name": "stdout",
     "output_type": "stream",
     "text": [
      "Відповідь: 13.1\n"
     ]
    }
   ],
   "source": [
    "# Відповідь: Середня ціна? Відповідь: 13.1\n",
    "print(f'''Відповідь: {p3t1['price'].mean()}''')  # 13.1\n"
   ]
  },
  {
   "cell_type": "code",
   "execution_count": 45,
   "metadata": {},
   "outputs": [
    {
     "name": "stdout",
     "output_type": "stream",
     "text": [
      "Відповідь: 11.0\n"
     ]
    }
   ],
   "source": [
    "# Відповідь: Медіанна ціна? Відповідь: 11.0\n",
    "print(f'''Відповідь: {p3t1['price'].median()}''')  # 11.0\n"
   ]
  },
  {
   "cell_type": "code",
   "execution_count": 47,
   "metadata": {},
   "outputs": [
    {
     "name": "stdout",
     "output_type": "stream",
     "text": [
      "Відповідь: 4.9\n"
     ]
    }
   ],
   "source": [
    "# Пошук та сортування даних\n",
    "# Відповідь: Який рейтинг у датасеті найвищий? Відповідь: 4.9\n",
    "print(f'''Відповідь: {p3t1['user_rating'].max()}''')  # 4.9\n"
   ]
  },
  {
   "cell_type": "code",
   "execution_count": 50,
   "metadata": {},
   "outputs": [
    {
     "name": "stdout",
     "output_type": "stream",
     "text": [
      "Відповідь:  52.0\n"
     ]
    }
   ],
   "source": [
    "# Відповідь: Скільки книг мають такий рейтинг? Відповідь: 52\n",
    "print('Відповідь: ', p3t1['user_rating'][p3t1['user_rating']\n",
    "      == p3t1['user_rating'].max()].describe().loc['count'])  # 52\n"
   ]
  },
  {
   "cell_type": "code",
   "execution_count": 51,
   "metadata": {},
   "outputs": [
    {
     "name": "stdout",
     "output_type": "stream",
     "text": [
      "Відповідь:                          name       author  user_rating  reviews  price  year  \\\n",
      "534  Where the Crawdads Sing  Delia Owens          4.8    87841     15  2019   \n",
      "\n",
      "       genre  \n",
      "534  Fiction  \n"
     ]
    }
   ],
   "source": [
    "# Відповідь: Яка книга має найбільше відгуків? Відповідь:  # 534\n",
    "print('Відповідь: ', p3t1[p3t1['reviews'] == p3t1['reviews'].max()])  # 534\n"
   ]
  },
  {
   "cell_type": "code",
   "execution_count": 54,
   "metadata": {},
   "outputs": [
    {
     "name": "stdout",
     "output_type": "stream",
     "text": [
      "Відповідь:                                                    name  \\\n",
      "277  Publication Manual of the American Psychologic...   \n",
      "\n",
      "                                 author  user_rating  reviews  price  year  \\\n",
      "277  American Psychological Association          4.5     8580     46  2015   \n",
      "\n",
      "           genre  \n",
      "277  Non Fiction  \n"
     ]
    }
   ],
   "source": [
    "# Відповідь: З тих книг, що потрапили до Топ-50 у 2015 році, яка книга найдорожча\n",
    "# (можна використати проміжний датафрейм)? Відповідь: 277\n",
    "group_1 = p3t1[p3t1['year'] == 2015].nlargest(n=50, columns=['user_rating'])\n",
    "print('Відповідь: ', group_1[group_1['price'] == group_1['price'].max()])  # 277\n"
   ]
  },
  {
   "cell_type": "code",
   "execution_count": 61,
   "metadata": {},
   "outputs": [
    {
     "name": "stdout",
     "output_type": "stream",
     "text": [
      "Відповідь:  20\n"
     ]
    }
   ],
   "source": [
    "# Відповідь: Скільки книг жанру Fiction потрапили до Топ-50 у 2010 році\n",
    "# (використовуйте &)? Відповідь: 20\n",
    "print('Відповідь: ', p3t1[(p3t1['genre'] ==\n",
    "      'Fiction') & (p3t1['year'] == 2010)].nlargest(n=50, columns=['user_rating']).shape[0])  # 20\n"
   ]
  },
  {
   "cell_type": "code",
   "execution_count": 73,
   "metadata": {},
   "outputs": [
    {
     "name": "stdout",
     "output_type": "stream",
     "text": [
      "Відповідь:  1\n",
      "Відповідь:  1\n"
     ]
    },
    {
     "name": "stderr",
     "output_type": "stream",
     "text": [
      "/tmp/ipykernel_43331/1048976530.py:3: UserWarning: Boolean Series key will be reindexed to match DataFrame index.\n",
      "  print('Відповідь: ', p3t1[(p3t1['year'] == 2010) | (\n",
      "/tmp/ipykernel_43331/1048976530.py:5: UserWarning: Boolean Series key will be reindexed to match DataFrame index.\n",
      "  print('Відповідь: ', p3t1[p3t1['year'].isin([2010, 2011])\n"
     ]
    }
   ],
   "source": [
    "# Відповідь: Скільки книг з рейтингом 4.9 потрапило до рейтингу у 2010 та\n",
    "# 2011 роках (використовуйте | або функцію isin)? Відповідь: 1\n",
    "print('Відповідь: ', p3t1[(p3t1['year'] == 2010) | (\n",
    "    p3t1['year'] == 2011)][p3t1['user_rating'] == 4.9].shape[0])  # 1\n",
    "\n",
    "print('Відповідь: ', p3t1[p3t1['year'].isin([2010, 2011])\n",
    "      == True][p3t1['user_rating'] == 4.9].shape[0])  # 1\n"
   ]
  },
  {
   "cell_type": "code",
   "execution_count": 75,
   "metadata": {},
   "outputs": [
    {
     "name": "stdout",
     "output_type": "stream",
     "text": [
      "                                                  name              author  \\\n",
      "507                              To Kill a Mockingbird          Harper Lee   \n",
      "210                      Laugh-Out-Loud Jokes for Kids         Rob Elliott   \n",
      "206                         Knock-Knock Jokes for Kids         Rob Elliott   \n",
      "111                                    First 100 Words        Roger Priddy   \n",
      "123                               Giraffes Can't Dance       Giles Andreae   \n",
      "54   Creative Haven Creative Cats Coloring Book (Ad...     Marjorie Sarnat   \n",
      "63                      Dear Zoo: A Lift-the-Flap Book        Rod Campbell   \n",
      "89   Dover Creative Haven Art Nouveau Animal Design...         Marty Noble   \n",
      "478                        The Very Hungry Caterpillar          Eric Carle   \n",
      "201  Killing Reagan: The Violent Assault That Chang...       Bill O'Reilly   \n",
      "28                        Baby Touch and Feel: Animals                  DK   \n",
      "224                                   Love You Forever       Robert Munsch   \n",
      "55   Creative Haven Owls Coloring Book (Adult Color...     Marjorie Sarnat   \n",
      "17      Adult Coloring Book: Stress Relieving Patterns  Blue Star Coloring   \n",
      "376  The Four Agreements: A Practical Guide to Pers...     Don Miguel Ruiz   \n",
      "16   Adult Coloring Book: Stress Relieving Animal D...  Blue Star Coloring   \n",
      "253              Old School (Diary of a Wimpy Kid #10)         Jeff Kinney   \n",
      "\n",
      "     user_rating  reviews  price  year        genre  \n",
      "507          4.8    26234      0  2015      Fiction  \n",
      "210          4.6     6990      4  2015  Non Fiction  \n",
      "206          4.5     3673      4  2015  Non Fiction  \n",
      "111          4.7    17323      4  2015  Non Fiction  \n",
      "123          4.8    14038      4  2015      Fiction  \n",
      "54           4.8     4022      4  2015  Non Fiction  \n",
      "63           4.8    10922      5  2015      Fiction  \n",
      "89           4.6     2134      5  2015  Non Fiction  \n",
      "478          4.9    19546      5  2015      Fiction  \n",
      "201          4.6     5235      5  2015  Non Fiction  \n",
      "28           4.6     5360      5  2015  Non Fiction  \n",
      "224          4.8    18613      5  2015      Fiction  \n",
      "55           4.8     3871      5  2015  Non Fiction  \n",
      "17           4.4     2951      6  2015  Non Fiction  \n",
      "376          4.7    23308      6  2015  Non Fiction  \n",
      "16           4.6     2925      6  2015  Non Fiction  \n",
      "253          4.8     6169      7  2015      Fiction  \n"
     ]
    }
   ],
   "source": [
    "# І насамкінець, давайте відсортуємо за зростанням ціни всі книги, які потрапили до рейтингу\n",
    "# в 2015 році і коштують дешевше за 8 доларів (використовуйте функцію sort_values).\n",
    "print(p3t3 := p3t1[(p3t1['year'] == 2015) & (\n",
    "    p3t1['price'] < 8)].sort_values(by=['price']))\n"
   ]
  },
  {
   "cell_type": "code",
   "execution_count": 76,
   "metadata": {},
   "outputs": [
    {
     "name": "stdout",
     "output_type": "stream",
     "text": [
      "                                      name       author  user_rating  reviews  \\\n",
      "253  Old School (Diary of a Wimpy Kid #10)  Jeff Kinney          4.8     6169   \n",
      "\n",
      "     price  year    genre  \n",
      "253      7  2015  Fiction  \n"
     ]
    }
   ],
   "source": [
    "# Відповідь: Яка книга остання у відсортованому списку? Відповідь: 253\n",
    "print(p3t3.tail(1))  # 253\n"
   ]
  },
  {
   "cell_type": "code",
   "execution_count": 79,
   "metadata": {},
   "outputs": [
    {
     "name": "stdout",
     "output_type": "stream",
     "text": [
      "<pandas.core.groupby.generic.DataFrameGroupBy object at 0x7f011ffc6cb0>\n",
      "            price     \n",
      "              min  max\n",
      "genre                 \n",
      "Fiction         0   82\n",
      "Non Fiction     0  105\n"
     ]
    }
   ],
   "source": [
    "# Агрегування даних та з'єднання таблиць...\n",
    "print(p3t1_gby := p3t1.groupby(['genre']))\n",
    "print(p3t4 := p3t1_gby.agg({'price': ['min', 'max']}))\n"
   ]
  },
  {
   "cell_type": "code",
   "execution_count": 82,
   "metadata": {},
   "outputs": [
    {
     "name": "stdout",
     "output_type": "stream",
     "text": [
      "Відповідь:  82\n"
     ]
    }
   ],
   "source": [
    "# Відповідь: Максимальна ціна для жанру Fiction: Відповідь 82\n",
    "print('Відповідь: ', (p3t4.loc['Fiction'])[1])  # 82\n"
   ]
  },
  {
   "cell_type": "code",
   "execution_count": 83,
   "metadata": {},
   "outputs": [
    {
     "name": "stdout",
     "output_type": "stream",
     "text": [
      "Відповідь:  0\n"
     ]
    }
   ],
   "source": [
    "# Відповідь: Мінімальна ціна для жанру Fiction: Відповідь 0\n",
    "print('Відповідь: ', p3t4.loc['Fiction'][0])  # 0\n"
   ]
  },
  {
   "cell_type": "code",
   "execution_count": 84,
   "metadata": {},
   "outputs": [
    {
     "name": "stdout",
     "output_type": "stream",
     "text": [
      "Відповідь:  105\n"
     ]
    }
   ],
   "source": [
    "# Відповідь: Максимальна ціна для жанру Non Fiction: Відповідь 105\n",
    "print('Відповідь: ', p3t4.loc['Non Fiction'][1])  # 82\n"
   ]
  },
  {
   "cell_type": "code",
   "execution_count": 85,
   "metadata": {},
   "outputs": [
    {
     "name": "stdout",
     "output_type": "stream",
     "text": [
      "Відповідь:  0\n"
     ]
    }
   ],
   "source": [
    "# Відповідь: Мінімальна ціна для жанру Non Fiction: Відповідь 0\n",
    "print('Відповідь: ', p3t4.loc['Non Fiction'][0])  # 0\n"
   ]
  },
  {
   "cell_type": "code",
   "execution_count": 105,
   "metadata": {},
   "outputs": [
    {
     "name": "stdout",
     "output_type": "stream",
     "text": [
      "author\n",
      "Abraham Verghese              2\n",
      "Adam Gasiewski                1\n",
      "Adam Mansbach                 1\n",
      "Adir Levy                     1\n",
      "Admiral William H. McRaven    1\n",
      "                             ..\n",
      "Walter Isaacson               3\n",
      "William Davis                 2\n",
      "William P. Young              2\n",
      "Wizards RPG Team              3\n",
      "Zhi Gang Sha                  2\n",
      "Name: author, Length: 248, dtype: int64\n"
     ]
    }
   ],
   "source": [
    "# Тепер створіть новий датафрейм, який вміщатиме \n",
    "# кількість книг для кожного з авторів (використовуйте функції groupby та agg, \n",
    "# для підрахунку кількості використовуйте count). \n",
    "print(new_df := p3t1.groupby(['author'])['author'].count())\n"
   ]
  },
  {
   "cell_type": "code",
   "execution_count": 106,
   "metadata": {},
   "outputs": [
    {
     "name": "stdout",
     "output_type": "stream",
     "text": [
      "Відповідь:  248\n"
     ]
    }
   ],
   "source": [
    "# Відповідь: Якої розмірності вийшла таблиця? Відповідь: 248\n",
    "print('Відповідь: ', new_df.shape[0])  # 248\n"
   ]
  },
  {
   "cell_type": "code",
   "execution_count": 107,
   "metadata": {},
   "outputs": [
    {
     "name": "stdout",
     "output_type": "stream",
     "text": [
      "Відповідь:  Jeff Kinney\n"
     ]
    }
   ],
   "source": [
    "# Відповідь: Який автор має найбільше книг? Відповідь:  Jeff Kinney\n",
    "print('Відповідь: ', new_df[new_df == new_df.max()].index[0])  # Jeff Kinney\n"
   ]
  },
  {
   "cell_type": "code",
   "execution_count": 108,
   "metadata": {},
   "outputs": [
    {
     "name": "stdout",
     "output_type": "stream",
     "text": [
      "Відповідь:  12\n",
      "Відповідь:  12\n"
     ]
    }
   ],
   "source": [
    "# Відповідь: Скільки книг цього автора? Відповідь:  12\n",
    "print('Відповідь: ', new_df.max())  # 12\n",
    "print('Відповідь: ', new_df[new_df == new_df.max()][0])  # 12\n"
   ]
  },
  {
   "cell_type": "code",
   "execution_count": 109,
   "metadata": {},
   "outputs": [
    {
     "name": "stdout",
     "output_type": "stream",
     "text": [
      "author\n",
      "Abraham Verghese              4.600000\n",
      "Adam Gasiewski                4.400000\n",
      "Adam Mansbach                 4.800000\n",
      "Adir Levy                     4.800000\n",
      "Admiral William H. McRaven    4.700000\n",
      "                                ...   \n",
      "Walter Isaacson               4.566667\n",
      "William Davis                 4.400000\n",
      "William P. Young              4.600000\n",
      "Wizards RPG Team              4.800000\n",
      "Zhi Gang Sha                  4.600000\n",
      "Name: user_rating, Length: 248, dtype: float64\n"
     ]
    }
   ],
   "source": [
    "# Тепер створіть другий датафрейм, який буде вміщати\n",
    "# середній рейтинг для кожного автора (використовуйте функції\n",
    "# groupby та agg, для підрахунку середнього значення використовуйте mean).\n",
    "# Не беріть усі стовпці, виберете тільки потрібні (???)\n",
    "print(new_df2 := p3t1.groupby(['author'])['user_rating'].mean())\n"
   ]
  },
  {
   "cell_type": "code",
   "execution_count": 110,
   "metadata": {},
   "outputs": [
    {
     "name": "stdout",
     "output_type": "stream",
     "text": [
      "Відповідь:  Donna Tartt\n"
     ]
    }
   ],
   "source": [
    "# Відповідь: У якого автора середній рейтинг мінімальний? Відповідь:\n",
    "print('Відповідь: ', new_df2[new_df2 == new_df2.min()].index[0])  # Donna Tartt\n"
   ]
  },
  {
   "cell_type": "code",
   "execution_count": 111,
   "metadata": {},
   "outputs": [
    {
     "name": "stdout",
     "output_type": "stream",
     "text": [
      "Відповідь:  3.9\n",
      "Відповідь:  3.9\n"
     ]
    }
   ],
   "source": [
    "# Відповідь: Який у цього автора середній рейтинг? Відповідь:\n",
    "print('Відповідь: ', new_df2.min())  # 3.9\n",
    "print('Відповідь: ', new_df2[new_df2 == new_df2.min()][0])  # 3.9\n"
   ]
  },
  {
   "cell_type": "code",
   "execution_count": 114,
   "metadata": {},
   "outputs": [
    {
     "name": "stdout",
     "output_type": "stream",
     "text": [
      "                            books_quantity  user_raiting\n",
      "author                                                  \n",
      "Abraham Verghese                         2      4.600000\n",
      "Adam Gasiewski                           1      4.400000\n",
      "Adam Mansbach                            1      4.800000\n",
      "Adir Levy                                1      4.800000\n",
      "Admiral William H. McRaven               1      4.700000\n",
      "...                                    ...           ...\n",
      "Walter Isaacson                          3      4.566667\n",
      "William Davis                            2      4.400000\n",
      "William P. Young                         2      4.600000\n",
      "Wizards RPG Team                         3      4.800000\n",
      "Zhi Gang Sha                             2      4.600000\n",
      "\n",
      "[248 rows x 2 columns]\n"
     ]
    }
   ],
   "source": [
    "# З'єднайте останні два датафрейми так, щоб для кожного автора було видно\n",
    "# кількість книг та середній рейтинг (Використовуйте функцію concat з параметром axis=1).\n",
    "# Збережіть результат у змінну\n",
    "p3t5 = pd.concat([new_df, new_df2], axis=1)\n",
    "p3t5.columns = ['books_quantity', 'user_raiting']\n",
    "print(p3t5)\n"
   ]
  },
  {
   "cell_type": "code",
   "execution_count": 115,
   "metadata": {},
   "outputs": [
    {
     "name": "stdout",
     "output_type": "stream",
     "text": [
      "                                    books_quantity  user_raiting\n",
      "author                                                          \n",
      "Muriel Barbery                                   1      4.000000\n",
      "Chris Cleave                                     1      4.100000\n",
      "Ian K. Smith M.D.                                1      4.100000\n",
      "Pierre Dukan                                     1      4.100000\n",
      "Elizabeth Strout                                 1      4.200000\n",
      "...                                            ...           ...\n",
      "American Psychological Association              10      4.500000\n",
      "Suzanne Collins                                 11      4.663636\n",
      "Gary Chapman                                    11      4.736364\n",
      "Rick Riordan                                    11      4.772727\n",
      "Jeff Kinney                                     12      4.800000\n",
      "\n",
      "[248 rows x 2 columns]\n"
     ]
    }
   ],
   "source": [
    "# Відсортуйте датафрейм за зростаючою кількістю книг та зростаючим рейтингом\n",
    "# (використовуйте функцію sort_values)\n",
    "print(p3t6 := p3t5.sort_values(by=['books_quantity', 'user_raiting']))\n"
   ]
  },
  {
   "cell_type": "code",
   "execution_count": 116,
   "metadata": {},
   "outputs": [
    {
     "name": "stdout",
     "output_type": "stream",
     "text": [
      "Muriel Barbery\n"
     ]
    }
   ],
   "source": [
    "# Відповідь: Який автор перший у списку? Відповідь: Muriel Barbery\n",
    "print(p3t6.head(1).index[0])  # Muriel Barbery\n"
   ]
  }
 ],
 "metadata": {
  "kernelspec": {
   "display_name": "Python 3",
   "language": "python",
   "name": "python3"
  },
  "language_info": {
   "codemirror_mode": {
    "name": "ipython",
    "version": 3
   },
   "file_extension": ".py",
   "mimetype": "text/x-python",
   "name": "python",
   "nbconvert_exporter": "python",
   "pygments_lexer": "ipython3",
   "version": "3.10.9"
  },
  "orig_nbformat": 4
 },
 "nbformat": 4,
 "nbformat_minor": 2
}
