{
 "cells": [
  {
   "attachments": {},
   "cell_type": "markdown",
   "metadata": {},
   "source": [
    "### __HW_12__"
   ]
  },
  {
   "attachments": {},
   "cell_type": "markdown",
   "metadata": {},
   "source": [
    "Зробіть summary нижчевказаного тексту використовуючи бібліотеки для `NLP`: `nltk` та `SpaCy`"
   ]
  },
  {
   "attachments": {},
   "cell_type": "markdown",
   "metadata": {},
   "source": [
    "The Orbiter Discovery, OV-103, is considered eligible for listing in the National Register of Historic Places (NRHP) in the context of the U.S. Space Shuttle Program (1969-2011) under Criterion A in the areas of Space Exploration and Transportation and under Criterion C in the area of Engineering. Because it has achieved significance within the past fifty years, Criteria Consideration G applies. Under Criterion A, Discovery is significant as the oldest of the three extant orbiter vehicles constructed for the Space Shuttle Program (SSP), the longest running American space program to date; she was the third of five orbiters built by NASA. Unlike the Mercury, Gemini, and Apollo programs, the SSP’s emphasis was on cost effectiveness and reusability, and eventually the construction of a space station. Including her maiden voyage (launched August 30, 1984), Discovery flew to space thirty-nine times, more than any of the other four orbiters; she was also the first orbiter to fly twenty missions. She had the honor of being chosen as the Return to Flight vehicle after both the Challenger and Columbia accidents. Discovery was the first shuttle to fly with the redesigned SRBs, a result of the Challenger accident, and the first shuttle to fly with the Phase II and Block I SSME. Discovery also carried the Hubble Space Telescope to orbit and performed two of the five servicing missions to the observatory. She flew the first and last dedicated Department of Defense (DoD) missions, as well as the first unclassified defense-related mission. In addition, Discovery was vital to the construction of the International Space Station (ISS); she flew thirteen of the thirty-seven total missions flown to the station by a U.S. Space Shuttle. She was the first orbiter to dock to the ISS, and the first to perform an exchange of a resident crew. Under Criterion C, Discovery is significant as a feat of engineering. According to Wayne Hale, a flight director from Johnson Space Center, the Space Shuttle orbiter represents a “huge technological leap from expendable rockets and capsules to a reusable, winged, hypersonic, cargo-carrying spacecraft.” Although her base structure followed a conventional aircraft design, she used advanced materials that both minimized her weight for cargo-carrying purposes and featured low thermal expansion ratios, which provided a stable base for her Thermal Protection System (TPS) materials. The Space Shuttle orbiter also featured the first reusable TPS; all previous spaceflight vehicles had a single-use, ablative heat shield. Other notable engineering achievements of the orbiter included the first reusable orbital propulsion system, and the first two-fault-tolerant Integrated Avionics System. As Hale stated, the Space Shuttle remains “the largest, fastest, winged hypersonic aircraft in history,” having regularly flown at twenty-five times the speed of sound."
   ]
  },
  {
   "attachments": {},
   "cell_type": "markdown",
   "metadata": {},
   "source": [
    "- https://pypi.org/project/nltk/\n",
    "- https://www.nltk.org/\n",
    "- https://dou.ua/lenta/articles/first-steps-in-nlp-nltk/\n",
    "- https://realpython.com/nltk-nlp-python/\n",
    "<br><br>\n",
    "- https://pypi.org/project/spacy/\n",
    "- https://spacy.io/\n",
    "- https://realpython.com/natural-language-processing-spacy-python/\n",
    "- "
   ]
  },
  {
   "cell_type": "code",
   "execution_count": 7,
   "metadata": {},
   "outputs": [],
   "source": [
    "from collections import Counter\n",
    "from heapq import nlargest\n",
    "from string import punctuation\n",
    "\n",
    "import nltk\n",
    "from nltk.corpus import stopwords\n",
    "from nltk.tokenize import word_tokenize, sent_tokenize\n",
    "import spacy\n",
    "from spacy.lang.en.stop_words import STOP_WORDS"
   ]
  },
  {
   "attachments": {},
   "cell_type": "markdown",
   "metadata": {},
   "source": [
    "Перш ніж почати роботу з `SpaCy`, необхідно завантажити потрібну мовну модель. Наприклад, для англійської мови ми можемо завантажити модель `'en_core_web_sm'`:"
   ]
  },
  {
   "attachments": {},
   "cell_type": "markdown",
   "metadata": {},
   "source": [
    "- https://stackoverflow.com/questions/54334304/spacy-cant-find-model-en-core-web-sm-on-windows-10-and-python-3-5-3-anacon"
   ]
  },
  {
   "attachments": {},
   "cell_type": "markdown",
   "metadata": {},
   "source": [
    "python -m spacy download en_core_web_lg<br>\n",
    "python -m spacy download en_core_web_sm<br>\n",
    "python -m spacy download en<br>\n",
    "/home/denys/.cache/pypoetry/virtualenvs/datas-cYPLqW4U-py3.10/bin/python -m spacy download en_core_web_sm"
   ]
  },
  {
   "cell_type": "code",
   "execution_count": 8,
   "metadata": {},
   "outputs": [],
   "source": [
    "nlp = spacy.load('en_core_web_sm')"
   ]
  },
  {
   "attachments": {},
   "cell_type": "markdown",
   "metadata": {},
   "source": [
    "#### __`OBTAIN` & `SCRUB`__ + __`EXPLORE`__ (DATASET)"
   ]
  },
  {
   "cell_type": "code",
   "execution_count": 9,
   "metadata": {},
   "outputs": [],
   "source": [
    "data = '''\n",
    "          The Orbiter Discovery, OV-103, is considered eligible for listing in the National Register of Historic Places (NRHP) in the context of the U.S. \n",
    "          Space Shuttle Program (1969-2011) under Criterion A in the areas of Space Exploration and Transportation and under Criterion C in the area of \n",
    "          Engineering. Because it has achieved significance within the past fifty years, Criteria Consideration G applies. Under Criterion A, Discovery \n",
    "          is significant as the oldest of the three extant orbiter vehicles constructed for the Space Shuttle Program (SSP), the longest running American \n",
    "          space program to date; she was the third of five orbiters built by NASA. Unlike the Mercury, Gemini, and Apollo programs, the SSP’s emphasis was \n",
    "          on cost effectiveness and reusability, and eventually the construction of a space station. Including her maiden voyage (launched August 30, \n",
    "          1984), Discovery flew to space thirty-nine times, more than any of the other four orbiters; she was also the first orbiter to fly twenty \n",
    "          missions. She had the honor of being chosen as the Return to Flight vehicle after both the Challenger and Columbia accidents. Discovery was the\n",
    "          first shuttle to fly with the redesigned SRBs, a result of the Challenger accident, and the first shuttle to fly with the Phase II and Block \n",
    "          I SSME. Discovery also carried the Hubble Space Telescope to orbit and performed two of the five servicing missions to the observatory. She \n",
    "          flew the first and last dedicated Department of Defense (DoD) missions, as well as the first unclassified defense-related mission. In addition, \n",
    "          Discovery was vital to the construction of the International Space Station (ISS); she flew thirteen of the thirty-seven total missions flown \n",
    "          to the station by a U.S. Space Shuttle. She was the first orbiter to dock to the ISS, and the first to perform an exchange of a resident crew. \n",
    "          Under Criterion C, Discovery is significant as a feat of engineering. According to Wayne Hale, a flight director from Johnson Space Center, \n",
    "          the Space Shuttle orbiter represents a “huge technological leap from expendable rockets and capsules to a reusable, winged, hypersonic, \n",
    "          cargo-carrying spacecraft.” Although her base structure followed a conventional aircraft design, she used advanced materials that both \n",
    "          minimized her weight for cargo-carrying purposes and featured low thermal expansion ratios, which provided a stable base for her Thermal \n",
    "          Protection System (TPS) materials. The Space Shuttle orbiter also featured the first reusable TPS; all previous spaceflight vehicles had \n",
    "          a single-use, ablative heat shield. Other notable engineering achievements of the orbiter included the first reusable orbital propulsion \n",
    "          system, and the first two-fault-tolerant Integrated Avionics System. As Hale stated, the Space Shuttle remains “the largest, fastest, \n",
    "          winged hypersonic aircraft in history,” having regularly flown at twenty-five times the speed of sound.\n",
    "          '''"
   ]
  },
  {
   "cell_type": "code",
   "execution_count": 10,
   "metadata": {},
   "outputs": [],
   "source": [
    "data_text = data.replace('\\n', '').replace('    ', ' ').replace('   ', ' ').replace('  ', ' ').replace('  ', ' ')[1: -1]"
   ]
  },
  {
   "cell_type": "code",
   "execution_count": 11,
   "metadata": {},
   "outputs": [
    {
     "data": {
      "text/plain": [
       "'The Orbiter Discovery, OV-103, is considered eligible for listing in the National Register of Historic Places (NRHP) in the context of the U.S. Space Shuttle Program (1969-2011) under Criterion A in the areas of Space Exploration and Transportation and under Criterion C in the area of Engineering. Because it has achieved significance within the past fifty years, Criteria Consideration G applies. Under Criterion A, Discovery is significant as the oldest of the three extant orbiter vehicles constructed for the Space Shuttle Program (SSP), the longest running American space program to date; she was the third of five orbiters built by NASA. Unlike the Mercury, Gemini, and Apollo programs, the SSP’s emphasis was on cost effectiveness and reusability, and eventually the construction of a space station. Including her maiden voyage (launched August 30, 1984), Discovery flew to space thirty-nine times, more than any of the other four orbiters; she was also the first orbiter to fly twenty missions. She had the honor of being chosen as the Return to Flight vehicle after both the Challenger and Columbia accidents. Discovery was the first shuttle to fly with the redesigned SRBs, a result of the Challenger accident, and the first shuttle to fly with the Phase II and Block I SSME. Discovery also carried the Hubble Space Telescope to orbit and performed two of the five servicing missions to the observatory. She flew the first and last dedicated Department of Defense (DoD) missions, as well as the first unclassified defense-related mission. In addition, Discovery was vital to the construction of the International Space Station (ISS); she flew thirteen of the thirty-seven total missions flown to the station by a U.S. Space Shuttle. She was the first orbiter to dock to the ISS, and the first to perform an exchange of a resident crew. Under Criterion C, Discovery is significant as a feat of engineering. According to Wayne Hale, a flight director from Johnson Space Center, the Space Shuttle orbiter represents a “huge technological leap from expendable rockets and capsules to a reusable, winged, hypersonic, cargo-carrying spacecraft.” Although her base structure followed a conventional aircraft design, she used advanced materials that both minimized her weight for cargo-carrying purposes and featured low thermal expansion ratios, which provided a stable base for her Thermal Protection System (TPS) materials. The Space Shuttle orbiter also featured the first reusable TPS; all previous spaceflight vehicles had a single-use, ablative heat shield. Other notable engineering achievements of the orbiter included the first reusable orbital propulsion system, and the first two-fault-tolerant Integrated Avionics System. As Hale stated, the Space Shuttle remains “the largest, fastest, winged hypersonic aircraft in history,” having regularly flown at twenty-five times the speed of sound.'"
      ]
     },
     "execution_count": 11,
     "metadata": {},
     "output_type": "execute_result"
    }
   ],
   "source": [
    "data_text"
   ]
  },
  {
   "attachments": {},
   "cell_type": "markdown",
   "metadata": {},
   "source": [
    "Перш ніж почати створювати `text summary`, текст потрібно підготувати. Це включає в себе `видалення непотрібних символів`, `токенізацію` (розбиття тексту на окремі слова або речення), `видалення стоп-слів` (слова, які не несуть суттєвої інформації) і, за необхідності, `інші обробки тексту`, такі як `стемінг` або `лематизація`."
   ]
  },
  {
   "attachments": {},
   "cell_type": "markdown",
   "metadata": {},
   "source": [
    "`NLTK` також надає розширені функції для обробки тексту. За допомогою `методів NLTK`, таких як `word_tokenize`, `sent_tokenize` або `stopwords`, ми можемо отримати `токенизовані слова та речення`, а також `список стоп-слів`."
   ]
  },
  {
   "attachments": {},
   "cell_type": "markdown",
   "metadata": {},
   "source": [
    "І також не забуваємо про знаки пунктуації."
   ]
  },
  {
   "attachments": {},
   "cell_type": "markdown",
   "metadata": {},
   "source": [
    "Також можна порахувати частоту появи тих чи інших слів у тексті(але варто пам'ятати, що це треба робити, вже виключивши усі знаки пунктуації)."
   ]
  },
  {
   "attachments": {},
   "cell_type": "markdown",
   "metadata": {},
   "source": [
    "Коли ми вже маємо підготовлений текст та використали `SpaCy` або `NLTK` для отримання необхідної інформації, ми можемо `створити текстове резюме`. Це можна зробити, наприклад, шляхом `виділення найважливіших речень` з тексту, враховуючи їх `вагу` або `частоту вживання певних слів`."
   ]
  },
  {
   "attachments": {},
   "cell_type": "markdown",
   "metadata": {},
   "source": [
    "Бібліотека `heapq` є частиною стандартної бібліотеки `Python` і надає функціонал для роботи зі структурами даних під назвою `heap`. Один з імпортованих об’єктів у цій бібліотеці - `nlargest` - є `функцією, яка дозволяє знаходити найбільші елементи з ітерабельного об’єкту`."
   ]
  },
  {
   "attachments": {},
   "cell_type": "markdown",
   "metadata": {},
   "source": [
    "- https://docs.python.org/3/library/heapq.html\n",
    "- https://docs.python.org/uk/3.12/library/heapq.html\n",
    "- https://www.geeksforgeeks.org/heap-queue-or-heapq-in-python/"
   ]
  },
  {
   "attachments": {},
   "cell_type": "markdown",
   "metadata": {},
   "source": [
    "Функція `nlargest(n, iterable, key=None)` приймає три аргументи:\n",
    "<br>`n` - це кількість найбільших елементів, які необхідно отримати\n",
    "<br>`iterable` - це ітерабельний об’єкт, з якого необхідно вибрати найбільші елементи\n",
    "<br>`key` (необов’язковий) - це функція, яка визначає, за яким ключем відбувається порівняння елементів (наприклад, `key=str.lower`)"
   ]
  },
  {
   "attachments": {},
   "cell_type": "markdown",
   "metadata": {},
   "source": [
    "Функція `nlargest` повертає список з n найбільших елементів з `iterable`. Ці елементи будуть впорядковані у порядку спадання. Якщо n більше довжини `iterable`, то функція поверне `весь iterable` у відсортованому порядку."
   ]
  },
  {
   "attachments": {},
   "cell_type": "markdown",
   "metadata": {},
   "source": [
    "При `select_length`=0, функція `nlargest` використовується для знаходження не `select_length` найбільших елементів зі словника `sentence_scores`, а всіх. Ключі словника представляють речення, а значення - їхні оцінки або ваги. Аргумент `key` заданий як `sentence_scores.get`, що означає, що функція `get` використовується для порівняння елементів. У даному випадку, вона повертає значення (оцінку) для кожного речення, яке використовується як критерій для порівняння. Отже, змінна `summary` міститиме список `select_length` найкращих речень зі словника `sentence_scores` у порядку спадання оцінок."
   ]
  },
  {
   "attachments": {},
   "cell_type": "markdown",
   "metadata": {},
   "source": [
    "#### __`MODEL`__"
   ]
  },
  {
   "cell_type": "code",
   "execution_count": 12,
   "metadata": {},
   "outputs": [
    {
     "name": "stderr",
     "output_type": "stream",
     "text": [
      "[nltk_data] Downloading package punkt to /home/denys/nltk_data...\n",
      "[nltk_data]   Package punkt is already up-to-date!\n",
      "[nltk_data] Downloading package stopwords to /home/denys/nltk_data...\n",
      "[nltk_data]   Package stopwords is already up-to-date!\n"
     ]
    }
   ],
   "source": [
    "class NLTK_SUMMARY:\n",
    "    \"\"\"Get summary from prepared text.\"\"\"\n",
    "    nltk.download('punkt')\n",
    "    nltk.download('stopwords')\n",
    "\n",
    "    def __init__(self, text: str) -> None:\n",
    "        self.text = text  # !?\n",
    "        self.tokens: list = word_tokenize(text)\n",
    "        self.sentences: list = sent_tokenize(text)\n",
    "        self.stop_words: set = set(stopwords.words('english'))\n",
    "        self.punctuations = self.get_punctuations()\n",
    "        self.word_frequencies = self.count_words_score()\n",
    "        self.sentence_scores = self.count_sentences_score()\n",
    "\n",
    "    @staticmethod\n",
    "    def get_punctuations() -> str:\n",
    "    # def get_punctuations(self) -> str:\n",
    "        # punctuations = set(''.join([el for el in self.tokens if len(el)==1 and not el.isalpha()]))\n",
    "        # punctuations.add('\\n')  # already removed from the original text ?\n",
    "        # punctuations = ''.join([el for el in punctuations])\n",
    "        punctuations = f'{punctuation}\\n'\n",
    "\n",
    "        return punctuations\n",
    "    \n",
    "    def count_words_score(self) -> dict:\n",
    "        word_frequencies = {}\n",
    "        for word in self.tokens:\n",
    "            if word.lower() not in self.stop_words and word.lower() not in self.punctuations:\n",
    "                word_frequencies[word] = 1 if word not in word_frequencies.keys() else word_frequencies[word] + 1\n",
    " \n",
    "        return word_frequencies\n",
    "    \n",
    "    def count_sentences_score(self) -> dict:\n",
    "        sentence_scores = {}\n",
    "        for sentence in self.sentences:\n",
    "            tokens = word_tokenize(sentence)\n",
    "            val = 0\n",
    "            for token_text in tokens:\n",
    "                val += self.word_frequencies.get(token_text, 0)\n",
    "                \n",
    "            sentence_scores[sentence] = val\n",
    "        \n",
    "        return sentence_scores\n",
    "    \n",
    "    def get_summary(self, select_length: int=0) -> list:\n",
    "        select_length = int(len(self.sentences)) if select_length==0 else select_length\n",
    "        summary = nlargest(select_length, self.sentence_scores, key=self.sentence_scores.get)\n",
    "\n",
    "        return summary\n"
   ]
  },
  {
   "attachments": {},
   "cell_type": "markdown",
   "metadata": {},
   "source": [
    "- https://medium.com/analytics-vidhya/text-summarization-using-spacy-ca4867c6b744"
   ]
  },
  {
   "cell_type": "code",
   "execution_count": 13,
   "metadata": {},
   "outputs": [],
   "source": [
    "class SPACY_SUMMARY:\n",
    "    \"\"\"Get summary from prepared text.\"\"\"\n",
    "    nlp = spacy.load('en_core_web_sm')  # to args...\n",
    "\n",
    "    def __init__(self, text: str) -> None:\n",
    "        self.text = text  # !?\n",
    "        self.doc = SPACY_SUMMARY.nlp(text)\n",
    "        self.tokens: list = [token.text for token in self.doc]\n",
    "        self.sentences: list = list(self.doc.sents)\n",
    "        self.stop_words: set = set(list(STOP_WORDS))\n",
    "        self.punctuations = self.get_punctuations()\n",
    "        self.word_frequencies = self.count_words_score()\n",
    "        self.sentence_scores = self.count_sentences_score()\n",
    "\n",
    "    @staticmethod\n",
    "    def get_punctuations() -> str:\n",
    "    # def get_punctuations(self) -> str:\n",
    "        # punctuations = set(''.join([el for el in self.tokens if len(el)==1 and not el.isalpha()]))\n",
    "        # punctuations.add('\\n')  # already removed from the original text ?\n",
    "        # punctuations = ''.join([el for el in punctuations])\n",
    "        punctuations = f'{punctuation}\\n'\n",
    "\n",
    "        return punctuations\n",
    "    \n",
    "    def count_words_score(self) -> dict:\n",
    "        word_frequencies = {}\n",
    "        for word in self.tokens:\n",
    "            if word.lower() not in self.stop_words and word.lower() not in self.punctuations:\n",
    "                word_frequencies[word] = 1 if word not in word_frequencies.keys() else word_frequencies[word] + 1\n",
    " \n",
    "        return word_frequencies\n",
    "    \n",
    "    def count_sentences_score(self) -> dict:\n",
    "        sentence_scores = {}\n",
    "        for sentence in self.sentences:\n",
    "            tokens = [token.text for token in SPACY_SUMMARY.nlp(str(sentence))]\n",
    "            val = 0\n",
    "            for token_text in tokens:\n",
    "                val += self.word_frequencies.get(token_text, 0)\n",
    "                \n",
    "            sentence_scores[sentence] = val\n",
    "        \n",
    "        return sentence_scores\n",
    "    \n",
    "    def get_summary(self, select_length: int=0) -> list:\n",
    "        select_length = int(len(self.sentences)) if select_length==0 else select_length\n",
    "        summary = nlargest(select_length, self.sentence_scores, key=self.sentence_scores.get)\n",
    "\n",
    "        return summary\n"
   ]
  },
  {
   "cell_type": "code",
   "execution_count": 14,
   "metadata": {},
   "outputs": [
    {
     "data": {
      "text/plain": [
       "[The Orbiter Discovery, OV-103, is considered eligible for listing in the National Register of Historic Places (NRHP) in the context of the U.S. Space Shuttle Program (1969-2011) under Criterion A in the areas of Space Exploration and Transportation and under Criterion C in the area of Engineering.,\n",
       " According to Wayne Hale, a flight director from Johnson Space Center, the Space Shuttle orbiter represents a “huge technological leap from expendable rockets and capsules to a reusable, winged, hypersonic, cargo-carrying spacecraft.”,\n",
       " In addition, Discovery was vital to the construction of the International Space Station (ISS); she flew thirteen of the thirty-seven total missions flown to the station by a U.S. Space Shuttle.]"
      ]
     },
     "execution_count": 14,
     "metadata": {},
     "output_type": "execute_result"
    }
   ],
   "source": [
    "summary_2 = SPACY_SUMMARY(data_text)\n",
    "summary_2.get_summary(3)"
   ]
  },
  {
   "attachments": {},
   "cell_type": "markdown",
   "metadata": {},
   "source": [
    "#### __`INTERPRET`__ / __`Error Analysis`__"
   ]
  },
  {
   "cell_type": "code",
   "execution_count": 15,
   "metadata": {},
   "outputs": [
    {
     "data": {
      "text/plain": [
       "['According to Wayne Hale, a flight director from Johnson Space Center, the Space Shuttle orbiter represents a “huge technological leap from expendable rockets and capsules to a reusable, winged, hypersonic, cargo-carrying spacecraft.” Although her base structure followed a conventional aircraft design, she used advanced materials that both minimized her weight for cargo-carrying purposes and featured low thermal expansion ratios, which provided a stable base for her Thermal Protection System (TPS) materials.',\n",
       " 'The Orbiter Discovery, OV-103, is considered eligible for listing in the National Register of Historic Places (NRHP) in the context of the U.S. Space Shuttle Program (1969-2011) under Criterion A in the areas of Space Exploration and Transportation and under Criterion C in the area of Engineering.',\n",
       " 'Under Criterion A, Discovery is significant as the oldest of the three extant orbiter vehicles constructed for the Space Shuttle Program (SSP), the longest running American space program to date; she was the third of five orbiters built by NASA.']"
      ]
     },
     "execution_count": 15,
     "metadata": {},
     "output_type": "execute_result"
    }
   ],
   "source": [
    "summary_1 = NLTK_SUMMARY(data_text)\n",
    "result_1 = summary_1.get_summary(3)\n",
    "result_1"
   ]
  },
  {
   "cell_type": "code",
   "execution_count": 16,
   "metadata": {},
   "outputs": [
    {
     "data": {
      "text/plain": [
       "[The Orbiter Discovery, OV-103, is considered eligible for listing in the National Register of Historic Places (NRHP) in the context of the U.S. Space Shuttle Program (1969-2011) under Criterion A in the areas of Space Exploration and Transportation and under Criterion C in the area of Engineering.,\n",
       " According to Wayne Hale, a flight director from Johnson Space Center, the Space Shuttle orbiter represents a “huge technological leap from expendable rockets and capsules to a reusable, winged, hypersonic, cargo-carrying spacecraft.”,\n",
       " In addition, Discovery was vital to the construction of the International Space Station (ISS); she flew thirteen of the thirty-seven total missions flown to the station by a U.S. Space Shuttle.]"
      ]
     },
     "execution_count": 16,
     "metadata": {},
     "output_type": "execute_result"
    }
   ],
   "source": [
    "summary_2 = SPACY_SUMMARY(data_text)\n",
    "result_2 = summary_2.get_summary(3)\n",
    "result_2"
   ]
  },
  {
   "cell_type": "code",
   "execution_count": 17,
   "metadata": {},
   "outputs": [
    {
     "data": {
      "text/plain": [
       "(16, 17)"
      ]
     },
     "execution_count": 17,
     "metadata": {},
     "output_type": "execute_result"
    }
   ],
   "source": [
    "len(summary_1.get_summary()), len(summary_2.get_summary())"
   ]
  },
  {
   "attachments": {},
   "cell_type": "markdown",
   "metadata": {},
   "source": [
    "#### __`RESULTS` & `CONCLUSIONS`__"
   ]
  },
  {
   "attachments": {},
   "cell_type": "markdown",
   "metadata": {},
   "source": [
    "За результатами для перших трьох найвагоміших(найзначущих) речень - помітні дещо різні результати, і через те що для випадку 2: `spacy` врахувало крапку перед закриваючими лапками як кінець речення, бо наступне слово мабуть з великої літери... `Although`, а для 1-го випадку `nltk` незафіксувало розділення речень, бо крапка мала бути після закриваючих лапок. Це видно якщо порівняти кількість речень при складанні `summsry` з усього набору.<br>\n",
    "Отже, кожен з розглянутих модулів має `свої особливості`, по різному працює, а `помарки та помилки у початковому тексті` можуть і суттєво `вплинути на результат`. "
   ]
  },
  {
   "attachments": {},
   "cell_type": "markdown",
   "metadata": {},
   "source": [
    "#### Addition: __`Transformers Summarization pipeline`__"
   ]
  },
  {
   "attachments": {},
   "cell_type": "markdown",
   "metadata": {},
   "source": [
    "- https://huggingface.co/docs/transformers/main_classes/pipelines#transformers.SummarizationPipeline"
   ]
  },
  {
   "cell_type": "code",
   "execution_count": null,
   "metadata": {},
   "outputs": [],
   "source": [
    "# poetry add transformers\n",
    "# # poetry add sentencepiece"
   ]
  },
  {
   "cell_type": "code",
   "execution_count": 18,
   "metadata": {},
   "outputs": [],
   "source": [
    "from transformers import pipeline"
   ]
  },
  {
   "cell_type": "code",
   "execution_count": 19,
   "metadata": {},
   "outputs": [
    {
     "name": "stderr",
     "output_type": "stream",
     "text": [
      "No model was supplied, defaulted to t5-small and revision d769bba (https://huggingface.co/t5-small).\n",
      "Using a pipeline without specifying a model name and revision in production is not recommended.\n",
      "All PyTorch model weights were used when initializing TFT5ForConditionalGeneration.\n",
      "\n",
      "All the weights of TFT5ForConditionalGeneration were initialized from the PyTorch model.\n",
      "If your task is similar to the task the model of the checkpoint was trained on, you can already use TFT5ForConditionalGeneration for predictions without further training.\n"
     ]
    }
   ],
   "source": [
    "summarizer = pipeline('summarization')"
   ]
  },
  {
   "cell_type": "code",
   "execution_count": 22,
   "metadata": {},
   "outputs": [
    {
     "data": {
      "text/plain": [
       "'the Orbiter Discovery, OV-103, is considered eligible for listing in the national Register of Historic Places . she was the oldest of the three extant orbiter vehicles constructed for the Space Shuttle Program (SSP), the longest running American space program to date . Discovery flew to space thirty-nine times, more than any other four orbiters .'"
      ]
     },
     "execution_count": 22,
     "metadata": {},
     "output_type": "execute_result"
    }
   ],
   "source": [
    "summarizer(data_text)[0]['summary_text']"
   ]
  },
  {
   "cell_type": "code",
   "execution_count": null,
   "metadata": {},
   "outputs": [],
   "source": []
  },
  {
   "cell_type": "code",
   "execution_count": null,
   "metadata": {},
   "outputs": [],
   "source": []
  }
 ],
 "metadata": {
  "kernelspec": {
   "display_name": "datas-cYPLqW4U-py3.10",
   "language": "python",
   "name": "python3"
  },
  "language_info": {
   "codemirror_mode": {
    "name": "ipython",
    "version": 3
   },
   "file_extension": ".py",
   "mimetype": "text/x-python",
   "name": "python",
   "nbconvert_exporter": "python",
   "pygments_lexer": "ipython3",
   "version": "3.10.12"
  },
  "orig_nbformat": 4
 },
 "nbformat": 4,
 "nbformat_minor": 2
}
