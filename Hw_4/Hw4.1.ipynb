{
 "cells": [
  {
   "cell_type": "code",
   "execution_count": 2,
   "metadata": {},
   "outputs": [],
   "source": [
    "import matplotlib.pyplot as plt\n",
    "import numpy as np\n",
    "import pandas as pd"
   ]
  },
  {
   "cell_type": "code",
   "execution_count": null,
   "metadata": {},
   "outputs": [],
   "source": [
    "df = pd.read_csv('bikes_rent.csv')\n",
    "df.head(5)"
   ]
  },
  {
   "cell_type": "code",
   "execution_count": null,
   "metadata": {},
   "outputs": [],
   "source": [
    "import seaborn as sns\n",
    "\n",
    "sns.set_style('darkgrid')\n",
    "sns.pairplot(\n",
    "             df,\n",
    "             vars=list(df.columns),\n",
    "             hue='basement'\n",
    "             )\n",
    "plt.show()"
   ]
  },
  {
   "cell_type": "code",
   "execution_count": null,
   "metadata": {},
   "outputs": [],
   "source": [
    "def draw_graphs(df: pd.DataFrame, idx_x: int = -1, type: str = 'go') -> None:\n",
    "    for idx_y in range(df.shape[1]):\n",
    "        if df.columns[idx_y] == df.columns[idx_x]:\n",
    "            continue\n",
    "\n",
    "        fig = plt.figure(figsize=(5, 5))\n",
    "        plt.plot(df.iloc[:, idx_x], df.iloc[:, idx_y], type, label=f'{df.columns[idx_y]}({df.columns[idx_x]})')\n",
    "        plt.xlabel(df.columns[idx_x], fontsize='small', color='midnightblue')\n",
    "        plt.ylabel(df.columns[idx_y], fontsize='small', color='midnightblue')\n",
    "        plt.title('bikes_rent.csv', fontsize=14)\n",
    "        plt.legend()\n",
    "        plt.show()"
   ]
  },
  {
   "cell_type": "code",
   "execution_count": null,
   "metadata": {},
   "outputs": [],
   "source": [
    "fig, axs = plt.subplots(1, 3, figsize=(12, 5))\n",
    "axs[0].plot(df.iloc[:, -1], df.iloc[:, 0], color='green', marker='+', linestyle='', linewidth=2, markersize=12, label=f'{df.columns[0]}({df.columns[-1]})')\n",
    "axs[1].scatter(df.iloc[:, -1], df.iloc[:, 0], color='g', marker='+', linestyle='', linewidth=2, s=120)\n",
    "axs[2].barh(df.iloc[:, -1], df.iloc[:, 0], color='r', label='night temperature')\n",
    "\n",
    "axs[0].set_xlabel(df.columns[-1], fontsize='small', color='midnightblue')\n",
    "\n",
    "axs[0].set_title('Денна', fontsize=10)\n",
    "axs[1].set_title('Нічна', fontsize=10)\n",
    "axs[2].set_title('Нічна', fontsize=10)\n",
    "\n",
    "fig.suptitle('Температура в м. Полтава', fontsize=15)\n",
    "\n",
    "plt.show()"
   ]
  },
  {
   "cell_type": "code",
   "execution_count": 19,
   "metadata": {},
   "outputs": [
    {
     "name": "stdout",
     "output_type": "stream",
     "text": [
      "Original dataframe\n",
      "    A   B   C\n",
      "0  45  38  10\n",
      "1  37  31  15\n",
      "2  42  26  17\n",
      "3  35  28  21\n",
      "4  39  33  12\n",
      "\n",
      "\n",
      "Between column B and the rest of the dataframe\n",
      "Correlation Coefficients Matrix\n",
      "A    0.518457\n",
      "B    1.000000\n",
      "C   -0.860941\n",
      "dtype: float64\n",
      "\n",
      "\n",
      "Between column C and the rest of the dataframe\n",
      "Correlation Coefficients Matrix\n",
      "A   -0.701886\n",
      "B   -0.860941\n",
      "C    1.000000\n",
      "dtype: float64\n",
      "\n",
      "\n",
      "Between column C and the rest of the dataframe\n",
      "Correlation Coefficients Matrix\n",
      "A   -0.701886\n",
      "B   -0.860941\n",
      "C    1.000000\n",
      "dtype: float64\n"
     ]
    }
   ],
   "source": [
    "# Data for matrix\n",
    "data = {'A': [45,37,42,35,39],\n",
    "        'B': [38,31,26,28,33],\n",
    "        'C': [10,15,17,21,12]\n",
    "        }\n",
    "\n",
    "df = pd.DataFrame(data,columns=['A','B','C'])\n",
    "print(\"Original dataframe\")\n",
    "print(df) # original df\n",
    "print(\"\\n\")\n",
    "\n",
    "corrMatrix = df.corrwith(df[\"B\"]) # finding correlations\n",
    "print(\"Between column B and the rest of the dataframe\")\n",
    "print(\"Correlation Coefficients Matrix\")\n",
    "print(corrMatrix) # printing correlations\n",
    "print('\\n')\n",
    "\n",
    "corrMatrix = df.corrwith(df[\"C\"]) # finding correlations\n",
    "print(\"Between column C and the rest of the dataframe\")\n",
    "print(\"Correlation Coefficients Matrix\")\n",
    "print(corrMatrix) # printing correlations\n",
    "print('\\n')\n",
    "\n",
    "corrMatrix = df.corrwith(df[\"C\"]) # finding correlations\n",
    "print(\"Between column C and the rest of the dataframe\")\n",
    "print(\"Correlation Coefficients Matrix\")\n",
    "print(corrMatrix) # printing correlations"
   ]
  },
  {
   "cell_type": "code",
   "execution_count": 21,
   "metadata": {},
   "outputs": [
    {
     "data": {
      "text/plain": [
       "one      1.0\n",
       "two      1.0\n",
       "three    1.0\n",
       "four     1.0\n",
       "dtype: float64"
      ]
     },
     "execution_count": 21,
     "metadata": {},
     "output_type": "execute_result"
    }
   ],
   "source": [
    "index = [\"a\", \"b\", \"c\", \"d\", \"e\"]\n",
    "\n",
    "columns = [\"one\", \"two\", \"three\", \"four\"]\n",
    "\n",
    "df1 = pd.DataFrame(np.arange(20).reshape(5, 4), index=index, columns=columns)\n",
    "\n",
    "# df2 = pd.DataFrame(np.arange(5).reshape(1, 5), index=index, columns=columns[3])\n",
    "\n",
    "df1.corrwith(df1['four'])"
   ]
  },
  {
   "cell_type": "code",
   "execution_count": 5,
   "metadata": {},
   "outputs": [
    {
     "data": {
      "text/html": [
       "<div>\n",
       "<style scoped>\n",
       "    .dataframe tbody tr th:only-of-type {\n",
       "        vertical-align: middle;\n",
       "    }\n",
       "\n",
       "    .dataframe tbody tr th {\n",
       "        vertical-align: top;\n",
       "    }\n",
       "\n",
       "    .dataframe thead th {\n",
       "        text-align: right;\n",
       "    }\n",
       "</style>\n",
       "<table border=\"1\" class=\"dataframe\">\n",
       "  <thead>\n",
       "    <tr style=\"text-align: right;\">\n",
       "      <th></th>\n",
       "      <th>one</th>\n",
       "      <th>two</th>\n",
       "      <th>three</th>\n",
       "      <th>four</th>\n",
       "    </tr>\n",
       "  </thead>\n",
       "  <tbody>\n",
       "    <tr>\n",
       "      <th>a</th>\n",
       "      <td>0</td>\n",
       "      <td>1</td>\n",
       "      <td>2</td>\n",
       "      <td>3</td>\n",
       "    </tr>\n",
       "    <tr>\n",
       "      <th>b</th>\n",
       "      <td>4</td>\n",
       "      <td>5</td>\n",
       "      <td>6</td>\n",
       "      <td>7</td>\n",
       "    </tr>\n",
       "    <tr>\n",
       "      <th>c</th>\n",
       "      <td>8</td>\n",
       "      <td>9</td>\n",
       "      <td>10</td>\n",
       "      <td>11</td>\n",
       "    </tr>\n",
       "    <tr>\n",
       "      <th>d</th>\n",
       "      <td>12</td>\n",
       "      <td>13</td>\n",
       "      <td>14</td>\n",
       "      <td>15</td>\n",
       "    </tr>\n",
       "  </tbody>\n",
       "</table>\n",
       "</div>"
      ],
      "text/plain": [
       "   one  two  three  four\n",
       "a    0    1      2     3\n",
       "b    4    5      6     7\n",
       "c    8    9     10    11\n",
       "d   12   13     14    15"
      ]
     },
     "execution_count": 5,
     "metadata": {},
     "output_type": "execute_result"
    }
   ],
   "source": [
    "df1"
   ]
  }
 ],
 "metadata": {
  "kernelspec": {
   "display_name": "datas-cYPLqW4U-py3.10",
   "language": "python",
   "name": "python3"
  },
  "language_info": {
   "codemirror_mode": {
    "name": "ipython",
    "version": 3
   },
   "file_extension": ".py",
   "mimetype": "text/x-python",
   "name": "python",
   "nbconvert_exporter": "python",
   "pygments_lexer": "ipython3",
   "version": "3.10.12"
  },
  "orig_nbformat": 4
 },
 "nbformat": 4,
 "nbformat_minor": 2
}
