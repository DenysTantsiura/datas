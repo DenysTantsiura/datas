{
  "cells": [
    {
      "attachments": {},
      "cell_type": "markdown",
      "metadata": {
        "id": "b0Yf4NBJUSNM"
      },
      "source": [
        "# Создание нейронной сети\n",
        "\n",
        "В этом задании мы создадим полносвязную нейронную сеть используя при этом низкоуровневые механизмы tensorflow.\n",
        "\n",
        "Архитектутра нейросети представлена на следующем рисунке. Как видите, в ней имеется один входной слой, два скрытых, а так же выходной слой. В качестве активационной функции в скрытых слоях будет использоваться сигмоида. На выходном слое мы используем softmax.\n",
        "\n",
        "Часть кода по созданию сети уже написана, от вас требуется заполнить пропуски в указанных местах."
      ]
    },
    {
      "attachments": {},
      "cell_type": "markdown",
      "metadata": {
        "id": "01rZWUu0USNQ"
      },
      "source": [
        "## Архитектура нейронной сети\n",
        "\n",
        "<img src=\"http://cs231n.github.io/assets/nn1/neural_net2.jpeg\" alt=\"nn\" style=\"width: 400px;\"/>\n"
      ]
    },
    {
      "attachments": {},
      "cell_type": "markdown",
      "metadata": {
        "id": "LLvIZ705Qw_V"
      },
      "source": [
        "## О датасете MNIST\n",
        "\n",
        "Данную нейросеть мы будем обучать на датасете MNIST. Этот датасет представляет собой большое количество изображений рукописных цифр размером $28 \\times 28$ пикселей. Каждый пиксель принимает значение от 0 до 255.\n",
        "\n",
        "Как и раньше датасет будет разеделен на обучающую и тестовую выборки. При этом мы выполним нормализацию всех изображений, чтобы значения пикселей находились в промежутке от 0 до 1, разделив яркость каждого пикселя на 255.\n",
        "\n",
        "Кроме того, архитектура нейронной сети ожидает на вход вектор. В нашем же случае каждый объект выборки представляет собой матрицу. Что же делать? В этом задании мы \"растянем\" матрицу $28 \\times 28$, получив при этом вектор, состоящей из 784 элементов.\n",
        "\n",
        "![MNIST Dataset](https://www.researchgate.net/profile/Steven-Young-5/publication/306056875/figure/fig1/AS:393921575309346@1470929630835/Example-images-from-the-MNIST-dataset.png)\n",
        "\n",
        "Больше информации о датасете можно найти [здесь](http://yann.lecun.com/exdb/mnist/)."
      ]
    },
    {
      "cell_type": "code",
      "execution_count": 1,
      "metadata": {
        "id": "il_0_5OyUSNR"
      },
      "outputs": [
        {
          "name": "stderr",
          "output_type": "stream",
          "text": [
            "2023-07-26 11:58:15.269999: I tensorflow/core/util/port.cc:110] oneDNN custom operations are on. You may see slightly different numerical results due to floating-point round-off errors from different computation orders. To turn them off, set the environment variable `TF_ENABLE_ONEDNN_OPTS=0`.\n",
            "2023-07-26 11:58:15.271637: I tensorflow/tsl/cuda/cudart_stub.cc:28] Could not find cuda drivers on your machine, GPU will not be used.\n",
            "2023-07-26 11:58:15.303585: I tensorflow/tsl/cuda/cudart_stub.cc:28] Could not find cuda drivers on your machine, GPU will not be used.\n",
            "2023-07-26 11:58:15.304702: I tensorflow/core/platform/cpu_feature_guard.cc:182] This TensorFlow binary is optimized to use available CPU instructions in performance-critical operations.\n",
            "To enable the following instructions: AVX2 AVX512F AVX512_VNNI FMA, in other operations, rebuild TensorFlow with the appropriate compiler flags.\n",
            "2023-07-26 11:58:15.964081: W tensorflow/compiler/tf2tensorrt/utils/py_utils.cc:38] TF-TRT Warning: Could not find TensorRT\n"
          ]
        }
      ],
      "source": [
        "from typing import Optional, Union\n",
        "\n",
        "\n",
        "import numpy as np\n",
        "import matplotlib.pyplot as plt\n",
        "from sklearn.metrics import accuracy_score\n",
        "import tensorflow as tf\n",
        "from tensorflow.keras.activations import sigmoid\n",
        "from tensorflow.keras.datasets import mnist\n",
        "from tensorflow.keras.metrics import Accuracy\n",
        "from tensorflow.keras.utils import to_categorical"
      ]
    },
    {
      "attachments": {},
      "cell_type": "markdown",
      "metadata": {},
      "source": [
        "#### O/S/E"
      ]
    },
    {
      "cell_type": "code",
      "execution_count": 25,
      "metadata": {
        "id": "cd-1_abTUSNS"
      },
      "outputs": [],
      "source": [
        "num_classes = 10  # общее количество классов, в нашем случае это цифры от 0 до 9\n",
        "num_features = 784  # количество атрибутов входного вектора 28 * 28 = 784\n",
        "\n",
        "learning_rate = 0.001  # скорость обучения нейронной сети\n",
        "training_steps = 3000  # максимальное число эпох\n",
        "batch_size = 256  # пересчитывать веса сети мы будем не на всей выборке, а на ее случайном подможестве из batch_size элементов\n",
        "display_step = 100  # каждые 100 итераций мы будем показывать текущее значение функции потерь и точности\n",
        "\n",
        "n_hidden_1 = 8  # количество нейронов 1-го слоя\n",
        "n_hidden_2 = 256  # количество нейронов 2-го слоя\n",
        "\n",
        "buffer_size = 1024  # This dataset fills a buffer with buffer_size elements, then randomly samples elements from this buffer, replacing the selected elements with new elements."
      ]
    },
    {
      "attachments": {},
      "cell_type": "markdown",
      "metadata": {},
      "source": [
        "- https://www.tensorflow.org/api_docs/python/tf/keras/datasets/mnist/load_data\n",
        "- https://www.tensorflow.org/api_docs/python/tf/data/Dataset\n",
        "- https://www.tensorflow.org/api_docs/python/tf/data/Dataset#repeat\n",
        "- https://www.tensorflow.org/api_docs/python/tf/data/Dataset#shuffle\n",
        "- https://www.tensorflow.org/api_docs/python/tf/data/Dataset#batch\n",
        "- https://www.tensorflow.org/api_docs/python/tf/data/Dataset#prefetch"
      ]
    },
    {
      "cell_type": "code",
      "execution_count": 26,
      "metadata": {
        "id": "pGTXiRyTUSNT"
      },
      "outputs": [],
      "source": [
        "# Загружаем датасет\n",
        "(x_train, y_train), (x_test, y_test) = mnist.load_data()\n",
        "\n",
        "# Преобразуем целочисленные пиксели к типу float32\n",
        "x_train, x_test = np.array(x_train, np.float32), np.array(x_test, np.float32)\n",
        "\n",
        "# Преобразуем матрицы размером 28x28 пикселей в вектор из 784 элементов\n",
        "x_train, x_test = x_train.reshape([-1, num_features]), x_test.reshape([-1, num_features])\n",
        "\n",
        "# Нормализуем значения пикселей\n",
        "x_train, x_test = x_train / 255., x_test / 255."
      ]
    },
    {
      "cell_type": "code",
      "execution_count": 27,
      "metadata": {},
      "outputs": [],
      "source": [
        "# Перемешаем тренировочные данные (split to batches & ...)\n",
        "train_data = tf.data.Dataset.from_tensor_slices((x_train, y_train))\n",
        "train_data = train_data.repeat().shuffle(buffer_size).batch(batch_size)  ##.prefetch(1)"
      ]
    },
    {
      "cell_type": "code",
      "execution_count": 16,
      "metadata": {},
      "outputs": [
        {
          "data": {
            "text/plain": [
              "<_BatchDataset element_spec=(TensorSpec(shape=(None, 784), dtype=tf.float32, name=None), TensorSpec(shape=(None,), dtype=tf.uint8, name=None))>"
            ]
          },
          "execution_count": 16,
          "metadata": {},
          "output_type": "execute_result"
        }
      ],
      "source": [
        "train_data"
      ]
    },
    {
      "cell_type": "code",
      "execution_count": 17,
      "metadata": {},
      "outputs": [
        {
          "data": {
            "text/plain": [
              "((60000, 784), (10000, 784))"
            ]
          },
          "execution_count": 17,
          "metadata": {},
          "output_type": "execute_result"
        }
      ],
      "source": [
        "x_train.shape, x_test.shape"
      ]
    },
    {
      "cell_type": "code",
      "execution_count": 18,
      "metadata": {},
      "outputs": [
        {
          "data": {
            "text/plain": [
              "((60000,), (10000,))"
            ]
          },
          "execution_count": 18,
          "metadata": {},
          "output_type": "execute_result"
        }
      ],
      "source": [
        "y_train.shape, y_test.shape"
      ]
    },
    {
      "attachments": {},
      "cell_type": "markdown",
      "metadata": {},
      "source": [
        "#### M"
      ]
    },
    {
      "attachments": {},
      "cell_type": "markdown",
      "metadata": {},
      "source": [
        "- https://www.tensorflow.org/api_docs/python/tf/keras/activations/sigmoid\n",
        "- https://www.tensorflow.org/api_docs/python/tf/random/normal\n",
        "- https://stackoverflow.com/questions/66968102/python-type-hint-can-tensorflow-data-type-be-used\n",
        "- https://www.tensorflow.org/api_docs/python/tf/nn/relu\n",
        "- https://www.tensorflow.org/api_docs/python/tf/nn/softmax"
      ]
    },
    {
      "cell_type": "code",
      "execution_count": 28,
      "metadata": {
        "id": "FkRmCQjnUSNV"
      },
      "outputs": [],
      "source": [
        "# Создадим нейронную сеть\n",
        "\n",
        "class DenseLayer(tf.Module):\n",
        "    def __init__(self, in_features: int, out_features: int, name: Optional[str]=None) -> None:\n",
        "        super().__init__(name=name)\n",
        "        self.w = tf.Variable(\n",
        "                             tf.random.normal([in_features, out_features]), \n",
        "                             name='w'\n",
        "                             )\n",
        "        # self.b = tf.Variable(tf.zeros([out_features]), name='b')  # b -> 0\n",
        "        self.b = tf.Variable(tf.random.normal([out_features]), name='b')\n",
        "\n",
        "    def __call__(self, x: tf.float32) -> tf.float32:\n",
        "        y = tf.matmul(x, self.w) + self.b\n",
        "        \n",
        "        return sigmoid(y) if self.name == 'sigmoid' else tf.nn.softmax(y) if self.name == 'softmax' else y\n",
        "\n",
        "\n",
        "class NN(tf.Module):\n",
        "  def __init__(self, name: Optional[str]=None) -> None:\n",
        "    super().__init__(name=name)\n",
        "    # Первый слой, состоящий из 128 нейронов\n",
        "    self.layer_1 = DenseLayer(in_features=num_features, out_features=n_hidden_1, name='sigmoid')\n",
        "\n",
        "    # Выходной слой\n",
        "    self.layer_out = DenseLayer(in_features=n_hidden_1, out_features=num_classes, name='softmax')\n",
        "\n",
        "  def __call__(self, x: tf.float32) -> tf.float32:\n",
        "    x = self.layer_1(x)\n",
        "\n",
        "    # Помните что для выхода нейронной сети мы применяем к выходу функцию softmax. \n",
        "    # Делаем мы это для того, чтобы\n",
        "    # выход нейронной сети принимал значения от 0 до 1 в соответствии с вероятностью \n",
        "    # принадлежности входного объекта к одному из 10 классов\n",
        "\n",
        "    x = self.layer_out(x)\n",
        "    \n",
        "    return x  # tf.nn.softmax(x)"
      ]
    },
    {
      "attachments": {},
      "cell_type": "markdown",
      "metadata": {},
      "source": [
        "- https://www.tensorflow.org/api_docs/python/tf/one_hot\n",
        "- https://www.tensorflow.org/api_docs/python/tf/clip_by_value\n",
        "- https://www.tensorflow.org/api_docs/python/tf/math/reduce_mean\n",
        "- https://uk.wikipedia.org/wiki/%D0%9F%D0%B5%D1%80%D0%B5%D1%85%D1%80%D0%B5%D1%81%D0%BD%D0%B0_%D0%B5%D0%BD%D1%82%D1%80%D0%BE%D0%BF%D1%96%D1%8F\n",
        "- https://www.tensorflow.org/api_docs/python/tf/compat/v1/metrics/accuracy\n",
        "- https://www.tensorflow.org/api_docs/python/tf/keras/metrics/Accuracy"
      ]
    },
    {
      "attachments": {},
      "cell_type": "markdown",
      "metadata": {},
      "source": [
        "- https://www.tensorflow.org/api_docs/python/tf/keras/losses/CategoricalCrossentropy\n",
        "- https://www.tensorflow.org/api_docs/python/tf/keras/metrics/categorical_crossentropy"
      ]
    },
    {
      "cell_type": "code",
      "execution_count": 29,
      "metadata": {
        "id": "LIf3o7VAUSNV"
      },
      "outputs": [],
      "source": [
        "# В качестве функции ошибки в данном случае удобно взять кросс-энтропию (num_classes > 2)\n",
        "def cross_entropy(y_pred: tf.float32, y_true: np.array) -> tf.float32:\n",
        "    # Encode label to a one hot vector.\n",
        "    # y_true = to_categorical(y_true, num_classes=num_classes)\n",
        "    y_true = tf.one_hot(y_true, depth=num_classes)\n",
        "    \n",
        "    # Clip prediction values to avoid log(0) error. (acording to min and max value)\n",
        "    y_pred = tf.clip_by_value(y_pred, 1e-9, 1.)\n",
        "\n",
        "    # Вычисление кросс-энтропии (reduce_mean - Computes the mean of elements across dimensions of a tensor.)\n",
        "    return tf.reduce_mean(-tf.reduce_sum(y_true * tf.math.log(y_pred)))\n",
        "\n",
        "\n",
        "# В качестве метрики качества используем точность\n",
        "def accuracy(y_pred: tf.float32, y_true: np.array) -> float:\n",
        "    m = Accuracy()\n",
        "    m.update_state(y_true, y_pred)\n",
        "\n",
        "    return m.result().numpy()\n",
        "    # return accuracy_score(y_true, y_pred)"
      ]
    },
    {
      "attachments": {},
      "cell_type": "markdown",
      "metadata": {},
      "source": [
        "- https://www.tensorflow.org/api_docs/python/tf/keras/optimizers/experimental/SGD\n",
        "- https://www.tensorflow.org/api_docs/python/tf/GradientTape"
      ]
    },
    {
      "cell_type": "code",
      "execution_count": 30,
      "metadata": {},
      "outputs": [],
      "source": [
        "# num_classes = 10 # общее количество классов, в нашем случае это цифры от 0 до 9\n",
        "# num_features = 784 # количество атрибутов входного вектора 28 * 28 = 784\n",
        "\n",
        "# learning_rate = 0.001 # скорость обучения нейронной сети\n",
        "# training_steps = 3000 # максимальное число эпох\n",
        "# batch_size = 256 # пересчитывать веса сети мы будем не на всей выборке, а на ее случайном подможестве из batch_size элементов\n",
        "# display_step = 100 # каждые 100 итераций мы будем показывать текущее значение функции потерь и точности\n",
        "\n",
        "# n_hidden_1 = 128 # количество нейронов 1-го слоя\n",
        "# n_hidden_2 = 256 # количество нейронов 2-го слоя"
      ]
    },
    {
      "cell_type": "code",
      "execution_count": 31,
      "metadata": {
        "id": "MQeT1yatUSNW"
      },
      "outputs": [],
      "source": [
        "# Создадим экзампляр нейронной сети\n",
        "neural_net = NN(name=\"mnist\")  # alter model predict function\n",
        "\n",
        "# Функция обучения нейросети\n",
        "def train(nn, input_x, output_y, learning_rate):\n",
        "    # Для подгонки весов сети будем использовать стохастический градиентный спуск:\n",
        "    optimizer = tf.optimizers.SGD(learning_rate)  # .Adam\n",
        "\n",
        "    # Активация автоматического дифференцирования\n",
        "    with tf.GradientTape() as g:\n",
        "        pred = neural_net(input_x)  # ? nn(input_x)\n",
        "        loss = cross_entropy(pred, output_y)\n",
        "\n",
        "        # Создадим оптимизируемых список параметров\n",
        "        # Место для вашего кода\n",
        "        # params = [nn.layer_out.w, nn.layer_out.b]\n",
        "        params = [nn.layer_1.trainable_variables, nn.layer_out.trainable_variables]\n",
        "\n",
        "        # Вычислим по ним значение градиента\n",
        "        # Место для вашего кода\n",
        "        dw, db = g.gradient(loss, params)\n",
        "\n",
        "        \n",
        "        # Модифицируем параметры\n",
        "        # Место для вашего кода\n",
        "        nn.layer_out.w.assign_sub(learning_rate * dw)\n",
        "        nn.layer_out.b.assign_sub(learning_rate * db)"
      ]
    },
    {
      "cell_type": "code",
      "execution_count": null,
      "metadata": {},
      "outputs": [
        {
          "ename": "",
          "evalue": "",
          "output_type": "error",
          "traceback": [
            "\u001b[1;31mCannot execute code, session has been disposed. Please try restarting the Kernel."
          ]
        },
        {
          "ename": "",
          "evalue": "",
          "output_type": "error",
          "traceback": [
            "\u001b[1;31mThe Kernel crashed while executing code in the the current cell or a previous cell. Please review the code in the cell(s) to identify a possible cause of the failure. Click <a href='https://aka.ms/vscodeJupyterKernelCrash'>here</a> for more info. View Jupyter <a href='command:jupyter.viewOutput'>log</a> for further details."
          ]
        }
      ],
      "source": [
        "# Alt\n",
        "params = [neural_net.layer_1.trainable_variables, neural_net.layer_out.trainable_variables]\n",
        "loss_history = []\n",
        "optimizer = tf.optimizers.legacy.Adam(learning_rate)\n",
        "for n in range(3):\n",
        "    loss = 0\n",
        "    for batch_x, batch_y in train_data:\n",
        "        with tf.GradientTape() as g:\n",
        "            f_loss = cross_entropy(neural_net(batch_x), batch_y)\n",
        "\n",
        "        loss += f_loss\n",
        "        grads = g.gradient(f_loss, params)  # dw, db\n",
        "        optimizer.apply_gradients(zip(grads[0], neural_net.layer_1.trainable_variables))\n",
        "        optimizer.apply_gradients(zip(grads[1], neural_net.layer_out.trainable_variables))\n",
        "\n",
        "    loss_history.append(loss)"
      ]
    },
    {
      "cell_type": "code",
      "execution_count": 35,
      "metadata": {
        "id": "fnyns9lBfpQZ"
      },
      "outputs": [
        {
          "name": "stdout",
          "output_type": "stream",
          "text": [
            "step: 0\n"
          ]
        },
        {
          "ename": "ValueError",
          "evalue": "too many values to unpack (expected 2)",
          "output_type": "error",
          "traceback": [
            "\u001b[0;31m---------------------------------------------------------------------------\u001b[0m",
            "\u001b[0;31mValueError\u001b[0m                                Traceback (most recent call last)",
            "Cell \u001b[0;32mIn[35], line 13\u001b[0m\n\u001b[1;32m     10\u001b[0m \u001b[39mprint\u001b[39m(\u001b[39mf\u001b[39m\u001b[39m'\u001b[39m\u001b[39mstep: \u001b[39m\u001b[39m{\u001b[39;00mstep\u001b[39m}\u001b[39;00m\u001b[39m'\u001b[39m)  \u001b[39m##-\u001b[39;00m\n\u001b[1;32m     11\u001b[0m \u001b[39m# Обновляем веса нейронной сети\u001b[39;00m\n\u001b[1;32m     12\u001b[0m \u001b[39m# Место для вашего кода\u001b[39;00m\n\u001b[0;32m---> 13\u001b[0m train(neural_net, batch_x, batch_y, learning_rate\u001b[39m=\u001b[39;49mlearning_rate)\n\u001b[1;32m     14\u001b[0m pred \u001b[39m=\u001b[39m neural_net(batch_x)\n\u001b[1;32m     15\u001b[0m current_loss \u001b[39m=\u001b[39m cross_entropy(batch_y, pred)\n",
            "Cell \u001b[0;32mIn[34], line 21\u001b[0m, in \u001b[0;36mtrain\u001b[0;34m(nn, input_x, output_y, learning_rate)\u001b[0m\n\u001b[1;32m     17\u001b[0m params \u001b[39m=\u001b[39m [nn\u001b[39m.\u001b[39mlayer_1\u001b[39m.\u001b[39mtrainable_variables, nn\u001b[39m.\u001b[39mlayer_2\u001b[39m.\u001b[39mtrainable_variables, nn\u001b[39m.\u001b[39mlayer_out\u001b[39m.\u001b[39mtrainable_variables]\n\u001b[1;32m     19\u001b[0m \u001b[39m# Вычислим по ним значение градиента\u001b[39;00m\n\u001b[1;32m     20\u001b[0m \u001b[39m# Место для вашего кода\u001b[39;00m\n\u001b[0;32m---> 21\u001b[0m dw, db \u001b[39m=\u001b[39m g\u001b[39m.\u001b[39mgradient(loss, params)\n\u001b[1;32m     24\u001b[0m \u001b[39m# Модифицируем параметры\u001b[39;00m\n\u001b[1;32m     25\u001b[0m \u001b[39m# Место для вашего кода\u001b[39;00m\n\u001b[1;32m     26\u001b[0m nn\u001b[39m.\u001b[39mlayer_out\u001b[39m.\u001b[39mw\u001b[39m.\u001b[39massign_sub(learning_rate \u001b[39m*\u001b[39m dw)\n",
            "\u001b[0;31mValueError\u001b[0m: too many values to unpack (expected 2)"
          ]
        }
      ],
      "source": [
        "# Тренировка сети\n",
        "\n",
        "loss_history = []  # каждые display_step шагов сохраняйте в этом список текущую ошибку нейросети\n",
        "accuracy_history = [] # каждые display_step шагов сохраняйте в этом список текущую точность нейросети\n",
        "\n",
        "# В этом цикле мы будем производить обучение нейронной сети\n",
        "# из тренировочного датасета train_data извлеките случайное подмножество, на котором \n",
        "# произведется тренировка. Используйте метод take, доступный для тренировочного датасета.\n",
        "for step, (batch_x, batch_y) in enumerate(train_data):  # Место для вашего кода:\n",
        "    print(f'step: {step}')  ##-\n",
        "    # Обновляем веса нейронной сети\n",
        "    # Место для вашего кода\n",
        "    train(neural_net, batch_x, batch_y, learning_rate=learning_rate)\n",
        "    pred = neural_net(batch_x)\n",
        "    current_loss = cross_entropy(batch_y, pred)\n",
        "    print(f'loss: {current_loss}')  ##-\n",
        "    \n",
        "    if step % display_step == 0:\n",
        "        # pred = neural_net(batch_x)\n",
        "\n",
        "        # Место для вашего кода\n",
        "        loss_history.append(current_loss)\n",
        "        accuracy_history.append(accuracy(batch_y, pred.numpy()))"
      ]
    },
    {
      "cell_type": "code",
      "execution_count": null,
      "metadata": {
        "id": "_yCBfG6MbQB2"
      },
      "outputs": [],
      "source": [
        "# Выведите графики зависимости изменения точности и потерь от шага\n",
        "# Если все сделано правильно, то точность должна расти, а потери уменьшаться\n",
        "\n",
        "# Место для вашего кода\n",
        "def draw_2simple_2d(x1: np.array, y1: np.array, x2: np.array, y2: np.array, suptitle: str) -> None:\n",
        "    fig, axs = plt.subplots(1, 2)\n",
        "\n",
        "    axs[0].plot(x1, y1)\n",
        "    axs[0].grid()\n",
        "    axs[1].plot(x1, y2)\n",
        "    fig.suptitle(suptitle)\n",
        "    # plt.legend()\n",
        "    # plt.grid()\n",
        "    axs[1].grid()\n",
        "\n",
        "\n",
        "x = np.array([point * display_step for point in range(len(loss_history))])\n",
        "\n",
        "draw_2simple_2d(x, loss_history, x, accuracy_history, suptitle='loss_history & accuracy_history')"
      ]
    },
    {
      "cell_type": "code",
      "execution_count": null,
      "metadata": {
        "id": "LE3g4gDyUSNY"
      },
      "outputs": [],
      "source": [
        "# Вычислите точность обученной нейросети\n",
        "\n",
        "# Место для вашего кода"
      ]
    },
    {
      "cell_type": "code",
      "execution_count": null,
      "metadata": {
        "id": "_EEHAubOUSNY"
      },
      "outputs": [],
      "source": [
        "# Протестируем обученную нейросеть на 10 изображениях. Из тестовой выборки возьмите 5 \n",
        "# случайных изображений и передайте их в нейронню сеть.\n",
        "# Выведите изображение и выпишите рядом ответ нейросети.\n",
        "# Сделайте вывод о том ошибается ли ваша нейронная сеть и если да, то как часто?\n",
        "\n",
        "# Место для вашего кода"
      ]
    }
  ],
  "metadata": {
    "accelerator": "GPU",
    "colab": {
      "name": "tensorflow_mnist_hw.ipynb",
      "provenance": []
    },
    "kernelspec": {
      "display_name": "Python 3",
      "language": "python",
      "name": "python3"
    },
    "language_info": {
      "codemirror_mode": {
        "name": "ipython",
        "version": 3
      },
      "file_extension": ".py",
      "mimetype": "text/x-python",
      "name": "python",
      "nbconvert_exporter": "python",
      "pygments_lexer": "ipython3",
      "version": "3.10.12"
    }
  },
  "nbformat": 4,
  "nbformat_minor": 0
}
