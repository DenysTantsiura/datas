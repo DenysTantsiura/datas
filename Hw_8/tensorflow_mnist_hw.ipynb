{
  "cells": [
    {
      "attachments": {},
      "cell_type": "markdown",
      "metadata": {
        "id": "b0Yf4NBJUSNM"
      },
      "source": [
        "# Создание нейронной сети\n",
        "\n",
        "В этом задании мы создадим полносвязную нейронную сеть используя при этом низкоуровневые механизмы tensorflow.\n",
        "\n",
        "Архитектутра нейросети представлена на следующем рисунке. Как видите, в ней имеется один входной слой, два скрытых, а так же выходной слой. В качестве активационной функции в скрытых слоях будет использоваться сигмоида. На выходном слое мы используем softmax.\n",
        "\n",
        "Часть кода по созданию сети уже написана, от вас требуется заполнить пропуски в указанных местах."
      ]
    },
    {
      "attachments": {},
      "cell_type": "markdown",
      "metadata": {
        "id": "01rZWUu0USNQ"
      },
      "source": [
        "## Архитектура нейронной сети\n",
        "\n",
        "<img src=\"http://cs231n.github.io/assets/nn1/neural_net2.jpeg\" alt=\"nn\" style=\"width: 400px;\"/>\n"
      ]
    },
    {
      "attachments": {},
      "cell_type": "markdown",
      "metadata": {
        "id": "LLvIZ705Qw_V"
      },
      "source": [
        "## О датасете MNIST\n",
        "\n",
        "Данную нейросеть мы будем обучать на датасете MNIST. Этот датасет представляет собой большое количество изображений рукописных цифр размером $28 \\times 28$ пикселей. Каждый пиксель принимает значение от 0 до 255.\n",
        "\n",
        "Как и раньше датасет будет разеделен на обучающую и тестовую выборки. При этом мы выполним нормализацию всех изображений, чтобы значения пикселей находились в промежутке от 0 до 1, разделив яркость каждого пикселя на 255.\n",
        "\n",
        "Кроме того, архитектура нейронной сети ожидает на вход вектор. В нашем же случае каждый объект выборки представляет собой матрицу. Что же делать? В этом задании мы \"растянем\" матрицу $28 \\times 28$, получив при этом вектор, состоящей из 784 элементов.\n",
        "\n",
        "![MNIST Dataset](https://www.researchgate.net/profile/Steven-Young-5/publication/306056875/figure/fig1/AS:393921575309346@1470929630835/Example-images-from-the-MNIST-dataset.png)\n",
        "\n",
        "Больше информации о датасете можно найти [здесь](http://yann.lecun.com/exdb/mnist/)."
      ]
    },
    {
      "cell_type": "code",
      "execution_count": 1,
      "metadata": {
        "id": "il_0_5OyUSNR"
      },
      "outputs": [],
      "source": [
        "from typing import Optional, Union\n",
        "\n",
        "\n",
        "import numpy as np\n",
        "import matplotlib.pyplot as plt\n",
        "from sklearn.metrics import accuracy_score\n",
        "import tensorflow as tf\n",
        "from tf.keras.activations import sigmoid\n",
        "from tensorflow.keras.datasets import mnist\n",
        "from tensorflow.keras.metrics import Accuracy\n",
        "from tensorflow.keras.utils import to_categorical"
      ]
    },
    {
      "attachments": {},
      "cell_type": "markdown",
      "metadata": {},
      "source": [
        "#### O/S/E"
      ]
    },
    {
      "cell_type": "code",
      "execution_count": 8,
      "metadata": {
        "id": "cd-1_abTUSNS"
      },
      "outputs": [],
      "source": [
        "num_classes = 10  # общее количество классов, в нашем случае это цифры от 0 до 9\n",
        "num_features = 784  # количество атрибутов входного вектора 28 * 28 = 784\n",
        "\n",
        "learning_rate = 0.001  # скорость обучения нейронной сети\n",
        "training_steps = 3000  # максимальное число эпох\n",
        "batch_size = 256  # пересчитывать веса сети мы будем не на всей выборке, а на ее случайном подможестве из batch_size элементов\n",
        "display_step = 100  # каждые 100 итераций мы будем показывать текущее значение функции потерь и точности\n",
        "\n",
        "n_hidden_1 = 128  # количество нейронов 1-го слоя\n",
        "n_hidden_2 = 256  # количество нейронов 2-го слоя\n",
        "\n",
        "buffer_size = 5000  # This dataset fills a buffer with buffer_size elements, then randomly samples elements from this buffer, replacing the selected elements with new elements."
      ]
    },
    {
      "attachments": {},
      "cell_type": "markdown",
      "metadata": {},
      "source": [
        "- https://www.tensorflow.org/api_docs/python/tf/keras/datasets/mnist/load_data\n",
        "- https://www.tensorflow.org/api_docs/python/tf/data/Dataset\n",
        "- https://www.tensorflow.org/api_docs/python/tf/data/Dataset#repeat\n",
        "- https://www.tensorflow.org/api_docs/python/tf/data/Dataset#shuffle\n",
        "- https://www.tensorflow.org/api_docs/python/tf/data/Dataset#batch\n",
        "- https://www.tensorflow.org/api_docs/python/tf/data/Dataset#prefetch"
      ]
    },
    {
      "cell_type": "code",
      "execution_count": 3,
      "metadata": {
        "id": "pGTXiRyTUSNT"
      },
      "outputs": [],
      "source": [
        "# Загружаем датасет\n",
        "(x_train, y_train), (x_test, y_test) = mnist.load_data()\n",
        "\n",
        "# Преобразуем целочисленные пиксели к типу float32\n",
        "x_train, x_test = np.array(x_train, np.float32), np.array(x_test, np.float32)\n",
        "\n",
        "# Преобразуем матрицы размером 28x28 пикселей в вектор из 784 элементов\n",
        "x_train, x_test = x_train.reshape([-1, num_features]), x_test.reshape([-1, num_features])\n",
        "\n",
        "# Нормализуем значения пикселей\n",
        "x_train, x_test = x_train / 255., x_test / 255."
      ]
    },
    {
      "cell_type": "code",
      "execution_count": 4,
      "metadata": {},
      "outputs": [],
      "source": [
        "# Перемешаем тренировочные данные (split to batches & ...)\n",
        "train_data = tf.data.Dataset.from_tensor_slices((x_train, y_train))\n",
        "train_data = train_data.repeat().shuffle(buffer_size).batch(batch_size).prefetch(1)"
      ]
    },
    {
      "cell_type": "code",
      "execution_count": 5,
      "metadata": {},
      "outputs": [
        {
          "data": {
            "text/plain": [
              "((60000, 784), (10000, 784))"
            ]
          },
          "execution_count": 5,
          "metadata": {},
          "output_type": "execute_result"
        }
      ],
      "source": [
        "x_train.shape, x_test.shape"
      ]
    },
    {
      "cell_type": "code",
      "execution_count": 6,
      "metadata": {},
      "outputs": [
        {
          "data": {
            "text/plain": [
              "((60000,), (10000,))"
            ]
          },
          "execution_count": 6,
          "metadata": {},
          "output_type": "execute_result"
        }
      ],
      "source": [
        "y_train.shape, y_test.shape"
      ]
    },
    {
      "cell_type": "code",
      "execution_count": 7,
      "metadata": {},
      "outputs": [
        {
          "data": {
            "text/plain": [
              "<_PrefetchDataset element_spec=(TensorSpec(shape=(None, 784), dtype=tf.float32, name=None), TensorSpec(shape=(None,), dtype=tf.uint8, name=None))>"
            ]
          },
          "execution_count": 7,
          "metadata": {},
          "output_type": "execute_result"
        }
      ],
      "source": [
        "train_data"
      ]
    },
    {
      "attachments": {},
      "cell_type": "markdown",
      "metadata": {},
      "source": [
        "#### M"
      ]
    },
    {
      "attachments": {},
      "cell_type": "markdown",
      "metadata": {},
      "source": [
        "- https://www.tensorflow.org/api_docs/python/tf/keras/activations/sigmoid\n",
        "- https://www.tensorflow.org/api_docs/python/tf/random/normal\n",
        "- https://stackoverflow.com/questions/66968102/python-type-hint-can-tensorflow-data-type-be-used\n",
        "- https://www.tensorflow.org/api_docs/python/tf/nn/relu\n",
        "- https://www.tensorflow.org/api_docs/python/tf/nn/softmax"
      ]
    },
    {
      "cell_type": "code",
      "execution_count": null,
      "metadata": {
        "id": "FkRmCQjnUSNV"
      },
      "outputs": [],
      "source": [
        "# Создадим нейронную сеть\n",
        "\n",
        "class DenseLayer(tf.Module):\n",
        "    def __init__(self, in_features: int, out_features: int, name: Optional[str]=None) -> None:\n",
        "        super().__init__(name=name)\n",
        "        self.w = tf.Variable(\n",
        "                             tf.random.normal([in_features, out_features]), \n",
        "                             name='w'\n",
        "                             )\n",
        "        # self.b = tf.Variable(tf.zeros([out_features]), name='b')  # b -> 0\n",
        "        self.b = tf.Variable(tf.random.normal([out_features]), name='b')\n",
        "\n",
        "    def __call__(self, x: tf.float32) -> tf.float32:\n",
        "        y = tf.matmul(x, self.w) + self.b\n",
        "        if self.name == 'softmax':\n",
        "           \n",
        "           return tf.nn.softmax(y)\n",
        "        \n",
        "        return sigmoid(y)\n",
        "\n",
        "\n",
        "class NN(tf.Module):\n",
        "  def __init__(self, name: Optional[str]=None) -> None:\n",
        "    super().__init__(name=name)\n",
        "    # Первый слой, состоящий из 128 нейронов\n",
        "    self.layer_1 = DenseLayer(in_features=num_features, out_features=n_hidden_1)\n",
        "\n",
        "    # Второй слой, состоящий из 256 нейронов\n",
        "    self.layer_2 = DenseLayer(in_features=n_hidden_1, out_features=n_hidden_2)\n",
        "\n",
        "    # Выходной слой\n",
        "    self.layer_out = DenseLayer(in_features=n_hidden_2, out_features=num_classes, name='softmax')\n",
        "\n",
        "  def __call__(self, x: tf.float32) -> tf.float32:\n",
        "    x = self.layer_1(x)\n",
        "\n",
        "    x = self.layer_2(x)\n",
        "\n",
        "    # Помните что для выхода нейронной сети мы применяем к выходу функцию softmax. \n",
        "    # Делаем мы это для того, чтобы\n",
        "    # выход нейронной сети принимал значения от 0 до 1 в соответствии с вероятностью \n",
        "    # принадлежности входного объекта к одному из 10 классов\n",
        "\n",
        "    x = self.layer_out(x)\n",
        "    \n",
        "    return x  # tf.nn.softmax(x)"
      ]
    },
    {
      "attachments": {},
      "cell_type": "markdown",
      "metadata": {},
      "source": [
        "- https://www.tensorflow.org/api_docs/python/tf/one_hot\n",
        "- https://www.tensorflow.org/api_docs/python/tf/clip_by_value\n",
        "- https://www.tensorflow.org/api_docs/python/tf/math/reduce_mean\n",
        "- https://uk.wikipedia.org/wiki/%D0%9F%D0%B5%D1%80%D0%B5%D1%85%D1%80%D0%B5%D1%81%D0%BD%D0%B0_%D0%B5%D0%BD%D1%82%D1%80%D0%BE%D0%BF%D1%96%D1%8F\n",
        "- https://www.tensorflow.org/api_docs/python/tf/compat/v1/metrics/accuracy\n",
        "- https://www.tensorflow.org/api_docs/python/tf/keras/metrics/Accuracy"
      ]
    },
    {
      "attachments": {},
      "cell_type": "markdown",
      "metadata": {},
      "source": [
        "- https://www.tensorflow.org/api_docs/python/tf/keras/losses/CategoricalCrossentropy\n",
        "- https://www.tensorflow.org/api_docs/python/tf/keras/metrics/categorical_crossentropy"
      ]
    },
    {
      "cell_type": "code",
      "execution_count": null,
      "metadata": {
        "id": "LIf3o7VAUSNV"
      },
      "outputs": [],
      "source": [
        "# В качестве функции ошибки в данном случае удобно взять кросс-энтропию (num_classes > 2)\n",
        "def cross_entropy(y_pred: tf.float32, y_true: np.array) -> tf.float32:\n",
        "    # Encode label to a one hot vector.\n",
        "    # y_true = to_categorical(y_true, num_classes=num_classes)\n",
        "    y_true = tf.one_hot(y_true, depth=num_classes)\n",
        "    \n",
        "    # Clip prediction values to avoid log(0) error. (acording to min and max value)\n",
        "    y_pred = tf.clip_by_value(y_pred, 1e-9, 1.)\n",
        "\n",
        "    # Вычисление кросс-энтропии (reduce_mean - Computes the mean of elements across dimensions of a tensor.)\n",
        "    return tf.reduce_mean(-tf.reduce_sum(y_true * tf.math.log(y_pred)))\n",
        "\n",
        "\n",
        "# В качестве метрики качества используем точность\n",
        "def accuracy(y_pred: tf.float32, y_true: np.array) -> float:\n",
        "    m = Accuracy()\n",
        "    m.update_state(y_true, y_pred)\n",
        "\n",
        "    return m.result().numpy()\n",
        "    # return accuracy_score(y_true, y_pred)"
      ]
    },
    {
      "attachments": {},
      "cell_type": "markdown",
      "metadata": {},
      "source": [
        "- https://www.tensorflow.org/api_docs/python/tf/keras/optimizers/experimental/SGD\n",
        "- https://www.tensorflow.org/api_docs/python/tf/GradientTape"
      ]
    },
    {
      "cell_type": "code",
      "execution_count": null,
      "metadata": {},
      "outputs": [],
      "source": [
        "# num_classes = 10 # общее количество классов, в нашем случае это цифры от 0 до 9\n",
        "# num_features = 784 # количество атрибутов входного вектора 28 * 28 = 784\n",
        "\n",
        "# learning_rate = 0.001 # скорость обучения нейронной сети\n",
        "# training_steps = 3000 # максимальное число эпох\n",
        "# batch_size = 256 # пересчитывать веса сети мы будем не на всей выборке, а на ее случайном подможестве из batch_size элементов\n",
        "# display_step = 100 # каждые 100 итераций мы будем показывать текущее значение функции потерь и точности\n",
        "\n",
        "# n_hidden_1 = 128 # количество нейронов 1-го слоя\n",
        "# n_hidden_2 = 256 # количество нейронов 2-го слоя"
      ]
    },
    {
      "cell_type": "code",
      "execution_count": null,
      "metadata": {
        "id": "MQeT1yatUSNW"
      },
      "outputs": [],
      "source": [
        "# Создадим экзампляр нейронной сети\n",
        "neural_net = NN(name=\"mnist\")\n",
        "\n",
        "# Функция обучения нейросети\n",
        "def train(nn, input_x, output_y):\n",
        "    # Для подгонки весов сети будем использовать стохастический градиентный спуск\n",
        "    optimizer = tf.optimizers.SGD(learning_rate)  # .Adam\n",
        "\n",
        "    # Активация автоматического дифференцирования\n",
        "    with tf.GradientTape() as g:\n",
        "      pred = neural_net(input_x)  # ? nn(input_x)\n",
        "      loss = cross_entropy(pred, output_y)\n",
        "\n",
        "      # Создадим оптимизируемых список параметров\n",
        "      # Место для вашего кода\n",
        "      params = [nn.w, nn.b]\n",
        "\n",
        "      # Вычислим по ним значение градиента\n",
        "      # Место для вашего кода\n",
        "      dw, db = g.gradient(loss, params)\n",
        "\n",
        "      \n",
        "      # Модифицируем параметры\n",
        "      # Место для вашего кода\n",
        "      nn.w.assign_sub(learning_rate * dw)\n",
        "      nn.b.assign_sub(learning_rate * db)"
      ]
    },
    {
      "cell_type": "code",
      "execution_count": null,
      "metadata": {
        "id": "fnyns9lBfpQZ"
      },
      "outputs": [],
      "source": [
        "# Тренировка сети\n",
        "\n",
        "loss_history = []  # каждые display_step шагов сохраняйте в этом список текущую ошибку нейросети\n",
        "accuracy_history = [] # каждые display_step шагов сохраняйте в этом список текущую точность нейросети\n",
        "\n",
        "# В этом цикле мы будем производить обучение нейронной сети\n",
        "# из тренировочного датасета train_data извлеките случайное подмножество, на котором \n",
        "# произведется тренировка. Используйте метод take, доступный для тренировочного датасета.\n",
        "for step, (batch_x, batch_y) in train_data:  # Место для вашего кода:\n",
        "    # Обновляем веса нейронной сети\n",
        "    # Место для вашего кода\n",
        "    train(neural_net, batch_x, batch_y, learning_rate=learning_rate)\n",
        "    pred = neural_net(batch_x)\n",
        "    current_loss = cross_entropy(batch_y, pred)\n",
        "    print(f'loss: {current_loss}')  ##-\n",
        "    \n",
        "    if step % display_step == 0:\n",
        "        # pred = neural_net(batch_x)\n",
        "\n",
        "        # Место для вашего кода\n",
        "        loss_history.append(current_loss)\n",
        "        accuracy_history.append(accuracy(batch_y, pred))"
      ]
    },
    {
      "cell_type": "code",
      "execution_count": null,
      "metadata": {
        "id": "_yCBfG6MbQB2"
      },
      "outputs": [],
      "source": [
        "# Выведите графики зависимости изменения точности и потерь от шага\n",
        "# Если все сделано правильно, то точность должна расти, а потери уменьшаться\n",
        "\n",
        "# Место для вашего кода\n"
      ]
    },
    {
      "cell_type": "code",
      "execution_count": null,
      "metadata": {
        "id": "LE3g4gDyUSNY"
      },
      "outputs": [],
      "source": [
        "# Вычислите точность обученной нейросети\n",
        "\n",
        "# Место для вашего кода"
      ]
    },
    {
      "cell_type": "code",
      "execution_count": null,
      "metadata": {
        "id": "_EEHAubOUSNY"
      },
      "outputs": [],
      "source": [
        "# Протестируем обученную нейросеть на 10 изображениях. Из тестовой выборки возьмите 5 \n",
        "# случайных изображений и передайте их в нейронню сеть.\n",
        "# Выведите изображение и выпишите рядом ответ нейросети.\n",
        "# Сделайте вывод о том ошибается ли ваша нейронная сеть и если да, то как часто?\n",
        "\n",
        "# Место для вашего кода"
      ]
    }
  ],
  "metadata": {
    "accelerator": "GPU",
    "colab": {
      "name": "tensorflow_mnist_hw.ipynb",
      "provenance": []
    },
    "kernelspec": {
      "display_name": "Python 3",
      "language": "python",
      "name": "python3"
    },
    "language_info": {
      "codemirror_mode": {
        "name": "ipython",
        "version": 3
      },
      "file_extension": ".py",
      "mimetype": "text/x-python",
      "name": "python",
      "nbconvert_exporter": "python",
      "pygments_lexer": "ipython3",
      "version": "3.10.12"
    }
  },
  "nbformat": 4,
  "nbformat_minor": 0
}
