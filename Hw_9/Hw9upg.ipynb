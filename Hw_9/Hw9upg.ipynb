{
 "cells": [
  {
   "cell_type": "code",
   "execution_count": 29,
   "metadata": {},
   "outputs": [],
   "source": [
    "import itertools\n",
    "import os\n",
    "import random\n",
    "\n",
    "import cv2  # poetry add opencv-python\n",
    "import matplotlib.pyplot as plt\n",
    "import numpy as np\n",
    "from sklearn.model_selection import train_test_split\n",
    "import tensorflow as tf\n",
    "from tensorflow import keras\n",
    "from tensorflow.keras.activations import mish, relu, sigmoid, softmax\n",
    "from tensorflow.keras.callbacks import EarlyStopping, ModelCheckpoint\n",
    "from tensorflow.keras.datasets import fashion_mnist\n",
    "from keras.datasets import imdb\n",
    "from keras.models import Sequential\n",
    "from keras.layers import Dense, Dropout\n",
    "from keras import losses\n",
    "from keras import metrics\n",
    "from keras import optimizers\n"
   ]
  },
  {
   "attachments": {},
   "cell_type": "markdown",
   "metadata": {},
   "source": [
    "###### __freeze random state__ (initialize the random number generator)"
   ]
  },
  {
   "attachments": {},
   "cell_type": "markdown",
   "metadata": {},
   "source": [
    "- https://www.w3schools.com/python/ref_random_seed.asp"
   ]
  },
  {
   "cell_type": "code",
   "execution_count": 30,
   "metadata": {},
   "outputs": [
    {
     "name": "stdout",
     "output_type": "stream",
     "text": [
      "0.1626540971560848\n",
      "0.3552707002275215\n",
      "0.6394267984578837\n",
      "0.025010755222666936\n",
      "0.6394267984578837\n"
     ]
    }
   ],
   "source": [
    "print(random.random())\n",
    "print(random.random())\n",
    "random.seed(42)\n",
    "print(a:=random.random())\n",
    "print(random.random())\n",
    "random.seed(42)\n",
    "print(b:=random.random())\n",
    "assert a == b, 'Something wrong!'"
   ]
  },
  {
   "cell_type": "code",
   "execution_count": 31,
   "metadata": {},
   "outputs": [],
   "source": [
    "def set_seed(seed_value):\n",
    "    random.seed(seed_value)\n",
    "    np.random.seed(seed_value)\n",
    "    tf.random.set_seed(seed_value)\n",
    "    os.environ['PYTHONHASHSEED'] = str(seed_value)\n",
    "    os.environ['TF_DETERMINISTIC_OPS'] = 'true'\n",
    "    \n",
    "\n",
    "set_seed(42)  # 42 from The Hitchhiker's Guide to the Galaxy ^_^"
   ]
  },
  {
   "attachments": {},
   "cell_type": "markdown",
   "metadata": {},
   "source": [
    "### __Dataset__"
   ]
  },
  {
   "attachments": {},
   "cell_type": "markdown",
   "metadata": {},
   "source": [
    "###### __fashion_mnist__"
   ]
  },
  {
   "cell_type": "code",
   "execution_count": 32,
   "metadata": {},
   "outputs": [
    {
     "data": {
      "text/plain": [
       "(dtype('uint8'), (28, 28))"
      ]
     },
     "execution_count": 32,
     "metadata": {},
     "output_type": "execute_result"
    }
   ],
   "source": [
    "(x_train, y_train), (x_test, y_test) = fashion_mnist.load_data()\n",
    "x_train.dtype, x_train[0].shape"
   ]
  },
  {
   "cell_type": "code",
   "execution_count": 33,
   "metadata": {},
   "outputs": [],
   "source": [
    "NUM_FEATURES = x_train[0].shape[0] * x_train[0].shape[1]"
   ]
  },
  {
   "cell_type": "code",
   "execution_count": 34,
   "metadata": {},
   "outputs": [
    {
     "name": "stdout",
     "output_type": "stream",
     "text": [
      "0.0\n"
     ]
    },
    {
     "data": {
      "text/plain": [
       "255.0"
      ]
     },
     "execution_count": 34,
     "metadata": {},
     "output_type": "execute_result"
    }
   ],
   "source": [
    "x_train, x_test = np.array(x_train, np.float32), np.array(x_test, np.float32)\n",
    "\n",
    "# each sample (28x28) to 1x784\n",
    "x_train, x_test = x_train.reshape([-1, NUM_FEATURES]), x_test.reshape([-1, NUM_FEATURES])\n",
    "print(min(x_train.min(), x_test.min()))\n",
    "maximum = max(x_train.max(), x_test.max()) # np.max([x_train.max(), x_test.max()]) \n",
    "maximum"
   ]
  },
  {
   "cell_type": "code",
   "execution_count": 35,
   "metadata": {},
   "outputs": [],
   "source": [
    "# Normalize (min = 0)\n",
    "x_train, x_test = x_train / maximum, x_test / maximum"
   ]
  },
  {
   "cell_type": "code",
   "execution_count": 36,
   "metadata": {},
   "outputs": [
    {
     "data": {
      "text/plain": [
       "((60000, 784), (10000, 784), (60000,), (10000,))"
      ]
     },
     "execution_count": 36,
     "metadata": {},
     "output_type": "execute_result"
    }
   ],
   "source": [
    "x_train.shape, x_test.shape, y_train.shape, y_test.shape"
   ]
  },
  {
   "cell_type": "code",
   "execution_count": 37,
   "metadata": {},
   "outputs": [
    {
     "data": {
      "text/plain": [
       "(9, 0)"
      ]
     },
     "execution_count": 37,
     "metadata": {},
     "output_type": "execute_result"
    }
   ],
   "source": [
    "max(y_train.max(), y_test.max()), min(y_train.min(), y_test.min())"
   ]
  },
  {
   "cell_type": "code",
   "execution_count": 38,
   "metadata": {},
   "outputs": [
    {
     "data": {
      "text/plain": [
       "10"
      ]
     },
     "execution_count": 38,
     "metadata": {},
     "output_type": "execute_result"
    }
   ],
   "source": [
    "NUM_CLASSES = len(set(np.concatenate((y_train, y_test), axis=0)))\n",
    "NUM_CLASSES"
   ]
  },
  {
   "cell_type": "code",
   "execution_count": 39,
   "metadata": {},
   "outputs": [
    {
     "data": {
      "text/plain": [
       "((60000, 10), (10000, 10))"
      ]
     },
     "execution_count": 39,
     "metadata": {},
     "output_type": "execute_result"
    }
   ],
   "source": [
    "y_true = tf.one_hot(y_train, depth=NUM_CLASSES).numpy()\n",
    "y_truev = tf.one_hot(y_test, depth=NUM_CLASSES).numpy()\n",
    "y_true.shape, y_truev.shape"
   ]
  },
  {
   "attachments": {},
   "cell_type": "markdown",
   "metadata": {},
   "source": [
    "###### __cifar10__"
   ]
  },
  {
   "attachments": {},
   "cell_type": "markdown",
   "metadata": {},
   "source": [
    "- https://www.tensorflow.org/datasets/catalog/cifar10\n",
    "- https://www.cs.toronto.edu/~kriz/cifar.html\n",
    "- https://github.com/YoongiKim/CIFAR-10-images"
   ]
  },
  {
   "cell_type": "code",
   "execution_count": 40,
   "metadata": {},
   "outputs": [],
   "source": [
    "# needed:\n",
    "# (x_train, y_train), (x_test, y_test) = dataset\n",
    "# NUM_FEATURES\n",
    "# NUM_CLASSES"
   ]
  },
  {
   "cell_type": "code",
   "execution_count": 41,
   "metadata": {},
   "outputs": [
    {
     "data": {
      "text/plain": [
       "10"
      ]
     },
     "execution_count": 41,
     "metadata": {},
     "output_type": "execute_result"
    }
   ],
   "source": [
    "# PATH_IMGS = '/home/denys/Desktop/PythonDataScience/datas/Hw_9/CIFAR-10-images-master/'\n",
    "PATH_IMGS = os.path.join(os.getcwd(), 'CIFAR-10-images-master', 'train')\n",
    "\n",
    "ids = []  # full image paths\n",
    "labels = []  # true mark 'images name-description' by label2index:\n",
    "# label2index = {kind:num for num, kind in enumerate(os.listdir(PATH_IMGS))}\n",
    "label2index = {}\n",
    "\n",
    "for num, folder in enumerate(os.listdir(PATH_IMGS)):\n",
    "    label2index[folder] = num\n",
    "    for image_name in os.listdir(os.path.join(PATH_IMGS, folder))[:500]:  # limit 500 for each - for example\n",
    "        ids.append(os.path.join(PATH_IMGS, folder, image_name))\n",
    "        labels.append(label2index[folder])\n",
    "\n",
    "NUM_CLASSES = num + 1\n",
    "NUM_CLASSES"
   ]
  },
  {
   "cell_type": "code",
   "execution_count": 42,
   "metadata": {},
   "outputs": [
    {
     "data": {
      "text/plain": [
       "{'dog': 0,\n",
       " 'ship': 1,\n",
       " 'frog': 2,\n",
       " 'automobile': 3,\n",
       " 'bird': 4,\n",
       " 'deer': 5,\n",
       " 'truck': 6,\n",
       " 'cat': 7,\n",
       " 'airplane': 8,\n",
       " 'horse': 9}"
      ]
     },
     "execution_count": 42,
     "metadata": {},
     "output_type": "execute_result"
    }
   ],
   "source": [
    "label2index"
   ]
  },
  {
   "cell_type": "code",
   "execution_count": 43,
   "metadata": {},
   "outputs": [
    {
     "data": {
      "text/plain": [
       "{0: 'dog',\n",
       " 1: 'ship',\n",
       " 2: 'frog',\n",
       " 3: 'automobile',\n",
       " 4: 'bird',\n",
       " 5: 'deer',\n",
       " 6: 'truck',\n",
       " 7: 'cat',\n",
       " 8: 'airplane',\n",
       " 9: 'horse'}"
      ]
     },
     "execution_count": 43,
     "metadata": {},
     "output_type": "execute_result"
    }
   ],
   "source": [
    "index2label = {y: x for x, y in label2index.items()}\n",
    "index2label"
   ]
  },
  {
   "cell_type": "code",
   "execution_count": 44,
   "metadata": {},
   "outputs": [],
   "source": [
    "ids_train, ids_valid, y_train, y_valid = train_test_split(ids, labels, test_size=0.2, shuffle=True)"
   ]
  },
  {
   "attachments": {},
   "cell_type": "markdown",
   "metadata": {},
   "source": [
    "- https://www.tensorflow.org/api_docs/python/tf/keras/utils/Sequence\n",
    "- https://numpy.org/doc/stable/reference/random/generated/numpy.random.shuffle.html\n",
    "- https://www.tensorflow.org/api_docs/python/tf/keras/utils/to_categorical\n",
    "\n",
    "- https://docs.opencv.org/3.4/d4/da8/group__imgcodecs.html\n",
    "- https://www.geeksforgeeks.org/python-opencv-cv2-imread-method/"
   ]
  },
  {
   "cell_type": "code",
   "execution_count": 45,
   "metadata": {},
   "outputs": [],
   "source": [
    "class Dataset(tf.keras.utils.Sequence):\n",
    "    def __init__(self, ids: list, y: list, shuffle: bool=True, batch_size: int=256) -> None:\n",
    "        self.ids = ids  # list of imgs path\n",
    "        self.y = y\n",
    "        self.shuffle = shuffle\n",
    "        self.indexes = np.arange(len(self.ids))\n",
    "        self.batch_size = batch_size\n",
    "        self.num_features = self.num_features if self.__getitem__(0) else 0\n",
    "        \n",
    "        if shuffle:\n",
    "            self.on_epoch_end()\n",
    "    \n",
    "    def __len__(self) -> int:\n",
    "        return len(self.ids) // self.batch_size\n",
    "    \n",
    "    def __getitem__(self, idx: int) -> tuple:  # get one batch\n",
    "        indexes = self.indexes[idx * self.batch_size : (idx + 1) * self.batch_size]\n",
    "        batch_ids = [self.ids[i] for i in indexes]\n",
    "        batch_y = [tf.keras.utils.to_categorical(self.y[i], 10) for i in indexes]\n",
    "        \n",
    "        batch_X = []\n",
    "        for i in range(self.batch_size):\n",
    "            img = cv2.imread(batch_ids[i])  # i/o disk operation! but low RAM uses\n",
    "            img = np.mean(img, axis=-1)  # RGB to grayscale\n",
    "\n",
    "            batch_X.append(img.reshape(len(img[0]) * len(img)))  # into a one-dimensional vector\n",
    "        \n",
    "        self.num_features = len(img[0]) * len(img) # !!\n",
    "        \n",
    "        return np.array(batch_X), np.array(batch_y)\n",
    "        \n",
    "    def on_epoch_end(self) -> None:\n",
    "        if self.shuffle:\n",
    "            np.random.shuffle(self.indexes)"
   ]
  },
  {
   "cell_type": "code",
   "execution_count": 46,
   "metadata": {},
   "outputs": [],
   "source": [
    "# train_dataset = Dataset(ids_train, y_train, shuffle=True, batch_size=256)\n",
    "# X, y = train_dataset[0]\n",
    "# X.shape, y.shape"
   ]
  },
  {
   "cell_type": "code",
   "execution_count": 47,
   "metadata": {},
   "outputs": [],
   "source": [
    "# for i in range(4):\n",
    "#     plt.figure(figsize=(2, 2))\n",
    "#     # plt.title(index2label[y[i]])\n",
    "#     plt.imshow(X[i].reshape(32, 32))\n",
    "#     plt.show()"
   ]
  },
  {
   "cell_type": "code",
   "execution_count": 48,
   "metadata": {},
   "outputs": [
    {
     "data": {
      "text/plain": [
       "1024"
      ]
     },
     "execution_count": 48,
     "metadata": {},
     "output_type": "execute_result"
    }
   ],
   "source": [
    "train_dataset = Dataset(ids_train, y_train, shuffle=True, batch_size=256)\n",
    "# train_dataset[0]\n",
    "NUM_FEATURES = train_dataset.num_features\n",
    "valid_dataset = Dataset(ids_valid, y_valid, shuffle=False, batch_size=256)\n",
    "NUM_FEATURES"
   ]
  },
  {
   "attachments": {},
   "cell_type": "markdown",
   "metadata": {},
   "source": [
    "### __Model__"
   ]
  },
  {
   "attachments": {},
   "cell_type": "markdown",
   "metadata": {},
   "source": [
    "- https://www.tensorflow.org/api_docs/python/tf/keras/optimizers\n",
    "- https://www.tensorflow.org/api_docs/python/tf/keras/losses/CategoricalCrossentropy\n",
    "- https://keras.io/api/layers/regularization_layers/dropout/"
   ]
  },
  {
   "cell_type": "code",
   "execution_count": 49,
   "metadata": {},
   "outputs": [],
   "source": [
    "def create_NN(n_hidden_: list, activation: list, optimizer=optimizers.SGD, learning_rate=0.1) -> Sequential:\n",
    "    model = Sequential(name=f'''m-{''.join(map(str, [f'{i}-' for i in n_hidden_[1:-1]]))}{''.join(map(str, [f'{a}-' for a in activation[:-1]]))}{optimizer.__name__}-{learning_rate}''')\n",
    "    n_layers = len(n_hidden_)\n",
    "    for layer in range(1, n_layers):\n",
    "        model.add(Dense(n_hidden_[layer], activation=activation[layer-1], input_shape=(n_hidden_[layer-1],)))\n",
    "        # model.add(Dropout(.5)) if layer + 1 != n_layers else None # 0.5 Fraction of the input units to drop.\n",
    "\n",
    "    model.compile(\n",
    "                  optimizer=optimizer(learning_rate=learning_rate), # legacy\n",
    "                  loss=losses.CategoricalCrossentropy(),  # 'categorical_crossentropy' losses.binary_crossentropy,\n",
    "                  metrics=['accuracy', metrics.CategoricalAccuracy()]  # metrics.BinaryAccuracy()  metrics.CategoricalAccuracy()  or metrics.Accuracy()?\n",
    "                  )\n",
    "\n",
    "    return model"
   ]
  },
  {
   "attachments": {},
   "cell_type": "markdown",
   "metadata": {},
   "source": [
    "### __Training__"
   ]
  },
  {
   "cell_type": "code",
   "execution_count": 50,
   "metadata": {},
   "outputs": [],
   "source": [
    "def draw_2twin_2d(y00: np.array, y01: np.array, y10: np.array, y11: np.array, suptitle: str) -> None:\n",
    "    x = range(1, len(y00) + 1)\n",
    "    \n",
    "    fig, axs = plt.subplots(1, 2, figsize=(10, 8))\n",
    "\n",
    "    axs[0].plot(x, y00, 'bo', label='Training loss')\n",
    "    axs[0].plot(x, y01, 'g', label='Validation loss')\n",
    "    axs[0].title.set_text('Training and validation loss')\n",
    "    axs[0].set_xlabel('Epochs')\n",
    "    axs[0].set_ylabel('Loss')\n",
    "    axs[0].legend()\n",
    "    axs[0].grid()\n",
    "\n",
    "    axs[1].plot(x, y10, 'bo', label='Training acc')\n",
    "    axs[1].plot(x, y11, 'g', label='Validation acc')\n",
    "    axs[1].title.set_text('Training and validation acc')\n",
    "    axs[1].set_xlabel('Epochs')\n",
    "    axs[1].set_ylabel('Acc')\n",
    "    axs[1].legend()\n",
    "    axs[1].grid()\n",
    "    \n",
    "    fig.suptitle(suptitle)\n",
    "    # plt.legend()\n",
    "    # plt.grid()\n",
    "    plt.show()"
   ]
  },
  {
   "cell_type": "code",
   "execution_count": 51,
   "metadata": {},
   "outputs": [
    {
     "data": {
      "text/plain": [
       "' \\nloss - список, в якому зберігається історія змін помилки на навчальних даних залежно від епохи\\nval_loss - список, де зберігається історія змін помилки на тестових даних залежно від епохи\\naccuracy - список, в якому зберігається історія змін точності на навчальних даних залежно від епохи\\nval_accuracy - список, де зберігається історія змін точності на тестових даних залежно від епохи\\n'"
      ]
     },
     "execution_count": 51,
     "metadata": {},
     "output_type": "execute_result"
    }
   ],
   "source": [
    "# print(history[0].history.keys())\n",
    "\"\"\" \n",
    "loss - список, в якому зберігається історія змін помилки на навчальних даних залежно від епохи\n",
    "val_loss - список, де зберігається історія змін помилки на тестових даних залежно від епохи\n",
    "accuracy - список, в якому зберігається історія змін точності на навчальних даних залежно від епохи\n",
    "val_accuracy - список, де зберігається історія змін точності на тестових даних залежно від епохи\n",
    "\"\"\""
   ]
  },
  {
   "attachments": {},
   "cell_type": "markdown",
   "metadata": {},
   "source": [
    "- https://www.tensorflow.org/api_docs/python/tf/keras/callbacks/EarlyStopping\n",
    "- https://www.tensorflow.org/api_docs/python/tf/keras/callbacks/ModelCheckpoint"
   ]
  },
  {
   "cell_type": "code",
   "execution_count": 52,
   "metadata": {},
   "outputs": [],
   "source": [
    "callback_early_stopping = EarlyStopping(\n",
    "                                        monitor='val_categorical_accuracy',  # val_loss\n",
    "                                        patience=4,\n",
    "                                        )\n",
    "\n",
    "callback_save = ModelCheckpoint(\n",
    "                                'best.hdf5',  # name to save the resulting model\n",
    "                                monitor='val_loss',\n",
    "                                save_best_only=True,\n",
    "                                )"
   ]
  },
  {
   "cell_type": "code",
   "execution_count": 53,
   "metadata": {},
   "outputs": [],
   "source": [
    "def test_NN(\n",
    "            train_dataset: Dataset, \n",
    "            valid_dataset: Dataset, \n",
    "            set_layers: list, \n",
    "            act: list, \n",
    "            opt: optimizers, \n",
    "            lr: float,  \n",
    "            epochs: int=100\n",
    "            ) -> None:\n",
    "    \"\"\"For test one model.\"\"\"\n",
    "    model = create_NN(\n",
    "                      n_hidden_=set_layers, \n",
    "                      activation=act, \n",
    "                      optimizer=opt, \n",
    "                      learning_rate=lr\n",
    "                      )\n",
    "\n",
    "    history = model.fit(\n",
    "                        train_dataset,\n",
    "                        validation_data=valid_dataset,\n",
    "                        epochs=epochs,\n",
    "                        verbose=1, # print logs\n",
    "                        callbacks=[callback_early_stopping]  # callback_save\n",
    "                        )\n",
    "\n",
    "    loss_values = history.history['loss']\n",
    "    val_loss_values = history.history['val_loss']\n",
    "    acc_values = history.history['categorical_accuracy']\n",
    "    val_acc_values = history.history['val_categorical_accuracy']   \n",
    "\n",
    "    draw_2twin_2d(loss_values, val_loss_values, acc_values, val_acc_values, suptitle=f'{model.name}({train_dataset.batch_size})')"
   ]
  },
  {
   "cell_type": "code",
   "execution_count": 54,
   "metadata": {},
   "outputs": [
    {
     "data": {
      "text/plain": [
       "256"
      ]
     },
     "execution_count": 54,
     "metadata": {},
     "output_type": "execute_result"
    }
   ],
   "source": [
    "train_dataset.batch_size"
   ]
  },
  {
   "cell_type": "code",
   "execution_count": 55,
   "metadata": {},
   "outputs": [
    {
     "name": "stdout",
     "output_type": "stream",
     "text": [
      "Epoch 1/100\n"
     ]
    },
    {
     "name": "stdout",
     "output_type": "stream",
     "text": [
      "15/15 [==============================] - 1s 46ms/step - loss: 288.4557 - accuracy: 0.0990 - categorical_accuracy: 0.0990 - val_loss: 65.3191 - val_accuracy: 0.1094 - val_categorical_accuracy: 0.1094\n",
      "Epoch 2/100\n",
      "15/15 [==============================] - 1s 34ms/step - loss: 48.7537 - accuracy: 0.1214 - categorical_accuracy: 0.1214 - val_loss: 26.2903 - val_accuracy: 0.1185 - val_categorical_accuracy: 0.1185\n",
      "Epoch 3/100\n",
      "15/15 [==============================] - 1s 35ms/step - loss: 19.6603 - accuracy: 0.1320 - categorical_accuracy: 0.1320 - val_loss: 13.9475 - val_accuracy: 0.1471 - val_categorical_accuracy: 0.1471\n",
      "Epoch 4/100\n",
      "15/15 [==============================] - 1s 34ms/step - loss: 12.9909 - accuracy: 0.1333 - categorical_accuracy: 0.1333 - val_loss: 11.1494 - val_accuracy: 0.1328 - val_categorical_accuracy: 0.1328\n",
      "Epoch 5/100\n",
      "15/15 [==============================] - 1s 34ms/step - loss: 9.9295 - accuracy: 0.1445 - categorical_accuracy: 0.1445 - val_loss: 9.5264 - val_accuracy: 0.1328 - val_categorical_accuracy: 0.1328\n",
      "Epoch 6/100\n",
      "15/15 [==============================] - 1s 34ms/step - loss: 8.7431 - accuracy: 0.1516 - categorical_accuracy: 0.1516 - val_loss: 9.3888 - val_accuracy: 0.1237 - val_categorical_accuracy: 0.1237\n",
      "Epoch 7/100\n",
      "15/15 [==============================] - 1s 34ms/step - loss: 7.5729 - accuracy: 0.1721 - categorical_accuracy: 0.1721 - val_loss: 7.9839 - val_accuracy: 0.1419 - val_categorical_accuracy: 0.1419\n"
     ]
    },
    {
     "data": {
      "image/png": "[encoded data removed]",
      "text/plain": [
       "<Figure size 1000x800 with 2 Axes>"
      ]
     },
     "metadata": {},
     "output_type": "display_data"
    }
   ],
   "source": [
    "test_NN(\n",
    "        train_dataset=train_dataset,\n",
    "        valid_dataset=valid_dataset,\n",
    "        set_layers=[NUM_FEATURES, 512, 256, NUM_CLASSES], \n",
    "        act=['relu', 'relu', 'softmax'], \n",
    "        opt=optimizers.legacy.Adam, \n",
    "        lr=0.001,\n",
    "        epochs=100\n",
    "        )"
   ]
  },
  {
   "attachments": {},
   "cell_type": "markdown",
   "metadata": {},
   "source": [
    "__!!!+ test dataset + draw results?__"
   ]
  },
  {
   "cell_type": "code",
   "execution_count": null,
   "metadata": {},
   "outputs": [],
   "source": []
  }
 ],
 "metadata": {
  "kernelspec": {
   "display_name": "datas-cYPLqW4U-py3.10",
   "language": "python",
   "name": "python3"
  },
  "language_info": {
   "codemirror_mode": {
    "name": "ipython",
    "version": 3
   },
   "file_extension": ".py",
   "mimetype": "text/x-python",
   "name": "python",
   "nbconvert_exporter": "python",
   "pygments_lexer": "ipython3",
   "version": "3.10.12"
  },
  "orig_nbformat": 4
 },
 "nbformat": 4,
 "nbformat_minor": 2
}
