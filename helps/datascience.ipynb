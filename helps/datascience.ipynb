{
 "cells": [
  {
   "attachments": {},
   "cell_type": "markdown",
   "metadata": {},
   "source": [
    "# DATASCIENCE 2023\n",
    "a simple reminder for quick use"
   ]
  },
  {
   "attachments": {},
   "cell_type": "markdown",
   "metadata": {},
   "source": [
    "##### Життєвий цикл проєкту Data Science"
   ]
  },
  {
   "attachments": {},
   "cell_type": "markdown",
   "metadata": {},
   "source": [
    "- `OBTAIN` (Збір даних до CSV, JSON або XML)<br>\n",
    "- `SCRUB` (Очищення та підготовка даних. сміття на вхід - сміття на вихід)<br>\n",
    "-- Видалення дублікатів<br>\n",
    "-- Видалення відсутніх значень<br>\n",
    "-- Кодування категоріальних даних в числові значення<br>\n",
    "-- Нормалізація даних, щоб забезпечити рівні ваги для всіх факторів<br>\n",
    "- `EXPLORE` (Дослідження даних. EDA (Exploratory Data Analysis))<br>\n",
    "-- Збір інформації про дані.<br>\n",
    "-- Зрозуміти, які можливості наявні у ваших даних і як їх краще аналізувати.<br>\n",
    "-- Візуалізація даних.<br>\n",
    "- `MODEL` (Створення моделі)<br>\n",
    "-- scikit-learn<br>\n",
    "-- TensorFlow<br>\n",
    "-- PyTorch<br>\n",
    "- `INTERPRET` - Інтерпретація (Застосування)<br>"
   ]
  },
  {
   "attachments": {},
   "cell_type": "markdown",
   "metadata": {},
   "source": [
    "##### numpy - array"
   ]
  },
  {
   "cell_type": "code",
   "execution_count": 5,
   "metadata": {},
   "outputs": [
    {
     "name": "stdout",
     "output_type": "stream",
     "text": [
      "sum:\n",
      " [ 7 12  9 11 10]\n",
      "subtraction:\n",
      " [-5 -4 -5  5 -4]\n",
      "multiplication:\n",
      " [ 6 32 14 24 21]\n",
      "97\n",
      "97\n",
      "M6= \n",
      "[[ 8  1  7]\n",
      " [ 9  7  3]\n",
      " [ 9  8 10]]\n",
      "\n",
      "inverse:\n",
      "[[ 0.125       0.125      -0.125     ]\n",
      " [-0.17119565  0.04619565  0.10597826]\n",
      " [ 0.02445652 -0.14945652  0.12771739]]\n",
      "\n",
      "m6T=array([[ 8,  9,  9],\n",
      "       [ 1,  7,  8],\n",
      "       [ 7,  3, 10]])\n",
      "\n",
      "[[36  9]\n",
      " [ 9 48]\n",
      " [12 24]]\n",
      "[[36  9]\n",
      " [ 9 48]\n",
      " [12 24]]\n",
      "31\n",
      "31\n",
      "[[10]\n",
      " [ 9]\n",
      " [12]]\n",
      "[[10]\n",
      " [ 9]\n",
      " [12]]\n",
      "[[10]\n",
      " [ 9]\n",
      " [12]]\n",
      "[[81  1]\n",
      " [ 1 64]\n",
      " [36 36]]\n",
      "[[81  1]\n",
      " [ 1 64]\n",
      " [36 36]]\n",
      "[[81  1]\n",
      " [ 1 64]\n",
      " [36 36]]\n",
      "[[3.         1.        ]\n",
      " [1.         2.82842712]\n",
      " [2.44948974 2.44948974]]\n",
      "[[3.         1.        ]\n",
      " [1.         2.82842712]\n",
      " [2.44948974 2.44948974]]\n",
      "[ True False]\n",
      "2\n"
     ]
    }
   ],
   "source": [
    "import numpy as np\n",
    "\n",
    "\n",
    "np.array([el for el in range(1, 11)])  # ndarray [1  2  3  4  5  6  7  8  9 10]\n",
    "np.arange(1, 11)  # ndarray [1  2  3  4  5  6  7  8  9 10]\n",
    "np.linspace(1, 10, num=10)  # ndarray [1.  2.  3.  4.  5  6.  7.  8.  9. 10.]\n",
    "np.zeros((3, 5), dtype=int)  # ndarray [[0 0 0 0 0], [0 0 0 0 0], [0 0 0 0 0]]\n",
    "np.array([5 for _ in range(5)])\n",
    "np.array([[5 for _ in range(4)] for __ in range(3)])\n",
    "np.random.randint(1, 11, size=(3, 5))  # ndarray [[6  4  4  2  3], [5  9  9  2 10], [10  4  8  2  8]]\n",
    "np.random.rand(2, 2)  # ndarray [[0.16002009 0.35987033], [0.28608734 0.62922585]]\n",
    "\n",
    "v2 = np.random.randint(1, 11, size=5)  # ndarray [6 1 6 5 5]\n",
    "v3 = np.random.randint(1, 11, size=5)  # ndarray [1 2 8 3 7]\n",
    "print('sum:\\n', v2 + v3)  # ndarray [ 7  3 14  8 12]\n",
    "print('subtraction:\\n', v2 - v3)  # ndarray [ 5 -1 -2  2 -2]\n",
    "print('multiplication:\\n', v2 * v3)  # ndarray [ 6  2 48 15 35]\n",
    "print(np.dot(v2, v3))  # 106 = 6+2+48+15+35\n",
    "print(v2 @ v3)  # 106 \n",
    "type(v3)  # numpy.ndarray\n",
    "\n",
    "m6 = np.random.randint(1, 11, size=(3, 3))  # ndarray [[ 7  5  3],  [ 1 10  4],  [ 5  6  3]]\n",
    "print(f'M6= \\n{m6}\\n')\n",
    "m6_inv = np.linalg.inv(m6)  # ndarray [[ -1.2  -0.6   2. ], [ -3.4  -1.2   5. ], [  8.8   3.4 -13. ]]\n",
    "print('inverse:')\n",
    "print(m6_inv)\n",
    "\n",
    "m6T = m6.T\n",
    "print(f'\\n{m6T=}\\n')\n",
    "\n",
    "m10 = np.random.randint(1, 11, size=(3, 2))\n",
    "m11 = np.random.randint(1, 11, size=(3, 2))\n",
    "print(m10 * m11)\n",
    "print(np.multiply(m10, m11))\n",
    "print(m10.sum())\n",
    "print(np.sum(m10))\n",
    "\n",
    "print(np.array([[el.sum()] for el in m10[:]]))\n",
    "print(np.array([[m10[el][:].sum()] for el in range(m10.shape[0])]))\n",
    "print(np.sum(m10, axis=1).reshape((m10.shape[0], 1)))\n",
    "\n",
    "print(m10 * m10)\n",
    "print(m10 ** 2)\n",
    "print(np.square(m10))\n",
    "\n",
    "print(m10 ** 0.5)\n",
    "print(np.sqrt(m10))\n",
    "\n",
    "a = np.array([0, 2])\n",
    "positive = a <= 1\n",
    "print(positive)  # [ True False]\n",
    "print(a.shape[0])  # 2"
   ]
  },
  {
   "attachments": {},
   "cell_type": "markdown",
   "metadata": {},
   "source": [
    "##### pandas - DataFrame"
   ]
  },
  {
   "cell_type": "code",
   "execution_count": 6,
   "metadata": {},
   "outputs": [
    {
     "data": {
      "text/html": [
       "<div>\n",
       "<style scoped>\n",
       "    .dataframe tbody tr th:only-of-type {\n",
       "        vertical-align: middle;\n",
       "    }\n",
       "\n",
       "    .dataframe tbody tr th {\n",
       "        vertical-align: top;\n",
       "    }\n",
       "\n",
       "    .dataframe thead th {\n",
       "        text-align: right;\n",
       "    }\n",
       "</style>\n",
       "<table border=\"1\" class=\"dataframe\">\n",
       "  <thead>\n",
       "    <tr style=\"text-align: right;\">\n",
       "      <th></th>\n",
       "    </tr>\n",
       "  </thead>\n",
       "  <tbody>\n",
       "  </tbody>\n",
       "</table>\n",
       "</div>"
      ],
      "text/plain": [
       "Empty DataFrame\n",
       "Columns: []\n",
       "Index: []"
      ]
     },
     "execution_count": 6,
     "metadata": {},
     "output_type": "execute_result"
    }
   ],
   "source": [
    "import pandas as pd\n",
    "\n",
    "\n",
    "df = pd.read_csv('bikes_rent.csv')\n",
    "df.head(3)\n",
    "df.tail(3)\n",
    "\n",
    "# Видаліть з таблиці останній рядок таблиці\n",
    "ndf = df.drop(df.shape[0]-1)\n",
    "ndf.tail(3)\n",
    "\n",
    "# Замініть відсутні дані в стовпцях середніми значеннями цих стовпців (метод fillna)\n",
    "ndf2 = ndf.fillna({key: ndf[key].mean() for key in ndf.columns[1:]})\n",
    "\n",
    "df['yr']  # Series - column from DataFrame\n",
    "df[['yr']]  # DataFrame - consist column from DataFrame\n",
    "df.loc[0]  # Series - line with index-name 0 from DataFrame\n",
    "df.iloc[1]  # Series - line with number index 1 from DataFrame\n",
    "df.iloc[:, 1:4]  # DataFrame with all lines and columns with indices 1-3\n",
    "df.iloc[0:5, 5:8]  # DataFrame\n",
    "df.iloc[0:5]['yr']  # Series\n",
    "df.iloc[:, [0, 1, 3]]  # DataFrame\n",
    "df[0:3]  # DataFrame - lines 0-2\n",
    "df[df.index % 2 == 0]  # DataFrame\n",
    "df[df['yr'] == 1]  # DataFrame\n",
    "df[['yr', 'temp']]  # DataFrame\n",
    "df[df.columns[:-1]]  # DataFrame\n",
    "df.iloc[:, 1]  # Series\n",
    "\n",
    "df.describe()\n",
    "\n",
    "df.filter(items=[col for col in ('yr', 'season', 'temp')])\n",
    "\n",
    "df = pd.DataFrame({})\n",
    "df[df.columns[:-1]]"
   ]
  },
  {
   "attachments": {},
   "cell_type": "markdown",
   "metadata": {},
   "source": [
    "##### corrwith"
   ]
  },
  {
   "attachments": {},
   "cell_type": "markdown",
   "metadata": {},
   "source": [
    "- https://www.statology.org/pandas-corrwith/"
   ]
  },
  {
   "cell_type": "code",
   "execution_count": 7,
   "metadata": {},
   "outputs": [
    {
     "name": "stdout",
     "output_type": "stream",
     "text": [
      "Original dataframe\n",
      "    A   B   C\n",
      "0  45  38  10\n",
      "1  37  31  15\n",
      "2  42  26  17\n",
      "3  35  28  21\n",
      "4  39  33  12\n",
      "\n",
      "\n",
      "Between column B and the rest of the dataframe\n",
      "Correlation Coefficients Matrix\n",
      "A    0.518457\n",
      "B    1.000000\n",
      "C   -0.860941\n",
      "dtype: float64\n",
      "\n",
      "\n",
      "Between column C and the rest of the dataframe\n",
      "Correlation Coefficients Matrix\n",
      "A   -0.701886\n",
      "B   -0.860941\n",
      "C    1.000000\n",
      "dtype: float64\n",
      "\n",
      "\n",
      "Between column C and the rest of the dataframe\n",
      "Correlation Coefficients Matrix\n",
      "A   -0.701886\n",
      "B   -0.860941\n",
      "C    1.000000\n",
      "dtype: float64\n"
     ]
    }
   ],
   "source": [
    "# Data for matrix\n",
    "data = {'A': [45,37,42,35,39],\n",
    "        'B': [38,31,26,28,33],\n",
    "        'C': [10,15,17,21,12]\n",
    "        }\n",
    "\n",
    "df = pd.DataFrame(data,columns=['A','B','C'])\n",
    "print(\"Original dataframe\")\n",
    "print(df) # original df\n",
    "print(\"\\n\")\n",
    "\n",
    "corrMatrix = df.corrwith(df[\"B\"]) # finding correlations\n",
    "print(\"Between column B and the rest of the dataframe\")\n",
    "print(\"Correlation Coefficients Matrix\")\n",
    "print(corrMatrix) # printing correlations\n",
    "print('\\n')\n",
    "\n",
    "corrMatrix = df.corrwith(df[\"C\"]) # finding correlations\n",
    "print(\"Between column C and the rest of the dataframe\")\n",
    "print(\"Correlation Coefficients Matrix\")\n",
    "print(corrMatrix) # printing correlations\n",
    "print('\\n')\n",
    "\n",
    "corrMatrix = df.corrwith(df[\"C\"]) # finding correlations\n",
    "print(\"Between column C and the rest of the dataframe\")\n",
    "print(\"Correlation Coefficients Matrix\")\n",
    "print(corrMatrix) # printing correlations"
   ]
  },
  {
   "attachments": {},
   "cell_type": "markdown",
   "metadata": {},
   "source": [
    "##### next..."
   ]
  },
  {
   "attachments": {},
   "cell_type": "markdown",
   "metadata": {},
   "source": [
    "## next..."
   ]
  },
  {
   "attachments": {},
   "cell_type": "markdown",
   "metadata": {},
   "source": [
    "#### H4"
   ]
  },
  {
   "attachments": {},
   "cell_type": "markdown",
   "metadata": {},
   "source": [
    "##### H5"
   ]
  },
  {
   "attachments": {},
   "cell_type": "markdown",
   "metadata": {},
   "source": [
    "###### H6"
   ]
  },
  {
   "attachments": {},
   "cell_type": "markdown",
   "metadata": {},
   "source": [
    "####### H7"
   ]
  },
  {
   "cell_type": "code",
   "execution_count": 8,
   "metadata": {},
   "outputs": [],
   "source": [
    "import math as m"
   ]
  }
 ],
 "metadata": {
  "kernelspec": {
   "display_name": "datas-cYPLqW4U-py3.10",
   "language": "python",
   "name": "python3"
  },
  "language_info": {
   "codemirror_mode": {
    "name": "ipython",
    "version": 3
   },
   "file_extension": ".py",
   "mimetype": "text/x-python",
   "name": "python",
   "nbconvert_exporter": "python",
   "pygments_lexer": "ipython3",
   "version": "3.10.12"
  },
  "orig_nbformat": 4
 },
 "nbformat": 4,
 "nbformat_minor": 2
}
