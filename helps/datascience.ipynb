{
 "cells": [
  {
   "attachments": {},
   "cell_type": "markdown",
   "metadata": {},
   "source": [
    "# DATASCIENCE `2023`\n",
    "<i>`a simple reminder for quick use`</i>"
   ]
  },
  {
   "attachments": {},
   "cell_type": "markdown",
   "metadata": {},
   "source": [
    "##### Життєвий цикл проєкту `Data Science`"
   ]
  },
  {
   "attachments": {},
   "cell_type": "markdown",
   "metadata": {},
   "source": [
    "- `OBTAIN` (Збір даних до CSV, JSON або XML)<br>\n",
    "- `SCRUB` (Очищення та підготовка даних. сміття на вхід - сміття на вихід)<br>\n",
    "-- Видалення дублікатів<br>\n",
    "-- Видалення відсутніх значень<br>\n",
    "-- Кодування категоріальних даних в числові значення<br>\n",
    "-- Нормалізація даних, щоб забезпечити рівні ваги для всіх факторів<br>\n",
    "- `EXPLORE` (Дослідження даних. EDA (Exploratory Data Analysis))<br>\n",
    "-- Збір інформації про дані.<br>\n",
    "-- Зрозуміти, які можливості наявні у ваших даних і як їх краще аналізувати.<br>\n",
    "-- Візуалізація даних.<br>\n",
    "- `MODEL` (Створення моделі)<br>\n",
    "-- scikit-learn<br>\n",
    "-- TensorFlow<br>\n",
    "-- PyTorch<br>\n",
    "- `INTERPRET` - Інтерпретація (Застосування)<br>"
   ]
  },
  {
   "attachments": {},
   "cell_type": "markdown",
   "metadata": {},
   "source": [
    "##### numpy - `array`"
   ]
  },
  {
   "cell_type": "code",
   "execution_count": 42,
   "metadata": {},
   "outputs": [
    {
     "name": "stdout",
     "output_type": "stream",
     "text": [
      "sum:\n",
      " [10  8 20 11  9]\n",
      "subtraction:\n",
      " [ 6 -2  0 -7 -5]\n",
      "multiplication:\n",
      " [ 16  15 100  18  14]\n",
      "163\n",
      "163\n",
      "M6= \n",
      "[[ 2  2 10]\n",
      " [ 5  1  8]\n",
      " [ 4  7  9]]\n",
      "\n",
      "inverse:\n",
      "[[-0.24736842  0.27368421  0.03157895]\n",
      " [-0.06842105 -0.11578947  0.17894737]\n",
      " [ 0.16315789 -0.03157895 -0.04210526]]\n",
      "\n",
      "m6T=array([[ 2,  5,  4],\n",
      "       [ 2,  1,  7],\n",
      "       [10,  8,  9]])\n",
      "\n",
      "[[45 30]\n",
      " [72 10]\n",
      " [28 50]]\n",
      "[[45 30]\n",
      " [72 10]\n",
      " [28 50]]\n",
      "37\n",
      "37\n",
      "[[14]\n",
      " [11]\n",
      " [12]]\n",
      "[[14]\n",
      " [11]\n",
      " [12]]\n",
      "[[14]\n",
      " [11]\n",
      " [12]]\n",
      "[[81 25]\n",
      " [81  4]\n",
      " [49 25]]\n",
      "[[81 25]\n",
      " [81  4]\n",
      " [49 25]]\n",
      "[[81 25]\n",
      " [81  4]\n",
      " [49 25]]\n",
      "[[3.         2.23606798]\n",
      " [3.         1.41421356]\n",
      " [2.64575131 2.23606798]]\n",
      "[[3.         2.23606798]\n",
      " [3.         1.41421356]\n",
      " [2.64575131 2.23606798]]\n",
      "[ True False]\n",
      "2\n"
     ]
    },
    {
     "data": {
      "text/plain": [
       "8"
      ]
     },
     "execution_count": 42,
     "metadata": {},
     "output_type": "execute_result"
    }
   ],
   "source": [
    "import numpy as np\n",
    "\n",
    "\n",
    "5 * np.array([1, 2, 3, 4, 5], dtype=float)  # ndarray [ 5. 10. 15. 20. 25.]\n",
    "np.array([el for el in range(1, 11)])  # ndarray [1  2  3  4  5  6  7  8  9 10]\n",
    "np.arange(1, 11)  # ndarray [1  2  3  4  5  6  7  8  9 10]\n",
    "np.linspace(1, 10, num=10)  # ndarray [1.  2.  3.  4.  5  6.  7.  8.  9. 10.]\n",
    "np.zeros((3, 5), dtype=int)  # ndarray [[0 0 0 0 0], [0 0 0 0 0], [0 0 0 0 0]]\n",
    "np.array([5 for _ in range(5)])\n",
    "np.array([[5 for _ in range(4)] for __ in range(3)])\n",
    "np.random.randint(1, 11, size=(3, 5))  # ndarray [[6  4  4  2  3], [5  9  9  2 10], [10  4  8  2  8]]\n",
    "np.random.rand(2, 2)  # ndarray [[0.16002009 0.35987033], [0.28608734 0.62922585]]\n",
    "\n",
    "v2 = np.random.randint(1, 11, size=5)  # ndarray [6 1 6 5 5]\n",
    "v2.size  # 5\n",
    "v3 = np.random.randint(1, 11, size=5)  # ndarray [1 2 8 3 7]\n",
    "print('sum:\\n', v2 + v3)  # ndarray [ 7  3 14  8 12]\n",
    "print('subtraction:\\n', v2 - v3)  # ndarray [ 5 -1 -2  2 -2]\n",
    "print('multiplication:\\n', v2 * v3)  # ndarray [ 6  2 48 15 35]\n",
    "print(np.dot(v2, v3))  # 106 = 6+2+48+15+35\n",
    "print(v2 @ v3)  # 106 \n",
    "type(v3)  # numpy.ndarray\n",
    "\n",
    "m6 = np.random.randint(1, 11, size=(3, 3))  # ndarray [[ 7  5  3],  [ 1 10  4],  [ 5  6  3]]\n",
    "print(f'M6= \\n{m6}\\n')\n",
    "m6_inv = np.linalg.inv(m6)  # ndarray [[ -1.2  -0.6   2. ], [ -3.4  -1.2   5. ], [  8.8   3.4 -13. ]]\n",
    "print('inverse:')\n",
    "print(m6_inv)\n",
    "\n",
    "m6T = m6.T  # Транспонування\n",
    "print(f'\\n{m6T=}\\n')\n",
    "\n",
    "m10 = np.random.randint(1, 11, size=(3, 2))\n",
    "m11 = np.random.randint(1, 11, size=(3, 2))\n",
    "print(m10 * m11)\n",
    "print(np.multiply(m10, m11))\n",
    "print(m10.sum())\n",
    "print(np.sum(m10))\n",
    "\n",
    "print(np.array([[el.sum()] for el in m10[:]]))\n",
    "print(np.array([[m10[el][:].sum()] for el in range(m10.shape[0])]))\n",
    "print(np.sum(m10, axis=1).reshape((m10.shape[0], 1)))\n",
    "\n",
    "print(m10 * m10)\n",
    "print(m10 ** 2)\n",
    "print(np.square(m10))\n",
    "\n",
    "print(m10 ** 0.5)\n",
    "print(np.sqrt(m10))\n",
    "\n",
    "a = np.array([0, 2])\n",
    "positive = a <= 1\n",
    "print(positive)  # [ True False]\n",
    "print(a.shape[0])  # 2\n",
    "a.reshape((1, 2))\n",
    "a.reshape((2, 1))\n",
    "m10.flatten()  # array([[6, 5], [6, 4], [2, 9]]) -> array([[6, 5, 6, 4, 2, 9]])\n",
    "\n",
    "# Одинична матриця — це квадратна матриця, у якої на головній діагоналі стоять одиниці, а всі інші елементи дорівнюють нулю.\n",
    "# метод identity, + метод eye, який при цьому дозволяє задати зміщення діагоналі k з одиничними значеннями. \n",
    "np.eye(4, k=-1, dtype=float)  # [[0. 0. 0. 0.], [1. 0. 0. 0.], [0. 1. 0. 0.], [0. 0. 1. 0.]]\n",
    "a.ndim\t## Кількість осей (вимірювань). ndim == len(shape)\n",
    "a.data\t## Буфер в пам'яті, що містить дійсні елементи масиву\n",
    "a.itemsize\t## Розмір у байтах кожного елемента"
   ]
  },
  {
   "attachments": {},
   "cell_type": "markdown",
   "metadata": {},
   "source": [
    "Тип даних масиву<br>\n",
    "- https://docs.scipy.org/doc/numpy/user/basics.types.html"
   ]
  },
  {
   "cell_type": "code",
   "execution_count": 43,
   "metadata": {},
   "outputs": [
    {
     "data": {
      "text/plain": [
       "array(['∑', '∏'], dtype='<U1')"
      ]
     },
     "execution_count": 43,
     "metadata": {},
     "output_type": "execute_result"
    }
   ],
   "source": [
    "# int_\tТип цілого числа за замовчуванням, що відповідає типу long мови C: залежить від платформи\n",
    "# int8\tЦіле число в 1 байті: від −128 до 127\n",
    "# int16\tЦіле число в 2 байтах: від −32 768 до 32 767\n",
    "# int32\tЦіле число в 4 байтах: від −2 147 483 648 до 2 147 483 647\n",
    "# int64\tЦіле число в 8 байтах: від −2**63 до 2**63 − 1\n",
    "# uint8\tБеззнакове ціле число в 1 байті: від 0 до 255\n",
    "# uint16\tБеззнакове ціле число в 2 байтах: від 0 до 65 535\n",
    "# uint32\tБеззнакове ціле число в 4 байтах: від 0 до 4 294 967 295  (dtype='u4')\n",
    "# uint64\tБеззнакове ціле число в 8 байтах: від 0 до 2**64 − 1\n",
    "# float_\tТип числа з плаваючою крапкою за умовчанням, інше ім'я для типу float64\n",
    "# float32\tЗнакове число з плаваючою крапкою звичайної точності: 10**-38 до 10**38 з 7 точними знаками після десяткової крапки\n",
    "# float64\tЗнакове число з плаваючою крапкою подвійної точності: 10**-308 до 10**308 з 15 точними знаками після десяткової крапки\n",
    "# complex_\tТип комплексного числа за замовчуванням, інше ім'я для типу complex128\n",
    "# complex64\tКомплексне число звичайної точності (представлене 32-бітовими компонентами з плаваючою крапкою для дійсної та уявної частин)\n",
    "# complex128\tКомплексне число подвійної точності (представлене 64-бітовими компонентами з плаваючою крапкою для дійсної та уявної частин)\n",
    "# bool_\tЛогічний тип за замовчуванням, представлений 1 байтом\n",
    "\n",
    "# dtype=\n",
    "# i\tЗнакове ціле число\n",
    "# u\tБеззнакове ціле число\n",
    "# f\tЧисло з плаваючою крапкою\n",
    "# c\tКомплексне число з плаваючою крапкою\n",
    "# b\tЛогічне значення\n",
    "# S, a\tРядок (послідовність символів фіксованої довжини)\n",
    "# U\tUnicode\n",
    "np.array([u'\\u2211', u'\\u220F'], dtype='U')  # ['∑' '∏']"
   ]
  },
  {
   "cell_type": "code",
   "execution_count": 44,
   "metadata": {},
   "outputs": [
    {
     "data": {
      "text/plain": [
       "0"
      ]
     },
     "execution_count": 44,
     "metadata": {},
     "output_type": "execute_result"
    }
   ],
   "source": [
    "    # min — мінімальне значення\n",
    "    # max — максимальне значення\n",
    "    # sum — сума всіх елементів\n",
    "    # mean — середнє арифметичне\n",
    "    # prod — перемножити всі елементи\n",
    "a.prod()"
   ]
  },
  {
   "attachments": {},
   "cell_type": "markdown",
   "metadata": {},
   "source": [
    "##### pandas - `DataFrame`"
   ]
  },
  {
   "attachments": {},
   "cell_type": "markdown",
   "metadata": {},
   "source": [
    "- https://pandas.pydata.org/pandas-docs/dev/reference/api/pandas.read_csv.html"
   ]
  },
  {
   "cell_type": "code",
   "execution_count": 45,
   "metadata": {},
   "outputs": [
    {
     "name": "stdout",
     "output_type": "stream",
     "text": [
      "   Jun 2022 Change Programming language    Share  Trends\n",
      "0         1    NaN               Python  27.61 %  -2.8 %\n",
      "1         2    NaN                 Java  17.64 %  -0.7 %\n",
      "2         3    NaN           JavaScript   9.21 %  +0.4 %\n",
      "3         4    NaN                   C#   7.79 %  +0.8 %\n",
      "4         5    NaN                C/C++   7.01 %  +0.4 %\n"
     ]
    }
   ],
   "source": [
    "import pandas as pd\n",
    "\n",
    "\n",
    "pd.Series([10, 9, 12, 14.5]) > 10\n",
    "'NAME_INDEX' in pd.Series([10, 9, 12, 14.5])\n",
    "# .sort_index()  # =  inplace=False\n",
    "# .sort_values(inplace=True, ascending=False)  # abs\n",
    "# df = pd.DataFrame()\n",
    "# NaN (не число) в об'єкті Series можна замінити 0\n",
    "# .fillna(0, inplace=True)\n",
    "# dataset = pd.read_excel('dataset.xlsx')\n",
    "# dataset.to_excel('dataset.xlsx', sheet_name='dataset')\n",
    "# dataset = pd.read_json('./json/split.json', orient='split')\n",
    "# orient=\n",
    "# records список зі структурою\n",
    "# index словник зі структурою\n",
    "# columns словник зі структурою\n",
    "# values масив значень.\n",
    "\"\"\" Якщо typ='series', то orient може бути split, records або index, \n",
    "якщо typ='frame', то orient розширює свої значення до списку: \n",
    "split, records, index, columns, values.\n",
    "\"\"\"\n",
    "# dataset.to_json('dataset.json', orient='split')\n",
    "tmp = pd.read_html('https://statisticstimes.com/tech/top-computer-languages.php', attrs={'id': 'table_id1'})\n",
    "print(tmp[0].head())\n",
    "\n",
    "df = pd.read_csv('bikes_rent.csv')\n",
    "df.head(3)\n",
    "df.tail(3)\n",
    "\n",
    "# Видаліть з таблиці останній рядок таблиці\n",
    "ndf = df.drop(df.shape[0]-1)\n",
    "ndf.tail(3)\n",
    "\n",
    "# Замініть відсутні дані в стовпцях середніми значеннями цих стовпців (метод fillna)\n",
    "ndf2 = ndf.fillna({key: ndf[key].mean() for key in ndf.columns[1:]})\n",
    "\n",
    "df['yr']  # Series - column from DataFrame\n",
    "df[['yr']]  # DataFrame - consist column from DataFrame\n",
    "df.loc[0]  # Series - line with index-name 0 from DataFrame\n",
    "df.iloc[1]  # Series - line with number index 1 from DataFrame\n",
    "df.iloc[:, 1:4]  # DataFrame with all lines and columns with indices 1-3\n",
    "df.iloc[0:5, 5:8]  # DataFrame\n",
    "df.iloc[0:5]['yr']  # Series\n",
    "df.iloc[:, [0, 1, 3]]  # DataFrame\n",
    "df[0:3]  # DataFrame - lines 0-2\n",
    "df[df.index % 2 == 0]  # DataFrame\n",
    "df[df['yr'] == 1]  # DataFrame\n",
    "df[['yr', 'temp']]  # DataFrame\n",
    "df[df.columns[:-1]]  # DataFrame\n",
    "df.iloc[:, 1]  # Series\n",
    "\n",
    "df.describe()\n",
    "\n",
    "df.filter(items=[col for col in ('yr', 'season', 'temp')])\n",
    "\n",
    "df = pd.DataFrame({})\n",
    "df[df.columns[:-1]]\n",
    "\n",
    "df['new_column_name'] = ['new_column_values']\n",
    "# no append - concat for DataFrames\n",
    "# df12 = pd.concat([df1, df2])  # рядки\n",
    "# df12 = pd.concat([df1, df2], axis=1)  # стовпці\n",
    "\n",
    "df.drop(['new_column_name'], inplace=True, axis=1)  # за замовчуванням axis=0, що означає роботу з рядками. Якщо вказати axis=1, то це дозволить видаляти стовпці:\n",
    "\n",
    "# Можна відкинути всі рядки зі значеннями NaN\n",
    "df = df.dropna()\n",
    "\"\"\" Можливо відкинути лише рядки (або стовпці), що складаються повністю зі значень NaN. \n",
    "У цьому випадку в метод dropna передається аргумент \n",
    "how='all' замість how='any', що використовується за замовчуванням.\"\"\"\n",
    "\n",
    "# df = df.fillna({0: df[0].mean(), 1: df[1].mean(), 2: df[2].mean()})\n",
    "# Якщо необхідно замінювати конкретні значення, а не NaN існує схожий метод replace\n",
    "\n",
    "df = df.drop_duplicates()\n",
    "\n"
   ]
  },
  {
   "attachments": {},
   "cell_type": "markdown",
   "metadata": {},
   "source": [
    "- https://pandas.pydata.org/docs/reference/api/pandas.DataFrame.replace.html"
   ]
  },
  {
   "cell_type": "code",
   "execution_count": 46,
   "metadata": {},
   "outputs": [
    {
     "data": {
      "text/plain": [
       "DatetimeIndex(['2023-07-06', '2023-07-07', '2023-07-08', '2023-07-09',\n",
       "               '2023-07-10', '2023-07-11', '2023-07-12', '2023-07-13'],\n",
       "              dtype='datetime64[ns]', freq='D')"
      ]
     },
     "execution_count": 46,
     "metadata": {},
     "output_type": "execute_result"
    }
   ],
   "source": [
    "\"\"\"Класи pandas для роботи з часовими рядами\n",
    "Клас\t= Створення\t= Опис\n",
    "Timestamp =\tto_datetime, Timestamp\t= Одинична часова мітка\n",
    "DatetimeIndex\t= to_datetime, date_range, bdate_range, DatetimeIndex\t= Набір об'єктів Timestamp\n",
    "Period\t= Period\t= Одиничний часовий інтервал\n",
    "PeriodIndex\t= period_range, PeriodIndex\t= Набір об'єктів Period\n",
    "\"\"\"\n",
    "\"\"\"\n",
    "Часова мітка — це конкретне значення дати та часу, наприклад: 2021-09-10 3:39:05. \n",
    "Часовий інтервал передбачає наявність неповної часової мітки та маркера, який визначає період, \n",
    "наприклад мітка 2021-09 матиме маркер M, що означає — місяць. DatetimeIndex — це клас, \n",
    "що дозволяє зберігати масив часових міток. PeriodIndex - клас, що зберігає масив часових інтервалів. \n",
    "Функціонал створення часових міток та часових інтервалів дуже великий....\n",
    "\"\"\"\n",
    "pd.Timestamp('2023-07-06')  # 2021-09-10 00:00:00\n",
    "pd.to_datetime('2023-07-06 15:40:12')\n",
    "pd.date_range(start='2023-07-06', freq='D', periods=8)\n",
    "# freq=\n",
    "# D\tДень\n",
    "# W\tТиждень\n",
    "# M\tМісяць\n",
    "# Q\tКвартал\n",
    "# Y\tРік\n",
    "# H\tГодина\n",
    "# T\tХвилина\n",
    "# S\tСекунда"
   ]
  },
  {
   "attachments": {},
   "cell_type": "markdown",
   "metadata": {},
   "source": [
    "##### `corrwith`"
   ]
  },
  {
   "attachments": {},
   "cell_type": "markdown",
   "metadata": {},
   "source": [
    "- https://www.statology.org/pandas-corrwith/"
   ]
  },
  {
   "cell_type": "code",
   "execution_count": 47,
   "metadata": {},
   "outputs": [
    {
     "name": "stdout",
     "output_type": "stream",
     "text": [
      "Original dataframe\n",
      "    A   B   C\n",
      "0  45  38  10\n",
      "1  37  31  15\n",
      "2  42  26  17\n",
      "3  35  28  21\n",
      "4  39  33  12\n",
      "\n",
      "\n",
      "Between column B and the rest of the dataframe\n",
      "Correlation Coefficients Matrix\n",
      "A    0.518457\n",
      "B    1.000000\n",
      "C   -0.860941\n",
      "dtype: float64\n",
      "\n",
      "\n",
      "Between column C and the rest of the dataframe\n",
      "Correlation Coefficients Matrix\n",
      "A   -0.701886\n",
      "B   -0.860941\n",
      "C    1.000000\n",
      "dtype: float64\n",
      "\n",
      "\n",
      "Between column C and the rest of the dataframe\n",
      "Correlation Coefficients Matrix\n",
      "A   -0.701886\n",
      "B   -0.860941\n",
      "C    1.000000\n",
      "dtype: float64\n"
     ]
    }
   ],
   "source": [
    "# Data for matrix\n",
    "data = {'A': [45,37,42,35,39],\n",
    "        'B': [38,31,26,28,33],\n",
    "        'C': [10,15,17,21,12]\n",
    "        }\n",
    "\n",
    "df = pd.DataFrame(data,columns=['A','B','C'])\n",
    "print(\"Original dataframe\")\n",
    "print(df) # original df\n",
    "print(\"\\n\")\n",
    "\n",
    "corrMatrix = df.corrwith(df[\"B\"]) # finding correlations\n",
    "print(\"Between column B and the rest of the dataframe\")\n",
    "print(\"Correlation Coefficients Matrix\")\n",
    "print(corrMatrix) # printing correlations\n",
    "print('\\n')\n",
    "\n",
    "corrMatrix = df.corrwith(df[\"C\"]) # finding correlations\n",
    "print(\"Between column C and the rest of the dataframe\")\n",
    "print(\"Correlation Coefficients Matrix\")\n",
    "print(corrMatrix) # printing correlations\n",
    "print('\\n')\n",
    "\n",
    "corrMatrix = df.corrwith(df[\"C\"]) # finding correlations\n",
    "print(\"Between column C and the rest of the dataframe\")\n",
    "print(\"Correlation Coefficients Matrix\")\n",
    "print(corrMatrix) # printing correlations"
   ]
  },
  {
   "attachments": {},
   "cell_type": "markdown",
   "metadata": {},
   "source": [
    "##### `loss/error/cost function`"
   ]
  },
  {
   "attachments": {},
   "cell_type": "markdown",
   "metadata": {},
   "source": [
    "- Функція втрат/помилок (loss/error/cost function) - це функція, яка вимірює рівень помилок алгоритму машинного навчання, який навчається на тренувальних даних."
   ]
  },
  {
   "attachments": {},
   "cell_type": "markdown",
   "metadata": {},
   "source": [
    "##### Градієнтний спуск (`Gradient Descent`)"
   ]
  },
  {
   "attachments": {},
   "cell_type": "markdown",
   "metadata": {},
   "source": [
    "- щоб знайти такі коефіцієнти w_n що відповідають мінімальному значенню функції втрат, необхідно скористатись якимось алгоритмом оптимізації. І основним таким методом є градієнтний спуск.<br>\n",
    "\n",
    "- Градієнтний спуск (`Gradient Descent`) - це алгоритм оптимізації, який використовується для знаходження мінімуму (або максимуму) функції шляхом ітеративного зменшення (або збільшення) значення функції в напрямку найшвидшого спаду (або зростання) її значення."
   ]
  },
  {
   "attachments": {},
   "cell_type": "markdown",
   "metadata": {},
   "source": [
    "##### Ланцюжкове правило ('Chain rule')"
   ]
  },
  {
   "attachments": {},
   "cell_type": "markdown",
   "metadata": {},
   "source": [
    "Ланцюжкове правило диференціювання - це правило, яке дозволяє знайти похідну складеної функції, використовуючи похідні складових функцій та їх взаємозв'язок.<br>\n",
    "df(g(x))/dx ​= df/dg​⋅dg/dx<br>\n",
    "- https://uk.wikipedia.org/wiki/%D0%A2%D0%B0%D0%B1%D0%BB%D0%B8%D1%86%D1%8F_%D0%BF%D0%BE%D1%85%D1%96%D0%B4%D0%BD%D0%B8%D1%85"
   ]
  },
  {
   "attachments": {},
   "cell_type": "markdown",
   "metadata": {},
   "source": [
    "##### Нормалізація даних"
   ]
  },
  {
   "attachments": {},
   "cell_type": "markdown",
   "metadata": {},
   "source": [
    "- Якщо у нас виникає така ситуація, що різні ознаки, та й цільова змінна мають значення різних порядків - градієнти по різних параметрах будуть мати різне значення, і при одному кроці градієнтного спуску ми по одному параметру будемо швидко рухатись до мінімума функції втрат, а для іншого параметру ці кроки будуть маленькими. Така ситуація може призвести до того, що наша модель буде дуже довго навчатись.<br>\n",
    "- ми повинні перемасштабувати наші ознаки, щоб вони мали значення одного порядку, а ще ми нормалізуємо наші дані по середньому значенню, щоб всі значення наших ознак були в межах від −1 до 1<br>\n",
    "- Xnew = (Xold - Mu)/(Xmax - Xmin)"
   ]
  },
  {
   "attachments": {},
   "cell_type": "markdown",
   "metadata": {},
   "source": [
    "##### `next`..."
   ]
  },
  {
   "attachments": {},
   "cell_type": "markdown",
   "metadata": {},
   "source": [
    "## Візуалізація"
   ]
  },
  {
   "attachments": {},
   "cell_type": "markdown",
   "metadata": {},
   "source": [
    "#### метод `plot`"
   ]
  },
  {
   "cell_type": "code",
   "execution_count": 48,
   "metadata": {},
   "outputs": [
    {
     "data": {
      "image/png": "[encoded data removed]",
      "text/plain": [
       "<Figure size 640x480 with 1 Axes>"
      ]
     },
     "metadata": {},
     "output_type": "display_data"
    }
   ],
   "source": [
    "import matplotlib.pyplot as plt\n",
    "\n",
    "# kind=\n",
    "# bar (barh)\tПобудова стовпчикової діаграми\n",
    "# hist\tПобудова гістограм\n",
    "# box\tКоробчаста діаграма\n",
    "# kde\tПобудова графіка щільності\n",
    "# area\tДіаграма зі сферами\n",
    "# scatter\tТочковий графік\n",
    "# hexbin\tВізуалізація даних із використанням шестикутників\n",
    "# pie\tКругова діаграма\n",
    "df.plot()\n",
    "plt.show()"
   ]
  },
  {
   "attachments": {},
   "cell_type": "markdown",
   "metadata": {},
   "source": [
    "#### next..."
   ]
  },
  {
   "attachments": {},
   "cell_type": "markdown",
   "metadata": {},
   "source": [
    "## `Machine Learning`"
   ]
  },
  {
   "attachments": {},
   "cell_type": "markdown",
   "metadata": {},
   "source": [
    "### Навчання з учителем (`supervised learning`)"
   ]
  },
  {
   "attachments": {},
   "cell_type": "markdown",
   "metadata": {},
   "source": [
    "- модель навчається на основі попередньо позначених (маркованих) даних"
   ]
  },
  {
   "attachments": {},
   "cell_type": "markdown",
   "metadata": {},
   "source": [
    "- https://scikit-learn.org/stable/user_guide.html"
   ]
  },
  {
   "attachments": {},
   "cell_type": "markdown",
   "metadata": {},
   "source": [
    "#### Лінійна регресія"
   ]
  },
  {
   "attachments": {},
   "cell_type": "markdown",
   "metadata": {},
   "source": [
    "- Функція втрат/помилок (`loss/error/cost function`)\n",
    "- Градієнтний спуск (`Gradient Descent`)\n",
    "- Ланцюжкове правило ('Chain rule')\n",
    "- Нормалізація даних"
   ]
  },
  {
   "cell_type": "code",
   "execution_count": 51,
   "metadata": {},
   "outputs": [
    {
     "data": {
      "text/plain": [
       "(array([ 6,  8,  9, 11]), array([16.]))"
      ]
     },
     "execution_count": 51,
     "metadata": {},
     "output_type": "execute_result"
    }
   ],
   "source": [
    "import numpy as np\n",
    "from sklearn.linear_model import LinearRegression\n",
    "\n",
    "\n",
    "X = np.array([\n",
    "              [1, 1],\n",
    "              [1, 2],\n",
    "              [2, 2],\n",
    "              [2, 3]\n",
    "              ])\n",
    "\n",
    "y = np.dot(X, np.array([1, 2])) + 3\n",
    "\n",
    "regressor = LinearRegression().fit(X, y)\n",
    "\n",
    "y, regressor.predict(np.array([[3, 5]]))"
   ]
  },
  {
   "attachments": {},
   "cell_type": "markdown",
   "metadata": {},
   "source": [
    "### Навчання без учителя (`unsupervised learning`)"
   ]
  },
  {
   "attachments": {},
   "cell_type": "markdown",
   "metadata": {},
   "source": [
    "- дозволяє виявляти приховані залежності в даних, без використання міток або результатів.<br>\n",
    "виявляють групи схожих елементів у наборі даних, що не мають явних міток."
   ]
  },
  {
   "attachments": {},
   "cell_type": "markdown",
   "metadata": {},
   "source": [
    "- можна використовувати алгоритми пониження розмірності (наприклад Principal Component Analysis (PCA)),<br>\n",
    "для зменшення кількості ознак із збереженням якомога більше інформації"
   ]
  },
  {
   "attachments": {},
   "cell_type": "markdown",
   "metadata": {},
   "source": [
    "`Основні задачі` навчання без учителя включають:\n",
    "\n",
    "- `Кластеризацію` - групування об'єктів в кластери за подібними властивостями. Прикладом такої задачі може бути групування користувачів соціальної мережі за подібними інтересами, в яких можна рекомендувати подібний контент.\n",
    "\n",
    "- `Зменшення розмірності` - скорочення кількості ознак у наборі даних зберігаючи при цьому якнайбільше корисної інформації. Наприклад, обробка зображень з високою роздільною здатністю.\n",
    "\n",
    "- `Виявлення аномалій` - процес знаходження незвичайних даних або патернів, які відрізняються від нормальної поведінки. Це може бути виявлення фінансових шахрайств, збоїв у енергетичній системі, виявлення пошкоджень тощо.\n",
    "\n",
    "- `Рекомендаційні системи` - системи, що рекомендують користувачеві продукти або послуги на основі його інтересів та попередньої активності. Ц рекомендація фільмів на основі переглянутих користувачем кінострічок до цього, рекомендація товару, музичного кліпу, і т.д."
   ]
  },
  {
   "attachments": {},
   "cell_type": "markdown",
   "metadata": {},
   "source": []
  },
  {
   "attachments": {},
   "cell_type": "markdown",
   "metadata": {},
   "source": [
    "#### Рекомендаційні системи "
   ]
  },
  {
   "attachments": {},
   "cell_type": "markdown",
   "metadata": {},
   "source": [
    "- аналізують дані про користувачів та предмети, що їх цікавлять, з метою надання персоналізованих рекомендацій користувачам."
   ]
  },
  {
   "attachments": {},
   "cell_type": "markdown",
   "metadata": {},
   "source": [
    "### Навчання з підкріпленням (`reinforcement learning`)"
   ]
  },
  {
   "attachments": {},
   "cell_type": "markdown",
   "metadata": {},
   "source": [
    "- навчити агента взаємодіяти з довкіллям, максимізуючи нагороду або мінімізуючи покарання."
   ]
  },
  {
   "attachments": {},
   "cell_type": "markdown",
   "metadata": {},
   "source": [
    "### Нейронні мережі (глибоке навчання) `Deep Learning`"
   ]
  },
  {
   "attachments": {},
   "cell_type": "markdown",
   "metadata": {},
   "source": [
    "- використовує нейронні мережі з багатьма шарами для автоматичного виконання завдань, <br>\n",
    "таких як класифікація зображень, розпізнавання мовлення та обробка природної мови. <br>\n",
    "Базується на технології нейронних мереж, яка вивчає абстрактні характеристики даних, <br>\n",
    "розпізнаючи взаємозв'язки між вхідними даними та вихідними мітками."
   ]
  },
  {
   "attachments": {},
   "cell_type": "markdown",
   "metadata": {},
   "source": [
    "#### Згорткові нейронні мережі (`Convolutional Neural Networks` або `CNN`) "
   ]
  },
  {
   "attachments": {},
   "cell_type": "markdown",
   "metadata": {},
   "source": [
    "- є видом алгоритмів глибокого навчання, який спеціалізується на обробці даних, що мають сітчасту структуру, такі як зображення, відео та звук"
   ]
  },
  {
   "attachments": {},
   "cell_type": "markdown",
   "metadata": {},
   "source": [
    "#### Рекурентні нейронні мережі (`RNN`) "
   ]
  },
  {
   "attachments": {},
   "cell_type": "markdown",
   "metadata": {},
   "source": [
    "- це тип нейронних мереж, який може аналізувати послідовності даних, <br>\n",
    "де кожен елемент взаємозв'язаний з попередніми елементами послідовності. <br>\n",
    "Одна з основних особливостей RNN полягає в тому, що вони зберігають стан (пам'ять) з попередніх <br>\n",
    "елементів вхідних даних і використовують його для здійснення прогнозів для наступного елементу.  <br>\n",
    "Це дозволяє їм враховувати контекст, що допомагає у більш точному прогнозуванні. <br>\n",
    "RNN зазвичай використовують для роботи з послідовностями даних, такими як мова, часові ряди, музика."
   ]
  },
  {
   "attachments": {},
   "cell_type": "markdown",
   "metadata": {},
   "source": [
    "#### Long Short-Term Memory (`LSTM`) "
   ]
  },
  {
   "attachments": {},
   "cell_type": "markdown",
   "metadata": {},
   "source": [
    "- один з найбільш відомих прикладів RNN, який є спеціальним типом RNN. <br>\n",
    "Він може довгостроково запам'ятовувати інформацію та уникнути проблеми зниклих градієнтів, <br>\n",
    "що дозволяє йому бути дуже ефективним у роботі з послідовними даними."
   ]
  },
  {
   "attachments": {},
   "cell_type": "markdown",
   "metadata": {},
   "source": [
    "#### H4"
   ]
  },
  {
   "attachments": {},
   "cell_type": "markdown",
   "metadata": {},
   "source": [
    "##### H5"
   ]
  },
  {
   "attachments": {},
   "cell_type": "markdown",
   "metadata": {},
   "source": [
    "###### H6"
   ]
  },
  {
   "attachments": {},
   "cell_type": "markdown",
   "metadata": {},
   "source": [
    "####### H7"
   ]
  },
  {
   "cell_type": "code",
   "execution_count": 49,
   "metadata": {},
   "outputs": [],
   "source": [
    "import math as m"
   ]
  }
 ],
 "metadata": {
  "kernelspec": {
   "display_name": "datas-cYPLqW4U-py3.10",
   "language": "python",
   "name": "python3"
  },
  "language_info": {
   "codemirror_mode": {
    "name": "ipython",
    "version": 3
   },
   "file_extension": ".py",
   "mimetype": "text/x-python",
   "name": "python",
   "nbconvert_exporter": "python",
   "pygments_lexer": "ipython3",
   "version": "3.10.12"
  },
  "orig_nbformat": 4
 },
 "nbformat": 4,
 "nbformat_minor": 2
}
