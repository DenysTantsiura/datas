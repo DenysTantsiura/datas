{
 "cells": [
  {
   "attachments": {},
   "cell_type": "markdown",
   "metadata": {},
   "source": [
    "# DATASCIENCE 2023\n",
    "a simple reminder for quick use"
   ]
  },
  {
   "attachments": {},
   "cell_type": "markdown",
   "metadata": {},
   "source": [
    "##### Життєвий цикл проєкту Data Science"
   ]
  },
  {
   "attachments": {},
   "cell_type": "markdown",
   "metadata": {},
   "source": [
    "- `OBTAIN` (Збір даних до CSV, JSON або XML)<br>\n",
    "- `SCRUB` (Очищення та підготовка даних. сміття на вхід - сміття на вихід)<br>\n",
    "-- Видалення дублікатів<br>\n",
    "-- Видалення відсутніх значень<br>\n",
    "-- Кодування категоріальних даних в числові значення<br>\n",
    "-- Нормалізація даних, щоб забезпечити рівні ваги для всіх факторів<br>\n",
    "- `EXPLORE` (Дослідження даних. EDA (Exploratory Data Analysis))<br>\n",
    "-- Збір інформації про дані.<br>\n",
    "-- Зрозуміти, які можливості наявні у ваших даних і як їх краще аналізувати.<br>\n",
    "-- Візуалізація даних.<br>\n",
    "- `MODEL` (Створення моделі)<br>\n",
    "-- scikit-learn<br>\n",
    "-- TensorFlow<br>\n",
    "-- PyTorch<br>\n",
    "- `INTERPRET` - Інтерпретація (Застосування)<br>"
   ]
  },
  {
   "attachments": {},
   "cell_type": "markdown",
   "metadata": {},
   "source": [
    "##### numpy - array"
   ]
  },
  {
   "cell_type": "code",
   "execution_count": 13,
   "metadata": {},
   "outputs": [
    {
     "name": "stdout",
     "output_type": "stream",
     "text": [
      "sum:\n",
      " [ 6 15 14 10  9]\n",
      "subtraction:\n",
      " [ 0 -3 -4 -6 -7]\n",
      "multiplication:\n",
      " [ 9 54 45 16  8]\n",
      "132\n",
      "132\n",
      "M6= \n",
      "[[ 5  3  7]\n",
      " [10 10  7]\n",
      " [ 8  1  2]]\n",
      "\n",
      "inverse:\n",
      "[[-0.04100946 -0.00315457  0.15457413]\n",
      " [-0.11356467  0.14511041 -0.11041009]\n",
      " [ 0.22082019 -0.05993691 -0.06309148]]\n",
      "\n",
      "m6T=array([[ 5, 10,  8],\n",
      "       [ 3, 10,  1],\n",
      "       [ 7,  7,  2]])\n",
      "\n",
      "[[10  6]\n",
      " [ 5 32]\n",
      " [ 4 14]]\n",
      "[[10  6]\n",
      " [ 5 32]\n",
      " [ 4 14]]\n",
      "23\n",
      "23\n",
      "[[ 7]\n",
      " [ 5]\n",
      " [11]]\n",
      "[[ 7]\n",
      " [ 5]\n",
      " [11]]\n",
      "[[ 7]\n",
      " [ 5]\n",
      " [11]]\n",
      "[[25  4]\n",
      " [ 1 16]\n",
      " [16 49]]\n",
      "[[25  4]\n",
      " [ 1 16]\n",
      " [16 49]]\n",
      "[[25  4]\n",
      " [ 1 16]\n",
      " [16 49]]\n",
      "[[2.23606798 1.41421356]\n",
      " [1.         2.        ]\n",
      " [2.         2.64575131]]\n",
      "[[2.23606798 1.41421356]\n",
      " [1.         2.        ]\n",
      " [2.         2.64575131]]\n",
      "[ True False]\n",
      "2\n"
     ]
    }
   ],
   "source": [
    "import numpy as np\n",
    "\n",
    "\n",
    "np.array([el for el in range(1, 11)])  # ndarray [1  2  3  4  5  6  7  8  9 10]\n",
    "np.arange(1, 11)  # ndarray [1  2  3  4  5  6  7  8  9 10]\n",
    "np.linspace(1, 10, num=10)  # ndarray [1.  2.  3.  4.  5  6.  7.  8.  9. 10.]\n",
    "np.zeros((3, 5), dtype=int)  # ndarray [[0 0 0 0 0], [0 0 0 0 0], [0 0 0 0 0]]\n",
    "np.array([5 for _ in range(5)])\n",
    "np.array([[5 for _ in range(4)] for __ in range(3)])\n",
    "np.random.randint(1, 11, size=(3, 5))  # ndarray [[6  4  4  2  3], [5  9  9  2 10], [10  4  8  2  8]]\n",
    "np.random.rand(2, 2)  # ndarray [[0.16002009 0.35987033], [0.28608734 0.62922585]]\n",
    "\n",
    "v2 = np.random.randint(1, 11, size=5)  # ndarray [6 1 6 5 5]\n",
    "v3 = np.random.randint(1, 11, size=5)  # ndarray [1 2 8 3 7]\n",
    "print('sum:\\n', v2 + v3)  # ndarray [ 7  3 14  8 12]\n",
    "print('subtraction:\\n', v2 - v3)  # ndarray [ 5 -1 -2  2 -2]\n",
    "print('multiplication:\\n', v2 * v3)  # ndarray [ 6  2 48 15 35]\n",
    "print(np.dot(v2, v3))  # 106 = 6+2+48+15+35\n",
    "print(v2 @ v3)  # 106 \n",
    "type(v3)  # numpy.ndarray\n",
    "\n",
    "m6 = np.random.randint(1, 11, size=(3, 3))  # ndarray [[ 7  5  3],  [ 1 10  4],  [ 5  6  3]]\n",
    "print(f'M6= \\n{m6}\\n')\n",
    "m6_inv = np.linalg.inv(m6)  # ndarray [[ -1.2  -0.6   2. ], [ -3.4  -1.2   5. ], [  8.8   3.4 -13. ]]\n",
    "print('inverse:')\n",
    "print(m6_inv)\n",
    "\n",
    "m6T = m6.T\n",
    "print(f'\\n{m6T=}\\n')\n",
    "\n",
    "m10 = np.random.randint(1, 11, size=(3, 2))\n",
    "m11 = np.random.randint(1, 11, size=(3, 2))\n",
    "print(m10 * m11)\n",
    "print(np.multiply(m10, m11))\n",
    "print(m10.sum())\n",
    "print(np.sum(m10))\n",
    "\n",
    "print(np.array([[el.sum()] for el in m10[:]]))\n",
    "print(np.array([[m10[el][:].sum()] for el in range(m10.shape[0])]))\n",
    "print(np.sum(m10, axis=1).reshape((m10.shape[0], 1)))\n",
    "\n",
    "print(m10 * m10)\n",
    "print(m10 ** 2)\n",
    "print(np.square(m10))\n",
    "\n",
    "print(m10 ** 0.5)\n",
    "print(np.sqrt(m10))\n",
    "\n",
    "a = np.array([0, 2])\n",
    "positive = a <= 1\n",
    "print(positive)  # [ True False]\n",
    "print(a.shape[0])  # 2"
   ]
  },
  {
   "attachments": {},
   "cell_type": "markdown",
   "metadata": {},
   "source": [
    "##### pandas - DataFrame"
   ]
  },
  {
   "cell_type": "code",
   "execution_count": 14,
   "metadata": {},
   "outputs": [
    {
     "data": {
      "text/html": [
       "<div>\n",
       "<style scoped>\n",
       "    .dataframe tbody tr th:only-of-type {\n",
       "        vertical-align: middle;\n",
       "    }\n",
       "\n",
       "    .dataframe tbody tr th {\n",
       "        vertical-align: top;\n",
       "    }\n",
       "\n",
       "    .dataframe thead th {\n",
       "        text-align: right;\n",
       "    }\n",
       "</style>\n",
       "<table border=\"1\" class=\"dataframe\">\n",
       "  <thead>\n",
       "    <tr style=\"text-align: right;\">\n",
       "      <th></th>\n",
       "    </tr>\n",
       "  </thead>\n",
       "  <tbody>\n",
       "  </tbody>\n",
       "</table>\n",
       "</div>"
      ],
      "text/plain": [
       "Empty DataFrame\n",
       "Columns: []\n",
       "Index: []"
      ]
     },
     "execution_count": 14,
     "metadata": {},
     "output_type": "execute_result"
    }
   ],
   "source": [
    "import pandas as pd\n",
    "\n",
    "\n",
    "df = pd.read_csv('bikes_rent.csv')\n",
    "df.head(3)\n",
    "df.tail(3)\n",
    "\n",
    "# Видаліть з таблиці останній рядок таблиці\n",
    "ndf = df.drop(df.shape[0]-1)\n",
    "ndf.tail(3)\n",
    "\n",
    "# Замініть відсутні дані в стовпцях середніми значеннями цих стовпців (метод fillna)\n",
    "ndf2 = ndf.fillna({key: ndf[key].mean() for key in ndf.columns[1:]})\n",
    "\n",
    "df['yr']  # Series - column from DataFrame\n",
    "df[['yr']]  # DataFrame - consist column from DataFrame\n",
    "df.loc[0]  # Series - line with index-name 0 from DataFrame\n",
    "df.iloc[1]  # Series - line with number index 1 from DataFrame\n",
    "df.iloc[:, 1:4]  # DataFrame with all lines and columns with indices 1-3\n",
    "df.iloc[0:5, 5:8]  # DataFrame\n",
    "df.iloc[0:5]['yr']  # Series\n",
    "df.iloc[:, [0, 1, 3]]  # DataFrame\n",
    "df[0:3]  # DataFrame - lines 0-2\n",
    "df[df.index % 2 == 0]  # DataFrame\n",
    "df[df['yr'] == 1]  # DataFrame\n",
    "df[['yr', 'temp']]  # DataFrame\n",
    "df[df.columns[:-1]]  # DataFrame\n",
    "df.iloc[:, 1]  # Series\n",
    "\n",
    "df.describe()\n",
    "\n",
    "df.filter(items=[col for col in ('yr', 'season', 'temp')])\n",
    "\n",
    "df = pd.DataFrame({})\n",
    "df[df.columns[:-1]]"
   ]
  },
  {
   "attachments": {},
   "cell_type": "markdown",
   "metadata": {},
   "source": [
    "##### corrwith"
   ]
  },
  {
   "attachments": {},
   "cell_type": "markdown",
   "metadata": {},
   "source": [
    "- https://www.statology.org/pandas-corrwith/"
   ]
  },
  {
   "cell_type": "code",
   "execution_count": 15,
   "metadata": {},
   "outputs": [
    {
     "name": "stdout",
     "output_type": "stream",
     "text": [
      "Original dataframe\n",
      "    A   B   C\n",
      "0  45  38  10\n",
      "1  37  31  15\n",
      "2  42  26  17\n",
      "3  35  28  21\n",
      "4  39  33  12\n",
      "\n",
      "\n",
      "Between column B and the rest of the dataframe\n",
      "Correlation Coefficients Matrix\n",
      "A    0.518457\n",
      "B    1.000000\n",
      "C   -0.860941\n",
      "dtype: float64\n",
      "\n",
      "\n",
      "Between column C and the rest of the dataframe\n",
      "Correlation Coefficients Matrix\n",
      "A   -0.701886\n",
      "B   -0.860941\n",
      "C    1.000000\n",
      "dtype: float64\n",
      "\n",
      "\n",
      "Between column C and the rest of the dataframe\n",
      "Correlation Coefficients Matrix\n",
      "A   -0.701886\n",
      "B   -0.860941\n",
      "C    1.000000\n",
      "dtype: float64\n"
     ]
    }
   ],
   "source": [
    "# Data for matrix\n",
    "data = {'A': [45,37,42,35,39],\n",
    "        'B': [38,31,26,28,33],\n",
    "        'C': [10,15,17,21,12]\n",
    "        }\n",
    "\n",
    "df = pd.DataFrame(data,columns=['A','B','C'])\n",
    "print(\"Original dataframe\")\n",
    "print(df) # original df\n",
    "print(\"\\n\")\n",
    "\n",
    "corrMatrix = df.corrwith(df[\"B\"]) # finding correlations\n",
    "print(\"Between column B and the rest of the dataframe\")\n",
    "print(\"Correlation Coefficients Matrix\")\n",
    "print(corrMatrix) # printing correlations\n",
    "print('\\n')\n",
    "\n",
    "corrMatrix = df.corrwith(df[\"C\"]) # finding correlations\n",
    "print(\"Between column C and the rest of the dataframe\")\n",
    "print(\"Correlation Coefficients Matrix\")\n",
    "print(corrMatrix) # printing correlations\n",
    "print('\\n')\n",
    "\n",
    "corrMatrix = df.corrwith(df[\"C\"]) # finding correlations\n",
    "print(\"Between column C and the rest of the dataframe\")\n",
    "print(\"Correlation Coefficients Matrix\")\n",
    "print(corrMatrix) # printing correlations"
   ]
  },
  {
   "attachments": {},
   "cell_type": "markdown",
   "metadata": {},
   "source": [
    "##### next..."
   ]
  },
  {
   "attachments": {},
   "cell_type": "markdown",
   "metadata": {},
   "source": [
    "## Machine Learning"
   ]
  },
  {
   "attachments": {},
   "cell_type": "markdown",
   "metadata": {},
   "source": [
    "### Навчання з учителем (supervised learning)"
   ]
  },
  {
   "attachments": {},
   "cell_type": "markdown",
   "metadata": {},
   "source": [
    "- модель навчається на основі попередньо позначених (маркованих) даних"
   ]
  },
  {
   "attachments": {},
   "cell_type": "markdown",
   "metadata": {},
   "source": [
    "### Навчання без учителя (unsupervised learning)"
   ]
  },
  {
   "attachments": {},
   "cell_type": "markdown",
   "metadata": {},
   "source": [
    "дозволяє виявляти приховані залежності в даних, без використання міток або результатів.<br>\n",
    "виявляють групи схожих елементів у наборі даних, що не мають явних міток."
   ]
  },
  {
   "attachments": {},
   "cell_type": "markdown",
   "metadata": {},
   "source": [
    "можна використовувати алгоритми пониження розмірності (наприклад Principal Component Analysis (PCA)),<br>\n",
    "для зменшення кількості ознак із збереженням якомога більше інформації"
   ]
  },
  {
   "attachments": {},
   "cell_type": "markdown",
   "metadata": {},
   "source": [
    "### Рекомендаційні системи "
   ]
  },
  {
   "attachments": {},
   "cell_type": "markdown",
   "metadata": {},
   "source": [
    "- аналізують дані про користувачів та предмети, що їх цікавлять, з метою надання персоналізованих рекомендацій користувачам."
   ]
  },
  {
   "attachments": {},
   "cell_type": "markdown",
   "metadata": {},
   "source": [
    "### Навчання з підкріпленням (reinforcement learning)"
   ]
  },
  {
   "attachments": {},
   "cell_type": "markdown",
   "metadata": {},
   "source": [
    "- навчити агента взаємодіяти з довкіллям, максимізуючи нагороду або мінімізуючи покарання."
   ]
  },
  {
   "attachments": {},
   "cell_type": "markdown",
   "metadata": {},
   "source": [
    "### Нейронні мережі (глибоке навчання) Deep Learning"
   ]
  },
  {
   "attachments": {},
   "cell_type": "markdown",
   "metadata": {},
   "source": [
    "- використовує нейронні мережі з багатьма шарами для автоматичного виконання завдань, <br>\n",
    "таких як класифікація зображень, розпізнавання мовлення та обробка природної мови. <br>\n",
    "Базується на технології нейронних мереж, яка вивчає абстрактні характеристики даних, <br>\n",
    "розпізнаючи взаємозв'язки між вхідними даними та вихідними мітками."
   ]
  },
  {
   "attachments": {},
   "cell_type": "markdown",
   "metadata": {},
   "source": [
    "#### Згорткові нейронні мережі (Convolutional Neural Networks або CNN) "
   ]
  },
  {
   "attachments": {},
   "cell_type": "markdown",
   "metadata": {},
   "source": [
    "- є видом алгоритмів глибокого навчання, який спеціалізується на обробці даних, що мають сітчасту структуру, такі як зображення, відео та звук"
   ]
  },
  {
   "attachments": {},
   "cell_type": "markdown",
   "metadata": {},
   "source": [
    "#### Рекурентні нейронні мережі (RNN) "
   ]
  },
  {
   "attachments": {},
   "cell_type": "markdown",
   "metadata": {},
   "source": [
    "- це тип нейронних мереж, який може аналізувати послідовності даних, <br>\n",
    "де кожен елемент взаємозв'язаний з попередніми елементами послідовності. <br>\n",
    "Одна з основних особливостей RNN полягає в тому, що вони зберігають стан (пам'ять) з попередніх <br>\n",
    "елементів вхідних даних і використовують його для здійснення прогнозів для наступного елементу.  <br>\n",
    "Це дозволяє їм враховувати контекст, що допомагає у більш точному прогнозуванні. <br>\n",
    "RNN зазвичай використовують для роботи з послідовностями даних, такими як мова, часові ряди, музика."
   ]
  },
  {
   "attachments": {},
   "cell_type": "markdown",
   "metadata": {},
   "source": [
    "#### Long Short-Term Memory (LSTM) "
   ]
  },
  {
   "attachments": {},
   "cell_type": "markdown",
   "metadata": {},
   "source": [
    "- один з найбільш відомих прикладів RNN, який є спеціальним типом RNN. <br>\n",
    "Він може довгостроково запам'ятовувати інформацію та уникнути проблеми зниклих градієнтів, <br>\n",
    "що дозволяє йому бути дуже ефективним у роботі з послідовними даними."
   ]
  },
  {
   "attachments": {},
   "cell_type": "markdown",
   "metadata": {},
   "source": [
    "#### H4"
   ]
  },
  {
   "attachments": {},
   "cell_type": "markdown",
   "metadata": {},
   "source": [
    "##### H5"
   ]
  },
  {
   "attachments": {},
   "cell_type": "markdown",
   "metadata": {},
   "source": [
    "###### H6"
   ]
  },
  {
   "attachments": {},
   "cell_type": "markdown",
   "metadata": {},
   "source": [
    "####### H7"
   ]
  },
  {
   "cell_type": "code",
   "execution_count": 16,
   "metadata": {},
   "outputs": [],
   "source": [
    "import math as m"
   ]
  }
 ],
 "metadata": {
  "kernelspec": {
   "display_name": "datas-cYPLqW4U-py3.10",
   "language": "python",
   "name": "python3"
  },
  "language_info": {
   "codemirror_mode": {
    "name": "ipython",
    "version": 3
   },
   "file_extension": ".py",
   "mimetype": "text/x-python",
   "name": "python",
   "nbconvert_exporter": "python",
   "pygments_lexer": "ipython3",
   "version": "3.10.12"
  },
  "orig_nbformat": 4
 },
 "nbformat": 4,
 "nbformat_minor": 2
}
