{
 "cells": [
  {
   "attachments": {},
   "cell_type": "markdown",
   "metadata": {},
   "source": [
    "# __Лінійна регресія (Навчання з учителем)__"
   ]
  },
  {
   "attachments": {},
   "cell_type": "markdown",
   "metadata": {},
   "source": [
    "`(власні функції)`"
   ]
  },
  {
   "attachments": {},
   "cell_type": "markdown",
   "metadata": {},
   "source": [
    "`Housing.csv`<br>\n",
    "Знайдіть найкращі параметри w⃗ для датасету прогнозуючу ціну на будинок залежно від площі, кількості ванних кімнат та кількості спалень.\n",
    "<br><br>\n"
   ]
  },
  {
   "attachments": {},
   "cell_type": "markdown",
   "metadata": {},
   "source": [
    "Лінійна регресія з однією змінною (`h`)\n",
    "<br>\n",
    "`h(x) = w_0 + w_1 * x`  #  залежність від одного параметру `x`, і `x_0 = 1`\n",
    "<br><br>\n",
    "Лінійна регресія з багатьма змінними (`h` = `linear_regression_hypothesis`)\n",
    "<br>\n",
    "`h(x) = w⋅x`  # залежність від багатьох параметрів `x_1...x_n`, і `x_0 = 1`."
   ]
  },
  {
   "cell_type": "code",
   "execution_count": 5,
   "metadata": {},
   "outputs": [],
   "source": [
    "import os\n",
    "import random\n",
    "\n",
    "import matplotlib.pyplot as plt\n",
    "import numpy as np\n",
    "import pandas as pd"
   ]
  },
  {
   "cell_type": "code",
   "execution_count": 6,
   "metadata": {},
   "outputs": [],
   "source": [
    "def set_seed(seed_value: int) -> None:\n",
    "    \"\"\"Set a random state for repeatability of results.\"\"\"\n",
    "    random.seed(seed_value)\n",
    "    np.random.seed(seed_value)\n",
    "    # tf.random.set_seed(seed_value)\n",
    "    os.environ['PYTHONHASHSEED'] = str(seed_value)\n",
    "    os.environ['TF_DETERMINISTIC_OPS'] = 'true'\n",
    "    \n",
    "\n",
    "set_seed(1)"
   ]
  },
  {
   "attachments": {},
   "cell_type": "markdown",
   "metadata": {},
   "source": [
    "### __`OBTAIN` & `SCRUB`__ + __`EXPLORE`__ (DATASET)"
   ]
  },
  {
   "attachments": {},
   "cell_type": "markdown",
   "metadata": {},
   "source": []
  },
  {
   "cell_type": "code",
   "execution_count": 7,
   "metadata": {},
   "outputs": [
    {
     "data": {
      "text/html": [
       "<div>\n",
       "<style scoped>\n",
       "    .dataframe tbody tr th:only-of-type {\n",
       "        vertical-align: middle;\n",
       "    }\n",
       "\n",
       "    .dataframe tbody tr th {\n",
       "        vertical-align: top;\n",
       "    }\n",
       "\n",
       "    .dataframe thead th {\n",
       "        text-align: right;\n",
       "    }\n",
       "</style>\n",
       "<table border=\"1\" class=\"dataframe\">\n",
       "  <thead>\n",
       "    <tr style=\"text-align: right;\">\n",
       "      <th></th>\n",
       "      <th>price</th>\n",
       "      <th>area</th>\n",
       "      <th>bedrooms</th>\n",
       "      <th>bathrooms</th>\n",
       "      <th>stories</th>\n",
       "      <th>mainroad</th>\n",
       "      <th>guestroom</th>\n",
       "      <th>basement</th>\n",
       "      <th>hotwaterheating</th>\n",
       "      <th>airconditioning</th>\n",
       "      <th>parking</th>\n",
       "      <th>prefarea</th>\n",
       "      <th>furnishingstatus</th>\n",
       "    </tr>\n",
       "  </thead>\n",
       "  <tbody>\n",
       "    <tr>\n",
       "      <th>0</th>\n",
       "      <td>13300000</td>\n",
       "      <td>7420</td>\n",
       "      <td>4</td>\n",
       "      <td>2</td>\n",
       "      <td>3</td>\n",
       "      <td>yes</td>\n",
       "      <td>no</td>\n",
       "      <td>no</td>\n",
       "      <td>no</td>\n",
       "      <td>yes</td>\n",
       "      <td>2</td>\n",
       "      <td>yes</td>\n",
       "      <td>furnished</td>\n",
       "    </tr>\n",
       "    <tr>\n",
       "      <th>1</th>\n",
       "      <td>12250000</td>\n",
       "      <td>8960</td>\n",
       "      <td>4</td>\n",
       "      <td>4</td>\n",
       "      <td>4</td>\n",
       "      <td>yes</td>\n",
       "      <td>no</td>\n",
       "      <td>no</td>\n",
       "      <td>no</td>\n",
       "      <td>yes</td>\n",
       "      <td>3</td>\n",
       "      <td>no</td>\n",
       "      <td>furnished</td>\n",
       "    </tr>\n",
       "    <tr>\n",
       "      <th>2</th>\n",
       "      <td>12250000</td>\n",
       "      <td>9960</td>\n",
       "      <td>3</td>\n",
       "      <td>2</td>\n",
       "      <td>2</td>\n",
       "      <td>yes</td>\n",
       "      <td>no</td>\n",
       "      <td>yes</td>\n",
       "      <td>no</td>\n",
       "      <td>no</td>\n",
       "      <td>2</td>\n",
       "      <td>yes</td>\n",
       "      <td>semi-furnished</td>\n",
       "    </tr>\n",
       "  </tbody>\n",
       "</table>\n",
       "</div>"
      ],
      "text/plain": [
       "      price  area  bedrooms  bathrooms  stories mainroad guestroom basement  \\\n",
       "0  13300000  7420         4          2        3      yes        no       no   \n",
       "1  12250000  8960         4          4        4      yes        no       no   \n",
       "2  12250000  9960         3          2        2      yes        no      yes   \n",
       "\n",
       "  hotwaterheating airconditioning  parking prefarea furnishingstatus  \n",
       "0              no             yes        2      yes        furnished  \n",
       "1              no             yes        3       no        furnished  \n",
       "2              no              no        2      yes   semi-furnished  "
      ]
     },
     "execution_count": 7,
     "metadata": {},
     "output_type": "execute_result"
    }
   ],
   "source": [
    "# prepare data\n",
    "full_df = pd.read_csv('Housing.csv')\n",
    "full_df.head(3)"
   ]
  },
  {
   "attachments": {},
   "cell_type": "markdown",
   "metadata": {},
   "source": [
    "- df = full_df\n",
    "- df.price = y = df[0]\n",
    "- df.area = x_1 = df[1]\n",
    "- df.bedrooms = x_2 = df[2]\n",
    "- df.bathrooms = x_3 = df[3]\n",
    "- df.stories = x_4 = df[4]\n",
    "- df.parking = x_5 = df[10]"
   ]
  },
  {
   "cell_type": "code",
   "execution_count": 8,
   "metadata": {},
   "outputs": [
    {
     "data": {
      "text/html": [
       "<div>\n",
       "<style scoped>\n",
       "    .dataframe tbody tr th:only-of-type {\n",
       "        vertical-align: middle;\n",
       "    }\n",
       "\n",
       "    .dataframe tbody tr th {\n",
       "        vertical-align: top;\n",
       "    }\n",
       "\n",
       "    .dataframe thead th {\n",
       "        text-align: right;\n",
       "    }\n",
       "</style>\n",
       "<table border=\"1\" class=\"dataframe\">\n",
       "  <thead>\n",
       "    <tr style=\"text-align: right;\">\n",
       "      <th></th>\n",
       "      <th>price</th>\n",
       "      <th>area</th>\n",
       "      <th>bedrooms</th>\n",
       "      <th>bathrooms</th>\n",
       "    </tr>\n",
       "  </thead>\n",
       "  <tbody>\n",
       "    <tr>\n",
       "      <th>0</th>\n",
       "      <td>13300000</td>\n",
       "      <td>7420</td>\n",
       "      <td>4</td>\n",
       "      <td>2</td>\n",
       "    </tr>\n",
       "    <tr>\n",
       "      <th>1</th>\n",
       "      <td>12250000</td>\n",
       "      <td>8960</td>\n",
       "      <td>4</td>\n",
       "      <td>4</td>\n",
       "    </tr>\n",
       "    <tr>\n",
       "      <th>2</th>\n",
       "      <td>12250000</td>\n",
       "      <td>9960</td>\n",
       "      <td>3</td>\n",
       "      <td>2</td>\n",
       "    </tr>\n",
       "  </tbody>\n",
       "</table>\n",
       "</div>"
      ],
      "text/plain": [
       "      price  area  bedrooms  bathrooms\n",
       "0  13300000  7420         4          2\n",
       "1  12250000  8960         4          4\n",
       "2  12250000  9960         3          2"
      ]
     },
     "execution_count": 8,
     "metadata": {},
     "output_type": "execute_result"
    }
   ],
   "source": [
    "# prepare df:\n",
    "new_df = full_df.iloc[:, 0:4]\n",
    "new_df.head(3)"
   ]
  },
  {
   "cell_type": "code",
   "execution_count": 9,
   "metadata": {},
   "outputs": [
    {
     "data": {
      "text/html": [
       "<div>\n",
       "<style scoped>\n",
       "    .dataframe tbody tr th:only-of-type {\n",
       "        vertical-align: middle;\n",
       "    }\n",
       "\n",
       "    .dataframe tbody tr th {\n",
       "        vertical-align: top;\n",
       "    }\n",
       "\n",
       "    .dataframe thead th {\n",
       "        text-align: right;\n",
       "    }\n",
       "</style>\n",
       "<table border=\"1\" class=\"dataframe\">\n",
       "  <thead>\n",
       "    <tr style=\"text-align: right;\">\n",
       "      <th></th>\n",
       "      <th>0</th>\n",
       "      <th>1</th>\n",
       "      <th>2</th>\n",
       "      <th>3</th>\n",
       "    </tr>\n",
       "  </thead>\n",
       "  <tbody>\n",
       "    <tr>\n",
       "      <th>0</th>\n",
       "      <td>1</td>\n",
       "      <td>7420</td>\n",
       "      <td>4</td>\n",
       "      <td>2</td>\n",
       "    </tr>\n",
       "    <tr>\n",
       "      <th>1</th>\n",
       "      <td>1</td>\n",
       "      <td>8960</td>\n",
       "      <td>4</td>\n",
       "      <td>4</td>\n",
       "    </tr>\n",
       "    <tr>\n",
       "      <th>2</th>\n",
       "      <td>1</td>\n",
       "      <td>9960</td>\n",
       "      <td>3</td>\n",
       "      <td>2</td>\n",
       "    </tr>\n",
       "  </tbody>\n",
       "</table>\n",
       "</div>"
      ],
      "text/plain": [
       "   0     1  2  3\n",
       "0  1  7420  4  2\n",
       "1  1  8960  4  4\n",
       "2  1  9960  3  2"
      ]
     },
     "execution_count": 9,
     "metadata": {},
     "output_type": "execute_result"
    }
   ],
   "source": [
    "# prepare x (for example)\n",
    "x = pd.DataFrame()\n",
    "x[0] = np.ones((full_df.shape[0],), dtype=int)\n",
    "for num in range(1, new_df.shape[1]):\n",
    "    x[num] = full_df.iloc[:, num]\n",
    "\n",
    "x.head(3)"
   ]
  },
  {
   "cell_type": "code",
   "execution_count": 10,
   "metadata": {},
   "outputs": [],
   "source": [
    "def normalization(data) -> list:\n",
    "    \"\"\"Return normalized values (list) of the array_like object (data).\"\"\"\n",
    "    mean: float = np.mean(data)\n",
    "    value_range = np.max(data) - np.min(data)\n",
    "\n",
    "    return [(x - mean) / value_range for x in data]"
   ]
  },
  {
   "cell_type": "code",
   "execution_count": 11,
   "metadata": {},
   "outputs": [
    {
     "data": {
      "text/html": [
       "<div>\n",
       "<style scoped>\n",
       "    .dataframe tbody tr th:only-of-type {\n",
       "        vertical-align: middle;\n",
       "    }\n",
       "\n",
       "    .dataframe tbody tr th {\n",
       "        vertical-align: top;\n",
       "    }\n",
       "\n",
       "    .dataframe thead th {\n",
       "        text-align: right;\n",
       "    }\n",
       "</style>\n",
       "<table border=\"1\" class=\"dataframe\">\n",
       "  <thead>\n",
       "    <tr style=\"text-align: right;\">\n",
       "      <th></th>\n",
       "      <th>price</th>\n",
       "      <th>area</th>\n",
       "      <th>bedrooms</th>\n",
       "      <th>bathrooms</th>\n",
       "    </tr>\n",
       "  </thead>\n",
       "  <tbody>\n",
       "    <tr>\n",
       "      <th>0</th>\n",
       "      <td>0.738811</td>\n",
       "      <td>0.155977</td>\n",
       "      <td>0.206972</td>\n",
       "      <td>0.237920</td>\n",
       "    </tr>\n",
       "    <tr>\n",
       "      <th>1</th>\n",
       "      <td>0.647902</td>\n",
       "      <td>0.261818</td>\n",
       "      <td>0.206972</td>\n",
       "      <td>0.904587</td>\n",
       "    </tr>\n",
       "    <tr>\n",
       "      <th>2</th>\n",
       "      <td>0.647902</td>\n",
       "      <td>0.330547</td>\n",
       "      <td>0.006972</td>\n",
       "      <td>0.237920</td>\n",
       "    </tr>\n",
       "  </tbody>\n",
       "</table>\n",
       "</div>"
      ],
      "text/plain": [
       "      price      area  bedrooms  bathrooms\n",
       "0  0.738811  0.155977  0.206972   0.237920\n",
       "1  0.647902  0.261818  0.206972   0.904587\n",
       "2  0.647902  0.330547  0.006972   0.237920"
      ]
     },
     "execution_count": 11,
     "metadata": {},
     "output_type": "execute_result"
    }
   ],
   "source": [
    "new_df = pd.DataFrame()\n",
    "new_df['price'] = normalization(full_df.price)\n",
    "new_df['area'] = normalization(full_df.area)\n",
    "new_df['bedrooms'] = normalization(full_df.bedrooms)\n",
    "new_df['bathrooms'] = normalization(full_df.bathrooms)\n",
    "new_df.head(3)"
   ]
  },
  {
   "cell_type": "code",
   "execution_count": 12,
   "metadata": {},
   "outputs": [
    {
     "data": {
      "text/html": [
       "<div>\n",
       "<style scoped>\n",
       "    .dataframe tbody tr th:only-of-type {\n",
       "        vertical-align: middle;\n",
       "    }\n",
       "\n",
       "    .dataframe tbody tr th {\n",
       "        vertical-align: top;\n",
       "    }\n",
       "\n",
       "    .dataframe thead th {\n",
       "        text-align: right;\n",
       "    }\n",
       "</style>\n",
       "<table border=\"1\" class=\"dataframe\">\n",
       "  <thead>\n",
       "    <tr style=\"text-align: right;\">\n",
       "      <th></th>\n",
       "      <th>0</th>\n",
       "      <th>1</th>\n",
       "      <th>2</th>\n",
       "      <th>3</th>\n",
       "    </tr>\n",
       "  </thead>\n",
       "  <tbody>\n",
       "    <tr>\n",
       "      <th>0</th>\n",
       "      <td>1</td>\n",
       "      <td>0.155977</td>\n",
       "      <td>0.206972</td>\n",
       "      <td>0.237920</td>\n",
       "    </tr>\n",
       "    <tr>\n",
       "      <th>1</th>\n",
       "      <td>1</td>\n",
       "      <td>0.261818</td>\n",
       "      <td>0.206972</td>\n",
       "      <td>0.904587</td>\n",
       "    </tr>\n",
       "    <tr>\n",
       "      <th>2</th>\n",
       "      <td>1</td>\n",
       "      <td>0.330547</td>\n",
       "      <td>0.006972</td>\n",
       "      <td>0.237920</td>\n",
       "    </tr>\n",
       "  </tbody>\n",
       "</table>\n",
       "</div>"
      ],
      "text/plain": [
       "   0         1         2         3\n",
       "0  1  0.155977  0.206972  0.237920\n",
       "1  1  0.261818  0.206972  0.904587\n",
       "2  1  0.330547  0.006972  0.237920"
      ]
     },
     "execution_count": 12,
     "metadata": {},
     "output_type": "execute_result"
    }
   ],
   "source": [
    "# prepare normalized x, (x_0 = 1)\n",
    "x = pd.DataFrame()\n",
    "x[0] = np.ones((new_df.shape[0],), dtype=int)\n",
    "for num in range(1, new_df.shape[1]):\n",
    "    x[num] = new_df.iloc[:, num]\n",
    "\n",
    "x.head(3)"
   ]
  },
  {
   "cell_type": "code",
   "execution_count": 13,
   "metadata": {},
   "outputs": [],
   "source": [
    "def x_prepare(w, x):\n",
    "    \"\"\"Prepare matrix x, add x[0]=1 to x.\"\"\"\n",
    "    return [x if i != 0 else 1.0 for i in range(len(w))]\n"
   ]
  },
  {
   "attachments": {},
   "cell_type": "markdown",
   "metadata": {},
   "source": [
    "### __`MODEL`__"
   ]
  },
  {
   "attachments": {},
   "cell_type": "markdown",
   "metadata": {},
   "source": [
    "Лінійна регресія:"
   ]
  },
  {
   "cell_type": "code",
   "execution_count": 14,
   "metadata": {},
   "outputs": [],
   "source": [
    "def linear_regression_hypothesis(w: np.array, x: np.array) -> float:\n",
    "    \"\"\"\n",
    "    Return the value of the linear regression hypothesis of dependence on many parameters.\n",
    "    w: weights;\n",
    "    x: parameters, where x[0] = 1.\n",
    "    \"\"\"\n",
    "    if len(w) != len(x) or x[0] != 1:\n",
    "        return None\n",
    "    \n",
    "    return np.dot(w, x)"
   ]
  },
  {
   "attachments": {},
   "cell_type": "markdown",
   "metadata": {},
   "source": [
    "Функція для обчислення функції втрат у векторному вигляді (`loss_function_many`):"
   ]
  },
  {
   "cell_type": "code",
   "execution_count": 15,
   "metadata": {},
   "outputs": [],
   "source": [
    "def loss_function_many(w: np.array, df: pd.DataFrame, x: pd.DataFrame) -> float:\n",
    "    \"\"\"Calculation of the loss function in vector form (for dependence on many parameters).\n",
    "    w: weights;\n",
    "    df: DataFrame, where 0-column is y, last each one - important parameters;\n",
    "    x: DataFrame of parameters where 0 column is 1 (x[0]=1).\n",
    "    \"\"\"\n",
    "    if len(w) != x.shape[1]:\n",
    "        return None\n",
    "    \n",
    "    # n: int = df.shape[1]\n",
    "    m: int = df.shape[0]\n",
    "        \n",
    "    cost = 0\n",
    "    for line_idx_y, y in enumerate(df.iloc[:, 0]):\n",
    "        cost += (y - linear_regression_hypothesis(w, x.iloc[line_idx_y])) ** 2\n",
    "\n",
    "    return cost/(2*m)"
   ]
  },
  {
   "attachments": {},
   "cell_type": "markdown",
   "metadata": {},
   "source": [
    "#### __`Training`__"
   ]
  },
  {
   "attachments": {},
   "cell_type": "markdown",
   "metadata": {},
   "source": [
    "Один крок градієнтного спуску:"
   ]
  },
  {
   "cell_type": "code",
   "execution_count": 16,
   "metadata": {},
   "outputs": [],
   "source": [
    "def grad_step_many(weights: list, grads: list, learning_rate: float = 0.001) -> list:\n",
    "    \"\"\"Function of one step of gradient descent with many parameters. Return the weights (list).\"\"\"\n",
    "    weights = [weights[num] - learning_rate * grads[num] for num in range(len(weights))]\n",
    "    \n",
    "    return weights"
   ]
  },
  {
   "cell_type": "code",
   "execution_count": 17,
   "metadata": {},
   "outputs": [],
   "source": [
    "def grad_w_i(weights: list, df: pd.DataFrame, x: pd.DataFrame, i: int) -> float:\n",
    "    \"\"\"Calculation of the graduation descent weight 1 (for dependence on one parameter).\n",
    "    weights is list of values from vector weights;\n",
    "    df: DataFrame;\n",
    "    x: DataFrame of parameters where 0 column is 1 (x[0]=1);\n",
    "    i: number of i-parameter in x.\n",
    "    \"\"\"\n",
    "    n: int = df.shape[0]\n",
    "    cost = 0\n",
    "\n",
    "    for line_idx_y, y in enumerate(df.iloc[:, 0]):\n",
    "        cost += (linear_regression_hypothesis(weights, x.iloc[line_idx_y]) - y) * x.iloc[line_idx_y, i]\n",
    "\n",
    "    return cost/n"
   ]
  },
  {
   "cell_type": "code",
   "execution_count": 18,
   "metadata": {},
   "outputs": [],
   "source": [
    "def grad_descent(\n",
    "                 weights: list, \n",
    "                 df: pd.DataFrame, \n",
    "                 num_iter: int, \n",
    "                 learning_rate: float = 0.001, \n",
    "                 epsilon: float = 0.0000001\n",
    "                 ) -> tuple:\n",
    "    \"\"\"Gradient descent function with one parameter. Return weights and story of the descent.\"\"\"\n",
    "    loss_history = [loss_function_many(weights, df, x)]\n",
    "    for _ in range(num_iter):\n",
    "        grads = [grad_w_i(weights, df, x, el) for el in range(x.shape[1])]\n",
    "        weights = grad_step_many(weights, grads, learning_rate=learning_rate)\n",
    "\n",
    "        loss = loss_function_many(weights, df, x)\n",
    "        loss_history.append(loss)\n",
    "\n",
    "        if abs(loss - loss_history[-2]) < epsilon:\n",
    "            break\n",
    "\n",
    "    return (weights, loss_history)"
   ]
  },
  {
   "cell_type": "code",
   "execution_count": 19,
   "metadata": {},
   "outputs": [
    {
     "name": "stdout",
     "output_type": "stream",
     "text": [
      "[1.9014962896804754e-17, 0.01273294983195144, 0.008566092610210577, 0.013747868423366165] \n",
      " [0.013088679029173688, 0.01308823923171806] [0.012664950630071984, 0.01266454094041069, 0.012664131279840863]\n"
     ]
    }
   ],
   "source": [
    "weights = [0. for _ in range(x.shape[1])]\n",
    "weights, history = grad_descent(weights, df=new_df, num_iter=1000, learning_rate=0.001)\n",
    "print(weights, '\\n', history[0:2], history[-3:])"
   ]
  },
  {
   "cell_type": "code",
   "execution_count": 20,
   "metadata": {},
   "outputs": [
    {
     "name": "stdout",
     "output_type": "stream",
     "text": [
      "[4.930816203862724e-17, 0.4334673916275597, 0.18904886881067134, 0.3536652641284381] \n",
      " [0.013088679029173688, 0.013044776677262018] [0.006735864317916006, 0.006735763968666831, 0.006735664105912874]\n"
     ]
    }
   ],
   "source": [
    "weights = [0. for _ in range(x.shape[1])]\n",
    "weights, history = grad_descent(weights, df=new_df, num_iter=1000, learning_rate=0.1)\n",
    "print(weights, '\\n', history[0:2], history[-3:])"
   ]
  },
  {
   "cell_type": "code",
   "execution_count": 21,
   "metadata": {},
   "outputs": [
    {
     "data": {
      "text/plain": [
       "[4.930816203862724e-17,\n",
       " 0.4334673916275597,\n",
       " 0.18904886881067134,\n",
       " 0.3536652641284381]"
      ]
     },
     "execution_count": 21,
     "metadata": {},
     "output_type": "execute_result"
    }
   ],
   "source": [
    "weights"
   ]
  },
  {
   "attachments": {},
   "cell_type": "markdown",
   "metadata": {},
   "source": [
    "### __`INTERPRET`__ / __`Error Analysis`__"
   ]
  },
  {
   "cell_type": "code",
   "execution_count": 22,
   "metadata": {},
   "outputs": [],
   "source": [
    "def line_normalization(data, line) -> list:\n",
    "    \"\"\"Return normalized values (list) of the array_like object (data) by original data.\"\"\"\n",
    "    mean: float = np.mean(data)\n",
    "    value_range = np.max(data) - np.min(data)\n",
    "\n",
    "    return [(x - mean) / value_range for x in line] "
   ]
  },
  {
   "cell_type": "code",
   "execution_count": 25,
   "metadata": {},
   "outputs": [
    {
     "data": {
      "text/html": [
       "<div>\n",
       "<style scoped>\n",
       "    .dataframe tbody tr th:only-of-type {\n",
       "        vertical-align: middle;\n",
       "    }\n",
       "\n",
       "    .dataframe tbody tr th {\n",
       "        vertical-align: top;\n",
       "    }\n",
       "\n",
       "    .dataframe thead th {\n",
       "        text-align: right;\n",
       "    }\n",
       "</style>\n",
       "<table border=\"1\" class=\"dataframe\">\n",
       "  <thead>\n",
       "    <tr style=\"text-align: right;\">\n",
       "      <th></th>\n",
       "      <th>price</th>\n",
       "      <th>area</th>\n",
       "      <th>bedrooms</th>\n",
       "      <th>bathrooms</th>\n",
       "    </tr>\n",
       "  </thead>\n",
       "  <tbody>\n",
       "    <tr>\n",
       "      <th>0</th>\n",
       "      <td>0.738811</td>\n",
       "      <td>0.155977</td>\n",
       "      <td>0.206972</td>\n",
       "      <td>0.237920</td>\n",
       "    </tr>\n",
       "    <tr>\n",
       "      <th>1</th>\n",
       "      <td>0.647902</td>\n",
       "      <td>0.261818</td>\n",
       "      <td>0.206972</td>\n",
       "      <td>0.904587</td>\n",
       "    </tr>\n",
       "    <tr>\n",
       "      <th>2</th>\n",
       "      <td>0.647902</td>\n",
       "      <td>0.330547</td>\n",
       "      <td>0.006972</td>\n",
       "      <td>0.237920</td>\n",
       "    </tr>\n",
       "    <tr>\n",
       "      <th>3</th>\n",
       "      <td>0.644872</td>\n",
       "      <td>0.161475</td>\n",
       "      <td>0.206972</td>\n",
       "      <td>0.237920</td>\n",
       "    </tr>\n",
       "    <tr>\n",
       "      <th>4</th>\n",
       "      <td>0.575175</td>\n",
       "      <td>0.155977</td>\n",
       "      <td>0.206972</td>\n",
       "      <td>-0.095413</td>\n",
       "    </tr>\n",
       "  </tbody>\n",
       "</table>\n",
       "</div>"
      ],
      "text/plain": [
       "      price      area  bedrooms  bathrooms\n",
       "0  0.738811  0.155977  0.206972   0.237920\n",
       "1  0.647902  0.261818  0.206972   0.904587\n",
       "2  0.647902  0.330547  0.006972   0.237920\n",
       "3  0.644872  0.161475  0.206972   0.237920\n",
       "4  0.575175  0.155977  0.206972  -0.095413"
      ]
     },
     "execution_count": 25,
     "metadata": {},
     "output_type": "execute_result"
    }
   ],
   "source": [
    "new_df.head()"
   ]
  },
  {
   "cell_type": "code",
   "execution_count": 23,
   "metadata": {},
   "outputs": [
    {
     "data": {
      "image/png": "[encoded data removed]",
      "text/plain": [
       "<Figure size 900x900 with 1 Axes>"
      ]
     },
     "metadata": {},
     "output_type": "display_data"
    }
   ],
   "source": [
    "prep_df = pd.DataFrame()\n",
    "prep_df['price'] = line_normalization(full_df.price, [0.2 * (10 ** 7), 0.8 * (10 ** 7)])\n",
    "prep_df['area'] = line_normalization(full_df.area, [2000, 9000])\n",
    "\n",
    "x = np.linspace(np.min(new_df.area), np.max(new_df.area), 3)\n",
    "y1 = [linear_regression_hypothesis(weights, x_prepare(weights, xi)) for xi in x]\n",
    "\n",
    "new_df.plot(x='area', y='price', kind='scatter', figsize=(9,9))\n",
    "\n",
    "plt.plot(x, y1, label='Власне рішення ручним розрахунком.', color='blue')\n",
    "plt.legend()\n",
    "plt.show()"
   ]
  }
 ],
 "metadata": {
  "kernelspec": {
   "display_name": "datas-cYPLqW4U-py3.10",
   "language": "python",
   "name": "python3"
  },
  "language_info": {
   "codemirror_mode": {
    "name": "ipython",
    "version": 3
   },
   "file_extension": ".py",
   "mimetype": "text/x-python",
   "name": "python",
   "nbconvert_exporter": "python",
   "pygments_lexer": "ipython3",
   "version": "3.10.12"
  },
  "orig_nbformat": 4
 },
 "nbformat": 4,
 "nbformat_minor": 2
}
