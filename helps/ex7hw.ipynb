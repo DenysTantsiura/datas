{
  "cells": [
    {
      "cell_type": "markdown",
      "metadata": {
        "id": "Sb7Zm2RcINgX"
      },
      "source": [
        "# __рекомендаційні системи__\n",
        "### _!_ (_in `GoogleColab`_)\n",
        "бібліотека `surprise`, котра якраз є по суті додатком до бібліотеки `scikit-learn` для тренування моделей рекомендаційних систем.\n",
        "<br><br>\n",
        "Example: датасет `movielens`, побудова моделі матричної факторизації. У даній бібліотеці він має назву `SVD`.\n",
        "<br>\n",
        "Підбір найкращих параметрів за допомогою крос-валідації, також й інші алгоритмами розрахунків (`SVD++`, `NMF`).\n",
        "<br><br>\n",
        "як саме побудувати дану модель - в документації до даної бібліотеки."
      ]
    },
    {
      "cell_type": "markdown",
      "source": [
        "!pip install matplotlib"
      ],
      "metadata": {
        "id": "_uzfbKYATILL"
      }
    },
    {
      "cell_type": "code",
      "source": [
        "!pip install surprise"
      ],
      "metadata": {
        "colab": {
          "base_uri": "https://localhost:8080/"
        },
        "id": "xe180QgSTJa9",
        "outputId": "a4997608-21f6-4c37-c5aa-9cb012989cad"
      },
      "execution_count": 28,
      "outputs": [
        {
          "output_type": "stream",
          "name": "stdout",
          "text": [
            "Requirement already satisfied: surprise in /usr/local/lib/python3.10/dist-packages (0.1)\n",
            "Requirement already satisfied: scikit-surprise in /usr/local/lib/python3.10/dist-packages (from surprise) (1.1.3)\n",
            "Requirement already satisfied: joblib>=1.0.0 in /usr/local/lib/python3.10/dist-packages (from scikit-surprise->surprise) (1.3.2)\n",
            "Requirement already satisfied: numpy>=1.17.3 in /usr/local/lib/python3.10/dist-packages (from scikit-surprise->surprise) (1.23.5)\n",
            "Requirement already satisfied: scipy>=1.3.2 in /usr/local/lib/python3.10/dist-packages (from scikit-surprise->surprise) (1.10.1)\n"
          ]
        }
      ]
    },
    {
      "cell_type": "code",
      "execution_count": 29,
      "metadata": {
        "id": "QkzptropHKrs"
      },
      "outputs": [],
      "source": [
        "import os\n",
        "from pathlib import Path\n",
        "import random\n",
        "import shutil\n",
        "\n",
        "from google.colab import files\n",
        "import numpy as np\n",
        "import pandas as pd"
      ]
    },
    {
      "cell_type": "code",
      "source": [
        "def set_seed(seed_value: int) -> None:\n",
        "    \"\"\"Set a random state for repeatability of results.\"\"\"\n",
        "    random.seed(seed_value)\n",
        "    np.random.seed(seed_value)\n",
        "    # tf.random.set_seed(seed_value)\n",
        "    os.environ['PYTHONHASHSEED'] = str(seed_value)\n",
        "    os.environ['TF_DETERMINISTIC_OPS'] = 'true'\n",
        "\n",
        "\n",
        "set_seed(1)"
      ],
      "metadata": {
        "id": "I1AyqqMZJhk4"
      },
      "execution_count": 30,
      "outputs": []
    },
    {
      "cell_type": "markdown",
      "metadata": {
        "id": "T9SYxv1_IpTA"
      },
      "source": [
        "### __`OBTAIN` & `SCRUB`__ + __`EXPLORE`__ (DATASET)"
      ]
    },
    {
      "cell_type": "markdown",
      "metadata": {
        "id": "8glYloXoIp4T"
      },
      "source": [
        "- links.csv - movieId, imdbId, tmdbId\n",
        "- movies.csv - movieId, title, genres\n",
        "- ratings.csv - userId, movieId, rating, timestamp\n",
        "- tags.csv - userId, movieId, tag, timestamp"
      ]
    },
    {
      "cell_type": "code",
      "source": [
        "# data = Dataset.load_builtin(\"ml-100k\")"
      ],
      "metadata": {
        "id": "oJrW_8iKYXFL"
      },
      "execution_count": 59,
      "outputs": []
    },
    {
      "cell_type": "code",
      "execution_count": 31,
      "metadata": {
        "id": "-meAf0RiIw_r"
      },
      "outputs": [],
      "source": [
        "def read_from_csvfile(file: Path) -> pd.DataFrame:\n",
        "    \"\"\"Read content from csv-file and return dataframe from content.\"\"\"\n",
        "    df = pd.read_csv(file)\n",
        "\n",
        "    return df"
      ]
    },
    {
      "cell_type": "code",
      "execution_count": 32,
      "metadata": {
        "colab": {
          "base_uri": "https://localhost:8080/",
          "height": 359
        },
        "id": "MgjgOxb5SLjT",
        "outputId": "e0dce86e-0289-4280-d304-ece3b5deee31"
      },
      "outputs": [
        {
          "output_type": "display_data",
          "data": {
            "text/plain": [
              "<IPython.core.display.HTML object>"
            ],
            "text/html": [
              "\n",
              "     <input type=\"file\" id=\"files-01c9ee5f-9730-492a-ba2e-8f5f413ebc32\" name=\"files[]\" multiple disabled\n",
              "        style=\"border:none\" />\n",
              "     <output id=\"result-01c9ee5f-9730-492a-ba2e-8f5f413ebc32\">\n",
              "      Upload widget is only available when the cell has been executed in the\n",
              "      current browser session. Please rerun this cell to enable.\n",
              "      </output>\n",
              "      <script>// Copyright 2017 Google LLC\n",
              "//\n",
              "// Licensed under the Apache License, Version 2.0 (the \"License\");\n",
              "// you may not use this file except in compliance with the License.\n",
              "// You may obtain a copy of the License at\n",
              "//\n",
              "//      http://www.apache.org/licenses/LICENSE-2.0\n",
              "//\n",
              "// Unless required by applicable law or agreed to in writing, software\n",
              "// distributed under the License is distributed on an \"AS IS\" BASIS,\n",
              "// WITHOUT WARRANTIES OR CONDITIONS OF ANY KIND, either express or implied.\n",
              "// See the License for the specific language governing permissions and\n",
              "// limitations under the License.\n",
              "\n",
              "/**\n",
              " * @fileoverview Helpers for google.colab Python module.\n",
              " */\n",
              "(function(scope) {\n",
              "function span(text, styleAttributes = {}) {\n",
              "  const element = document.createElement('span');\n",
              "  element.textContent = text;\n",
              "  for (const key of Object.keys(styleAttributes)) {\n",
              "    element.style[key] = styleAttributes[key];\n",
              "  }\n",
              "  return element;\n",
              "}\n",
              "\n",
              "// Max number of bytes which will be uploaded at a time.\n",
              "const MAX_PAYLOAD_SIZE = 100 * 1024;\n",
              "\n",
              "function _uploadFiles(inputId, outputId) {\n",
              "  const steps = uploadFilesStep(inputId, outputId);\n",
              "  const outputElement = document.getElementById(outputId);\n",
              "  // Cache steps on the outputElement to make it available for the next call\n",
              "  // to uploadFilesContinue from Python.\n",
              "  outputElement.steps = steps;\n",
              "\n",
              "  return _uploadFilesContinue(outputId);\n",
              "}\n",
              "\n",
              "// This is roughly an async generator (not supported in the browser yet),\n",
              "// where there are multiple asynchronous steps and the Python side is going\n",
              "// to poll for completion of each step.\n",
              "// This uses a Promise to block the python side on completion of each step,\n",
              "// then passes the result of the previous step as the input to the next step.\n",
              "function _uploadFilesContinue(outputId) {\n",
              "  const outputElement = document.getElementById(outputId);\n",
              "  const steps = outputElement.steps;\n",
              "\n",
              "  const next = steps.next(outputElement.lastPromiseValue);\n",
              "  return Promise.resolve(next.value.promise).then((value) => {\n",
              "    // Cache the last promise value to make it available to the next\n",
              "    // step of the generator.\n",
              "    outputElement.lastPromiseValue = value;\n",
              "    return next.value.response;\n",
              "  });\n",
              "}\n",
              "\n",
              "/**\n",
              " * Generator function which is called between each async step of the upload\n",
              " * process.\n",
              " * @param {string} inputId Element ID of the input file picker element.\n",
              " * @param {string} outputId Element ID of the output display.\n",
              " * @return {!Iterable<!Object>} Iterable of next steps.\n",
              " */\n",
              "function* uploadFilesStep(inputId, outputId) {\n",
              "  const inputElement = document.getElementById(inputId);\n",
              "  inputElement.disabled = false;\n",
              "\n",
              "  const outputElement = document.getElementById(outputId);\n",
              "  outputElement.innerHTML = '';\n",
              "\n",
              "  const pickedPromise = new Promise((resolve) => {\n",
              "    inputElement.addEventListener('change', (e) => {\n",
              "      resolve(e.target.files);\n",
              "    });\n",
              "  });\n",
              "\n",
              "  const cancel = document.createElement('button');\n",
              "  inputElement.parentElement.appendChild(cancel);\n",
              "  cancel.textContent = 'Cancel upload';\n",
              "  const cancelPromise = new Promise((resolve) => {\n",
              "    cancel.onclick = () => {\n",
              "      resolve(null);\n",
              "    };\n",
              "  });\n",
              "\n",
              "  // Wait for the user to pick the files.\n",
              "  const files = yield {\n",
              "    promise: Promise.race([pickedPromise, cancelPromise]),\n",
              "    response: {\n",
              "      action: 'starting',\n",
              "    }\n",
              "  };\n",
              "\n",
              "  cancel.remove();\n",
              "\n",
              "  // Disable the input element since further picks are not allowed.\n",
              "  inputElement.disabled = true;\n",
              "\n",
              "  if (!files) {\n",
              "    return {\n",
              "      response: {\n",
              "        action: 'complete',\n",
              "      }\n",
              "    };\n",
              "  }\n",
              "\n",
              "  for (const file of files) {\n",
              "    const li = document.createElement('li');\n",
              "    li.append(span(file.name, {fontWeight: 'bold'}));\n",
              "    li.append(span(\n",
              "        `(${file.type || 'n/a'}) - ${file.size} bytes, ` +\n",
              "        `last modified: ${\n",
              "            file.lastModifiedDate ? file.lastModifiedDate.toLocaleDateString() :\n",
              "                                    'n/a'} - `));\n",
              "    const percent = span('0% done');\n",
              "    li.appendChild(percent);\n",
              "\n",
              "    outputElement.appendChild(li);\n",
              "\n",
              "    const fileDataPromise = new Promise((resolve) => {\n",
              "      const reader = new FileReader();\n",
              "      reader.onload = (e) => {\n",
              "        resolve(e.target.result);\n",
              "      };\n",
              "      reader.readAsArrayBuffer(file);\n",
              "    });\n",
              "    // Wait for the data to be ready.\n",
              "    let fileData = yield {\n",
              "      promise: fileDataPromise,\n",
              "      response: {\n",
              "        action: 'continue',\n",
              "      }\n",
              "    };\n",
              "\n",
              "    // Use a chunked sending to avoid message size limits. See b/62115660.\n",
              "    let position = 0;\n",
              "    do {\n",
              "      const length = Math.min(fileData.byteLength - position, MAX_PAYLOAD_SIZE);\n",
              "      const chunk = new Uint8Array(fileData, position, length);\n",
              "      position += length;\n",
              "\n",
              "      const base64 = btoa(String.fromCharCode.apply(null, chunk));\n",
              "      yield {\n",
              "        response: {\n",
              "          action: 'append',\n",
              "          file: file.name,\n",
              "          data: base64,\n",
              "        },\n",
              "      };\n",
              "\n",
              "      let percentDone = fileData.byteLength === 0 ?\n",
              "          100 :\n",
              "          Math.round((position / fileData.byteLength) * 100);\n",
              "      percent.textContent = `${percentDone}% done`;\n",
              "\n",
              "    } while (position < fileData.byteLength);\n",
              "  }\n",
              "\n",
              "  // All done.\n",
              "  yield {\n",
              "    response: {\n",
              "      action: 'complete',\n",
              "    }\n",
              "  };\n",
              "}\n",
              "\n",
              "scope.google = scope.google || {};\n",
              "scope.google.colab = scope.google.colab || {};\n",
              "scope.google.colab._files = {\n",
              "  _uploadFiles,\n",
              "  _uploadFilesContinue,\n",
              "};\n",
              "})(self);\n",
              "</script> "
            ]
          },
          "metadata": {}
        },
        {
          "output_type": "stream",
          "name": "stdout",
          "text": [
            "Saving links.csv to links.csv\n",
            "Saving movie_ids.txt to movie_ids.txt\n",
            "Saving movies.csv to movies.csv\n",
            "Saving movies.mat to movies.mat\n",
            "Saving ratings.csv to ratings.csv\n",
            "Saving tags.csv to tags.csv\n",
            "move links.csv to ml/links.csv\n",
            "move movie_ids.txt to ml/movie_ids.txt\n",
            "move movies.csv to ml/movies.csv\n",
            "move movies.mat to ml/movies.mat\n",
            "move ratings.csv to ml/ratings.csv\n",
            "move tags.csv to ml/tags.csv\n"
          ]
        }
      ],
      "source": [
        "# Create new folder\n",
        "new_folder = 'ml'\n",
        "\n",
        "if os.path.isdir(new_folder):\n",
        "  shutil.rmtree(new_folder)\n",
        "\n",
        "os.mkdir(new_folder)\n",
        "\n",
        "# Upload Files to GoogleColab\n",
        "uploaded = files.upload()\n",
        "for filename in uploaded.keys():\n",
        "  dst_path = os.path.join(new_folder, filename)\n",
        "  print(f'move {filename} to {dst_path}')\n",
        "  shutil.move(filename, dst_path)"
      ]
    },
    {
      "cell_type": "code",
      "execution_count": 33,
      "metadata": {
        "id": "82_VingRI5ZS"
      },
      "outputs": [],
      "source": [
        "links = read_from_csvfile('/content/ml/links.csv')\n",
        "movies = read_from_csvfile('/content/ml/movies.csv')\n",
        "ratings = read_from_csvfile('/content/ml/ratings.csv')\n",
        "tags = read_from_csvfile('/content/ml/tags.csv')"
      ]
    },
    {
      "cell_type": "code",
      "execution_count": 34,
      "metadata": {
        "colab": {
          "base_uri": "https://localhost:8080/",
          "height": 143
        },
        "id": "ew26p_LPI8sv",
        "outputId": "b661b5d0-583f-49ae-deba-d92f9c8d88ec"
      },
      "outputs": [
        {
          "output_type": "execute_result",
          "data": {
            "text/plain": [
              "      movieId   imdbId    tmdbId\n",
              "9739   193585  6397426  479308.0\n",
              "9740   193587  8391976  483455.0\n",
              "9741   193609   101726   37891.0"
            ],
            "text/html": [
              "\n",
              "  <div id=\"df-6d9ef90c-45af-4a3b-9165-e37af162c998\" class=\"colab-df-container\">\n",
              "    <div>\n",
              "<style scoped>\n",
              "    .dataframe tbody tr th:only-of-type {\n",
              "        vertical-align: middle;\n",
              "    }\n",
              "\n",
              "    .dataframe tbody tr th {\n",
              "        vertical-align: top;\n",
              "    }\n",
              "\n",
              "    .dataframe thead th {\n",
              "        text-align: right;\n",
              "    }\n",
              "</style>\n",
              "<table border=\"1\" class=\"dataframe\">\n",
              "  <thead>\n",
              "    <tr style=\"text-align: right;\">\n",
              "      <th></th>\n",
              "      <th>movieId</th>\n",
              "      <th>imdbId</th>\n",
              "      <th>tmdbId</th>\n",
              "    </tr>\n",
              "  </thead>\n",
              "  <tbody>\n",
              "    <tr>\n",
              "      <th>9739</th>\n",
              "      <td>193585</td>\n",
              "      <td>6397426</td>\n",
              "      <td>479308.0</td>\n",
              "    </tr>\n",
              "    <tr>\n",
              "      <th>9740</th>\n",
              "      <td>193587</td>\n",
              "      <td>8391976</td>\n",
              "      <td>483455.0</td>\n",
              "    </tr>\n",
              "    <tr>\n",
              "      <th>9741</th>\n",
              "      <td>193609</td>\n",
              "      <td>101726</td>\n",
              "      <td>37891.0</td>\n",
              "    </tr>\n",
              "  </tbody>\n",
              "</table>\n",
              "</div>\n",
              "    <div class=\"colab-df-buttons\">\n",
              "\n",
              "  <div class=\"colab-df-container\">\n",
              "    <button class=\"colab-df-convert\" onclick=\"convertToInteractive('df-6d9ef90c-45af-4a3b-9165-e37af162c998')\"\n",
              "            title=\"Convert this dataframe to an interactive table.\"\n",
              "            style=\"display:none;\">\n",
              "\n",
              "  <svg xmlns=\"http://www.w3.org/2000/svg\" height=\"24px\" viewBox=\"0 -960 960 960\">\n",
              "    <path d=\"M120-120v-720h720v720H120Zm60-500h600v-160H180v160Zm220 220h160v-160H400v160Zm0 220h160v-160H400v160ZM180-400h160v-160H180v160Zm440 0h160v-160H620v160ZM180-180h160v-160H180v160Zm440 0h160v-160H620v160Z\"/>\n",
              "  </svg>\n",
              "    </button>\n",
              "\n",
              "  <style>\n",
              "    .colab-df-container {\n",
              "      display:flex;\n",
              "      gap: 12px;\n",
              "    }\n",
              "\n",
              "    .colab-df-convert {\n",
              "      background-color: #E8F0FE;\n",
              "      border: none;\n",
              "      border-radius: 50%;\n",
              "      cursor: pointer;\n",
              "      display: none;\n",
              "      fill: #1967D2;\n",
              "      height: 32px;\n",
              "      padding: 0 0 0 0;\n",
              "      width: 32px;\n",
              "    }\n",
              "\n",
              "    .colab-df-convert:hover {\n",
              "      background-color: #E2EBFA;\n",
              "      box-shadow: 0px 1px 2px rgba(60, 64, 67, 0.3), 0px 1px 3px 1px rgba(60, 64, 67, 0.15);\n",
              "      fill: #174EA6;\n",
              "    }\n",
              "\n",
              "    .colab-df-buttons div {\n",
              "      margin-bottom: 4px;\n",
              "    }\n",
              "\n",
              "    [theme=dark] .colab-df-convert {\n",
              "      background-color: #3B4455;\n",
              "      fill: #D2E3FC;\n",
              "    }\n",
              "\n",
              "    [theme=dark] .colab-df-convert:hover {\n",
              "      background-color: #434B5C;\n",
              "      box-shadow: 0px 1px 3px 1px rgba(0, 0, 0, 0.15);\n",
              "      filter: drop-shadow(0px 1px 2px rgba(0, 0, 0, 0.3));\n",
              "      fill: #FFFFFF;\n",
              "    }\n",
              "  </style>\n",
              "\n",
              "    <script>\n",
              "      const buttonEl =\n",
              "        document.querySelector('#df-6d9ef90c-45af-4a3b-9165-e37af162c998 button.colab-df-convert');\n",
              "      buttonEl.style.display =\n",
              "        google.colab.kernel.accessAllowed ? 'block' : 'none';\n",
              "\n",
              "      async function convertToInteractive(key) {\n",
              "        const element = document.querySelector('#df-6d9ef90c-45af-4a3b-9165-e37af162c998');\n",
              "        const dataTable =\n",
              "          await google.colab.kernel.invokeFunction('convertToInteractive',\n",
              "                                                    [key], {});\n",
              "        if (!dataTable) return;\n",
              "\n",
              "        const docLinkHtml = 'Like what you see? Visit the ' +\n",
              "          '<a target=\"_blank\" href=https://colab.research.google.com/notebooks/data_table.ipynb>data table notebook</a>'\n",
              "          + ' to learn more about interactive tables.';\n",
              "        element.innerHTML = '';\n",
              "        dataTable['output_type'] = 'display_data';\n",
              "        await google.colab.output.renderOutput(dataTable, element);\n",
              "        const docLink = document.createElement('div');\n",
              "        docLink.innerHTML = docLinkHtml;\n",
              "        element.appendChild(docLink);\n",
              "      }\n",
              "    </script>\n",
              "  </div>\n",
              "\n",
              "\n",
              "<div id=\"df-6c92adcd-afa3-4aba-b899-6644e7bb4ddf\">\n",
              "  <button class=\"colab-df-quickchart\" onclick=\"quickchart('df-6c92adcd-afa3-4aba-b899-6644e7bb4ddf')\"\n",
              "            title=\"Suggest charts.\"\n",
              "            style=\"display:none;\">\n",
              "\n",
              "<svg xmlns=\"http://www.w3.org/2000/svg\" height=\"24px\"viewBox=\"0 0 24 24\"\n",
              "     width=\"24px\">\n",
              "    <g>\n",
              "        <path d=\"M19 3H5c-1.1 0-2 .9-2 2v14c0 1.1.9 2 2 2h14c1.1 0 2-.9 2-2V5c0-1.1-.9-2-2-2zM9 17H7v-7h2v7zm4 0h-2V7h2v10zm4 0h-2v-4h2v4z\"/>\n",
              "    </g>\n",
              "</svg>\n",
              "  </button>\n",
              "\n",
              "<style>\n",
              "  .colab-df-quickchart {\n",
              "      --bg-color: #E8F0FE;\n",
              "      --fill-color: #1967D2;\n",
              "      --hover-bg-color: #E2EBFA;\n",
              "      --hover-fill-color: #174EA6;\n",
              "      --disabled-fill-color: #AAA;\n",
              "      --disabled-bg-color: #DDD;\n",
              "  }\n",
              "\n",
              "  [theme=dark] .colab-df-quickchart {\n",
              "      --bg-color: #3B4455;\n",
              "      --fill-color: #D2E3FC;\n",
              "      --hover-bg-color: #434B5C;\n",
              "      --hover-fill-color: #FFFFFF;\n",
              "      --disabled-bg-color: #3B4455;\n",
              "      --disabled-fill-color: #666;\n",
              "  }\n",
              "\n",
              "  .colab-df-quickchart {\n",
              "    background-color: var(--bg-color);\n",
              "    border: none;\n",
              "    border-radius: 50%;\n",
              "    cursor: pointer;\n",
              "    display: none;\n",
              "    fill: var(--fill-color);\n",
              "    height: 32px;\n",
              "    padding: 0;\n",
              "    width: 32px;\n",
              "  }\n",
              "\n",
              "  .colab-df-quickchart:hover {\n",
              "    background-color: var(--hover-bg-color);\n",
              "    box-shadow: 0 1px 2px rgba(60, 64, 67, 0.3), 0 1px 3px 1px rgba(60, 64, 67, 0.15);\n",
              "    fill: var(--button-hover-fill-color);\n",
              "  }\n",
              "\n",
              "  .colab-df-quickchart-complete:disabled,\n",
              "  .colab-df-quickchart-complete:disabled:hover {\n",
              "    background-color: var(--disabled-bg-color);\n",
              "    fill: var(--disabled-fill-color);\n",
              "    box-shadow: none;\n",
              "  }\n",
              "\n",
              "  .colab-df-spinner {\n",
              "    border: 2px solid var(--fill-color);\n",
              "    border-color: transparent;\n",
              "    border-bottom-color: var(--fill-color);\n",
              "    animation:\n",
              "      spin 1s steps(1) infinite;\n",
              "  }\n",
              "\n",
              "  @keyframes spin {\n",
              "    0% {\n",
              "      border-color: transparent;\n",
              "      border-bottom-color: var(--fill-color);\n",
              "      border-left-color: var(--fill-color);\n",
              "    }\n",
              "    20% {\n",
              "      border-color: transparent;\n",
              "      border-left-color: var(--fill-color);\n",
              "      border-top-color: var(--fill-color);\n",
              "    }\n",
              "    30% {\n",
              "      border-color: transparent;\n",
              "      border-left-color: var(--fill-color);\n",
              "      border-top-color: var(--fill-color);\n",
              "      border-right-color: var(--fill-color);\n",
              "    }\n",
              "    40% {\n",
              "      border-color: transparent;\n",
              "      border-right-color: var(--fill-color);\n",
              "      border-top-color: var(--fill-color);\n",
              "    }\n",
              "    60% {\n",
              "      border-color: transparent;\n",
              "      border-right-color: var(--fill-color);\n",
              "    }\n",
              "    80% {\n",
              "      border-color: transparent;\n",
              "      border-right-color: var(--fill-color);\n",
              "      border-bottom-color: var(--fill-color);\n",
              "    }\n",
              "    90% {\n",
              "      border-color: transparent;\n",
              "      border-bottom-color: var(--fill-color);\n",
              "    }\n",
              "  }\n",
              "</style>\n",
              "\n",
              "  <script>\n",
              "    async function quickchart(key) {\n",
              "      const quickchartButtonEl =\n",
              "        document.querySelector('#' + key + ' button');\n",
              "      quickchartButtonEl.disabled = true;  // To prevent multiple clicks.\n",
              "      quickchartButtonEl.classList.add('colab-df-spinner');\n",
              "      try {\n",
              "        const charts = await google.colab.kernel.invokeFunction(\n",
              "            'suggestCharts', [key], {});\n",
              "      } catch (error) {\n",
              "        console.error('Error during call to suggestCharts:', error);\n",
              "      }\n",
              "      quickchartButtonEl.classList.remove('colab-df-spinner');\n",
              "      quickchartButtonEl.classList.add('colab-df-quickchart-complete');\n",
              "    }\n",
              "    (() => {\n",
              "      let quickchartButtonEl =\n",
              "        document.querySelector('#df-6c92adcd-afa3-4aba-b899-6644e7bb4ddf button');\n",
              "      quickchartButtonEl.style.display =\n",
              "        google.colab.kernel.accessAllowed ? 'block' : 'none';\n",
              "    })();\n",
              "  </script>\n",
              "</div>\n",
              "    </div>\n",
              "  </div>\n"
            ]
          },
          "metadata": {},
          "execution_count": 34
        }
      ],
      "source": [
        "links.tail(3)"
      ]
    },
    {
      "cell_type": "code",
      "execution_count": 35,
      "metadata": {
        "colab": {
          "base_uri": "https://localhost:8080/",
          "height": 143
        },
        "id": "LVnIr_pNI-w8",
        "outputId": "0e356cd5-a5aa-4cab-9b68-401de200e99a"
      },
      "outputs": [
        {
          "output_type": "execute_result",
          "data": {
            "text/plain": [
              "      movieId                                title            genres\n",
              "9739   193585                         Flint (2017)             Drama\n",
              "9740   193587  Bungo Stray Dogs: Dead Apple (2018)  Action|Animation\n",
              "9741   193609  Andrew Dice Clay: Dice Rules (1991)            Comedy"
            ],
            "text/html": [
              "\n",
              "  <div id=\"df-8a64d3b4-596b-43c7-a7b9-9a205f4f3d78\" class=\"colab-df-container\">\n",
              "    <div>\n",
              "<style scoped>\n",
              "    .dataframe tbody tr th:only-of-type {\n",
              "        vertical-align: middle;\n",
              "    }\n",
              "\n",
              "    .dataframe tbody tr th {\n",
              "        vertical-align: top;\n",
              "    }\n",
              "\n",
              "    .dataframe thead th {\n",
              "        text-align: right;\n",
              "    }\n",
              "</style>\n",
              "<table border=\"1\" class=\"dataframe\">\n",
              "  <thead>\n",
              "    <tr style=\"text-align: right;\">\n",
              "      <th></th>\n",
              "      <th>movieId</th>\n",
              "      <th>title</th>\n",
              "      <th>genres</th>\n",
              "    </tr>\n",
              "  </thead>\n",
              "  <tbody>\n",
              "    <tr>\n",
              "      <th>9739</th>\n",
              "      <td>193585</td>\n",
              "      <td>Flint (2017)</td>\n",
              "      <td>Drama</td>\n",
              "    </tr>\n",
              "    <tr>\n",
              "      <th>9740</th>\n",
              "      <td>193587</td>\n",
              "      <td>Bungo Stray Dogs: Dead Apple (2018)</td>\n",
              "      <td>Action|Animation</td>\n",
              "    </tr>\n",
              "    <tr>\n",
              "      <th>9741</th>\n",
              "      <td>193609</td>\n",
              "      <td>Andrew Dice Clay: Dice Rules (1991)</td>\n",
              "      <td>Comedy</td>\n",
              "    </tr>\n",
              "  </tbody>\n",
              "</table>\n",
              "</div>\n",
              "    <div class=\"colab-df-buttons\">\n",
              "\n",
              "  <div class=\"colab-df-container\">\n",
              "    <button class=\"colab-df-convert\" onclick=\"convertToInteractive('df-8a64d3b4-596b-43c7-a7b9-9a205f4f3d78')\"\n",
              "            title=\"Convert this dataframe to an interactive table.\"\n",
              "            style=\"display:none;\">\n",
              "\n",
              "  <svg xmlns=\"http://www.w3.org/2000/svg\" height=\"24px\" viewBox=\"0 -960 960 960\">\n",
              "    <path d=\"M120-120v-720h720v720H120Zm60-500h600v-160H180v160Zm220 220h160v-160H400v160Zm0 220h160v-160H400v160ZM180-400h160v-160H180v160Zm440 0h160v-160H620v160ZM180-180h160v-160H180v160Zm440 0h160v-160H620v160Z\"/>\n",
              "  </svg>\n",
              "    </button>\n",
              "\n",
              "  <style>\n",
              "    .colab-df-container {\n",
              "      display:flex;\n",
              "      gap: 12px;\n",
              "    }\n",
              "\n",
              "    .colab-df-convert {\n",
              "      background-color: #E8F0FE;\n",
              "      border: none;\n",
              "      border-radius: 50%;\n",
              "      cursor: pointer;\n",
              "      display: none;\n",
              "      fill: #1967D2;\n",
              "      height: 32px;\n",
              "      padding: 0 0 0 0;\n",
              "      width: 32px;\n",
              "    }\n",
              "\n",
              "    .colab-df-convert:hover {\n",
              "      background-color: #E2EBFA;\n",
              "      box-shadow: 0px 1px 2px rgba(60, 64, 67, 0.3), 0px 1px 3px 1px rgba(60, 64, 67, 0.15);\n",
              "      fill: #174EA6;\n",
              "    }\n",
              "\n",
              "    .colab-df-buttons div {\n",
              "      margin-bottom: 4px;\n",
              "    }\n",
              "\n",
              "    [theme=dark] .colab-df-convert {\n",
              "      background-color: #3B4455;\n",
              "      fill: #D2E3FC;\n",
              "    }\n",
              "\n",
              "    [theme=dark] .colab-df-convert:hover {\n",
              "      background-color: #434B5C;\n",
              "      box-shadow: 0px 1px 3px 1px rgba(0, 0, 0, 0.15);\n",
              "      filter: drop-shadow(0px 1px 2px rgba(0, 0, 0, 0.3));\n",
              "      fill: #FFFFFF;\n",
              "    }\n",
              "  </style>\n",
              "\n",
              "    <script>\n",
              "      const buttonEl =\n",
              "        document.querySelector('#df-8a64d3b4-596b-43c7-a7b9-9a205f4f3d78 button.colab-df-convert');\n",
              "      buttonEl.style.display =\n",
              "        google.colab.kernel.accessAllowed ? 'block' : 'none';\n",
              "\n",
              "      async function convertToInteractive(key) {\n",
              "        const element = document.querySelector('#df-8a64d3b4-596b-43c7-a7b9-9a205f4f3d78');\n",
              "        const dataTable =\n",
              "          await google.colab.kernel.invokeFunction('convertToInteractive',\n",
              "                                                    [key], {});\n",
              "        if (!dataTable) return;\n",
              "\n",
              "        const docLinkHtml = 'Like what you see? Visit the ' +\n",
              "          '<a target=\"_blank\" href=https://colab.research.google.com/notebooks/data_table.ipynb>data table notebook</a>'\n",
              "          + ' to learn more about interactive tables.';\n",
              "        element.innerHTML = '';\n",
              "        dataTable['output_type'] = 'display_data';\n",
              "        await google.colab.output.renderOutput(dataTable, element);\n",
              "        const docLink = document.createElement('div');\n",
              "        docLink.innerHTML = docLinkHtml;\n",
              "        element.appendChild(docLink);\n",
              "      }\n",
              "    </script>\n",
              "  </div>\n",
              "\n",
              "\n",
              "<div id=\"df-c321dbd1-8ef1-4d03-b227-e8cabd600d31\">\n",
              "  <button class=\"colab-df-quickchart\" onclick=\"quickchart('df-c321dbd1-8ef1-4d03-b227-e8cabd600d31')\"\n",
              "            title=\"Suggest charts.\"\n",
              "            style=\"display:none;\">\n",
              "\n",
              "<svg xmlns=\"http://www.w3.org/2000/svg\" height=\"24px\"viewBox=\"0 0 24 24\"\n",
              "     width=\"24px\">\n",
              "    <g>\n",
              "        <path d=\"M19 3H5c-1.1 0-2 .9-2 2v14c0 1.1.9 2 2 2h14c1.1 0 2-.9 2-2V5c0-1.1-.9-2-2-2zM9 17H7v-7h2v7zm4 0h-2V7h2v10zm4 0h-2v-4h2v4z\"/>\n",
              "    </g>\n",
              "</svg>\n",
              "  </button>\n",
              "\n",
              "<style>\n",
              "  .colab-df-quickchart {\n",
              "      --bg-color: #E8F0FE;\n",
              "      --fill-color: #1967D2;\n",
              "      --hover-bg-color: #E2EBFA;\n",
              "      --hover-fill-color: #174EA6;\n",
              "      --disabled-fill-color: #AAA;\n",
              "      --disabled-bg-color: #DDD;\n",
              "  }\n",
              "\n",
              "  [theme=dark] .colab-df-quickchart {\n",
              "      --bg-color: #3B4455;\n",
              "      --fill-color: #D2E3FC;\n",
              "      --hover-bg-color: #434B5C;\n",
              "      --hover-fill-color: #FFFFFF;\n",
              "      --disabled-bg-color: #3B4455;\n",
              "      --disabled-fill-color: #666;\n",
              "  }\n",
              "\n",
              "  .colab-df-quickchart {\n",
              "    background-color: var(--bg-color);\n",
              "    border: none;\n",
              "    border-radius: 50%;\n",
              "    cursor: pointer;\n",
              "    display: none;\n",
              "    fill: var(--fill-color);\n",
              "    height: 32px;\n",
              "    padding: 0;\n",
              "    width: 32px;\n",
              "  }\n",
              "\n",
              "  .colab-df-quickchart:hover {\n",
              "    background-color: var(--hover-bg-color);\n",
              "    box-shadow: 0 1px 2px rgba(60, 64, 67, 0.3), 0 1px 3px 1px rgba(60, 64, 67, 0.15);\n",
              "    fill: var(--button-hover-fill-color);\n",
              "  }\n",
              "\n",
              "  .colab-df-quickchart-complete:disabled,\n",
              "  .colab-df-quickchart-complete:disabled:hover {\n",
              "    background-color: var(--disabled-bg-color);\n",
              "    fill: var(--disabled-fill-color);\n",
              "    box-shadow: none;\n",
              "  }\n",
              "\n",
              "  .colab-df-spinner {\n",
              "    border: 2px solid var(--fill-color);\n",
              "    border-color: transparent;\n",
              "    border-bottom-color: var(--fill-color);\n",
              "    animation:\n",
              "      spin 1s steps(1) infinite;\n",
              "  }\n",
              "\n",
              "  @keyframes spin {\n",
              "    0% {\n",
              "      border-color: transparent;\n",
              "      border-bottom-color: var(--fill-color);\n",
              "      border-left-color: var(--fill-color);\n",
              "    }\n",
              "    20% {\n",
              "      border-color: transparent;\n",
              "      border-left-color: var(--fill-color);\n",
              "      border-top-color: var(--fill-color);\n",
              "    }\n",
              "    30% {\n",
              "      border-color: transparent;\n",
              "      border-left-color: var(--fill-color);\n",
              "      border-top-color: var(--fill-color);\n",
              "      border-right-color: var(--fill-color);\n",
              "    }\n",
              "    40% {\n",
              "      border-color: transparent;\n",
              "      border-right-color: var(--fill-color);\n",
              "      border-top-color: var(--fill-color);\n",
              "    }\n",
              "    60% {\n",
              "      border-color: transparent;\n",
              "      border-right-color: var(--fill-color);\n",
              "    }\n",
              "    80% {\n",
              "      border-color: transparent;\n",
              "      border-right-color: var(--fill-color);\n",
              "      border-bottom-color: var(--fill-color);\n",
              "    }\n",
              "    90% {\n",
              "      border-color: transparent;\n",
              "      border-bottom-color: var(--fill-color);\n",
              "    }\n",
              "  }\n",
              "</style>\n",
              "\n",
              "  <script>\n",
              "    async function quickchart(key) {\n",
              "      const quickchartButtonEl =\n",
              "        document.querySelector('#' + key + ' button');\n",
              "      quickchartButtonEl.disabled = true;  // To prevent multiple clicks.\n",
              "      quickchartButtonEl.classList.add('colab-df-spinner');\n",
              "      try {\n",
              "        const charts = await google.colab.kernel.invokeFunction(\n",
              "            'suggestCharts', [key], {});\n",
              "      } catch (error) {\n",
              "        console.error('Error during call to suggestCharts:', error);\n",
              "      }\n",
              "      quickchartButtonEl.classList.remove('colab-df-spinner');\n",
              "      quickchartButtonEl.classList.add('colab-df-quickchart-complete');\n",
              "    }\n",
              "    (() => {\n",
              "      let quickchartButtonEl =\n",
              "        document.querySelector('#df-c321dbd1-8ef1-4d03-b227-e8cabd600d31 button');\n",
              "      quickchartButtonEl.style.display =\n",
              "        google.colab.kernel.accessAllowed ? 'block' : 'none';\n",
              "    })();\n",
              "  </script>\n",
              "</div>\n",
              "    </div>\n",
              "  </div>\n"
            ]
          },
          "metadata": {},
          "execution_count": 35
        }
      ],
      "source": [
        "movies.tail(3)"
      ]
    },
    {
      "cell_type": "code",
      "execution_count": 36,
      "metadata": {
        "colab": {
          "base_uri": "https://localhost:8080/",
          "height": 143
        },
        "id": "m5nAk3MXJAxz",
        "outputId": "bb0fc980-796b-47ec-9537-f4202045f092"
      },
      "outputs": [
        {
          "output_type": "execute_result",
          "data": {
            "text/plain": [
              "        userId  movieId  rating   timestamp\n",
              "100833     610   168250     5.0  1494273047\n",
              "100834     610   168252     5.0  1493846352\n",
              "100835     610   170875     3.0  1493846415"
            ],
            "text/html": [
              "\n",
              "  <div id=\"df-8c2e4dc7-2b43-45f9-8235-618020863684\" class=\"colab-df-container\">\n",
              "    <div>\n",
              "<style scoped>\n",
              "    .dataframe tbody tr th:only-of-type {\n",
              "        vertical-align: middle;\n",
              "    }\n",
              "\n",
              "    .dataframe tbody tr th {\n",
              "        vertical-align: top;\n",
              "    }\n",
              "\n",
              "    .dataframe thead th {\n",
              "        text-align: right;\n",
              "    }\n",
              "</style>\n",
              "<table border=\"1\" class=\"dataframe\">\n",
              "  <thead>\n",
              "    <tr style=\"text-align: right;\">\n",
              "      <th></th>\n",
              "      <th>userId</th>\n",
              "      <th>movieId</th>\n",
              "      <th>rating</th>\n",
              "      <th>timestamp</th>\n",
              "    </tr>\n",
              "  </thead>\n",
              "  <tbody>\n",
              "    <tr>\n",
              "      <th>100833</th>\n",
              "      <td>610</td>\n",
              "      <td>168250</td>\n",
              "      <td>5.0</td>\n",
              "      <td>1494273047</td>\n",
              "    </tr>\n",
              "    <tr>\n",
              "      <th>100834</th>\n",
              "      <td>610</td>\n",
              "      <td>168252</td>\n",
              "      <td>5.0</td>\n",
              "      <td>1493846352</td>\n",
              "    </tr>\n",
              "    <tr>\n",
              "      <th>100835</th>\n",
              "      <td>610</td>\n",
              "      <td>170875</td>\n",
              "      <td>3.0</td>\n",
              "      <td>1493846415</td>\n",
              "    </tr>\n",
              "  </tbody>\n",
              "</table>\n",
              "</div>\n",
              "    <div class=\"colab-df-buttons\">\n",
              "\n",
              "  <div class=\"colab-df-container\">\n",
              "    <button class=\"colab-df-convert\" onclick=\"convertToInteractive('df-8c2e4dc7-2b43-45f9-8235-618020863684')\"\n",
              "            title=\"Convert this dataframe to an interactive table.\"\n",
              "            style=\"display:none;\">\n",
              "\n",
              "  <svg xmlns=\"http://www.w3.org/2000/svg\" height=\"24px\" viewBox=\"0 -960 960 960\">\n",
              "    <path d=\"M120-120v-720h720v720H120Zm60-500h600v-160H180v160Zm220 220h160v-160H400v160Zm0 220h160v-160H400v160ZM180-400h160v-160H180v160Zm440 0h160v-160H620v160ZM180-180h160v-160H180v160Zm440 0h160v-160H620v160Z\"/>\n",
              "  </svg>\n",
              "    </button>\n",
              "\n",
              "  <style>\n",
              "    .colab-df-container {\n",
              "      display:flex;\n",
              "      gap: 12px;\n",
              "    }\n",
              "\n",
              "    .colab-df-convert {\n",
              "      background-color: #E8F0FE;\n",
              "      border: none;\n",
              "      border-radius: 50%;\n",
              "      cursor: pointer;\n",
              "      display: none;\n",
              "      fill: #1967D2;\n",
              "      height: 32px;\n",
              "      padding: 0 0 0 0;\n",
              "      width: 32px;\n",
              "    }\n",
              "\n",
              "    .colab-df-convert:hover {\n",
              "      background-color: #E2EBFA;\n",
              "      box-shadow: 0px 1px 2px rgba(60, 64, 67, 0.3), 0px 1px 3px 1px rgba(60, 64, 67, 0.15);\n",
              "      fill: #174EA6;\n",
              "    }\n",
              "\n",
              "    .colab-df-buttons div {\n",
              "      margin-bottom: 4px;\n",
              "    }\n",
              "\n",
              "    [theme=dark] .colab-df-convert {\n",
              "      background-color: #3B4455;\n",
              "      fill: #D2E3FC;\n",
              "    }\n",
              "\n",
              "    [theme=dark] .colab-df-convert:hover {\n",
              "      background-color: #434B5C;\n",
              "      box-shadow: 0px 1px 3px 1px rgba(0, 0, 0, 0.15);\n",
              "      filter: drop-shadow(0px 1px 2px rgba(0, 0, 0, 0.3));\n",
              "      fill: #FFFFFF;\n",
              "    }\n",
              "  </style>\n",
              "\n",
              "    <script>\n",
              "      const buttonEl =\n",
              "        document.querySelector('#df-8c2e4dc7-2b43-45f9-8235-618020863684 button.colab-df-convert');\n",
              "      buttonEl.style.display =\n",
              "        google.colab.kernel.accessAllowed ? 'block' : 'none';\n",
              "\n",
              "      async function convertToInteractive(key) {\n",
              "        const element = document.querySelector('#df-8c2e4dc7-2b43-45f9-8235-618020863684');\n",
              "        const dataTable =\n",
              "          await google.colab.kernel.invokeFunction('convertToInteractive',\n",
              "                                                    [key], {});\n",
              "        if (!dataTable) return;\n",
              "\n",
              "        const docLinkHtml = 'Like what you see? Visit the ' +\n",
              "          '<a target=\"_blank\" href=https://colab.research.google.com/notebooks/data_table.ipynb>data table notebook</a>'\n",
              "          + ' to learn more about interactive tables.';\n",
              "        element.innerHTML = '';\n",
              "        dataTable['output_type'] = 'display_data';\n",
              "        await google.colab.output.renderOutput(dataTable, element);\n",
              "        const docLink = document.createElement('div');\n",
              "        docLink.innerHTML = docLinkHtml;\n",
              "        element.appendChild(docLink);\n",
              "      }\n",
              "    </script>\n",
              "  </div>\n",
              "\n",
              "\n",
              "<div id=\"df-a098fc2f-513f-44a8-b5c3-60eac3bdfa1b\">\n",
              "  <button class=\"colab-df-quickchart\" onclick=\"quickchart('df-a098fc2f-513f-44a8-b5c3-60eac3bdfa1b')\"\n",
              "            title=\"Suggest charts.\"\n",
              "            style=\"display:none;\">\n",
              "\n",
              "<svg xmlns=\"http://www.w3.org/2000/svg\" height=\"24px\"viewBox=\"0 0 24 24\"\n",
              "     width=\"24px\">\n",
              "    <g>\n",
              "        <path d=\"M19 3H5c-1.1 0-2 .9-2 2v14c0 1.1.9 2 2 2h14c1.1 0 2-.9 2-2V5c0-1.1-.9-2-2-2zM9 17H7v-7h2v7zm4 0h-2V7h2v10zm4 0h-2v-4h2v4z\"/>\n",
              "    </g>\n",
              "</svg>\n",
              "  </button>\n",
              "\n",
              "<style>\n",
              "  .colab-df-quickchart {\n",
              "      --bg-color: #E8F0FE;\n",
              "      --fill-color: #1967D2;\n",
              "      --hover-bg-color: #E2EBFA;\n",
              "      --hover-fill-color: #174EA6;\n",
              "      --disabled-fill-color: #AAA;\n",
              "      --disabled-bg-color: #DDD;\n",
              "  }\n",
              "\n",
              "  [theme=dark] .colab-df-quickchart {\n",
              "      --bg-color: #3B4455;\n",
              "      --fill-color: #D2E3FC;\n",
              "      --hover-bg-color: #434B5C;\n",
              "      --hover-fill-color: #FFFFFF;\n",
              "      --disabled-bg-color: #3B4455;\n",
              "      --disabled-fill-color: #666;\n",
              "  }\n",
              "\n",
              "  .colab-df-quickchart {\n",
              "    background-color: var(--bg-color);\n",
              "    border: none;\n",
              "    border-radius: 50%;\n",
              "    cursor: pointer;\n",
              "    display: none;\n",
              "    fill: var(--fill-color);\n",
              "    height: 32px;\n",
              "    padding: 0;\n",
              "    width: 32px;\n",
              "  }\n",
              "\n",
              "  .colab-df-quickchart:hover {\n",
              "    background-color: var(--hover-bg-color);\n",
              "    box-shadow: 0 1px 2px rgba(60, 64, 67, 0.3), 0 1px 3px 1px rgba(60, 64, 67, 0.15);\n",
              "    fill: var(--button-hover-fill-color);\n",
              "  }\n",
              "\n",
              "  .colab-df-quickchart-complete:disabled,\n",
              "  .colab-df-quickchart-complete:disabled:hover {\n",
              "    background-color: var(--disabled-bg-color);\n",
              "    fill: var(--disabled-fill-color);\n",
              "    box-shadow: none;\n",
              "  }\n",
              "\n",
              "  .colab-df-spinner {\n",
              "    border: 2px solid var(--fill-color);\n",
              "    border-color: transparent;\n",
              "    border-bottom-color: var(--fill-color);\n",
              "    animation:\n",
              "      spin 1s steps(1) infinite;\n",
              "  }\n",
              "\n",
              "  @keyframes spin {\n",
              "    0% {\n",
              "      border-color: transparent;\n",
              "      border-bottom-color: var(--fill-color);\n",
              "      border-left-color: var(--fill-color);\n",
              "    }\n",
              "    20% {\n",
              "      border-color: transparent;\n",
              "      border-left-color: var(--fill-color);\n",
              "      border-top-color: var(--fill-color);\n",
              "    }\n",
              "    30% {\n",
              "      border-color: transparent;\n",
              "      border-left-color: var(--fill-color);\n",
              "      border-top-color: var(--fill-color);\n",
              "      border-right-color: var(--fill-color);\n",
              "    }\n",
              "    40% {\n",
              "      border-color: transparent;\n",
              "      border-right-color: var(--fill-color);\n",
              "      border-top-color: var(--fill-color);\n",
              "    }\n",
              "    60% {\n",
              "      border-color: transparent;\n",
              "      border-right-color: var(--fill-color);\n",
              "    }\n",
              "    80% {\n",
              "      border-color: transparent;\n",
              "      border-right-color: var(--fill-color);\n",
              "      border-bottom-color: var(--fill-color);\n",
              "    }\n",
              "    90% {\n",
              "      border-color: transparent;\n",
              "      border-bottom-color: var(--fill-color);\n",
              "    }\n",
              "  }\n",
              "</style>\n",
              "\n",
              "  <script>\n",
              "    async function quickchart(key) {\n",
              "      const quickchartButtonEl =\n",
              "        document.querySelector('#' + key + ' button');\n",
              "      quickchartButtonEl.disabled = true;  // To prevent multiple clicks.\n",
              "      quickchartButtonEl.classList.add('colab-df-spinner');\n",
              "      try {\n",
              "        const charts = await google.colab.kernel.invokeFunction(\n",
              "            'suggestCharts', [key], {});\n",
              "      } catch (error) {\n",
              "        console.error('Error during call to suggestCharts:', error);\n",
              "      }\n",
              "      quickchartButtonEl.classList.remove('colab-df-spinner');\n",
              "      quickchartButtonEl.classList.add('colab-df-quickchart-complete');\n",
              "    }\n",
              "    (() => {\n",
              "      let quickchartButtonEl =\n",
              "        document.querySelector('#df-a098fc2f-513f-44a8-b5c3-60eac3bdfa1b button');\n",
              "      quickchartButtonEl.style.display =\n",
              "        google.colab.kernel.accessAllowed ? 'block' : 'none';\n",
              "    })();\n",
              "  </script>\n",
              "</div>\n",
              "    </div>\n",
              "  </div>\n"
            ]
          },
          "metadata": {},
          "execution_count": 36
        }
      ],
      "source": [
        "ratings.tail(3)"
      ]
    },
    {
      "cell_type": "code",
      "execution_count": 37,
      "metadata": {
        "colab": {
          "base_uri": "https://localhost:8080/",
          "height": 143
        },
        "id": "lN9gbDcGJCWe",
        "outputId": "5b772dc6-44e4-431c-8726-a2b2a087cae5"
      },
      "outputs": [
        {
          "output_type": "execute_result",
          "data": {
            "text/plain": [
              "      userId  movieId               tag   timestamp\n",
              "3680     610     3265            gun fu  1493843984\n",
              "3681     610     3265  heroic bloodshed  1493843978\n",
              "3682     610   168248  Heroic Bloodshed  1493844270"
            ],
            "text/html": [
              "\n",
              "  <div id=\"df-723649c6-d135-4717-8caf-50263b640165\" class=\"colab-df-container\">\n",
              "    <div>\n",
              "<style scoped>\n",
              "    .dataframe tbody tr th:only-of-type {\n",
              "        vertical-align: middle;\n",
              "    }\n",
              "\n",
              "    .dataframe tbody tr th {\n",
              "        vertical-align: top;\n",
              "    }\n",
              "\n",
              "    .dataframe thead th {\n",
              "        text-align: right;\n",
              "    }\n",
              "</style>\n",
              "<table border=\"1\" class=\"dataframe\">\n",
              "  <thead>\n",
              "    <tr style=\"text-align: right;\">\n",
              "      <th></th>\n",
              "      <th>userId</th>\n",
              "      <th>movieId</th>\n",
              "      <th>tag</th>\n",
              "      <th>timestamp</th>\n",
              "    </tr>\n",
              "  </thead>\n",
              "  <tbody>\n",
              "    <tr>\n",
              "      <th>3680</th>\n",
              "      <td>610</td>\n",
              "      <td>3265</td>\n",
              "      <td>gun fu</td>\n",
              "      <td>1493843984</td>\n",
              "    </tr>\n",
              "    <tr>\n",
              "      <th>3681</th>\n",
              "      <td>610</td>\n",
              "      <td>3265</td>\n",
              "      <td>heroic bloodshed</td>\n",
              "      <td>1493843978</td>\n",
              "    </tr>\n",
              "    <tr>\n",
              "      <th>3682</th>\n",
              "      <td>610</td>\n",
              "      <td>168248</td>\n",
              "      <td>Heroic Bloodshed</td>\n",
              "      <td>1493844270</td>\n",
              "    </tr>\n",
              "  </tbody>\n",
              "</table>\n",
              "</div>\n",
              "    <div class=\"colab-df-buttons\">\n",
              "\n",
              "  <div class=\"colab-df-container\">\n",
              "    <button class=\"colab-df-convert\" onclick=\"convertToInteractive('df-723649c6-d135-4717-8caf-50263b640165')\"\n",
              "            title=\"Convert this dataframe to an interactive table.\"\n",
              "            style=\"display:none;\">\n",
              "\n",
              "  <svg xmlns=\"http://www.w3.org/2000/svg\" height=\"24px\" viewBox=\"0 -960 960 960\">\n",
              "    <path d=\"M120-120v-720h720v720H120Zm60-500h600v-160H180v160Zm220 220h160v-160H400v160Zm0 220h160v-160H400v160ZM180-400h160v-160H180v160Zm440 0h160v-160H620v160ZM180-180h160v-160H180v160Zm440 0h160v-160H620v160Z\"/>\n",
              "  </svg>\n",
              "    </button>\n",
              "\n",
              "  <style>\n",
              "    .colab-df-container {\n",
              "      display:flex;\n",
              "      gap: 12px;\n",
              "    }\n",
              "\n",
              "    .colab-df-convert {\n",
              "      background-color: #E8F0FE;\n",
              "      border: none;\n",
              "      border-radius: 50%;\n",
              "      cursor: pointer;\n",
              "      display: none;\n",
              "      fill: #1967D2;\n",
              "      height: 32px;\n",
              "      padding: 0 0 0 0;\n",
              "      width: 32px;\n",
              "    }\n",
              "\n",
              "    .colab-df-convert:hover {\n",
              "      background-color: #E2EBFA;\n",
              "      box-shadow: 0px 1px 2px rgba(60, 64, 67, 0.3), 0px 1px 3px 1px rgba(60, 64, 67, 0.15);\n",
              "      fill: #174EA6;\n",
              "    }\n",
              "\n",
              "    .colab-df-buttons div {\n",
              "      margin-bottom: 4px;\n",
              "    }\n",
              "\n",
              "    [theme=dark] .colab-df-convert {\n",
              "      background-color: #3B4455;\n",
              "      fill: #D2E3FC;\n",
              "    }\n",
              "\n",
              "    [theme=dark] .colab-df-convert:hover {\n",
              "      background-color: #434B5C;\n",
              "      box-shadow: 0px 1px 3px 1px rgba(0, 0, 0, 0.15);\n",
              "      filter: drop-shadow(0px 1px 2px rgba(0, 0, 0, 0.3));\n",
              "      fill: #FFFFFF;\n",
              "    }\n",
              "  </style>\n",
              "\n",
              "    <script>\n",
              "      const buttonEl =\n",
              "        document.querySelector('#df-723649c6-d135-4717-8caf-50263b640165 button.colab-df-convert');\n",
              "      buttonEl.style.display =\n",
              "        google.colab.kernel.accessAllowed ? 'block' : 'none';\n",
              "\n",
              "      async function convertToInteractive(key) {\n",
              "        const element = document.querySelector('#df-723649c6-d135-4717-8caf-50263b640165');\n",
              "        const dataTable =\n",
              "          await google.colab.kernel.invokeFunction('convertToInteractive',\n",
              "                                                    [key], {});\n",
              "        if (!dataTable) return;\n",
              "\n",
              "        const docLinkHtml = 'Like what you see? Visit the ' +\n",
              "          '<a target=\"_blank\" href=https://colab.research.google.com/notebooks/data_table.ipynb>data table notebook</a>'\n",
              "          + ' to learn more about interactive tables.';\n",
              "        element.innerHTML = '';\n",
              "        dataTable['output_type'] = 'display_data';\n",
              "        await google.colab.output.renderOutput(dataTable, element);\n",
              "        const docLink = document.createElement('div');\n",
              "        docLink.innerHTML = docLinkHtml;\n",
              "        element.appendChild(docLink);\n",
              "      }\n",
              "    </script>\n",
              "  </div>\n",
              "\n",
              "\n",
              "<div id=\"df-c670182d-e054-4a49-a3bc-74ffb16abe3d\">\n",
              "  <button class=\"colab-df-quickchart\" onclick=\"quickchart('df-c670182d-e054-4a49-a3bc-74ffb16abe3d')\"\n",
              "            title=\"Suggest charts.\"\n",
              "            style=\"display:none;\">\n",
              "\n",
              "<svg xmlns=\"http://www.w3.org/2000/svg\" height=\"24px\"viewBox=\"0 0 24 24\"\n",
              "     width=\"24px\">\n",
              "    <g>\n",
              "        <path d=\"M19 3H5c-1.1 0-2 .9-2 2v14c0 1.1.9 2 2 2h14c1.1 0 2-.9 2-2V5c0-1.1-.9-2-2-2zM9 17H7v-7h2v7zm4 0h-2V7h2v10zm4 0h-2v-4h2v4z\"/>\n",
              "    </g>\n",
              "</svg>\n",
              "  </button>\n",
              "\n",
              "<style>\n",
              "  .colab-df-quickchart {\n",
              "      --bg-color: #E8F0FE;\n",
              "      --fill-color: #1967D2;\n",
              "      --hover-bg-color: #E2EBFA;\n",
              "      --hover-fill-color: #174EA6;\n",
              "      --disabled-fill-color: #AAA;\n",
              "      --disabled-bg-color: #DDD;\n",
              "  }\n",
              "\n",
              "  [theme=dark] .colab-df-quickchart {\n",
              "      --bg-color: #3B4455;\n",
              "      --fill-color: #D2E3FC;\n",
              "      --hover-bg-color: #434B5C;\n",
              "      --hover-fill-color: #FFFFFF;\n",
              "      --disabled-bg-color: #3B4455;\n",
              "      --disabled-fill-color: #666;\n",
              "  }\n",
              "\n",
              "  .colab-df-quickchart {\n",
              "    background-color: var(--bg-color);\n",
              "    border: none;\n",
              "    border-radius: 50%;\n",
              "    cursor: pointer;\n",
              "    display: none;\n",
              "    fill: var(--fill-color);\n",
              "    height: 32px;\n",
              "    padding: 0;\n",
              "    width: 32px;\n",
              "  }\n",
              "\n",
              "  .colab-df-quickchart:hover {\n",
              "    background-color: var(--hover-bg-color);\n",
              "    box-shadow: 0 1px 2px rgba(60, 64, 67, 0.3), 0 1px 3px 1px rgba(60, 64, 67, 0.15);\n",
              "    fill: var(--button-hover-fill-color);\n",
              "  }\n",
              "\n",
              "  .colab-df-quickchart-complete:disabled,\n",
              "  .colab-df-quickchart-complete:disabled:hover {\n",
              "    background-color: var(--disabled-bg-color);\n",
              "    fill: var(--disabled-fill-color);\n",
              "    box-shadow: none;\n",
              "  }\n",
              "\n",
              "  .colab-df-spinner {\n",
              "    border: 2px solid var(--fill-color);\n",
              "    border-color: transparent;\n",
              "    border-bottom-color: var(--fill-color);\n",
              "    animation:\n",
              "      spin 1s steps(1) infinite;\n",
              "  }\n",
              "\n",
              "  @keyframes spin {\n",
              "    0% {\n",
              "      border-color: transparent;\n",
              "      border-bottom-color: var(--fill-color);\n",
              "      border-left-color: var(--fill-color);\n",
              "    }\n",
              "    20% {\n",
              "      border-color: transparent;\n",
              "      border-left-color: var(--fill-color);\n",
              "      border-top-color: var(--fill-color);\n",
              "    }\n",
              "    30% {\n",
              "      border-color: transparent;\n",
              "      border-left-color: var(--fill-color);\n",
              "      border-top-color: var(--fill-color);\n",
              "      border-right-color: var(--fill-color);\n",
              "    }\n",
              "    40% {\n",
              "      border-color: transparent;\n",
              "      border-right-color: var(--fill-color);\n",
              "      border-top-color: var(--fill-color);\n",
              "    }\n",
              "    60% {\n",
              "      border-color: transparent;\n",
              "      border-right-color: var(--fill-color);\n",
              "    }\n",
              "    80% {\n",
              "      border-color: transparent;\n",
              "      border-right-color: var(--fill-color);\n",
              "      border-bottom-color: var(--fill-color);\n",
              "    }\n",
              "    90% {\n",
              "      border-color: transparent;\n",
              "      border-bottom-color: var(--fill-color);\n",
              "    }\n",
              "  }\n",
              "</style>\n",
              "\n",
              "  <script>\n",
              "    async function quickchart(key) {\n",
              "      const quickchartButtonEl =\n",
              "        document.querySelector('#' + key + ' button');\n",
              "      quickchartButtonEl.disabled = true;  // To prevent multiple clicks.\n",
              "      quickchartButtonEl.classList.add('colab-df-spinner');\n",
              "      try {\n",
              "        const charts = await google.colab.kernel.invokeFunction(\n",
              "            'suggestCharts', [key], {});\n",
              "      } catch (error) {\n",
              "        console.error('Error during call to suggestCharts:', error);\n",
              "      }\n",
              "      quickchartButtonEl.classList.remove('colab-df-spinner');\n",
              "      quickchartButtonEl.classList.add('colab-df-quickchart-complete');\n",
              "    }\n",
              "    (() => {\n",
              "      let quickchartButtonEl =\n",
              "        document.querySelector('#df-c670182d-e054-4a49-a3bc-74ffb16abe3d button');\n",
              "      quickchartButtonEl.style.display =\n",
              "        google.colab.kernel.accessAllowed ? 'block' : 'none';\n",
              "    })();\n",
              "  </script>\n",
              "</div>\n",
              "    </div>\n",
              "  </div>\n"
            ]
          },
          "metadata": {},
          "execution_count": 37
        }
      ],
      "source": [
        "tags.tail(3)"
      ]
    },
    {
      "cell_type": "markdown",
      "metadata": {
        "id": "bjDELNTUb6Ck"
      },
      "source": [
        "- `Використовуємо спочатку лише датасет рейтингу, для найпростішої системи.`"
      ]
    },
    {
      "cell_type": "markdown",
      "metadata": {
        "id": "j75RVxRMJHYD"
      },
      "source": [
        "### __`MODEL`__ &  __`Training`__"
      ]
    },
    {
      "cell_type": "markdown",
      "metadata": {
        "id": "SRmU-aS1JIsc"
      },
      "source": [
        "- модель матричної факторизації `SVD`"
      ]
    },
    {
      "cell_type": "markdown",
      "metadata": {
        "id": "Ak3SFP_zJNz4"
      },
      "source": [
        "- https://surprise.readthedocs.io/en/stable/matrix_factorization.html#surprise.prediction_algorithms.matrix_factorization.SVD\n",
        "- https://www.piwheels.org/project/scikit-surprise/\n",
        "- https://pypi.org/project/scikit-surprise/\n",
        "- https://github.com/NicolasHug/Surprise"
      ]
    },
    {
      "cell_type": "code",
      "execution_count": 38,
      "metadata": {
        "id": "5a9q9693JXQJ"
      },
      "outputs": [],
      "source": [
        "# from surprise.prediction_algorithms.matrix_factorization import SVD  # poetry add surprise  # poetry add scikit-surprise==1.1.3 --use-pep517"
      ]
    },
    {
      "cell_type": "markdown",
      "metadata": {
        "id": "pUT3w_YPZxVe"
      },
      "source": [
        "- https://surprise.readthedocs.io/en/stable/getting_started.html#cross-validate-example\n",
        "- https://surprise.readthedocs.io/en/stable/model_selection.html\n",
        "- https://surprise.readthedocs.io/en/stable/getting_started.html?highlight=Dataset#use-a-custom-dataset\n"
      ]
    },
    {
      "cell_type": "code",
      "execution_count": 39,
      "metadata": {
        "id": "6TLgdp29cq64"
      },
      "outputs": [],
      "source": [
        "from surprise import SVD\n",
        "from surprise import Dataset, Reader\n",
        "from surprise.model_selection import cross_validate"
      ]
    },
    {
      "cell_type": "markdown",
      "metadata": {
        "id": "WTDbtcXjf2X-"
      },
      "source": [
        "Column names are irrelevant, but specify only one rating per line, and each line needs to respect the following structure:<br> `user ; item ; rating ; [timestamp]`"
      ]
    },
    {
      "cell_type": "code",
      "execution_count": 40,
      "metadata": {
        "id": "CLxV9FAwcssI"
      },
      "outputs": [],
      "source": [
        "df = ratings[['userId', 'movieId', 'rating']]"
      ]
    },
    {
      "cell_type": "code",
      "execution_count": 41,
      "metadata": {
        "colab": {
          "base_uri": "https://localhost:8080/",
          "height": 143
        },
        "id": "XecSWFEXey8M",
        "outputId": "a3aad192-3e12-48d6-c613-8778a41bdbc9"
      },
      "outputs": [
        {
          "output_type": "execute_result",
          "data": {
            "text/plain": [
              "        userId  movieId  rating\n",
              "100833     610   168250     5.0\n",
              "100834     610   168252     5.0\n",
              "100835     610   170875     3.0"
            ],
            "text/html": [
              "\n",
              "  <div id=\"df-00ae9dff-a9e4-432a-b524-979d1573f03e\" class=\"colab-df-container\">\n",
              "    <div>\n",
              "<style scoped>\n",
              "    .dataframe tbody tr th:only-of-type {\n",
              "        vertical-align: middle;\n",
              "    }\n",
              "\n",
              "    .dataframe tbody tr th {\n",
              "        vertical-align: top;\n",
              "    }\n",
              "\n",
              "    .dataframe thead th {\n",
              "        text-align: right;\n",
              "    }\n",
              "</style>\n",
              "<table border=\"1\" class=\"dataframe\">\n",
              "  <thead>\n",
              "    <tr style=\"text-align: right;\">\n",
              "      <th></th>\n",
              "      <th>userId</th>\n",
              "      <th>movieId</th>\n",
              "      <th>rating</th>\n",
              "    </tr>\n",
              "  </thead>\n",
              "  <tbody>\n",
              "    <tr>\n",
              "      <th>100833</th>\n",
              "      <td>610</td>\n",
              "      <td>168250</td>\n",
              "      <td>5.0</td>\n",
              "    </tr>\n",
              "    <tr>\n",
              "      <th>100834</th>\n",
              "      <td>610</td>\n",
              "      <td>168252</td>\n",
              "      <td>5.0</td>\n",
              "    </tr>\n",
              "    <tr>\n",
              "      <th>100835</th>\n",
              "      <td>610</td>\n",
              "      <td>170875</td>\n",
              "      <td>3.0</td>\n",
              "    </tr>\n",
              "  </tbody>\n",
              "</table>\n",
              "</div>\n",
              "    <div class=\"colab-df-buttons\">\n",
              "\n",
              "  <div class=\"colab-df-container\">\n",
              "    <button class=\"colab-df-convert\" onclick=\"convertToInteractive('df-00ae9dff-a9e4-432a-b524-979d1573f03e')\"\n",
              "            title=\"Convert this dataframe to an interactive table.\"\n",
              "            style=\"display:none;\">\n",
              "\n",
              "  <svg xmlns=\"http://www.w3.org/2000/svg\" height=\"24px\" viewBox=\"0 -960 960 960\">\n",
              "    <path d=\"M120-120v-720h720v720H120Zm60-500h600v-160H180v160Zm220 220h160v-160H400v160Zm0 220h160v-160H400v160ZM180-400h160v-160H180v160Zm440 0h160v-160H620v160ZM180-180h160v-160H180v160Zm440 0h160v-160H620v160Z\"/>\n",
              "  </svg>\n",
              "    </button>\n",
              "\n",
              "  <style>\n",
              "    .colab-df-container {\n",
              "      display:flex;\n",
              "      gap: 12px;\n",
              "    }\n",
              "\n",
              "    .colab-df-convert {\n",
              "      background-color: #E8F0FE;\n",
              "      border: none;\n",
              "      border-radius: 50%;\n",
              "      cursor: pointer;\n",
              "      display: none;\n",
              "      fill: #1967D2;\n",
              "      height: 32px;\n",
              "      padding: 0 0 0 0;\n",
              "      width: 32px;\n",
              "    }\n",
              "\n",
              "    .colab-df-convert:hover {\n",
              "      background-color: #E2EBFA;\n",
              "      box-shadow: 0px 1px 2px rgba(60, 64, 67, 0.3), 0px 1px 3px 1px rgba(60, 64, 67, 0.15);\n",
              "      fill: #174EA6;\n",
              "    }\n",
              "\n",
              "    .colab-df-buttons div {\n",
              "      margin-bottom: 4px;\n",
              "    }\n",
              "\n",
              "    [theme=dark] .colab-df-convert {\n",
              "      background-color: #3B4455;\n",
              "      fill: #D2E3FC;\n",
              "    }\n",
              "\n",
              "    [theme=dark] .colab-df-convert:hover {\n",
              "      background-color: #434B5C;\n",
              "      box-shadow: 0px 1px 3px 1px rgba(0, 0, 0, 0.15);\n",
              "      filter: drop-shadow(0px 1px 2px rgba(0, 0, 0, 0.3));\n",
              "      fill: #FFFFFF;\n",
              "    }\n",
              "  </style>\n",
              "\n",
              "    <script>\n",
              "      const buttonEl =\n",
              "        document.querySelector('#df-00ae9dff-a9e4-432a-b524-979d1573f03e button.colab-df-convert');\n",
              "      buttonEl.style.display =\n",
              "        google.colab.kernel.accessAllowed ? 'block' : 'none';\n",
              "\n",
              "      async function convertToInteractive(key) {\n",
              "        const element = document.querySelector('#df-00ae9dff-a9e4-432a-b524-979d1573f03e');\n",
              "        const dataTable =\n",
              "          await google.colab.kernel.invokeFunction('convertToInteractive',\n",
              "                                                    [key], {});\n",
              "        if (!dataTable) return;\n",
              "\n",
              "        const docLinkHtml = 'Like what you see? Visit the ' +\n",
              "          '<a target=\"_blank\" href=https://colab.research.google.com/notebooks/data_table.ipynb>data table notebook</a>'\n",
              "          + ' to learn more about interactive tables.';\n",
              "        element.innerHTML = '';\n",
              "        dataTable['output_type'] = 'display_data';\n",
              "        await google.colab.output.renderOutput(dataTable, element);\n",
              "        const docLink = document.createElement('div');\n",
              "        docLink.innerHTML = docLinkHtml;\n",
              "        element.appendChild(docLink);\n",
              "      }\n",
              "    </script>\n",
              "  </div>\n",
              "\n",
              "\n",
              "<div id=\"df-c67317e6-2037-469f-8543-4d73070faa13\">\n",
              "  <button class=\"colab-df-quickchart\" onclick=\"quickchart('df-c67317e6-2037-469f-8543-4d73070faa13')\"\n",
              "            title=\"Suggest charts.\"\n",
              "            style=\"display:none;\">\n",
              "\n",
              "<svg xmlns=\"http://www.w3.org/2000/svg\" height=\"24px\"viewBox=\"0 0 24 24\"\n",
              "     width=\"24px\">\n",
              "    <g>\n",
              "        <path d=\"M19 3H5c-1.1 0-2 .9-2 2v14c0 1.1.9 2 2 2h14c1.1 0 2-.9 2-2V5c0-1.1-.9-2-2-2zM9 17H7v-7h2v7zm4 0h-2V7h2v10zm4 0h-2v-4h2v4z\"/>\n",
              "    </g>\n",
              "</svg>\n",
              "  </button>\n",
              "\n",
              "<style>\n",
              "  .colab-df-quickchart {\n",
              "      --bg-color: #E8F0FE;\n",
              "      --fill-color: #1967D2;\n",
              "      --hover-bg-color: #E2EBFA;\n",
              "      --hover-fill-color: #174EA6;\n",
              "      --disabled-fill-color: #AAA;\n",
              "      --disabled-bg-color: #DDD;\n",
              "  }\n",
              "\n",
              "  [theme=dark] .colab-df-quickchart {\n",
              "      --bg-color: #3B4455;\n",
              "      --fill-color: #D2E3FC;\n",
              "      --hover-bg-color: #434B5C;\n",
              "      --hover-fill-color: #FFFFFF;\n",
              "      --disabled-bg-color: #3B4455;\n",
              "      --disabled-fill-color: #666;\n",
              "  }\n",
              "\n",
              "  .colab-df-quickchart {\n",
              "    background-color: var(--bg-color);\n",
              "    border: none;\n",
              "    border-radius: 50%;\n",
              "    cursor: pointer;\n",
              "    display: none;\n",
              "    fill: var(--fill-color);\n",
              "    height: 32px;\n",
              "    padding: 0;\n",
              "    width: 32px;\n",
              "  }\n",
              "\n",
              "  .colab-df-quickchart:hover {\n",
              "    background-color: var(--hover-bg-color);\n",
              "    box-shadow: 0 1px 2px rgba(60, 64, 67, 0.3), 0 1px 3px 1px rgba(60, 64, 67, 0.15);\n",
              "    fill: var(--button-hover-fill-color);\n",
              "  }\n",
              "\n",
              "  .colab-df-quickchart-complete:disabled,\n",
              "  .colab-df-quickchart-complete:disabled:hover {\n",
              "    background-color: var(--disabled-bg-color);\n",
              "    fill: var(--disabled-fill-color);\n",
              "    box-shadow: none;\n",
              "  }\n",
              "\n",
              "  .colab-df-spinner {\n",
              "    border: 2px solid var(--fill-color);\n",
              "    border-color: transparent;\n",
              "    border-bottom-color: var(--fill-color);\n",
              "    animation:\n",
              "      spin 1s steps(1) infinite;\n",
              "  }\n",
              "\n",
              "  @keyframes spin {\n",
              "    0% {\n",
              "      border-color: transparent;\n",
              "      border-bottom-color: var(--fill-color);\n",
              "      border-left-color: var(--fill-color);\n",
              "    }\n",
              "    20% {\n",
              "      border-color: transparent;\n",
              "      border-left-color: var(--fill-color);\n",
              "      border-top-color: var(--fill-color);\n",
              "    }\n",
              "    30% {\n",
              "      border-color: transparent;\n",
              "      border-left-color: var(--fill-color);\n",
              "      border-top-color: var(--fill-color);\n",
              "      border-right-color: var(--fill-color);\n",
              "    }\n",
              "    40% {\n",
              "      border-color: transparent;\n",
              "      border-right-color: var(--fill-color);\n",
              "      border-top-color: var(--fill-color);\n",
              "    }\n",
              "    60% {\n",
              "      border-color: transparent;\n",
              "      border-right-color: var(--fill-color);\n",
              "    }\n",
              "    80% {\n",
              "      border-color: transparent;\n",
              "      border-right-color: var(--fill-color);\n",
              "      border-bottom-color: var(--fill-color);\n",
              "    }\n",
              "    90% {\n",
              "      border-color: transparent;\n",
              "      border-bottom-color: var(--fill-color);\n",
              "    }\n",
              "  }\n",
              "</style>\n",
              "\n",
              "  <script>\n",
              "    async function quickchart(key) {\n",
              "      const quickchartButtonEl =\n",
              "        document.querySelector('#' + key + ' button');\n",
              "      quickchartButtonEl.disabled = true;  // To prevent multiple clicks.\n",
              "      quickchartButtonEl.classList.add('colab-df-spinner');\n",
              "      try {\n",
              "        const charts = await google.colab.kernel.invokeFunction(\n",
              "            'suggestCharts', [key], {});\n",
              "      } catch (error) {\n",
              "        console.error('Error during call to suggestCharts:', error);\n",
              "      }\n",
              "      quickchartButtonEl.classList.remove('colab-df-spinner');\n",
              "      quickchartButtonEl.classList.add('colab-df-quickchart-complete');\n",
              "    }\n",
              "    (() => {\n",
              "      let quickchartButtonEl =\n",
              "        document.querySelector('#df-c67317e6-2037-469f-8543-4d73070faa13 button');\n",
              "      quickchartButtonEl.style.display =\n",
              "        google.colab.kernel.accessAllowed ? 'block' : 'none';\n",
              "    })();\n",
              "  </script>\n",
              "</div>\n",
              "    </div>\n",
              "  </div>\n"
            ]
          },
          "metadata": {},
          "execution_count": 41
        }
      ],
      "source": [
        "df.tail(3)"
      ]
    },
    {
      "cell_type": "code",
      "execution_count": 42,
      "metadata": {
        "colab": {
          "base_uri": "https://localhost:8080/"
        },
        "id": "9yxRRajvdsrZ",
        "outputId": "a331c66b-8b44-4e21-dc1b-eaefffc12b74"
      },
      "outputs": [
        {
          "output_type": "execute_result",
          "data": {
            "text/plain": [
              "(5.0, 0.5, 3.501556983616962, 1.042529239060635)"
            ]
          },
          "metadata": {},
          "execution_count": 42
        }
      ],
      "source": [
        "df['rating'].max(), df['rating'].min(), df['rating'].mean(), df['rating'].std()"
      ]
    },
    {
      "cell_type": "markdown",
      "metadata": {
        "id": "akWHotpreKGT"
      },
      "source": [
        "0.5 мінімальний рейтинг, тому логічно що межа мінімума 0:"
      ]
    },
    {
      "cell_type": "markdown",
      "metadata": {
        "id": "mI_t_dWZg8VB"
      },
      "source": [
        "- https://surprise.readthedocs.io/en/stable/reader.html?highlight=Reader#surprise.reader.Reader"
      ]
    },
    {
      "cell_type": "code",
      "execution_count": 43,
      "metadata": {
        "id": "I0B-sFfVd7Sk",
        "colab": {
          "base_uri": "https://localhost:8080/"
        },
        "outputId": "e3a48e0b-8c95-4399-bb73-e2ee94c7f3a0"
      },
      "outputs": [
        {
          "output_type": "execute_result",
          "data": {
            "text/plain": [
              "<surprise.reader.Reader at 0x790c506f8f70>"
            ]
          },
          "metadata": {},
          "execution_count": 43
        }
      ],
      "source": [
        "# A reader is still needed but only the rating_scale param is requiered.\n",
        "reader = Reader(rating_scale=(0, 5))\n",
        "reader"
      ]
    },
    {
      "cell_type": "code",
      "execution_count": 44,
      "metadata": {
        "id": "Psw9RP1welv6",
        "colab": {
          "base_uri": "https://localhost:8080/"
        },
        "outputId": "6b77a837-b89f-4ef0-b1f0-07e80d993330"
      },
      "outputs": [
        {
          "output_type": "execute_result",
          "data": {
            "text/plain": [
              "<surprise.dataset.DatasetAutoFolds at 0x790c506f9db0>"
            ]
          },
          "metadata": {},
          "execution_count": 44
        }
      ],
      "source": [
        "# The columns must correspond to user id, item id and ratings (in that order).\n",
        "data = Dataset.load_from_df(df[['userId', 'movieId', 'rating']], reader)\n",
        "data"
      ]
    },
    {
      "cell_type": "code",
      "source": [
        "# from surprise.model_selection import train_test_split\n",
        "# trainset, testset = train_test_split(data, test_size=0.2, random_state=42)\n",
        "# model = SVD()\n",
        "# model.fit(trainset)\n",
        "# # Прогнозування рейтингів\n",
        "# test_predictions = model.test(testset)\n",
        "# predictions = model.predict(uid=1, iid=1)"
      ],
      "metadata": {
        "id": "Lh5wlMy3hm_1"
      },
      "execution_count": null,
      "outputs": []
    },
    {
      "cell_type": "code",
      "source": [
        "algo = SVD()"
      ],
      "metadata": {
        "id": "iYY_NxpsTZUt"
      },
      "execution_count": 45,
      "outputs": []
    },
    {
      "cell_type": "code",
      "source": [
        "algo"
      ],
      "metadata": {
        "colab": {
          "base_uri": "https://localhost:8080/"
        },
        "id": "80rMv4oMVa2e",
        "outputId": "94750ebc-72a8-4d2a-b8a2-0e6cb114df7a"
      },
      "execution_count": 50,
      "outputs": [
        {
          "output_type": "execute_result",
          "data": {
            "text/plain": [
              "<surprise.prediction_algorithms.matrix_factorization.SVD at 0x790c506f8c10>"
            ]
          },
          "metadata": {},
          "execution_count": 50
        }
      ]
    },
    {
      "cell_type": "code",
      "execution_count": 46,
      "metadata": {
        "id": "xK4JOafnTebI"
      },
      "outputs": [],
      "source": [
        "algo2 = SVD(\n",
        "            n_factors=1,\n",
        "            n_epochs=10,\n",
        "            biased=True,\n",
        "            init_mean=2.5,\n",
        "            init_std_dev=0.5,\n",
        "            lr_all=0.005,\n",
        "            reg_all=0.02,\n",
        "            lr_bu=None,\n",
        "            lr_bi=None,\n",
        "            lr_pu=None,\n",
        "            lr_qi=None,\n",
        "            reg_bu=None,\n",
        "            reg_bi=None,\n",
        "            reg_pu=None,\n",
        "            reg_qi=None,\n",
        "            random_state=None,\n",
        "            verbose=False\n",
        "            )"
      ]
    },
    {
      "cell_type": "code",
      "source": [
        "# cross_validate(\n",
        "#                algo,\n",
        "#                data,\n",
        "#                measures=['rmse', 'mae'],\n",
        "#                cv=None,\n",
        "#                return_train_measures=False,\n",
        "#                n_jobs=1,\n",
        "#                pre_dispatch='2*n_jobs',\n",
        "#                verbose=False\n",
        "#                )"
      ],
      "metadata": {
        "id": "cLnvuYmyPWMY"
      },
      "execution_count": 47,
      "outputs": []
    },
    {
      "cell_type": "code",
      "source": [
        "cross_validate(algo, data, measures=['RMSE', 'MAE'], cv=6, verbose=True)"
      ],
      "metadata": {
        "colab": {
          "base_uri": "https://localhost:8080/"
        },
        "id": "nxXv3l0JTmFm",
        "outputId": "b57ed963-5569-4d78-8e47-8dddc7b64853"
      },
      "execution_count": 48,
      "outputs": [
        {
          "output_type": "stream",
          "name": "stdout",
          "text": [
            "Evaluating RMSE, MAE of algorithm SVD on 6 split(s).\n",
            "\n",
            "                  Fold 1  Fold 2  Fold 3  Fold 4  Fold 5  Fold 6  Mean    Std     \n",
            "RMSE (testset)    0.8750  0.8633  0.8713  0.8784  0.8712  0.8753  0.8724  0.0048  \n",
            "MAE (testset)     0.6706  0.6639  0.6692  0.6777  0.6682  0.6716  0.6702  0.0042  \n",
            "Fit time          1.71    1.70    1.97    4.61    3.49    2.49    2.66    1.06    \n",
            "Test time         0.24    0.12    0.20    0.23    0.21    0.10    0.18    0.05    \n"
          ]
        },
        {
          "output_type": "execute_result",
          "data": {
            "text/plain": [
              "{'test_rmse': array([0.87495113, 0.86327261, 0.87125727, 0.87841512, 0.87122477,\n",
              "        0.87529899]),\n",
              " 'test_mae': array([0.67061167, 0.66393946, 0.66918979, 0.67774807, 0.66815439,\n",
              "        0.67161136]),\n",
              " 'fit_time': (1.7121727466583252,\n",
              "  1.702911615371704,\n",
              "  1.974195957183838,\n",
              "  4.609205007553101,\n",
              "  3.485034942626953,\n",
              "  2.4914538860321045),\n",
              " 'test_time': (0.23586225509643555,\n",
              "  0.11668515205383301,\n",
              "  0.19858407974243164,\n",
              "  0.2310924530029297,\n",
              "  0.20995044708251953,\n",
              "  0.10158228874206543)}"
            ]
          },
          "metadata": {},
          "execution_count": 48
        }
      ]
    },
    {
      "cell_type": "code",
      "execution_count": 49,
      "metadata": {
        "colab": {
          "base_uri": "https://localhost:8080/"
        },
        "id": "mt672lViWUMd",
        "outputId": "4170c9aa-a830-4907-8a53-27abe3d0d640"
      },
      "outputs": [
        {
          "output_type": "stream",
          "name": "stdout",
          "text": [
            "Evaluating RMSE, MAE of algorithm SVD on 6 split(s).\n",
            "\n",
            "                  Fold 1  Fold 2  Fold 3  Fold 4  Fold 5  Fold 6  Mean    Std     \n",
            "RMSE (testset)    0.9020  0.8982  0.9062  0.8888  0.8889  0.9032  0.8979  0.0068  \n",
            "MAE (testset)     0.6943  0.6900  0.6980  0.6887  0.6845  0.6934  0.6915  0.0043  \n",
            "Fit time          0.37    0.54    0.54    0.40    0.40    0.38    0.44    0.07    \n",
            "Test time         0.16    0.33    0.18    0.22    0.11    0.23    0.21    0.07    \n"
          ]
        },
        {
          "output_type": "execute_result",
          "data": {
            "text/plain": [
              "{'test_rmse': array([0.90204838, 0.89815799, 0.90622792, 0.88876659, 0.88886203,\n",
              "        0.90323361]),\n",
              " 'test_mae': array([0.69427831, 0.68998837, 0.69803931, 0.68865522, 0.68452513,\n",
              "        0.6934053 ]),\n",
              " 'fit_time': (0.3678905963897705,\n",
              "  0.5401310920715332,\n",
              "  0.5371837615966797,\n",
              "  0.4002864360809326,\n",
              "  0.3972444534301758,\n",
              "  0.37680506706237793),\n",
              " 'test_time': (0.15778684616088867,\n",
              "  0.3342294692993164,\n",
              "  0.17870593070983887,\n",
              "  0.21947240829467773,\n",
              "  0.11394381523132324,\n",
              "  0.23300886154174805)}"
            ]
          },
          "metadata": {},
          "execution_count": 49
        }
      ],
      "source": [
        "# Run 6-fold cross-validation and print results.\n",
        "cross_validate(algo2, data, measures=['RMSE', 'MAE'], cv=6, verbose=True)"
      ]
    },
    {
      "cell_type": "markdown",
      "metadata": {
        "id": "Sncb0dB2iZox"
      },
      "source": [
        "- Підбір найкращих параметрів за допомогою крос-валідації\n"
      ]
    },
    {
      "cell_type": "markdown",
      "source": [
        "model set:"
      ],
      "metadata": {
        "id": "6CcJoGaVWALu"
      }
    },
    {
      "cell_type": "code",
      "execution_count": 25,
      "metadata": {
        "id": "UO37DV_qigYJ"
      },
      "outputs": [],
      "source": [
        "algo_SVD = {\n",
        "            f'SVD(nfc{nfs}, neph{eph})':\n",
        "            SVD(\n",
        "                n_factors=nfs,\n",
        "                n_epochs=eph,\n",
        "                init_mean=df['rating'].mean(), # (0+5)/2 ...\n",
        "                init_std_dev=df['rating'].std()\n",
        "                )\n",
        "            for nfs in (1, 5, 10, 20, 40)\n",
        "            for eph in (5, 10, 20)\n",
        "           }"
      ]
    },
    {
      "cell_type": "code",
      "source": [
        "algo_SVD"
      ],
      "metadata": {
        "colab": {
          "base_uri": "https://localhost:8080/"
        },
        "id": "RzMOUzUImTu6",
        "outputId": "e23d89f2-a0fe-4b6e-cec8-c2c665065430"
      },
      "execution_count": 72,
      "outputs": [
        {
          "output_type": "execute_result",
          "data": {
            "text/plain": [
              "{'SVD(nfc1, neph5)': <surprise.prediction_algorithms.matrix_factorization.SVD at 0x790c508cfeb0>,\n",
              " 'SVD(nfc1, neph10)': <surprise.prediction_algorithms.matrix_factorization.SVD at 0x790c508cf310>,\n",
              " 'SVD(nfc1, neph20)': <surprise.prediction_algorithms.matrix_factorization.SVD at 0x790c508cf520>,\n",
              " 'SVD(nfc5, neph5)': <surprise.prediction_algorithms.matrix_factorization.SVD at 0x790c508ce470>,\n",
              " 'SVD(nfc5, neph10)': <surprise.prediction_algorithms.matrix_factorization.SVD at 0x790c508ce710>,\n",
              " 'SVD(nfc5, neph20)': <surprise.prediction_algorithms.matrix_factorization.SVD at 0x790c508cf850>,\n",
              " 'SVD(nfc10, neph5)': <surprise.prediction_algorithms.matrix_factorization.SVD at 0x790c508cfdc0>,\n",
              " 'SVD(nfc10, neph10)': <surprise.prediction_algorithms.matrix_factorization.SVD at 0x790c508cf910>,\n",
              " 'SVD(nfc10, neph20)': <surprise.prediction_algorithms.matrix_factorization.SVD at 0x790c508cf820>,\n",
              " 'SVD(nfc20, neph5)': <surprise.prediction_algorithms.matrix_factorization.SVD at 0x790c508cf700>,\n",
              " 'SVD(nfc20, neph10)': <surprise.prediction_algorithms.matrix_factorization.SVD at 0x790c508cf9a0>,\n",
              " 'SVD(nfc20, neph20)': <surprise.prediction_algorithms.matrix_factorization.SVD at 0x790c508cfb20>,\n",
              " 'SVD(nfc40, neph5)': <surprise.prediction_algorithms.matrix_factorization.SVD at 0x790c508cf640>,\n",
              " 'SVD(nfc40, neph10)': <surprise.prediction_algorithms.matrix_factorization.SVD at 0x790c508cf9d0>,\n",
              " 'SVD(nfc40, neph20)': <surprise.prediction_algorithms.matrix_factorization.SVD at 0x790c508cf610>}"
            ]
          },
          "metadata": {},
          "execution_count": 72
        }
      ]
    },
    {
      "cell_type": "markdown",
      "source": [
        "model results by cross validation:"
      ],
      "metadata": {
        "id": "YJSP7fNkWG-q"
      }
    },
    {
      "cell_type": "code",
      "execution_count": 52,
      "metadata": {
        "colab": {
          "base_uri": "https://localhost:8080/"
        },
        "id": "tqfamSKnlZFQ",
        "outputId": "3bdb8775-f496-47b0-cd29-793eba15b115"
      },
      "outputs": [
        {
          "output_type": "stream",
          "name": "stdout",
          "text": [
            "Evaluating RMSE, MAE of algorithm SVD on 3 split(s).\n",
            "\n",
            "                  Fold 1  Fold 2  Fold 3  Mean    Std     \n",
            "RMSE (testset)    0.9521  0.9475  0.9515  0.9504  0.0021  \n",
            "MAE (testset)     0.7389  0.7395  0.7379  0.7388  0.0007  \n",
            "Fit time          0.16    0.27    0.28    0.24    0.05    \n",
            "Test time         0.28    0.29    0.46    0.35    0.08    \n",
            "Evaluating RMSE, MAE of algorithm SVD on 5 split(s).\n",
            "\n",
            "                  Fold 1  Fold 2  Fold 3  Fold 4  Fold 5  Mean    Std     \n",
            "RMSE (testset)    0.9396  0.9313  0.9329  0.9386  0.9479  0.9380  0.0059  \n",
            "MAE (testset)     0.7262  0.7220  0.7225  0.7278  0.7325  0.7262  0.0038  \n",
            "Fit time          0.32    0.33    0.33    0.35    0.32    0.33    0.01    \n",
            "Test time         0.35    0.15    0.34    0.14    0.37    0.27    0.10    \n",
            "Evaluating RMSE, MAE of algorithm SVD on 6 split(s).\n",
            "\n",
            "                  Fold 1  Fold 2  Fold 3  Fold 4  Fold 5  Fold 6  Mean    Std     \n",
            "RMSE (testset)    0.9287  0.9301  0.9285  0.9328  0.9451  0.9357  0.9335  0.0058  \n",
            "MAE (testset)     0.7209  0.7207  0.7188  0.7200  0.7314  0.7283  0.7233  0.0047  \n",
            "Fit time          0.34    0.34    0.43    0.42    0.36    0.33    0.37    0.04    \n",
            "Test time         0.20    0.41    0.20    0.47    0.11    0.31    0.28    0.13    \n",
            "Evaluating RMSE, MAE of algorithm SVD on 3 split(s).\n",
            "\n",
            "                  Fold 1  Fold 2  Fold 3  Mean    Std     \n",
            "RMSE (testset)    0.9096  0.9094  0.9155  0.9115  0.0028  \n",
            "MAE (testset)     0.7012  0.7055  0.7061  0.7043  0.0022  \n",
            "Fit time          0.44    0.46    0.45    0.45    0.01    \n",
            "Test time         0.23    0.24    0.53    0.33    0.14    \n",
            "Evaluating RMSE, MAE of algorithm SVD on 5 split(s).\n",
            "\n",
            "                  Fold 1  Fold 2  Fold 3  Fold 4  Fold 5  Mean    Std     \n",
            "RMSE (testset)    0.9116  0.9027  0.9017  0.9063  0.9012  0.9047  0.0039  \n",
            "MAE (testset)     0.7026  0.6940  0.6949  0.6991  0.6993  0.6980  0.0031  \n",
            "Fit time          0.52    0.54    0.53    0.55    0.55    0.54    0.01    \n",
            "Test time         0.40    0.15    0.38    0.17    0.40    0.30    0.12    \n",
            "Evaluating RMSE, MAE of algorithm SVD on 6 split(s).\n",
            "\n",
            "                  Fold 1  Fold 2  Fold 3  Fold 4  Fold 5  Fold 6  Mean    Std     \n",
            "RMSE (testset)    0.8984  0.9021  0.9017  0.9088  0.8978  0.9183  0.9045  0.0071  \n",
            "MAE (testset)     0.6938  0.6978  0.6981  0.7018  0.6949  0.7059  0.6987  0.0041  \n",
            "Fit time          0.72    0.68    0.57    0.56    0.56    0.55    0.61    0.06    \n",
            "Test time         0.21    0.14    0.11    0.15    0.10    0.12    0.14    0.03    \n",
            "Evaluating RMSE, MAE of algorithm SVD on 3 split(s).\n",
            "\n",
            "                  Fold 1  Fold 2  Fold 3  Mean    Std     \n",
            "RMSE (testset)    0.8963  0.9044  0.8906  0.8971  0.0056  \n",
            "MAE (testset)     0.6884  0.6960  0.6866  0.6903  0.0040  \n",
            "Fit time          0.78    0.81    0.82    0.80    0.02    \n",
            "Test time         0.31    0.47    0.54    0.44    0.10    \n",
            "Evaluating RMSE, MAE of algorithm SVD on 5 split(s).\n",
            "\n",
            "                  Fold 1  Fold 2  Fold 3  Fold 4  Fold 5  Mean    Std     \n",
            "RMSE (testset)    0.8772  0.8827  0.8926  0.8974  0.8906  0.8881  0.0072  \n",
            "MAE (testset)     0.6750  0.6784  0.6853  0.6908  0.6853  0.6830  0.0056  \n",
            "Fit time          1.07    1.21    1.19    1.23    0.96    1.13    0.10    \n",
            "Test time         0.27    0.38    0.13    0.25    0.12    0.23    0.10    \n",
            "Evaluating RMSE, MAE of algorithm SVD on 6 split(s).\n",
            "\n",
            "                  Fold 1  Fold 2  Fold 3  Fold 4  Fold 5  Fold 6  Mean    Std     \n",
            "RMSE (testset)    0.8821  0.8740  0.8891  0.8856  0.8915  0.8930  0.8859  0.0064  \n",
            "MAE (testset)     0.6801  0.6746  0.6851  0.6803  0.6846  0.6830  0.6813  0.0035  \n",
            "Fit time          1.00    1.01    1.01    1.28    1.03    0.99    1.06    0.10    \n",
            "Test time         0.10    0.11    0.11    0.51    0.12    0.41    0.23    0.17    \n",
            "Evaluating RMSE, MAE of algorithm SVD on 3 split(s).\n",
            "\n",
            "                  Fold 1  Fold 2  Fold 3  Mean    Std     \n",
            "RMSE (testset)    1.0591  1.0505  1.0647  1.0581  0.0058  \n",
            "MAE (testset)     0.8158  0.8060  0.8187  0.8135  0.0054  \n",
            "Fit time          0.24    0.28    0.28    0.27    0.02    \n",
            "Test time         0.22    0.21    0.50    0.31    0.13    \n",
            "Evaluating RMSE, MAE of algorithm SVD on 5 split(s).\n",
            "\n",
            "                  Fold 1  Fold 2  Fold 3  Fold 4  Fold 5  Mean    Std     \n",
            "RMSE (testset)    1.0427  1.0471  1.0500  1.0511  1.0334  1.0449  0.0064  \n",
            "MAE (testset)     0.8060  0.8096  0.8082  0.8109  0.7892  0.8048  0.0080  \n",
            "Fit time          0.34    0.36    0.34    0.34    0.33    0.34    0.01    \n",
            "Test time         0.14    0.14    0.14    0.45    0.13    0.20    0.12    \n",
            "Evaluating RMSE, MAE of algorithm SVD on 6 split(s).\n",
            "\n",
            "                  Fold 1  Fold 2  Fold 3  Fold 4  Fold 5  Fold 6  Mean    Std     \n",
            "RMSE (testset)    1.0368  1.0424  1.0415  1.0361  1.0333  1.0371  1.0379  0.0031  \n",
            "MAE (testset)     0.7953  0.8022  0.7999  0.7949  0.7930  0.7947  0.7967  0.0032  \n",
            "Fit time          0.43    0.46    0.31    0.25    0.24    0.24    0.32    0.09    \n",
            "Test time         0.55    0.20    0.09    0.10    0.13    0.18    0.21    0.16    \n",
            "Evaluating RMSE, MAE of algorithm SVD on 3 split(s).\n",
            "\n",
            "                  Fold 1  Fold 2  Fold 3  Mean    Std     \n",
            "RMSE (testset)    1.0018  0.9911  1.0030  0.9986  0.0053  \n",
            "MAE (testset)     0.7683  0.7582  0.7685  0.7650  0.0048  \n",
            "Fit time          0.31    0.33    0.34    0.33    0.01    \n",
            "Test time         0.44    0.21    0.44    0.36    0.11    \n",
            "Evaluating RMSE, MAE of algorithm SVD on 5 split(s).\n",
            "\n",
            "                  Fold 1  Fold 2  Fold 3  Fold 4  Fold 5  Mean    Std     \n",
            "RMSE (testset)    0.9695  0.9833  0.9658  0.9645  0.9886  0.9743  0.0097  \n",
            "MAE (testset)     0.7456  0.7552  0.7426  0.7412  0.7582  0.7486  0.0068  \n",
            "Fit time          0.40    0.40    0.40    0.40    0.40    0.40    0.00    \n",
            "Test time         0.12    0.32    0.19    0.35    0.11    0.22    0.10    \n",
            "Evaluating RMSE, MAE of algorithm SVD on 6 split(s).\n",
            "\n",
            "                  Fold 1  Fold 2  Fold 3  Fold 4  Fold 5  Fold 6  Mean    Std     \n",
            "RMSE (testset)    0.9731  0.9827  0.9636  0.9819  0.9691  0.9811  0.9752  0.0072  \n",
            "MAE (testset)     0.7457  0.7515  0.7416  0.7528  0.7454  0.7526  0.7483  0.0043  \n",
            "Fit time          0.43    0.58    0.61    0.46    0.77    0.57    0.57    0.11    \n",
            "Test time         0.10    0.19    0.18    0.30    0.28    0.10    0.19    0.08    \n",
            "Evaluating RMSE, MAE of algorithm SVD on 3 split(s).\n",
            "\n",
            "                  Fold 1  Fold 2  Fold 3  Mean    Std     \n",
            "RMSE (testset)    0.9627  0.9657  0.9675  0.9653  0.0020  \n",
            "MAE (testset)     0.7352  0.7358  0.7419  0.7376  0.0030  \n",
            "Fit time          0.57    0.60    0.61    0.59    0.02    \n",
            "Test time         0.27    0.48    0.42    0.39    0.09    \n",
            "Evaluating RMSE, MAE of algorithm SVD on 5 split(s).\n",
            "\n",
            "                  Fold 1  Fold 2  Fold 3  Fold 4  Fold 5  Mean    Std     \n",
            "RMSE (testset)    0.9378  0.9402  0.9365  0.9409  0.9585  0.9428  0.0080  \n",
            "MAE (testset)     0.7125  0.7168  0.7143  0.7184  0.7346  0.7193  0.0079  \n",
            "Fit time          0.73    0.74    0.71    1.00    0.88    0.81    0.11    \n",
            "Test time         0.13    0.12    0.39    0.22    0.36    0.24    0.11    \n",
            "Evaluating RMSE, MAE of algorithm SVD on 6 split(s).\n",
            "\n",
            "                  Fold 1  Fold 2  Fold 3  Fold 4  Fold 5  Fold 6  Mean    Std     \n",
            "RMSE (testset)    0.9536  0.9614  0.9592  0.9554  0.9533  0.9332  0.9527  0.0092  \n",
            "MAE (testset)     0.7332  0.7384  0.7355  0.7353  0.7316  0.7202  0.7324  0.0058  \n",
            "Fit time          0.77    0.75    0.75    0.75    0.75    0.76    0.76    0.01    \n",
            "Test time         0.10    0.10    0.09    0.10    0.32    0.10    0.14    0.08    \n",
            "Evaluating RMSE, MAE of algorithm SVD on 3 split(s).\n",
            "\n",
            "                  Fold 1  Fold 2  Fold 3  Mean    Std     \n",
            "RMSE (testset)    1.2154  1.2163  1.2037  1.2118  0.0057  \n",
            "MAE (testset)     0.9234  0.9256  0.9209  0.9233  0.0019  \n",
            "Fit time          0.19    0.21    0.21    0.20    0.01    \n",
            "Test time         0.47    0.20    0.47    0.38    0.13    \n",
            "Evaluating RMSE, MAE of algorithm SVD on 5 split(s).\n",
            "\n",
            "                  Fold 1  Fold 2  Fold 3  Fold 4  Fold 5  Mean    Std     \n",
            "RMSE (testset)    1.1454  1.1607  1.1485  1.1491  1.1654  1.1538  0.0078  \n",
            "MAE (testset)     0.8686  0.8803  0.8684  0.8725  0.8833  0.8746  0.0061  \n",
            "Fit time          0.31    0.37    0.37    0.25    0.26    0.31    0.05    \n",
            "Test time         0.22    0.53    0.22    0.11    0.12    0.24    0.15    \n",
            "Evaluating RMSE, MAE of algorithm SVD on 6 split(s).\n",
            "\n",
            "                  Fold 1  Fold 2  Fold 3  Fold 4  Fold 5  Fold 6  Mean    Std     \n",
            "RMSE (testset)    1.1495  1.1591  1.1698  1.1464  1.1601  1.1369  1.1536  0.0107  \n",
            "MAE (testset)     0.8727  0.8836  0.8906  0.8749  0.8811  0.8666  0.8783  0.0078  \n",
            "Fit time          0.28    0.27    0.26    0.28    0.27    0.26    0.27    0.01    \n",
            "Test time         0.11    0.35    0.10    0.11    0.35    0.10    0.18    0.12    \n",
            "Evaluating RMSE, MAE of algorithm SVD on 3 split(s).\n",
            "\n",
            "                  Fold 1  Fold 2  Fold 3  Mean    Std     \n",
            "RMSE (testset)    1.0937  1.0976  1.0960  1.0958  0.0016  \n",
            "MAE (testset)     0.8339  0.8404  0.8298  0.8347  0.0044  \n",
            "Fit time          0.33    0.35    0.36    0.34    0.01    \n",
            "Test time         0.46    0.21    0.47    0.38    0.12    \n",
            "Evaluating RMSE, MAE of algorithm SVD on 5 split(s).\n",
            "\n",
            "                  Fold 1  Fold 2  Fold 3  Fold 4  Fold 5  Mean    Std     \n",
            "RMSE (testset)    1.0749  1.0669  1.0661  1.0644  1.0579  1.0660  0.0055  \n",
            "MAE (testset)     0.8140  0.8103  0.8103  0.8070  0.8064  0.8096  0.0027  \n",
            "Fit time          0.42    0.42    0.84    0.59    0.42    0.54    0.17    \n",
            "Test time         0.13    0.13    0.22    0.22    0.12    0.16    0.04    \n",
            "Evaluating RMSE, MAE of algorithm SVD on 6 split(s).\n",
            "\n",
            "                  Fold 1  Fold 2  Fold 3  Fold 4  Fold 5  Fold 6  Mean    Std     \n",
            "RMSE (testset)    1.0730  1.0643  1.0594  1.0621  1.0505  1.0893  1.0664  0.0122  \n",
            "MAE (testset)     0.8145  0.8107  0.8005  0.8095  0.7966  0.8269  0.8098  0.0098  \n",
            "Fit time          0.45    0.43    0.44    0.46    0.46    0.44    0.45    0.01    \n",
            "Test time         0.13    0.38    0.10    0.11    0.37    0.19    0.21    0.12    \n",
            "Evaluating RMSE, MAE of algorithm SVD on 3 split(s).\n",
            "\n",
            "                  Fold 1  Fold 2  Fold 3  Mean    Std     \n",
            "RMSE (testset)    1.0744  1.0594  1.0645  1.0661  0.0062  \n",
            "MAE (testset)     0.8185  0.8038  0.8061  0.8095  0.0065  \n",
            "Fit time          0.64    0.63    0.64    0.63    0.00    \n",
            "Test time         0.48    0.20    0.52    0.40    0.14    \n",
            "Evaluating RMSE, MAE of algorithm SVD on 5 split(s).\n",
            "\n",
            "                  Fold 1  Fold 2  Fold 3  Fold 4  Fold 5  Mean    Std     \n",
            "RMSE (testset)    1.0379  1.0365  1.0363  1.0255  1.0443  1.0361  0.0060  \n",
            "MAE (testset)     0.7862  0.7877  0.7889  0.7806  0.7989  0.7884  0.0059  \n",
            "Fit time          0.96    1.14    0.75    0.79    0.76    0.88    0.15    \n",
            "Test time         0.22    0.22    0.46    0.13    0.11    0.23    0.12    \n",
            "Evaluating RMSE, MAE of algorithm SVD on 6 split(s).\n",
            "\n",
            "                  Fold 1  Fold 2  Fold 3  Fold 4  Fold 5  Fold 6  Mean    Std     \n",
            "RMSE (testset)    1.0230  1.0500  1.0297  1.0113  1.0325  1.0068  1.0256  0.0143  \n",
            "MAE (testset)     0.7786  0.7991  0.7841  0.7747  0.7897  0.7692  0.7826  0.0098  \n",
            "Fit time          0.82    0.79    0.80    0.82    0.81    1.10    0.86    0.11    \n",
            "Test time         0.10    0.21    0.23    0.11    0.10    0.52    0.21    0.15    \n",
            "Evaluating RMSE, MAE of algorithm SVD on 3 split(s).\n",
            "\n",
            "                  Fold 1  Fold 2  Fold 3  Mean    Std     \n",
            "RMSE (testset)    1.4586  1.4423  1.5045  1.4685  0.0264  \n",
            "MAE (testset)     1.1129  1.0945  1.1377  1.1150  0.0177  \n",
            "Fit time          0.31    0.23    0.23    0.26    0.03    \n",
            "Test time         0.35    0.55    0.28    0.39    0.11    \n",
            "Evaluating RMSE, MAE of algorithm SVD on 5 split(s).\n",
            "\n",
            "                  Fold 1  Fold 2  Fold 3  Fold 4  Fold 5  Mean    Std     \n",
            "RMSE (testset)    1.3886  1.3982  1.4118  1.3949  1.4586  1.4104  0.0253  \n",
            "MAE (testset)     1.0496  1.0677  1.0689  1.0522  1.1040  1.0685  0.0194  \n",
            "Fit time          0.27    0.27    0.28    0.28    0.27    0.28    0.00    \n",
            "Test time         0.41    0.13    0.12    0.40    0.13    0.24    0.14    \n",
            "Evaluating RMSE, MAE of algorithm SVD on 6 split(s).\n",
            "\n",
            "                  Fold 1  Fold 2  Fold 3  Fold 4  Fold 5  Fold 6  Mean    Std     \n",
            "RMSE (testset)    1.3851  1.3823  1.3749  1.3858  1.4049  1.3848  1.3863  0.0091  \n",
            "MAE (testset)     1.0486  1.0417  1.0378  1.0447  1.0601  1.0397  1.0454  0.0074  \n",
            "Fit time          0.29    0.29    0.29    0.28    0.28    0.30    0.29    0.01    \n",
            "Test time         0.10    0.45    0.11    0.11    0.46    0.10    0.22    0.17    \n",
            "Evaluating RMSE, MAE of algorithm SVD on 3 split(s).\n",
            "\n",
            "                  Fold 1  Fold 2  Fold 3  Mean    Std     \n",
            "RMSE (testset)    1.3567  1.2986  1.3590  1.3381  0.0280  \n",
            "MAE (testset)     1.0249  0.9801  1.0314  1.0121  0.0228  \n",
            "Fit time          0.38    0.56    0.51    0.48    0.08    \n",
            "Test time         0.68    0.38    0.51    0.52    0.12    \n",
            "Evaluating RMSE, MAE of algorithm SVD on 5 split(s).\n",
            "\n",
            "                  Fold 1  Fold 2  Fold 3  Fold 4  Fold 5  Mean    Std     \n",
            "RMSE (testset)    1.2607  1.2723  1.3032  1.3062  1.3360  1.2957  0.0267  \n",
            "MAE (testset)     0.9479  0.9496  0.9796  0.9785  1.0142  0.9740  0.0243  \n",
            "Fit time          0.47    0.47    0.45    0.48    0.47    0.47    0.01    \n",
            "Test time         0.12    0.12    0.51    0.12    0.15    0.21    0.15    \n",
            "Evaluating RMSE, MAE of algorithm SVD on 6 split(s).\n",
            "\n",
            "                  Fold 1  Fold 2  Fold 3  Fold 4  Fold 5  Fold 6  Mean    Std     \n",
            "RMSE (testset)    1.3172  1.3152  1.3084  1.3192  1.3276  1.3284  1.3193  0.0070  \n",
            "MAE (testset)     0.9878  0.9827  0.9887  1.0003  1.0013  1.0097  0.9951  0.0094  \n",
            "Fit time          0.49    0.47    0.49    0.49    0.50    0.51    0.49    0.01    \n",
            "Test time         0.44    0.11    0.10    0.41    0.12    0.21    0.23    0.14    \n",
            "Evaluating RMSE, MAE of algorithm SVD on 3 split(s).\n",
            "\n",
            "                  Fold 1  Fold 2  Fold 3  Mean    Std     \n",
            "RMSE (testset)    1.3087  1.3323  1.2535  1.2981  0.0330  \n",
            "MAE (testset)     0.9835  1.0060  0.9491  0.9795  0.0234  \n",
            "Fit time          1.02    0.70    0.75    0.82    0.14    \n",
            "Test time         0.81    0.22    0.55    0.52    0.24    \n",
            "Evaluating RMSE, MAE of algorithm SVD on 5 split(s).\n",
            "\n",
            "                  Fold 1  Fold 2  Fold 3  Fold 4  Fold 5  Mean    Std     \n",
            "RMSE (testset)    1.2107  1.1923  1.2111  1.2296  1.2231  1.2134  0.0128  \n",
            "MAE (testset)     0.9134  0.8998  0.9163  0.9278  0.9282  0.9171  0.0105  \n",
            "Fit time          0.86    0.90    0.84    0.86    0.86    0.87    0.02    \n",
            "Test time         0.13    0.13    0.44    0.13    0.12    0.19    0.12    \n",
            "Evaluating RMSE, MAE of algorithm SVD on 6 split(s).\n",
            "\n",
            "                  Fold 1  Fold 2  Fold 3  Fold 4  Fold 5  Fold 6  Mean    Std     \n",
            "RMSE (testset)    1.2470  1.2090  1.2548  1.2247  1.2032  1.2721  1.2351  0.0249  \n",
            "MAE (testset)     0.9370  0.9116  0.9494  0.9298  0.9097  0.9591  0.9328  0.0182  \n",
            "Fit time          1.00    1.24    0.90    0.88    0.89    0.88    0.97    0.13    \n",
            "Test time         0.19    0.19    0.11    0.11    0.10    0.11    0.14    0.04    \n",
            "Evaluating RMSE, MAE of algorithm SVD on 3 split(s).\n",
            "\n",
            "                  Fold 1  Fold 2  Fold 3  Mean    Std     \n",
            "RMSE (testset)    1.8166  1.8290  1.8307  1.8254  0.0063  \n",
            "MAE (testset)     1.4921  1.5031  1.5002  1.4984  0.0046  \n",
            "Fit time          0.24    0.26    0.26    0.25    0.01    \n",
            "Test time         0.21    0.30    0.24    0.25    0.04    \n",
            "Evaluating RMSE, MAE of algorithm SVD on 5 split(s).\n",
            "\n",
            "                  Fold 1  Fold 2  Fold 3  Fold 4  Fold 5  Mean    Std     \n",
            "RMSE (testset)    1.8245  1.8281  1.8283  1.8219  1.8243  1.8254  0.0025  \n",
            "MAE (testset)     1.4928  1.5048  1.4981  1.4993  1.4971  1.4984  0.0039  \n",
            "Fit time          0.31    0.32    0.31    0.43    0.44    0.36    0.06    \n",
            "Test time         0.12    0.12    0.12    0.23    0.21    0.16    0.05    \n",
            "Evaluating RMSE, MAE of algorithm SVD on 6 split(s).\n",
            "\n",
            "                  Fold 1  Fold 2  Fold 3  Fold 4  Fold 5  Fold 6  Mean    Std     \n",
            "RMSE (testset)    1.8363  1.8159  1.8247  1.8206  1.8240  1.8311  1.8254  0.0067  \n",
            "MAE (testset)     1.5126  1.4900  1.4968  1.4921  1.4970  1.5021  1.4984  0.0074  \n",
            "Fit time          0.41    0.33    0.34    0.31    0.33    0.31    0.34    0.03    \n",
            "Test time         0.11    0.11    0.11    0.11    0.10    0.54    0.18    0.16    \n",
            "Evaluating RMSE, MAE of algorithm SVD on 3 split(s).\n",
            "\n",
            "                  Fold 1  Fold 2  Fold 3  Mean    Std     \n",
            "RMSE (testset)    1.8357  1.8185  1.8220  1.8254  0.0074  \n",
            "MAE (testset)     1.5045  1.4932  1.4977  1.4984  0.0047  \n",
            "Fit time          0.42    0.43    0.47    0.44    0.02    \n",
            "Test time         0.23    0.61    0.21    0.35    0.18    \n",
            "Evaluating RMSE, MAE of algorithm SVD on 5 split(s).\n",
            "\n",
            "                  Fold 1  Fold 2  Fold 3  Fold 4  Fold 5  Mean    Std     \n",
            "RMSE (testset)    1.8402  1.8194  1.8252  1.8215  1.8208  1.8254  0.0076  \n",
            "MAE (testset)     1.5125  1.4904  1.4992  1.4962  1.4939  1.4984  0.0076  \n",
            "Fit time          0.51    0.56    0.52    0.76    0.78    0.63    0.12    \n",
            "Test time         0.13    0.12    0.14    0.69    0.12    0.24    0.23    \n",
            "Evaluating RMSE, MAE of algorithm SVD on 6 split(s).\n",
            "\n",
            "                  Fold 1  Fold 2  Fold 3  Fold 4  Fold 5  Fold 6  Mean    Std     \n",
            "RMSE (testset)    1.8242  1.8172  1.8333  1.8337  1.8187  1.8253  1.8254  0.0064  \n",
            "MAE (testset)     1.4979  1.4889  1.5048  1.5094  1.4910  1.4988  1.4984  0.0072  \n",
            "Fit time          0.58    1.09    0.57    0.53    0.56    0.54    0.64    0.20    \n",
            "Test time         0.10    0.12    0.10    0.11    0.10    0.45    0.16    0.13    \n",
            "Evaluating RMSE, MAE of algorithm SVD on 3 split(s).\n",
            "\n",
            "                  Fold 1  Fold 2  Fold 3  Mean    Std     \n",
            "RMSE (testset)    1.8269  1.8195  1.8299  1.8254  0.0044  \n",
            "MAE (testset)     1.4972  1.4942  1.5040  1.4984  0.0041  \n",
            "Fit time          0.82    0.81    1.08    0.90    0.12    \n",
            "Test time         0.23    0.63    0.39    0.42    0.17    \n",
            "Evaluating RMSE, MAE of algorithm SVD on 5 split(s).\n",
            "\n",
            "                  Fold 1  Fold 2  Fold 3  Fold 4  Fold 5  Mean    Std     \n",
            "RMSE (testset)    1.8209  1.8246  1.8183  1.8386  1.8246  1.8254  0.0070  \n",
            "MAE (testset)     1.4933  1.4995  1.4937  1.5083  1.4975  1.4984  0.0055  \n",
            "Fit time          1.74    1.24    1.03    1.01    0.96    1.19    0.29    \n",
            "Test time         0.25    0.94    0.13    0.13    0.72    0.43    0.33    \n",
            "Evaluating RMSE, MAE of algorithm SVD on 6 split(s).\n",
            "\n",
            "                  Fold 1  Fold 2  Fold 3  Fold 4  Fold 5  Fold 6  Mean    Std     \n",
            "RMSE (testset)    1.8307  1.8381  1.8241  1.8245  1.8184  1.8167  1.8254  0.0072  \n",
            "MAE (testset)     1.5054  1.5087  1.4945  1.4998  1.4918  1.4905  1.4984  0.0068  \n",
            "Fit time          1.11    1.61    1.30    1.02    1.15    1.04    1.21    0.20    \n",
            "Test time         0.20    0.19    0.47    0.11    0.11    0.13    0.20    0.13    \n"
          ]
        }
      ],
      "source": [
        "assessment_SVD = {\n",
        "                  f'{name}_cv{cv}':\n",
        "                  cross_validate(alg, data, measures=['RMSE', 'MAE'], cv=cv, verbose=True)\n",
        "                  for name, alg in algo_SVD.items() for cv in (3, 5, 6)\n",
        "                  }"
      ]
    },
    {
      "cell_type": "code",
      "execution_count": 53,
      "metadata": {
        "id": "_OxeKqrsm_S3"
      },
      "outputs": [],
      "source": [
        "# assessment_SVD"
      ]
    },
    {
      "cell_type": "code",
      "execution_count": 54,
      "metadata": {
        "id": "FxVYKHUzrC4M"
      },
      "outputs": [],
      "source": [
        "# best_SVD_by_rmse = min(assessment_SVD, key=lambda x: x['test_rmse'].mean())\n",
        "all_SVD_by_rmse = {\n",
        "                   name: value['test_rmse'].mean()\n",
        "                   for name, value in assessment_SVD.items()\n",
        "                   }\n",
        "best_SVD_by_rmse = min(all_SVD_by_rmse, key=all_SVD_by_rmse.get)"
      ]
    },
    {
      "cell_type": "code",
      "execution_count": 55,
      "metadata": {
        "colab": {
          "base_uri": "https://localhost:8080/",
          "height": 35
        },
        "id": "B0Sma8Ajrk9x",
        "outputId": "b710fbe9-dda0-424f-9d54-b1efd7322340"
      },
      "outputs": [
        {
          "output_type": "execute_result",
          "data": {
            "text/plain": [
              "'SVD(nfc1, neph20)_cv6'"
            ],
            "application/vnd.google.colaboratory.intrinsic+json": {
              "type": "string"
            }
          },
          "metadata": {},
          "execution_count": 55
        }
      ],
      "source": [
        "best_SVD_by_rmse"
      ]
    },
    {
      "cell_type": "code",
      "execution_count": 56,
      "metadata": {
        "id": "Cs7TQtP4rd6R"
      },
      "outputs": [],
      "source": [
        "# best_SVD_by_mae = min(assessment_SVD, key=lambda x:x['test_mae'].mean())\n",
        "all_SVD_by_mae = {\n",
        "                  name: value['test_mae'].mean()\n",
        "                  for name, value in assessment_SVD.items()\n",
        "                  }\n",
        "best_SVD_by_mae = min(all_SVD_by_mae, key=all_SVD_by_mae.get)"
      ]
    },
    {
      "cell_type": "code",
      "execution_count": 57,
      "metadata": {
        "colab": {
          "base_uri": "https://localhost:8080/",
          "height": 35
        },
        "id": "K9VESQagsQEz",
        "outputId": "34f9c20f-f905-4030-f825-08658e1db5f3"
      },
      "outputs": [
        {
          "output_type": "execute_result",
          "data": {
            "text/plain": [
              "'SVD(nfc1, neph20)_cv6'"
            ],
            "application/vnd.google.colaboratory.intrinsic+json": {
              "type": "string"
            }
          },
          "metadata": {},
          "execution_count": 57
        }
      ],
      "source": [
        "best_SVD_by_mae"
      ]
    },
    {
      "cell_type": "markdown",
      "metadata": {
        "id": "w1B1sSvu1kRK"
      },
      "source": [
        "Для моделі матричної факторизації (SVD) серед деякого набору параметрів виявився найкращим варіант з 1 фактором, 20 епохами при 6 сегментах кросвалідації."
      ]
    },
    {
      "cell_type": "code",
      "source": [
        "predictions = algo_SVD.get(best_SVD_by_rmse[:-4]).predict(uid=1, iid=1)\n",
        "predictions"
      ],
      "metadata": {
        "colab": {
          "base_uri": "https://localhost:8080/"
        },
        "id": "-tzVZzqzlcdF",
        "outputId": "4cd48b67-6b50-4be7-d36b-55d400d1e459"
      },
      "execution_count": 122,
      "outputs": [
        {
          "output_type": "execute_result",
          "data": {
            "text/plain": [
              "Prediction(uid=1, iid=1, r_ui=None, est=4.586234359102049, details={'was_impossible': False})"
            ]
          },
          "metadata": {},
          "execution_count": 122
        }
      ]
    },
    {
      "cell_type": "markdown",
      "source": [
        "врахуємо й інші деякі гіперпараметри для SVD"
      ],
      "metadata": {
        "id": "swJL2wY8XIwM"
      }
    },
    {
      "cell_type": "code",
      "execution_count": 58,
      "metadata": {
        "id": "3LT3bUzenf13"
      },
      "outputs": [],
      "source": [
        "from surprise.model_selection import GridSearchCV"
      ]
    },
    {
      "cell_type": "code",
      "execution_count": 60,
      "metadata": {
        "colab": {
          "base_uri": "https://localhost:8080/"
        },
        "id": "P0QOb4uxollY",
        "outputId": "1d43f7c7-85e2-4fed-c91c-a6ddfa481e9f"
      },
      "outputs": [
        {
          "output_type": "stream",
          "name": "stdout",
          "text": [
            "0.8806090211823191\n",
            "{'n_factors': 1, 'n_epochs': 20, 'init_mean': 2.75, 'init_std_dev': 1.042529239060635, 'lr_all': 0.005, 'reg_all': 0.4}\n"
          ]
        }
      ],
      "source": [
        "param_grid = {\n",
        "              'n_factors': (1, 5, 10, 20, 40),\n",
        "              'n_epochs': (5, 10, 20),\n",
        "              'init_mean': (df['rating'].mean(), ((df['rating'].max() + df['rating'].min()) / 2)),\n",
        "              'init_std_dev': (df['rating'].std(), 1),\n",
        "              'lr_all': (0.002, 0.005),\n",
        "              'reg_all': (0.4, 0.6)\n",
        "              }\n",
        "gs = GridSearchCV(SVD, param_grid, measures=['rmse', 'mae'], cv=6)\n",
        "\n",
        "gs.fit(data)\n"
      ]
    },
    {
      "cell_type": "code",
      "source": [
        "# best MAE score\n",
        "print(gs.best_score['mae'].round(4))\n",
        "\n",
        "# combination of parameters that gave the best MAE score\n",
        "print(gs.best_params['mae'])"
      ],
      "metadata": {
        "colab": {
          "base_uri": "https://localhost:8080/"
        },
        "id": "nYKjTH8Nr-ZA",
        "outputId": "d96e836c-d259-488a-c3ae-3ca6327538b1"
      },
      "execution_count": 99,
      "outputs": [
        {
          "output_type": "stream",
          "name": "stdout",
          "text": [
            "0.6807\n",
            "{'n_factors': 1, 'n_epochs': 20, 'init_mean': 2.75, 'init_std_dev': 1.042529239060635, 'lr_all': 0.005, 'reg_all': 0.4}\n"
          ]
        }
      ]
    },
    {
      "cell_type": "code",
      "source": [
        "# best RMSE score\n",
        "print(gs.best_score['rmse'].round(4))\n",
        "\n",
        "# combination of parameters that gave the best RMSE score\n",
        "print(gs.best_params['rmse'])"
      ],
      "metadata": {
        "colab": {
          "base_uri": "https://localhost:8080/"
        },
        "id": "h9u6o0vykyKA",
        "outputId": "be9eee18-c699-4c1d-8085-907e12003ff0"
      },
      "execution_count": 68,
      "outputs": [
        {
          "output_type": "stream",
          "name": "stdout",
          "text": [
            "0.8806\n",
            "{'n_factors': 1, 'n_epochs': 20, 'init_mean': 2.75, 'init_std_dev': 1.042529239060635, 'lr_all': 0.005, 'reg_all': 0.4}\n"
          ]
        }
      ]
    },
    {
      "cell_type": "code",
      "source": [
        "# the_best_svd = gs.best_estimator['rmse']\n",
        "# the_best_svd.__dict__"
      ],
      "metadata": {
        "id": "GRIDjrCqd7pF"
      },
      "execution_count": 113,
      "outputs": []
    },
    {
      "cell_type": "code",
      "source": [
        "# the_best_svd = gs.best_estimator['mae']\n",
        "# the_best_svd.__dict__"
      ],
      "metadata": {
        "id": "b7mY7P9PtPJs"
      },
      "execution_count": 114,
      "outputs": []
    },
    {
      "cell_type": "markdown",
      "metadata": {
        "id": "NiLkAU9c6Zl_"
      },
      "source": [
        "0.8806<br>\n",
        "{'n_factors': 1, 'n_epochs': 20, 'init_mean': 2.75, 'init_std_dev': 1, 'lr_all': 0.005, 'reg_all': 0.4}<br>\n",
        "(22+ хв.оброблення ~240 models)"
      ]
    },
    {
      "cell_type": "code",
      "execution_count": 130,
      "metadata": {
        "colab": {
          "base_uri": "https://localhost:8080/"
        },
        "id": "_USfA2Y0sPlq",
        "outputId": "bf1585c3-ba5f-4b35-fd24-049b8694bb4d"
      },
      "outputs": [
        {
          "output_type": "stream",
          "name": "stdout",
          "text": [
            "0.8786\n",
            "{'n_factors': 1, 'n_epochs': 20, 'init_mean': 2.75, 'init_std_dev': 0.2, 'lr_all': 0.005, 'reg_all': 0.4}\n",
            "0.6788\n",
            "{'n_factors': 1, 'n_epochs': 20, 'init_mean': 2.75, 'init_std_dev': 0.2, 'lr_all': 0.005, 'reg_all': 0.4}\n"
          ]
        }
      ],
      "source": [
        "param_grid = {\n",
        "              'n_factors': (1, ),\n",
        "              'n_epochs': (20, ),\n",
        "              'init_mean': (2.75,),\n",
        "              'init_std_dev': (0.2,),\n",
        "              'lr_all': (0.005,),\n",
        "              'reg_all': (0.4, )\n",
        "              }\n",
        "gs = GridSearchCV(SVD, param_grid, measures=['rmse', 'mae'], cv=6)\n",
        "\n",
        "gs.fit(data)\n",
        "\n",
        "# best RMSE score\n",
        "print(gs.best_score['rmse'].round(4))\n",
        "\n",
        "# combination of parameters that gave the best RMSE score\n",
        "print(gs.best_params['rmse'])\n",
        "\n",
        "# best MAE score\n",
        "print(gs.best_score['mae'].round(4))\n",
        "\n",
        "# combination of parameters that gave the best MAE score\n",
        "print(gs.best_params['mae'])"
      ]
    },
    {
      "cell_type": "code",
      "execution_count": 131,
      "metadata": {
        "id": "CWEp5u9NtvvL"
      },
      "outputs": [],
      "source": [
        "parameters = gs.best_params['rmse']\n",
        "compare_results_RMSE = {f'''SVD_nf{parameters.get('n_factors')}_nep{parameters.get('n_epochs')}''': gs.best_score['rmse']}\n",
        "parameters = gs.best_params['mae']\n",
        "compare_results_MAE = {f'''SVD_nf{parameters.get('n_factors')}_nep{parameters.get('n_epochs')}''': gs.best_score['mae']}\n",
        "compare_results_fit_time = {f'''SVD_nf{parameters.get('n_factors')}_nep{parameters.get('n_epochs')}''': 7}"
      ]
    },
    {
      "cell_type": "code",
      "execution_count": 132,
      "metadata": {
        "colab": {
          "base_uri": "https://localhost:8080/"
        },
        "id": "zksYO9hnvjqJ",
        "outputId": "732c0a4a-a1e3-4c84-ef9a-07d1a80b52f9"
      },
      "outputs": [
        {
          "output_type": "execute_result",
          "data": {
            "text/plain": [
              "({'SVD_nf1_nep20': 0.8786474219586929}, {'SVD_nf1_nep20': 0.6788400349414734})"
            ]
          },
          "metadata": {},
          "execution_count": 132
        }
      ],
      "source": [
        "compare_results_RMSE, compare_results_MAE"
      ]
    },
    {
      "cell_type": "markdown",
      "metadata": {
        "id": "eJS3IzR01Djh"
      },
      "source": [
        "Для моделі матричної факторизації (SVD) серед деякого набору параметрів виявився найкращим варіант з 1 фактором, 20 епохами за 6 сегментів кросвалідації."
      ]
    },
    {
      "cell_type": "markdown",
      "source": [
        "SVDpp, NMF"
      ],
      "metadata": {
        "id": "CGRxOG7ib_9Y"
      }
    },
    {
      "cell_type": "code",
      "execution_count": 133,
      "metadata": {
        "id": "BWICglKQ63Q2"
      },
      "outputs": [],
      "source": [
        "from surprise import SVDpp, NMF"
      ]
    },
    {
      "cell_type": "code",
      "execution_count": 135,
      "metadata": {
        "colab": {
          "base_uri": "https://localhost:8080/"
        },
        "id": "HcJf0pXW7hTY",
        "outputId": "9894bca6-00c1-44dc-a163-7eb5f1ab2f6f"
      },
      "outputs": [
        {
          "output_type": "stream",
          "name": "stdout",
          "text": [
            "1.8254204586130063\n",
            "{'n_factors': 1, 'n_epochs': 10, 'init_mean': 3.501556983616962, 'init_std_dev': 1.042529239060635, 'lr_all': 0.005, 'reg_all': 0.4}\n"
          ]
        }
      ],
      "source": [
        "param_grid = {\n",
        "              'n_factors': (1, ),\n",
        "              'n_epochs': (10, 20),\n",
        "              'init_mean': (df['rating'].mean(), ((df['rating'].max() + df['rating'].min()) / 2)),\n",
        "              'init_std_dev': (df['rating'].std(),),\n",
        "              'lr_all': (0.005,),\n",
        "              'reg_all': (0.4,)\n",
        "              }\n",
        "gspp = GridSearchCV(SVDpp, param_grid, measures=['rmse', 'mae'], cv=6)\n",
        "\n",
        "gspp.fit(data)\n",
        "\n",
        "# best RMSE score\n",
        "print(gspp.best_score['rmse'])\n",
        "\n",
        "# combination of parameters that gave the best RMSE score\n",
        "print(gspp.best_params['rmse'])"
      ]
    },
    {
      "cell_type": "code",
      "execution_count": 136,
      "metadata": {
        "colab": {
          "base_uri": "https://localhost:8080/"
        },
        "id": "sYC87Kcb8TR2",
        "outputId": "02570eed-b7cc-49b2-a614-fb210f27b0e5"
      },
      "outputs": [
        {
          "output_type": "stream",
          "name": "stdout",
          "text": [
            "1.4984430163830378\n",
            "{'n_factors': 1, 'n_epochs': 10, 'init_mean': 3.501556983616962, 'init_std_dev': 1.042529239060635, 'lr_all': 0.005, 'reg_all': 0.4}\n"
          ]
        }
      ],
      "source": [
        "# best MAE score\n",
        "print(gspp.best_score['mae'])\n",
        "\n",
        "# combination of parameters that gave the best MAE score\n",
        "print(gspp.best_params['mae'])"
      ]
    },
    {
      "cell_type": "markdown",
      "metadata": {
        "id": "7useAs7cAdoV"
      },
      "source": [
        "Для моделі SVD++ серед деякого набору параметрів виявився найкращим варіант з 1 фактором, 10 епохами за 6 сегментів кросвалідації."
      ]
    },
    {
      "cell_type": "markdown",
      "metadata": {
        "id": "MfwkE4I7_CyZ"
      },
      "source": [
        "46+ хв.оброблення для 32 моделей для одного сегменту - недочекався. 28+ хв. - 8 моделей"
      ]
    },
    {
      "cell_type": "code",
      "execution_count": 137,
      "metadata": {
        "colab": {
          "base_uri": "https://localhost:8080/"
        },
        "id": "Ob8aCp0WwT4A",
        "outputId": "d8dd6cbf-0138-4086-ec0f-8b3f3c5a8591"
      },
      "outputs": [
        {
          "output_type": "stream",
          "name": "stdout",
          "text": [
            "1.8254027708295515\n",
            "{'n_factors': 1, 'n_epochs': 10, 'init_mean': 3.501556983616962, 'init_std_dev': 1.042529239060635, 'lr_all': 0.005, 'reg_all': 0.4}\n",
            "1.4984430163830378\n",
            "{'n_factors': 1, 'n_epochs': 10, 'init_mean': 3.501556983616962, 'init_std_dev': 1.042529239060635, 'lr_all': 0.005, 'reg_all': 0.4}\n"
          ]
        }
      ],
      "source": [
        "param_grid = {\n",
        "              'n_factors': (1,),\n",
        "              'n_epochs': (10, ),\n",
        "              'init_mean': (df['rating'].mean(), 2.5,),\n",
        "              'init_std_dev': (df['rating'].std(),),\n",
        "              'lr_all': (0.005,),\n",
        "              'reg_all': (0.4,)\n",
        "              }\n",
        "gspp = GridSearchCV(SVDpp, param_grid, measures=['rmse', 'mae'], cv=6)\n",
        "\n",
        "gspp.fit(data)\n",
        "\n",
        "# best RMSE score\n",
        "print(gspp.best_score['rmse'])\n",
        "\n",
        "# combination of parameters that gave the best RMSE score\n",
        "print(gspp.best_params['rmse'])\n",
        "\n",
        "# best MAE score\n",
        "print(gspp.best_score['mae'])\n",
        "\n",
        "# combination of parameters that gave the best MAE score\n",
        "print(gspp.best_params['mae'])"
      ]
    },
    {
      "cell_type": "code",
      "execution_count": 138,
      "metadata": {
        "id": "NlHyJaTkwTOj"
      },
      "outputs": [],
      "source": [
        "parameters = gspp.best_params['rmse']\n",
        "compare_results_RMSE.update({f'''SVDpp_nf{parameters.get('n_factors')}_nep{parameters.get('n_epochs')}''': gspp.best_score['rmse']})\n",
        "parameters = gspp.best_params['mae']\n",
        "compare_results_MAE.update({f'''SVDpp_nf{parameters.get('n_factors')}_nep{parameters.get('n_epochs')}''': gspp.best_score['mae']})\n",
        "compare_results_fit_time.update({f'''SVDpp_nf{parameters.get('n_factors')}_nep{parameters.get('n_epochs')}''': 278 / 2})"
      ]
    },
    {
      "cell_type": "code",
      "execution_count": 139,
      "metadata": {
        "colab": {
          "base_uri": "https://localhost:8080/"
        },
        "id": "JmjdzJg9y9eb",
        "outputId": "6cd1d5fa-93fd-4733-8beb-a13d5864c17e"
      },
      "outputs": [
        {
          "output_type": "execute_result",
          "data": {
            "text/plain": [
              "({'SVD_nf1_nep20': 0.8786474219586929, 'SVDpp_nf1_nep10': 1.8254027708295515},\n",
              " {'SVD_nf1_nep20': 0.6788400349414734, 'SVDpp_nf1_nep10': 1.4984430163830378})"
            ]
          },
          "metadata": {},
          "execution_count": 139
        }
      ],
      "source": [
        "compare_results_RMSE, compare_results_MAE"
      ]
    },
    {
      "cell_type": "code",
      "execution_count": 140,
      "metadata": {
        "colab": {
          "base_uri": "https://localhost:8080/"
        },
        "id": "TiDiUoZP8aKz",
        "outputId": "19af223d-583b-45f6-deb7-df1e198fb64a"
      },
      "outputs": [
        {
          "output_type": "stream",
          "name": "stdout",
          "text": [
            "1.1699977606580931\n",
            "{'n_factors': 5, 'n_epochs': 20, 'reg_pu': 0.1, 'reg_qi': 0.1, 'reg_bu': 0.03, 'reg_bi': 0.02, 'lr_bu': 0.005, 'lr_bi': 0.005}\n"
          ]
        }
      ],
      "source": [
        "param_grid = {\n",
        "              'n_factors': (1, 5),\n",
        "              'n_epochs': (10, 20),\n",
        "              'reg_pu': (0.01, 0.06, 0.1),\n",
        "              'reg_qi': (0.01, 0.06, 0.1),\n",
        "              'reg_bu': (0.01, 0.02, 0.03),\n",
        "              'reg_bi': (0.01, 0.02, 0.03),\n",
        "              'lr_bu': (0.005,),\n",
        "              'lr_bi': (0.005,)\n",
        "              }\n",
        "gsNMF= GridSearchCV(NMF, param_grid, measures=['rmse', 'mae'], cv=6)\n",
        "\n",
        "gsNMF.fit(data)\n",
        "\n",
        "# best RMSE score\n",
        "print(gsNMF.best_score['rmse'])\n",
        "\n",
        "# combination of parameters that gave the best RMSE score\n",
        "print(gsNMF.best_params['rmse'])"
      ]
    },
    {
      "cell_type": "code",
      "execution_count": 141,
      "metadata": {
        "colab": {
          "base_uri": "https://localhost:8080/"
        },
        "id": "yoTwNArO8j1j",
        "outputId": "0834eced-be8a-43f8-903b-3d5a446411b7"
      },
      "outputs": [
        {
          "output_type": "stream",
          "name": "stdout",
          "text": [
            "0.9856609347621211\n",
            "{'n_factors': 5, 'n_epochs': 20, 'reg_pu': 0.1, 'reg_qi': 0.1, 'reg_bu': 0.03, 'reg_bi': 0.02, 'lr_bu': 0.005, 'lr_bi': 0.005}\n"
          ]
        }
      ],
      "source": [
        "# best MAE score\n",
        "print(gsNMF.best_score['mae'])\n",
        "\n",
        "# combination of parameters that gave the best MAE score\n",
        "print(gsNMF.best_params['mae'])"
      ]
    },
    {
      "cell_type": "markdown",
      "metadata": {
        "id": "gBFWljNaAj1B"
      },
      "source": [
        "Для моделі NMF серед деякого набору параметрів виявився найкращим варіант з 5 факторами, 20 епохами за 6 сегментів кросвалідації."
      ]
    },
    {
      "cell_type": "markdown",
      "metadata": {
        "id": "Nud-z26JAnNQ"
      },
      "source": [
        "(27+ хв.оброблення - 324 моделей)"
      ]
    },
    {
      "cell_type": "code",
      "source": [
        "param_grid = {\n",
        "              'n_factors': (15,),\n",
        "              'n_epochs': (50,),\n",
        "              # 'reg_pu': (0.1,),\n",
        "              # 'reg_qi': (0.1,),\n",
        "              # 'reg_bu': (0.03,),\n",
        "              # 'reg_bi': (0.03,),\n",
        "              # 'lr_bu': (0.002,),\n",
        "              # 'lr_bi': (0.002,)\n",
        "              }\n",
        "gsNMF= GridSearchCV(NMF, param_grid, measures=['rmse', 'mae'], cv=6)\n",
        "\n",
        "gsNMF.fit(data)\n",
        "\n",
        "# best RMSE score\n",
        "print(gsNMF.best_score['rmse'])\n",
        "\n",
        "# combination of parameters that gave the best RMSE score\n",
        "print(gsNMF.best_params['rmse'])\n",
        "\n",
        "# best MAE score\n",
        "print(gsNMF.best_score['mae'])\n",
        "\n",
        "# combination of parameters that gave the best MAE score\n",
        "print(gsNMF.best_params['mae'])"
      ],
      "metadata": {
        "colab": {
          "base_uri": "https://localhost:8080/"
        },
        "id": "53hXqcGqABv3",
        "outputId": "bce69627-bbaf-410b-ed5a-edb58dd6bf91"
      },
      "execution_count": 146,
      "outputs": [
        {
          "output_type": "stream",
          "name": "stdout",
          "text": [
            "0.9210037531861538\n",
            "{'n_factors': 15, 'n_epochs': 50}\n",
            "0.704752999211338\n",
            "{'n_factors': 15, 'n_epochs': 50}\n"
          ]
        }
      ]
    },
    {
      "cell_type": "code",
      "execution_count": 147,
      "metadata": {
        "colab": {
          "base_uri": "https://localhost:8080/"
        },
        "id": "H62HV48pzkzo",
        "outputId": "0cc6fc65-678c-4554-c416-c15b16ee19c8"
      },
      "outputs": [
        {
          "output_type": "stream",
          "name": "stdout",
          "text": [
            "0.9047003794765264\n",
            "{'n_factors': 15, 'n_epochs': 50, 'reg_pu': 0.1, 'reg_qi': 0.1, 'reg_bu': 0.03, 'reg_bi': 0.03, 'lr_bu': 0.002, 'lr_bi': 0.002}\n",
            "0.6982012171453905\n",
            "{'n_factors': 15, 'n_epochs': 50, 'reg_pu': 0.1, 'reg_qi': 0.1, 'reg_bu': 0.03, 'reg_bi': 0.03, 'lr_bu': 0.002, 'lr_bi': 0.002}\n"
          ]
        }
      ],
      "source": [
        "param_grid = {\n",
        "              'n_factors': (15,),\n",
        "              'n_epochs': (50,),\n",
        "              'reg_pu': (0.1,),\n",
        "              'reg_qi': (0.1,),\n",
        "              'reg_bu': (0.03,),\n",
        "              'reg_bi': (0.03,),\n",
        "              'lr_bu': (0.002,),\n",
        "              'lr_bi': (0.002,)\n",
        "              }\n",
        "gsNMF= GridSearchCV(NMF, param_grid, measures=['rmse', 'mae'], cv=6)\n",
        "\n",
        "gsNMF.fit(data)\n",
        "\n",
        "# best RMSE score\n",
        "print(gsNMF.best_score['rmse'])\n",
        "\n",
        "# combination of parameters that gave the best RMSE score\n",
        "print(gsNMF.best_params['rmse'])\n",
        "\n",
        "# best MAE score\n",
        "print(gsNMF.best_score['mae'])\n",
        "\n",
        "# combination of parameters that gave the best MAE score\n",
        "print(gsNMF.best_params['mae'])"
      ]
    },
    {
      "cell_type": "code",
      "source": [
        "param_grid = {\n",
        "              'n_factors': (20,),\n",
        "              'n_epochs': (75,),\n",
        "              'init_low': (0,),\n",
        "              'init_high': (5,),\n",
        "              'reg_pu': (0.1,),\n",
        "              'reg_qi': (0.1,),\n",
        "              'reg_bu': (0.03,),\n",
        "              'reg_bi': (0.03,),\n",
        "              'lr_bu': (0.002,),\n",
        "              'lr_bi': (0.002,)\n",
        "              }\n",
        "gsNMF= GridSearchCV(NMF, param_grid, measures=['rmse', 'mae'], cv=6)\n",
        "\n",
        "gsNMF.fit(data)\n",
        "\n",
        "# best RMSE score\n",
        "print(gsNMF.best_score['rmse'])\n",
        "\n",
        "# combination of parameters that gave the best RMSE score\n",
        "print(gsNMF.best_params['rmse'])\n",
        "\n",
        "# best MAE score\n",
        "print(gsNMF.best_score['mae'])\n",
        "\n",
        "# combination of parameters that gave the best MAE score\n",
        "print(gsNMF.best_params['mae'])"
      ],
      "metadata": {
        "colab": {
          "base_uri": "https://localhost:8080/"
        },
        "id": "7JiF52b5CscM",
        "outputId": "7396eb36-9551-43dc-ca49-d73619e6759c"
      },
      "execution_count": 153,
      "outputs": [
        {
          "output_type": "stream",
          "name": "stdout",
          "text": [
            "0.9019063605831592\n",
            "{'n_factors': 20, 'n_epochs': 75, 'init_low': 0, 'init_high': 5, 'reg_pu': 0.1, 'reg_qi': 0.1, 'reg_bu': 0.03, 'reg_bi': 0.03, 'lr_bu': 0.002, 'lr_bi': 0.002}\n",
            "0.7001125031843363\n",
            "{'n_factors': 20, 'n_epochs': 75, 'init_low': 0, 'init_high': 5, 'reg_pu': 0.1, 'reg_qi': 0.1, 'reg_bu': 0.03, 'reg_bi': 0.03, 'lr_bu': 0.002, 'lr_bi': 0.002}\n"
          ]
        }
      ]
    },
    {
      "cell_type": "code",
      "execution_count": 143,
      "metadata": {
        "id": "sdx0O5UA0NPX"
      },
      "outputs": [],
      "source": [
        "parameters = gsNMF.best_params['rmse']\n",
        "compare_results_RMSE.update({f'''NMF_nf{parameters.get('n_factors')}_nep{parameters.get('n_epochs')}''': gsNMF.best_score['rmse']})\n",
        "parameters = gsNMF.best_params['mae']\n",
        "compare_results_MAE.update({f'''NMF_nf{parameters.get('n_factors')}_nep{parameters.get('n_epochs')}''': gsNMF.best_score['mae']})\n",
        "compare_results_fit_time.update({f'''NMF_nf{parameters.get('n_factors')}_nep{parameters.get('n_epochs')}''': 9})"
      ]
    },
    {
      "cell_type": "code",
      "execution_count": 144,
      "metadata": {
        "colab": {
          "base_uri": "https://localhost:8080/"
        },
        "id": "vabyQ30C0SeD",
        "outputId": "72c56138-83f6-448d-9e2e-8e8af3e1c2dd"
      },
      "outputs": [
        {
          "output_type": "execute_result",
          "data": {
            "text/plain": [
              "({'SVD_nf1_nep20': 0.8786474219586929,\n",
              "  'SVDpp_nf1_nep10': 1.8254027708295515,\n",
              "  'NMF_nf5_nep20': 1.1718055094848485},\n",
              " {'SVD_nf1_nep20': 0.6788400349414734,\n",
              "  'SVDpp_nf1_nep10': 1.4984430163830378,\n",
              "  'NMF_nf5_nep20': 0.9867587361073876},\n",
              " {'SVD_nf1_nep20': 7, 'SVDpp_nf1_nep10': 139.0, 'NMF_nf5_nep20': 9})"
            ]
          },
          "metadata": {},
          "execution_count": 144
        }
      ],
      "source": [
        "compare_results_RMSE, compare_results_MAE, compare_results_fit_time"
      ]
    },
    {
      "cell_type": "markdown",
      "source": [],
      "metadata": {
        "id": "7lrMR2gUxcfR"
      }
    },
    {
      "cell_type": "markdown",
      "source": [],
      "metadata": {
        "id": "Yw_tpNUJxccK"
      }
    },
    {
      "cell_type": "markdown",
      "source": [],
      "metadata": {
        "id": "euwJ7c3FxcZE"
      }
    },
    {
      "cell_type": "markdown",
      "source": [],
      "metadata": {
        "id": "sj993FgaxcWY"
      }
    },
    {
      "cell_type": "markdown",
      "source": [],
      "metadata": {
        "id": "WrydPBwcxcTU"
      }
    },
    {
      "cell_type": "markdown",
      "source": [],
      "metadata": {
        "id": "JUvYhLhyxcP9"
      }
    },
    {
      "cell_type": "markdown",
      "metadata": {
        "id": "wHlGQ3Ra0M2p"
      },
      "source": [
        "При ручній зміні меж сітки параметрів за результатами видно, що при підборі певних параметрів виявлена перевага алгоритму SVD як по точності, так і по швидкості тренування моделі. SVD++ виявився шось занадто повільним та за 20 епохами гірший за 10."
      ]
    },
    {
      "cell_type": "markdown",
      "source": [],
      "metadata": {
        "id": "Hi8VvVgiqP6I"
      }
    },
    {
      "cell_type": "code",
      "source": [
        "predictions = algo_SVD.get(best_SVD_by_rmse[:-4]).predict(uid=1, iid=1)\n",
        "predictions"
      ],
      "metadata": {
        "colab": {
          "base_uri": "https://localhost:8080/"
        },
        "id": "FjK_IXAMqQMC",
        "outputId": "d654310e-cbc0-4b72-9623-ae5a395869b9"
      },
      "execution_count": 145,
      "outputs": [
        {
          "output_type": "execute_result",
          "data": {
            "text/plain": [
              "Prediction(uid=1, iid=1, r_ui=None, est=4.586234359102049, details={'was_impossible': False})"
            ]
          },
          "metadata": {},
          "execution_count": 145
        }
      ]
    }
  ],
  "metadata": {
    "colab": {
      "provenance": []
    },
    "kernelspec": {
      "display_name": "Python 3",
      "name": "python3"
    },
    "language_info": {
      "name": "python",
      "version": "3.10.12"
    }
  },
  "nbformat": 4,
  "nbformat_minor": 0
}