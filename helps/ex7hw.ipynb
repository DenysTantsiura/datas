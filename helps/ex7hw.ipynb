{
  "cells": [
    {
      "attachments": {},
      "cell_type": "markdown",
      "metadata": {
        "id": "Sb7Zm2RcINgX"
      },
      "source": [
        "# __рекомендаційні системи__\n",
        "### _!_ (_in `GoogleColab`_)\n",
        "бібліотека `surprise`, котра якраз є по суті додатком до бібліотеки `scikit-learn` для тренування моделей рекомендаційних систем.\n",
        "<br><br>\n",
        "Example: датасет `movielens`, побудова моделі матричної факторизації. У даній бібліотеці він має назву `SVD`.\n",
        "<br>\n",
        "Підбір найкращих параметрів за допомогою крос-валідації, також й інші алгоритмами розрахунків (`SVD++`, `NMF`).\n",
        "<br><br>\n",
        "як саме побудувати дану модель - в документації до даної бібліотеки."
      ]
    },
    {
      "attachments": {},
      "cell_type": "markdown",
      "metadata": {
        "id": "_uzfbKYATILL"
      },
      "source": [
        "!pip install matplotlib"
      ]
    },
    {
      "cell_type": "code",
      "execution_count": 115,
      "metadata": {
        "colab": {
          "base_uri": "https://localhost:8080/"
        },
        "id": "xe180QgSTJa9",
        "outputId": "0b623173-b06e-4258-9a89-db198bed746a"
      },
      "outputs": [
        {
          "name": "stdout",
          "output_type": "stream",
          "text": [
            "Requirement already satisfied: surprise in /usr/local/lib/python3.10/dist-packages (0.1)\n",
            "Requirement already satisfied: scikit-surprise in /usr/local/lib/python3.10/dist-packages (from surprise) (1.1.3)\n",
            "Requirement already satisfied: joblib>=1.0.0 in /usr/local/lib/python3.10/dist-packages (from scikit-surprise->surprise) (1.3.2)\n",
            "Requirement already satisfied: numpy>=1.17.3 in /usr/local/lib/python3.10/dist-packages (from scikit-surprise->surprise) (1.23.5)\n",
            "Requirement already satisfied: scipy>=1.3.2 in /usr/local/lib/python3.10/dist-packages (from scikit-surprise->surprise) (1.10.1)\n"
          ]
        }
      ],
      "source": [
        "!pip install surprise"
      ]
    },
    {
      "cell_type": "code",
      "execution_count": 116,
      "metadata": {
        "id": "QkzptropHKrs"
      },
      "outputs": [],
      "source": [
        "import os\n",
        "from pathlib import Path\n",
        "import random\n",
        "import shutil\n",
        "\n",
        "from google.colab import files\n",
        "import numpy as np\n",
        "import pandas as pd\n",
        "from surprise import SVD\n",
        "from surprise import Dataset, Reader\n",
        "from surprise.model_selection import cross_validate"
      ]
    },
    {
      "cell_type": "code",
      "execution_count": 117,
      "metadata": {
        "id": "I1AyqqMZJhk4"
      },
      "outputs": [],
      "source": [
        "def set_seed(seed_value: int) -> None:\n",
        "    \"\"\"Set a random state for repeatability of results.\"\"\"\n",
        "    random.seed(seed_value)\n",
        "    np.random.seed(seed_value)\n",
        "    # tf.random.set_seed(seed_value)\n",
        "    os.environ['PYTHONHASHSEED'] = str(seed_value)\n",
        "    os.environ['TF_DETERMINISTIC_OPS'] = 'true'\n",
        "\n",
        "\n",
        "set_seed(1)"
      ]
    },
    {
      "attachments": {},
      "cell_type": "markdown",
      "metadata": {
        "id": "T9SYxv1_IpTA"
      },
      "source": [
        "### __`OBTAIN` & `SCRUB`__ + __`EXPLORE`__ (DATASET)"
      ]
    },
    {
      "attachments": {},
      "cell_type": "markdown",
      "metadata": {
        "id": "8glYloXoIp4T"
      },
      "source": [
        "- links.csv - movieId, imdbId, tmdbId\n",
        "- movies.csv - movieId, title, genres\n",
        "- ratings.csv - userId, movieId, rating, timestamp\n",
        "- tags.csv - userId, movieId, tag, timestamp"
      ]
    },
    {
      "cell_type": "code",
      "execution_count": 118,
      "metadata": {
        "id": "oJrW_8iKYXFL"
      },
      "outputs": [],
      "source": [
        "# data = Dataset.load_builtin('ml-100k')"
      ]
    },
    {
      "attachments": {},
      "cell_type": "markdown",
      "metadata": {
        "id": "nPqklEKITGwC"
      },
      "source": [
        "Column names are irrelevant, but specify only one rating per line, and each line needs to respect the following structure:<br> `user ; item ; rating ; [timestamp]`"
      ]
    },
    {
      "cell_type": "code",
      "execution_count": 119,
      "metadata": {
        "id": "Bf7EsdefPRcp"
      },
      "outputs": [],
      "source": [
        "# # data.__dict__\n",
        "# data.raw_ratings[:3]"
      ]
    },
    {
      "cell_type": "code",
      "execution_count": 120,
      "metadata": {
        "id": "FMN7ig0fU7_V"
      },
      "outputs": [],
      "source": [
        "# r_mean = np.mean([r[2] for r in data.raw_ratings])\n",
        "# r_std = np.std([r[2] for r in data.raw_ratings])"
      ]
    },
    {
      "cell_type": "code",
      "execution_count": 121,
      "metadata": {
        "id": "j0m4yInYTTsq"
      },
      "outputs": [],
      "source": [
        "# max([r[2] for r in data.raw_ratings]), min([r[2] for r in data.raw_ratings]), r_mean, r_std"
      ]
    },
    {
      "attachments": {},
      "cell_type": "markdown",
      "metadata": {
        "id": "QRePOMcZT0tJ"
      },
      "source": [
        "1.0 мінімальний наявний рейтинг, тому логічно що межа мінімума 0.0:"
      ]
    },
    {
      "cell_type": "code",
      "execution_count": 122,
      "metadata": {
        "id": "-meAf0RiIw_r"
      },
      "outputs": [],
      "source": [
        "def read_from_csvfile(file: Path) -> pd.DataFrame:\n",
        "    \"\"\"Read content from csv-file and return dataframe from content.\"\"\"\n",
        "    df = pd.read_csv(file)\n",
        "\n",
        "    return df"
      ]
    },
    {
      "cell_type": "code",
      "execution_count": 123,
      "metadata": {
        "colab": {
          "base_uri": "https://localhost:8080/",
          "height": 412
        },
        "id": "MgjgOxb5SLjT",
        "outputId": "db1e7155-d22a-49e7-e979-4edf263f3121"
      },
      "outputs": [
        {
          "data": {
            "text/html": [
              "\n",
              "     <input type=\"file\" id=\"files-0e5b5f58-9a8a-453d-ac07-4027e9ba65ad\" name=\"files[]\" multiple disabled\n",
              "        style=\"border:none\" />\n",
              "     <output id=\"result-0e5b5f58-9a8a-453d-ac07-4027e9ba65ad\">\n",
              "      Upload widget is only available when the cell has been executed in the\n",
              "      current browser session. Please rerun this cell to enable.\n",
              "      </output>\n",
              "      <script>// Copyright 2017 Google LLC\n",
              "//\n",
              "// Licensed under the Apache License, Version 2.0 (the \"License\");\n",
              "// you may not use this file except in compliance with the License.\n",
              "// You may obtain a copy of the License at\n",
              "//\n",
              "//      http://www.apache.org/licenses/LICENSE-2.0\n",
              "//\n",
              "// Unless required by applicable law or agreed to in writing, software\n",
              "// distributed under the License is distributed on an \"AS IS\" BASIS,\n",
              "// WITHOUT WARRANTIES OR CONDITIONS OF ANY KIND, either express or implied.\n",
              "// See the License for the specific language governing permissions and\n",
              "// limitations under the License.\n",
              "\n",
              "/**\n",
              " * @fileoverview Helpers for google.colab Python module.\n",
              " */\n",
              "(function(scope) {\n",
              "function span(text, styleAttributes = {}) {\n",
              "  const element = document.createElement('span');\n",
              "  element.textContent = text;\n",
              "  for (const key of Object.keys(styleAttributes)) {\n",
              "    element.style[key] = styleAttributes[key];\n",
              "  }\n",
              "  return element;\n",
              "}\n",
              "\n",
              "// Max number of bytes which will be uploaded at a time.\n",
              "const MAX_PAYLOAD_SIZE = 100 * 1024;\n",
              "\n",
              "function _uploadFiles(inputId, outputId) {\n",
              "  const steps = uploadFilesStep(inputId, outputId);\n",
              "  const outputElement = document.getElementById(outputId);\n",
              "  // Cache steps on the outputElement to make it available for the next call\n",
              "  // to uploadFilesContinue from Python.\n",
              "  outputElement.steps = steps;\n",
              "\n",
              "  return _uploadFilesContinue(outputId);\n",
              "}\n",
              "\n",
              "// This is roughly an async generator (not supported in the browser yet),\n",
              "// where there are multiple asynchronous steps and the Python side is going\n",
              "// to poll for completion of each step.\n",
              "// This uses a Promise to block the python side on completion of each step,\n",
              "// then passes the result of the previous step as the input to the next step.\n",
              "function _uploadFilesContinue(outputId) {\n",
              "  const outputElement = document.getElementById(outputId);\n",
              "  const steps = outputElement.steps;\n",
              "\n",
              "  const next = steps.next(outputElement.lastPromiseValue);\n",
              "  return Promise.resolve(next.value.promise).then((value) => {\n",
              "    // Cache the last promise value to make it available to the next\n",
              "    // step of the generator.\n",
              "    outputElement.lastPromiseValue = value;\n",
              "    return next.value.response;\n",
              "  });\n",
              "}\n",
              "\n",
              "/**\n",
              " * Generator function which is called between each async step of the upload\n",
              " * process.\n",
              " * @param {string} inputId Element ID of the input file picker element.\n",
              " * @param {string} outputId Element ID of the output display.\n",
              " * @return {!Iterable<!Object>} Iterable of next steps.\n",
              " */\n",
              "function* uploadFilesStep(inputId, outputId) {\n",
              "  const inputElement = document.getElementById(inputId);\n",
              "  inputElement.disabled = false;\n",
              "\n",
              "  const outputElement = document.getElementById(outputId);\n",
              "  outputElement.innerHTML = '';\n",
              "\n",
              "  const pickedPromise = new Promise((resolve) => {\n",
              "    inputElement.addEventListener('change', (e) => {\n",
              "      resolve(e.target.files);\n",
              "    });\n",
              "  });\n",
              "\n",
              "  const cancel = document.createElement('button');\n",
              "  inputElement.parentElement.appendChild(cancel);\n",
              "  cancel.textContent = 'Cancel upload';\n",
              "  const cancelPromise = new Promise((resolve) => {\n",
              "    cancel.onclick = () => {\n",
              "      resolve(null);\n",
              "    };\n",
              "  });\n",
              "\n",
              "  // Wait for the user to pick the files.\n",
              "  const files = yield {\n",
              "    promise: Promise.race([pickedPromise, cancelPromise]),\n",
              "    response: {\n",
              "      action: 'starting',\n",
              "    }\n",
              "  };\n",
              "\n",
              "  cancel.remove();\n",
              "\n",
              "  // Disable the input element since further picks are not allowed.\n",
              "  inputElement.disabled = true;\n",
              "\n",
              "  if (!files) {\n",
              "    return {\n",
              "      response: {\n",
              "        action: 'complete',\n",
              "      }\n",
              "    };\n",
              "  }\n",
              "\n",
              "  for (const file of files) {\n",
              "    const li = document.createElement('li');\n",
              "    li.append(span(file.name, {fontWeight: 'bold'}));\n",
              "    li.append(span(\n",
              "        `(${file.type || 'n/a'}) - ${file.size} bytes, ` +\n",
              "        `last modified: ${\n",
              "            file.lastModifiedDate ? file.lastModifiedDate.toLocaleDateString() :\n",
              "                                    'n/a'} - `));\n",
              "    const percent = span('0% done');\n",
              "    li.appendChild(percent);\n",
              "\n",
              "    outputElement.appendChild(li);\n",
              "\n",
              "    const fileDataPromise = new Promise((resolve) => {\n",
              "      const reader = new FileReader();\n",
              "      reader.onload = (e) => {\n",
              "        resolve(e.target.result);\n",
              "      };\n",
              "      reader.readAsArrayBuffer(file);\n",
              "    });\n",
              "    // Wait for the data to be ready.\n",
              "    let fileData = yield {\n",
              "      promise: fileDataPromise,\n",
              "      response: {\n",
              "        action: 'continue',\n",
              "      }\n",
              "    };\n",
              "\n",
              "    // Use a chunked sending to avoid message size limits. See b/62115660.\n",
              "    let position = 0;\n",
              "    do {\n",
              "      const length = Math.min(fileData.byteLength - position, MAX_PAYLOAD_SIZE);\n",
              "      const chunk = new Uint8Array(fileData, position, length);\n",
              "      position += length;\n",
              "\n",
              "      const base64 = btoa(String.fromCharCode.apply(null, chunk));\n",
              "      yield {\n",
              "        response: {\n",
              "          action: 'append',\n",
              "          file: file.name,\n",
              "          data: base64,\n",
              "        },\n",
              "      };\n",
              "\n",
              "      let percentDone = fileData.byteLength === 0 ?\n",
              "          100 :\n",
              "          Math.round((position / fileData.byteLength) * 100);\n",
              "      percent.textContent = `${percentDone}% done`;\n",
              "\n",
              "    } while (position < fileData.byteLength);\n",
              "  }\n",
              "\n",
              "  // All done.\n",
              "  yield {\n",
              "    response: {\n",
              "      action: 'complete',\n",
              "    }\n",
              "  };\n",
              "}\n",
              "\n",
              "scope.google = scope.google || {};\n",
              "scope.google.colab = scope.google.colab || {};\n",
              "scope.google.colab._files = {\n",
              "  _uploadFiles,\n",
              "  _uploadFilesContinue,\n",
              "};\n",
              "})(self);\n",
              "</script> "
            ],
            "text/plain": [
              "<IPython.core.display.HTML object>"
            ]
          },
          "metadata": {},
          "output_type": "display_data"
        },
        {
          "name": "stdout",
          "output_type": "stream",
          "text": [
            "Saving links.csv to links.csv\n",
            "Saving movie_ids.txt to movie_ids.txt\n",
            "Saving movies.csv to movies.csv\n",
            "Saving movies.mat to movies.mat\n",
            "Saving ratings.csv to ratings.csv\n",
            "Saving README.txt to README.txt\n",
            "Saving tags.csv to tags.csv\n",
            "move links.csv to ml/links.csv\n",
            "move movie_ids.txt to ml/movie_ids.txt\n",
            "move movies.csv to ml/movies.csv\n",
            "move movies.mat to ml/movies.mat\n",
            "move ratings.csv to ml/ratings.csv\n",
            "move README.txt to ml/README.txt\n",
            "move tags.csv to ml/tags.csv\n"
          ]
        }
      ],
      "source": [
        "# Create new folder\n",
        "new_folder = 'ml'\n",
        "\n",
        "if os.path.isdir(new_folder):\n",
        "  shutil.rmtree(new_folder)\n",
        "\n",
        "os.mkdir(new_folder)\n",
        "\n",
        "# Upload Files to GoogleColab\n",
        "uploaded = files.upload()\n",
        "for filename in uploaded.keys():\n",
        "  dst_path = os.path.join(new_folder, filename)\n",
        "  print(f'move {filename} to {dst_path}')\n",
        "  shutil.move(filename, dst_path)"
      ]
    },
    {
      "cell_type": "code",
      "execution_count": 124,
      "metadata": {
        "id": "82_VingRI5ZS"
      },
      "outputs": [],
      "source": [
        "links = read_from_csvfile('/content/ml/links.csv')\n",
        "movies = read_from_csvfile('/content/ml/movies.csv')\n",
        "ratings = read_from_csvfile('/content/ml/ratings.csv')\n",
        "tags = read_from_csvfile('/content/ml/tags.csv')"
      ]
    },
    {
      "cell_type": "code",
      "execution_count": 125,
      "metadata": {
        "colab": {
          "base_uri": "https://localhost:8080/",
          "height": 143
        },
        "id": "ew26p_LPI8sv",
        "outputId": "d62f0edd-266b-4576-82c3-1ed335fff5fd"
      },
      "outputs": [
        {
          "data": {
            "text/html": [
              "\n",
              "  <div id=\"df-2b42aa38-d40b-4519-aa64-351adc2387ac\" class=\"colab-df-container\">\n",
              "    <div>\n",
              "<style scoped>\n",
              "    .dataframe tbody tr th:only-of-type {\n",
              "        vertical-align: middle;\n",
              "    }\n",
              "\n",
              "    .dataframe tbody tr th {\n",
              "        vertical-align: top;\n",
              "    }\n",
              "\n",
              "    .dataframe thead th {\n",
              "        text-align: right;\n",
              "    }\n",
              "</style>\n",
              "<table border=\"1\" class=\"dataframe\">\n",
              "  <thead>\n",
              "    <tr style=\"text-align: right;\">\n",
              "      <th></th>\n",
              "      <th>movieId</th>\n",
              "      <th>imdbId</th>\n",
              "      <th>tmdbId</th>\n",
              "    </tr>\n",
              "  </thead>\n",
              "  <tbody>\n",
              "    <tr>\n",
              "      <th>9739</th>\n",
              "      <td>193585</td>\n",
              "      <td>6397426</td>\n",
              "      <td>479308.0</td>\n",
              "    </tr>\n",
              "    <tr>\n",
              "      <th>9740</th>\n",
              "      <td>193587</td>\n",
              "      <td>8391976</td>\n",
              "      <td>483455.0</td>\n",
              "    </tr>\n",
              "    <tr>\n",
              "      <th>9741</th>\n",
              "      <td>193609</td>\n",
              "      <td>101726</td>\n",
              "      <td>37891.0</td>\n",
              "    </tr>\n",
              "  </tbody>\n",
              "</table>\n",
              "</div>\n",
              "    <div class=\"colab-df-buttons\">\n",
              "\n",
              "  <div class=\"colab-df-container\">\n",
              "    <button class=\"colab-df-convert\" onclick=\"convertToInteractive('df-2b42aa38-d40b-4519-aa64-351adc2387ac')\"\n",
              "            title=\"Convert this dataframe to an interactive table.\"\n",
              "            style=\"display:none;\">\n",
              "\n",
              "  <svg xmlns=\"http://www.w3.org/2000/svg\" height=\"24px\" viewBox=\"0 -960 960 960\">\n",
              "    <path d=\"M120-120v-720h720v720H120Zm60-500h600v-160H180v160Zm220 220h160v-160H400v160Zm0 220h160v-160H400v160ZM180-400h160v-160H180v160Zm440 0h160v-160H620v160ZM180-180h160v-160H180v160Zm440 0h160v-160H620v160Z\"/>\n",
              "  </svg>\n",
              "    </button>\n",
              "\n",
              "  <style>\n",
              "    .colab-df-container {\n",
              "      display:flex;\n",
              "      gap: 12px;\n",
              "    }\n",
              "\n",
              "    .colab-df-convert {\n",
              "      background-color: #E8F0FE;\n",
              "      border: none;\n",
              "      border-radius: 50%;\n",
              "      cursor: pointer;\n",
              "      display: none;\n",
              "      fill: #1967D2;\n",
              "      height: 32px;\n",
              "      padding: 0 0 0 0;\n",
              "      width: 32px;\n",
              "    }\n",
              "\n",
              "    .colab-df-convert:hover {\n",
              "      background-color: #E2EBFA;\n",
              "      box-shadow: 0px 1px 2px rgba(60, 64, 67, 0.3), 0px 1px 3px 1px rgba(60, 64, 67, 0.15);\n",
              "      fill: #174EA6;\n",
              "    }\n",
              "\n",
              "    .colab-df-buttons div {\n",
              "      margin-bottom: 4px;\n",
              "    }\n",
              "\n",
              "    [theme=dark] .colab-df-convert {\n",
              "      background-color: #3B4455;\n",
              "      fill: #D2E3FC;\n",
              "    }\n",
              "\n",
              "    [theme=dark] .colab-df-convert:hover {\n",
              "      background-color: #434B5C;\n",
              "      box-shadow: 0px 1px 3px 1px rgba(0, 0, 0, 0.15);\n",
              "      filter: drop-shadow(0px 1px 2px rgba(0, 0, 0, 0.3));\n",
              "      fill: #FFFFFF;\n",
              "    }\n",
              "  </style>\n",
              "\n",
              "    <script>\n",
              "      const buttonEl =\n",
              "        document.querySelector('#df-2b42aa38-d40b-4519-aa64-351adc2387ac button.colab-df-convert');\n",
              "      buttonEl.style.display =\n",
              "        google.colab.kernel.accessAllowed ? 'block' : 'none';\n",
              "\n",
              "      async function convertToInteractive(key) {\n",
              "        const element = document.querySelector('#df-2b42aa38-d40b-4519-aa64-351adc2387ac');\n",
              "        const dataTable =\n",
              "          await google.colab.kernel.invokeFunction('convertToInteractive',\n",
              "                                                    [key], {});\n",
              "        if (!dataTable) return;\n",
              "\n",
              "        const docLinkHtml = 'Like what you see? Visit the ' +\n",
              "          '<a target=\"_blank\" href=https://colab.research.google.com/notebooks/data_table.ipynb>data table notebook</a>'\n",
              "          + ' to learn more about interactive tables.';\n",
              "        element.innerHTML = '';\n",
              "        dataTable['output_type'] = 'display_data';\n",
              "        await google.colab.output.renderOutput(dataTable, element);\n",
              "        const docLink = document.createElement('div');\n",
              "        docLink.innerHTML = docLinkHtml;\n",
              "        element.appendChild(docLink);\n",
              "      }\n",
              "    </script>\n",
              "  </div>\n",
              "\n",
              "\n",
              "<div id=\"df-344988c2-bb03-4f47-ba97-f406c8b6c848\">\n",
              "  <button class=\"colab-df-quickchart\" onclick=\"quickchart('df-344988c2-bb03-4f47-ba97-f406c8b6c848')\"\n",
              "            title=\"Suggest charts.\"\n",
              "            style=\"display:none;\">\n",
              "\n",
              "<svg xmlns=\"http://www.w3.org/2000/svg\" height=\"24px\"viewBox=\"0 0 24 24\"\n",
              "     width=\"24px\">\n",
              "    <g>\n",
              "        <path d=\"M19 3H5c-1.1 0-2 .9-2 2v14c0 1.1.9 2 2 2h14c1.1 0 2-.9 2-2V5c0-1.1-.9-2-2-2zM9 17H7v-7h2v7zm4 0h-2V7h2v10zm4 0h-2v-4h2v4z\"/>\n",
              "    </g>\n",
              "</svg>\n",
              "  </button>\n",
              "\n",
              "<style>\n",
              "  .colab-df-quickchart {\n",
              "      --bg-color: #E8F0FE;\n",
              "      --fill-color: #1967D2;\n",
              "      --hover-bg-color: #E2EBFA;\n",
              "      --hover-fill-color: #174EA6;\n",
              "      --disabled-fill-color: #AAA;\n",
              "      --disabled-bg-color: #DDD;\n",
              "  }\n",
              "\n",
              "  [theme=dark] .colab-df-quickchart {\n",
              "      --bg-color: #3B4455;\n",
              "      --fill-color: #D2E3FC;\n",
              "      --hover-bg-color: #434B5C;\n",
              "      --hover-fill-color: #FFFFFF;\n",
              "      --disabled-bg-color: #3B4455;\n",
              "      --disabled-fill-color: #666;\n",
              "  }\n",
              "\n",
              "  .colab-df-quickchart {\n",
              "    background-color: var(--bg-color);\n",
              "    border: none;\n",
              "    border-radius: 50%;\n",
              "    cursor: pointer;\n",
              "    display: none;\n",
              "    fill: var(--fill-color);\n",
              "    height: 32px;\n",
              "    padding: 0;\n",
              "    width: 32px;\n",
              "  }\n",
              "\n",
              "  .colab-df-quickchart:hover {\n",
              "    background-color: var(--hover-bg-color);\n",
              "    box-shadow: 0 1px 2px rgba(60, 64, 67, 0.3), 0 1px 3px 1px rgba(60, 64, 67, 0.15);\n",
              "    fill: var(--button-hover-fill-color);\n",
              "  }\n",
              "\n",
              "  .colab-df-quickchart-complete:disabled,\n",
              "  .colab-df-quickchart-complete:disabled:hover {\n",
              "    background-color: var(--disabled-bg-color);\n",
              "    fill: var(--disabled-fill-color);\n",
              "    box-shadow: none;\n",
              "  }\n",
              "\n",
              "  .colab-df-spinner {\n",
              "    border: 2px solid var(--fill-color);\n",
              "    border-color: transparent;\n",
              "    border-bottom-color: var(--fill-color);\n",
              "    animation:\n",
              "      spin 1s steps(1) infinite;\n",
              "  }\n",
              "\n",
              "  @keyframes spin {\n",
              "    0% {\n",
              "      border-color: transparent;\n",
              "      border-bottom-color: var(--fill-color);\n",
              "      border-left-color: var(--fill-color);\n",
              "    }\n",
              "    20% {\n",
              "      border-color: transparent;\n",
              "      border-left-color: var(--fill-color);\n",
              "      border-top-color: var(--fill-color);\n",
              "    }\n",
              "    30% {\n",
              "      border-color: transparent;\n",
              "      border-left-color: var(--fill-color);\n",
              "      border-top-color: var(--fill-color);\n",
              "      border-right-color: var(--fill-color);\n",
              "    }\n",
              "    40% {\n",
              "      border-color: transparent;\n",
              "      border-right-color: var(--fill-color);\n",
              "      border-top-color: var(--fill-color);\n",
              "    }\n",
              "    60% {\n",
              "      border-color: transparent;\n",
              "      border-right-color: var(--fill-color);\n",
              "    }\n",
              "    80% {\n",
              "      border-color: transparent;\n",
              "      border-right-color: var(--fill-color);\n",
              "      border-bottom-color: var(--fill-color);\n",
              "    }\n",
              "    90% {\n",
              "      border-color: transparent;\n",
              "      border-bottom-color: var(--fill-color);\n",
              "    }\n",
              "  }\n",
              "</style>\n",
              "\n",
              "  <script>\n",
              "    async function quickchart(key) {\n",
              "      const quickchartButtonEl =\n",
              "        document.querySelector('#' + key + ' button');\n",
              "      quickchartButtonEl.disabled = true;  // To prevent multiple clicks.\n",
              "      quickchartButtonEl.classList.add('colab-df-spinner');\n",
              "      try {\n",
              "        const charts = await google.colab.kernel.invokeFunction(\n",
              "            'suggestCharts', [key], {});\n",
              "      } catch (error) {\n",
              "        console.error('Error during call to suggestCharts:', error);\n",
              "      }\n",
              "      quickchartButtonEl.classList.remove('colab-df-spinner');\n",
              "      quickchartButtonEl.classList.add('colab-df-quickchart-complete');\n",
              "    }\n",
              "    (() => {\n",
              "      let quickchartButtonEl =\n",
              "        document.querySelector('#df-344988c2-bb03-4f47-ba97-f406c8b6c848 button');\n",
              "      quickchartButtonEl.style.display =\n",
              "        google.colab.kernel.accessAllowed ? 'block' : 'none';\n",
              "    })();\n",
              "  </script>\n",
              "</div>\n",
              "    </div>\n",
              "  </div>\n"
            ],
            "text/plain": [
              "      movieId   imdbId    tmdbId\n",
              "9739   193585  6397426  479308.0\n",
              "9740   193587  8391976  483455.0\n",
              "9741   193609   101726   37891.0"
            ]
          },
          "execution_count": 125,
          "metadata": {},
          "output_type": "execute_result"
        }
      ],
      "source": [
        "links.tail(3)"
      ]
    },
    {
      "cell_type": "code",
      "execution_count": 126,
      "metadata": {
        "colab": {
          "base_uri": "https://localhost:8080/",
          "height": 143
        },
        "id": "LVnIr_pNI-w8",
        "outputId": "5f95c63b-2edb-4a21-d738-883a2833fe11"
      },
      "outputs": [
        {
          "data": {
            "text/html": [
              "\n",
              "  <div id=\"df-5242826a-97ef-491e-8b91-df142541795d\" class=\"colab-df-container\">\n",
              "    <div>\n",
              "<style scoped>\n",
              "    .dataframe tbody tr th:only-of-type {\n",
              "        vertical-align: middle;\n",
              "    }\n",
              "\n",
              "    .dataframe tbody tr th {\n",
              "        vertical-align: top;\n",
              "    }\n",
              "\n",
              "    .dataframe thead th {\n",
              "        text-align: right;\n",
              "    }\n",
              "</style>\n",
              "<table border=\"1\" class=\"dataframe\">\n",
              "  <thead>\n",
              "    <tr style=\"text-align: right;\">\n",
              "      <th></th>\n",
              "      <th>movieId</th>\n",
              "      <th>title</th>\n",
              "      <th>genres</th>\n",
              "    </tr>\n",
              "  </thead>\n",
              "  <tbody>\n",
              "    <tr>\n",
              "      <th>9739</th>\n",
              "      <td>193585</td>\n",
              "      <td>Flint (2017)</td>\n",
              "      <td>Drama</td>\n",
              "    </tr>\n",
              "    <tr>\n",
              "      <th>9740</th>\n",
              "      <td>193587</td>\n",
              "      <td>Bungo Stray Dogs: Dead Apple (2018)</td>\n",
              "      <td>Action|Animation</td>\n",
              "    </tr>\n",
              "    <tr>\n",
              "      <th>9741</th>\n",
              "      <td>193609</td>\n",
              "      <td>Andrew Dice Clay: Dice Rules (1991)</td>\n",
              "      <td>Comedy</td>\n",
              "    </tr>\n",
              "  </tbody>\n",
              "</table>\n",
              "</div>\n",
              "    <div class=\"colab-df-buttons\">\n",
              "\n",
              "  <div class=\"colab-df-container\">\n",
              "    <button class=\"colab-df-convert\" onclick=\"convertToInteractive('df-5242826a-97ef-491e-8b91-df142541795d')\"\n",
              "            title=\"Convert this dataframe to an interactive table.\"\n",
              "            style=\"display:none;\">\n",
              "\n",
              "  <svg xmlns=\"http://www.w3.org/2000/svg\" height=\"24px\" viewBox=\"0 -960 960 960\">\n",
              "    <path d=\"M120-120v-720h720v720H120Zm60-500h600v-160H180v160Zm220 220h160v-160H400v160Zm0 220h160v-160H400v160ZM180-400h160v-160H180v160Zm440 0h160v-160H620v160ZM180-180h160v-160H180v160Zm440 0h160v-160H620v160Z\"/>\n",
              "  </svg>\n",
              "    </button>\n",
              "\n",
              "  <style>\n",
              "    .colab-df-container {\n",
              "      display:flex;\n",
              "      gap: 12px;\n",
              "    }\n",
              "\n",
              "    .colab-df-convert {\n",
              "      background-color: #E8F0FE;\n",
              "      border: none;\n",
              "      border-radius: 50%;\n",
              "      cursor: pointer;\n",
              "      display: none;\n",
              "      fill: #1967D2;\n",
              "      height: 32px;\n",
              "      padding: 0 0 0 0;\n",
              "      width: 32px;\n",
              "    }\n",
              "\n",
              "    .colab-df-convert:hover {\n",
              "      background-color: #E2EBFA;\n",
              "      box-shadow: 0px 1px 2px rgba(60, 64, 67, 0.3), 0px 1px 3px 1px rgba(60, 64, 67, 0.15);\n",
              "      fill: #174EA6;\n",
              "    }\n",
              "\n",
              "    .colab-df-buttons div {\n",
              "      margin-bottom: 4px;\n",
              "    }\n",
              "\n",
              "    [theme=dark] .colab-df-convert {\n",
              "      background-color: #3B4455;\n",
              "      fill: #D2E3FC;\n",
              "    }\n",
              "\n",
              "    [theme=dark] .colab-df-convert:hover {\n",
              "      background-color: #434B5C;\n",
              "      box-shadow: 0px 1px 3px 1px rgba(0, 0, 0, 0.15);\n",
              "      filter: drop-shadow(0px 1px 2px rgba(0, 0, 0, 0.3));\n",
              "      fill: #FFFFFF;\n",
              "    }\n",
              "  </style>\n",
              "\n",
              "    <script>\n",
              "      const buttonEl =\n",
              "        document.querySelector('#df-5242826a-97ef-491e-8b91-df142541795d button.colab-df-convert');\n",
              "      buttonEl.style.display =\n",
              "        google.colab.kernel.accessAllowed ? 'block' : 'none';\n",
              "\n",
              "      async function convertToInteractive(key) {\n",
              "        const element = document.querySelector('#df-5242826a-97ef-491e-8b91-df142541795d');\n",
              "        const dataTable =\n",
              "          await google.colab.kernel.invokeFunction('convertToInteractive',\n",
              "                                                    [key], {});\n",
              "        if (!dataTable) return;\n",
              "\n",
              "        const docLinkHtml = 'Like what you see? Visit the ' +\n",
              "          '<a target=\"_blank\" href=https://colab.research.google.com/notebooks/data_table.ipynb>data table notebook</a>'\n",
              "          + ' to learn more about interactive tables.';\n",
              "        element.innerHTML = '';\n",
              "        dataTable['output_type'] = 'display_data';\n",
              "        await google.colab.output.renderOutput(dataTable, element);\n",
              "        const docLink = document.createElement('div');\n",
              "        docLink.innerHTML = docLinkHtml;\n",
              "        element.appendChild(docLink);\n",
              "      }\n",
              "    </script>\n",
              "  </div>\n",
              "\n",
              "\n",
              "<div id=\"df-b313c502-da66-4d14-be56-3de7d4a6bf6a\">\n",
              "  <button class=\"colab-df-quickchart\" onclick=\"quickchart('df-b313c502-da66-4d14-be56-3de7d4a6bf6a')\"\n",
              "            title=\"Suggest charts.\"\n",
              "            style=\"display:none;\">\n",
              "\n",
              "<svg xmlns=\"http://www.w3.org/2000/svg\" height=\"24px\"viewBox=\"0 0 24 24\"\n",
              "     width=\"24px\">\n",
              "    <g>\n",
              "        <path d=\"M19 3H5c-1.1 0-2 .9-2 2v14c0 1.1.9 2 2 2h14c1.1 0 2-.9 2-2V5c0-1.1-.9-2-2-2zM9 17H7v-7h2v7zm4 0h-2V7h2v10zm4 0h-2v-4h2v4z\"/>\n",
              "    </g>\n",
              "</svg>\n",
              "  </button>\n",
              "\n",
              "<style>\n",
              "  .colab-df-quickchart {\n",
              "      --bg-color: #E8F0FE;\n",
              "      --fill-color: #1967D2;\n",
              "      --hover-bg-color: #E2EBFA;\n",
              "      --hover-fill-color: #174EA6;\n",
              "      --disabled-fill-color: #AAA;\n",
              "      --disabled-bg-color: #DDD;\n",
              "  }\n",
              "\n",
              "  [theme=dark] .colab-df-quickchart {\n",
              "      --bg-color: #3B4455;\n",
              "      --fill-color: #D2E3FC;\n",
              "      --hover-bg-color: #434B5C;\n",
              "      --hover-fill-color: #FFFFFF;\n",
              "      --disabled-bg-color: #3B4455;\n",
              "      --disabled-fill-color: #666;\n",
              "  }\n",
              "\n",
              "  .colab-df-quickchart {\n",
              "    background-color: var(--bg-color);\n",
              "    border: none;\n",
              "    border-radius: 50%;\n",
              "    cursor: pointer;\n",
              "    display: none;\n",
              "    fill: var(--fill-color);\n",
              "    height: 32px;\n",
              "    padding: 0;\n",
              "    width: 32px;\n",
              "  }\n",
              "\n",
              "  .colab-df-quickchart:hover {\n",
              "    background-color: var(--hover-bg-color);\n",
              "    box-shadow: 0 1px 2px rgba(60, 64, 67, 0.3), 0 1px 3px 1px rgba(60, 64, 67, 0.15);\n",
              "    fill: var(--button-hover-fill-color);\n",
              "  }\n",
              "\n",
              "  .colab-df-quickchart-complete:disabled,\n",
              "  .colab-df-quickchart-complete:disabled:hover {\n",
              "    background-color: var(--disabled-bg-color);\n",
              "    fill: var(--disabled-fill-color);\n",
              "    box-shadow: none;\n",
              "  }\n",
              "\n",
              "  .colab-df-spinner {\n",
              "    border: 2px solid var(--fill-color);\n",
              "    border-color: transparent;\n",
              "    border-bottom-color: var(--fill-color);\n",
              "    animation:\n",
              "      spin 1s steps(1) infinite;\n",
              "  }\n",
              "\n",
              "  @keyframes spin {\n",
              "    0% {\n",
              "      border-color: transparent;\n",
              "      border-bottom-color: var(--fill-color);\n",
              "      border-left-color: var(--fill-color);\n",
              "    }\n",
              "    20% {\n",
              "      border-color: transparent;\n",
              "      border-left-color: var(--fill-color);\n",
              "      border-top-color: var(--fill-color);\n",
              "    }\n",
              "    30% {\n",
              "      border-color: transparent;\n",
              "      border-left-color: var(--fill-color);\n",
              "      border-top-color: var(--fill-color);\n",
              "      border-right-color: var(--fill-color);\n",
              "    }\n",
              "    40% {\n",
              "      border-color: transparent;\n",
              "      border-right-color: var(--fill-color);\n",
              "      border-top-color: var(--fill-color);\n",
              "    }\n",
              "    60% {\n",
              "      border-color: transparent;\n",
              "      border-right-color: var(--fill-color);\n",
              "    }\n",
              "    80% {\n",
              "      border-color: transparent;\n",
              "      border-right-color: var(--fill-color);\n",
              "      border-bottom-color: var(--fill-color);\n",
              "    }\n",
              "    90% {\n",
              "      border-color: transparent;\n",
              "      border-bottom-color: var(--fill-color);\n",
              "    }\n",
              "  }\n",
              "</style>\n",
              "\n",
              "  <script>\n",
              "    async function quickchart(key) {\n",
              "      const quickchartButtonEl =\n",
              "        document.querySelector('#' + key + ' button');\n",
              "      quickchartButtonEl.disabled = true;  // To prevent multiple clicks.\n",
              "      quickchartButtonEl.classList.add('colab-df-spinner');\n",
              "      try {\n",
              "        const charts = await google.colab.kernel.invokeFunction(\n",
              "            'suggestCharts', [key], {});\n",
              "      } catch (error) {\n",
              "        console.error('Error during call to suggestCharts:', error);\n",
              "      }\n",
              "      quickchartButtonEl.classList.remove('colab-df-spinner');\n",
              "      quickchartButtonEl.classList.add('colab-df-quickchart-complete');\n",
              "    }\n",
              "    (() => {\n",
              "      let quickchartButtonEl =\n",
              "        document.querySelector('#df-b313c502-da66-4d14-be56-3de7d4a6bf6a button');\n",
              "      quickchartButtonEl.style.display =\n",
              "        google.colab.kernel.accessAllowed ? 'block' : 'none';\n",
              "    })();\n",
              "  </script>\n",
              "</div>\n",
              "    </div>\n",
              "  </div>\n"
            ],
            "text/plain": [
              "      movieId                                title            genres\n",
              "9739   193585                         Flint (2017)             Drama\n",
              "9740   193587  Bungo Stray Dogs: Dead Apple (2018)  Action|Animation\n",
              "9741   193609  Andrew Dice Clay: Dice Rules (1991)            Comedy"
            ]
          },
          "execution_count": 126,
          "metadata": {},
          "output_type": "execute_result"
        }
      ],
      "source": [
        "movies.tail(3)"
      ]
    },
    {
      "cell_type": "code",
      "execution_count": 127,
      "metadata": {
        "colab": {
          "base_uri": "https://localhost:8080/",
          "height": 143
        },
        "id": "m5nAk3MXJAxz",
        "outputId": "0864bcb2-83df-47a4-951e-bdb5f656a54f"
      },
      "outputs": [
        {
          "data": {
            "text/html": [
              "\n",
              "  <div id=\"df-b6607942-7b37-4347-aa7c-f333ceb04236\" class=\"colab-df-container\">\n",
              "    <div>\n",
              "<style scoped>\n",
              "    .dataframe tbody tr th:only-of-type {\n",
              "        vertical-align: middle;\n",
              "    }\n",
              "\n",
              "    .dataframe tbody tr th {\n",
              "        vertical-align: top;\n",
              "    }\n",
              "\n",
              "    .dataframe thead th {\n",
              "        text-align: right;\n",
              "    }\n",
              "</style>\n",
              "<table border=\"1\" class=\"dataframe\">\n",
              "  <thead>\n",
              "    <tr style=\"text-align: right;\">\n",
              "      <th></th>\n",
              "      <th>userId</th>\n",
              "      <th>movieId</th>\n",
              "      <th>rating</th>\n",
              "      <th>timestamp</th>\n",
              "    </tr>\n",
              "  </thead>\n",
              "  <tbody>\n",
              "    <tr>\n",
              "      <th>100833</th>\n",
              "      <td>610</td>\n",
              "      <td>168250</td>\n",
              "      <td>5.0</td>\n",
              "      <td>1494273047</td>\n",
              "    </tr>\n",
              "    <tr>\n",
              "      <th>100834</th>\n",
              "      <td>610</td>\n",
              "      <td>168252</td>\n",
              "      <td>5.0</td>\n",
              "      <td>1493846352</td>\n",
              "    </tr>\n",
              "    <tr>\n",
              "      <th>100835</th>\n",
              "      <td>610</td>\n",
              "      <td>170875</td>\n",
              "      <td>3.0</td>\n",
              "      <td>1493846415</td>\n",
              "    </tr>\n",
              "  </tbody>\n",
              "</table>\n",
              "</div>\n",
              "    <div class=\"colab-df-buttons\">\n",
              "\n",
              "  <div class=\"colab-df-container\">\n",
              "    <button class=\"colab-df-convert\" onclick=\"convertToInteractive('df-b6607942-7b37-4347-aa7c-f333ceb04236')\"\n",
              "            title=\"Convert this dataframe to an interactive table.\"\n",
              "            style=\"display:none;\">\n",
              "\n",
              "  <svg xmlns=\"http://www.w3.org/2000/svg\" height=\"24px\" viewBox=\"0 -960 960 960\">\n",
              "    <path d=\"M120-120v-720h720v720H120Zm60-500h600v-160H180v160Zm220 220h160v-160H400v160Zm0 220h160v-160H400v160ZM180-400h160v-160H180v160Zm440 0h160v-160H620v160ZM180-180h160v-160H180v160Zm440 0h160v-160H620v160Z\"/>\n",
              "  </svg>\n",
              "    </button>\n",
              "\n",
              "  <style>\n",
              "    .colab-df-container {\n",
              "      display:flex;\n",
              "      gap: 12px;\n",
              "    }\n",
              "\n",
              "    .colab-df-convert {\n",
              "      background-color: #E8F0FE;\n",
              "      border: none;\n",
              "      border-radius: 50%;\n",
              "      cursor: pointer;\n",
              "      display: none;\n",
              "      fill: #1967D2;\n",
              "      height: 32px;\n",
              "      padding: 0 0 0 0;\n",
              "      width: 32px;\n",
              "    }\n",
              "\n",
              "    .colab-df-convert:hover {\n",
              "      background-color: #E2EBFA;\n",
              "      box-shadow: 0px 1px 2px rgba(60, 64, 67, 0.3), 0px 1px 3px 1px rgba(60, 64, 67, 0.15);\n",
              "      fill: #174EA6;\n",
              "    }\n",
              "\n",
              "    .colab-df-buttons div {\n",
              "      margin-bottom: 4px;\n",
              "    }\n",
              "\n",
              "    [theme=dark] .colab-df-convert {\n",
              "      background-color: #3B4455;\n",
              "      fill: #D2E3FC;\n",
              "    }\n",
              "\n",
              "    [theme=dark] .colab-df-convert:hover {\n",
              "      background-color: #434B5C;\n",
              "      box-shadow: 0px 1px 3px 1px rgba(0, 0, 0, 0.15);\n",
              "      filter: drop-shadow(0px 1px 2px rgba(0, 0, 0, 0.3));\n",
              "      fill: #FFFFFF;\n",
              "    }\n",
              "  </style>\n",
              "\n",
              "    <script>\n",
              "      const buttonEl =\n",
              "        document.querySelector('#df-b6607942-7b37-4347-aa7c-f333ceb04236 button.colab-df-convert');\n",
              "      buttonEl.style.display =\n",
              "        google.colab.kernel.accessAllowed ? 'block' : 'none';\n",
              "\n",
              "      async function convertToInteractive(key) {\n",
              "        const element = document.querySelector('#df-b6607942-7b37-4347-aa7c-f333ceb04236');\n",
              "        const dataTable =\n",
              "          await google.colab.kernel.invokeFunction('convertToInteractive',\n",
              "                                                    [key], {});\n",
              "        if (!dataTable) return;\n",
              "\n",
              "        const docLinkHtml = 'Like what you see? Visit the ' +\n",
              "          '<a target=\"_blank\" href=https://colab.research.google.com/notebooks/data_table.ipynb>data table notebook</a>'\n",
              "          + ' to learn more about interactive tables.';\n",
              "        element.innerHTML = '';\n",
              "        dataTable['output_type'] = 'display_data';\n",
              "        await google.colab.output.renderOutput(dataTable, element);\n",
              "        const docLink = document.createElement('div');\n",
              "        docLink.innerHTML = docLinkHtml;\n",
              "        element.appendChild(docLink);\n",
              "      }\n",
              "    </script>\n",
              "  </div>\n",
              "\n",
              "\n",
              "<div id=\"df-1eae7c84-f5c2-4184-aa1c-7d557de7367a\">\n",
              "  <button class=\"colab-df-quickchart\" onclick=\"quickchart('df-1eae7c84-f5c2-4184-aa1c-7d557de7367a')\"\n",
              "            title=\"Suggest charts.\"\n",
              "            style=\"display:none;\">\n",
              "\n",
              "<svg xmlns=\"http://www.w3.org/2000/svg\" height=\"24px\"viewBox=\"0 0 24 24\"\n",
              "     width=\"24px\">\n",
              "    <g>\n",
              "        <path d=\"M19 3H5c-1.1 0-2 .9-2 2v14c0 1.1.9 2 2 2h14c1.1 0 2-.9 2-2V5c0-1.1-.9-2-2-2zM9 17H7v-7h2v7zm4 0h-2V7h2v10zm4 0h-2v-4h2v4z\"/>\n",
              "    </g>\n",
              "</svg>\n",
              "  </button>\n",
              "\n",
              "<style>\n",
              "  .colab-df-quickchart {\n",
              "      --bg-color: #E8F0FE;\n",
              "      --fill-color: #1967D2;\n",
              "      --hover-bg-color: #E2EBFA;\n",
              "      --hover-fill-color: #174EA6;\n",
              "      --disabled-fill-color: #AAA;\n",
              "      --disabled-bg-color: #DDD;\n",
              "  }\n",
              "\n",
              "  [theme=dark] .colab-df-quickchart {\n",
              "      --bg-color: #3B4455;\n",
              "      --fill-color: #D2E3FC;\n",
              "      --hover-bg-color: #434B5C;\n",
              "      --hover-fill-color: #FFFFFF;\n",
              "      --disabled-bg-color: #3B4455;\n",
              "      --disabled-fill-color: #666;\n",
              "  }\n",
              "\n",
              "  .colab-df-quickchart {\n",
              "    background-color: var(--bg-color);\n",
              "    border: none;\n",
              "    border-radius: 50%;\n",
              "    cursor: pointer;\n",
              "    display: none;\n",
              "    fill: var(--fill-color);\n",
              "    height: 32px;\n",
              "    padding: 0;\n",
              "    width: 32px;\n",
              "  }\n",
              "\n",
              "  .colab-df-quickchart:hover {\n",
              "    background-color: var(--hover-bg-color);\n",
              "    box-shadow: 0 1px 2px rgba(60, 64, 67, 0.3), 0 1px 3px 1px rgba(60, 64, 67, 0.15);\n",
              "    fill: var(--button-hover-fill-color);\n",
              "  }\n",
              "\n",
              "  .colab-df-quickchart-complete:disabled,\n",
              "  .colab-df-quickchart-complete:disabled:hover {\n",
              "    background-color: var(--disabled-bg-color);\n",
              "    fill: var(--disabled-fill-color);\n",
              "    box-shadow: none;\n",
              "  }\n",
              "\n",
              "  .colab-df-spinner {\n",
              "    border: 2px solid var(--fill-color);\n",
              "    border-color: transparent;\n",
              "    border-bottom-color: var(--fill-color);\n",
              "    animation:\n",
              "      spin 1s steps(1) infinite;\n",
              "  }\n",
              "\n",
              "  @keyframes spin {\n",
              "    0% {\n",
              "      border-color: transparent;\n",
              "      border-bottom-color: var(--fill-color);\n",
              "      border-left-color: var(--fill-color);\n",
              "    }\n",
              "    20% {\n",
              "      border-color: transparent;\n",
              "      border-left-color: var(--fill-color);\n",
              "      border-top-color: var(--fill-color);\n",
              "    }\n",
              "    30% {\n",
              "      border-color: transparent;\n",
              "      border-left-color: var(--fill-color);\n",
              "      border-top-color: var(--fill-color);\n",
              "      border-right-color: var(--fill-color);\n",
              "    }\n",
              "    40% {\n",
              "      border-color: transparent;\n",
              "      border-right-color: var(--fill-color);\n",
              "      border-top-color: var(--fill-color);\n",
              "    }\n",
              "    60% {\n",
              "      border-color: transparent;\n",
              "      border-right-color: var(--fill-color);\n",
              "    }\n",
              "    80% {\n",
              "      border-color: transparent;\n",
              "      border-right-color: var(--fill-color);\n",
              "      border-bottom-color: var(--fill-color);\n",
              "    }\n",
              "    90% {\n",
              "      border-color: transparent;\n",
              "      border-bottom-color: var(--fill-color);\n",
              "    }\n",
              "  }\n",
              "</style>\n",
              "\n",
              "  <script>\n",
              "    async function quickchart(key) {\n",
              "      const quickchartButtonEl =\n",
              "        document.querySelector('#' + key + ' button');\n",
              "      quickchartButtonEl.disabled = true;  // To prevent multiple clicks.\n",
              "      quickchartButtonEl.classList.add('colab-df-spinner');\n",
              "      try {\n",
              "        const charts = await google.colab.kernel.invokeFunction(\n",
              "            'suggestCharts', [key], {});\n",
              "      } catch (error) {\n",
              "        console.error('Error during call to suggestCharts:', error);\n",
              "      }\n",
              "      quickchartButtonEl.classList.remove('colab-df-spinner');\n",
              "      quickchartButtonEl.classList.add('colab-df-quickchart-complete');\n",
              "    }\n",
              "    (() => {\n",
              "      let quickchartButtonEl =\n",
              "        document.querySelector('#df-1eae7c84-f5c2-4184-aa1c-7d557de7367a button');\n",
              "      quickchartButtonEl.style.display =\n",
              "        google.colab.kernel.accessAllowed ? 'block' : 'none';\n",
              "    })();\n",
              "  </script>\n",
              "</div>\n",
              "    </div>\n",
              "  </div>\n"
            ],
            "text/plain": [
              "        userId  movieId  rating   timestamp\n",
              "100833     610   168250     5.0  1494273047\n",
              "100834     610   168252     5.0  1493846352\n",
              "100835     610   170875     3.0  1493846415"
            ]
          },
          "execution_count": 127,
          "metadata": {},
          "output_type": "execute_result"
        }
      ],
      "source": [
        "ratings.tail(3)"
      ]
    },
    {
      "cell_type": "code",
      "execution_count": 128,
      "metadata": {
        "colab": {
          "base_uri": "https://localhost:8080/",
          "height": 143
        },
        "id": "lN9gbDcGJCWe",
        "outputId": "21a02a3f-7712-49b7-acb6-c88271c4c831"
      },
      "outputs": [
        {
          "data": {
            "text/html": [
              "\n",
              "  <div id=\"df-c2a24cd1-0690-4b9a-8f93-99a8e8f65994\" class=\"colab-df-container\">\n",
              "    <div>\n",
              "<style scoped>\n",
              "    .dataframe tbody tr th:only-of-type {\n",
              "        vertical-align: middle;\n",
              "    }\n",
              "\n",
              "    .dataframe tbody tr th {\n",
              "        vertical-align: top;\n",
              "    }\n",
              "\n",
              "    .dataframe thead th {\n",
              "        text-align: right;\n",
              "    }\n",
              "</style>\n",
              "<table border=\"1\" class=\"dataframe\">\n",
              "  <thead>\n",
              "    <tr style=\"text-align: right;\">\n",
              "      <th></th>\n",
              "      <th>userId</th>\n",
              "      <th>movieId</th>\n",
              "      <th>tag</th>\n",
              "      <th>timestamp</th>\n",
              "    </tr>\n",
              "  </thead>\n",
              "  <tbody>\n",
              "    <tr>\n",
              "      <th>3680</th>\n",
              "      <td>610</td>\n",
              "      <td>3265</td>\n",
              "      <td>gun fu</td>\n",
              "      <td>1493843984</td>\n",
              "    </tr>\n",
              "    <tr>\n",
              "      <th>3681</th>\n",
              "      <td>610</td>\n",
              "      <td>3265</td>\n",
              "      <td>heroic bloodshed</td>\n",
              "      <td>1493843978</td>\n",
              "    </tr>\n",
              "    <tr>\n",
              "      <th>3682</th>\n",
              "      <td>610</td>\n",
              "      <td>168248</td>\n",
              "      <td>Heroic Bloodshed</td>\n",
              "      <td>1493844270</td>\n",
              "    </tr>\n",
              "  </tbody>\n",
              "</table>\n",
              "</div>\n",
              "    <div class=\"colab-df-buttons\">\n",
              "\n",
              "  <div class=\"colab-df-container\">\n",
              "    <button class=\"colab-df-convert\" onclick=\"convertToInteractive('df-c2a24cd1-0690-4b9a-8f93-99a8e8f65994')\"\n",
              "            title=\"Convert this dataframe to an interactive table.\"\n",
              "            style=\"display:none;\">\n",
              "\n",
              "  <svg xmlns=\"http://www.w3.org/2000/svg\" height=\"24px\" viewBox=\"0 -960 960 960\">\n",
              "    <path d=\"M120-120v-720h720v720H120Zm60-500h600v-160H180v160Zm220 220h160v-160H400v160Zm0 220h160v-160H400v160ZM180-400h160v-160H180v160Zm440 0h160v-160H620v160ZM180-180h160v-160H180v160Zm440 0h160v-160H620v160Z\"/>\n",
              "  </svg>\n",
              "    </button>\n",
              "\n",
              "  <style>\n",
              "    .colab-df-container {\n",
              "      display:flex;\n",
              "      gap: 12px;\n",
              "    }\n",
              "\n",
              "    .colab-df-convert {\n",
              "      background-color: #E8F0FE;\n",
              "      border: none;\n",
              "      border-radius: 50%;\n",
              "      cursor: pointer;\n",
              "      display: none;\n",
              "      fill: #1967D2;\n",
              "      height: 32px;\n",
              "      padding: 0 0 0 0;\n",
              "      width: 32px;\n",
              "    }\n",
              "\n",
              "    .colab-df-convert:hover {\n",
              "      background-color: #E2EBFA;\n",
              "      box-shadow: 0px 1px 2px rgba(60, 64, 67, 0.3), 0px 1px 3px 1px rgba(60, 64, 67, 0.15);\n",
              "      fill: #174EA6;\n",
              "    }\n",
              "\n",
              "    .colab-df-buttons div {\n",
              "      margin-bottom: 4px;\n",
              "    }\n",
              "\n",
              "    [theme=dark] .colab-df-convert {\n",
              "      background-color: #3B4455;\n",
              "      fill: #D2E3FC;\n",
              "    }\n",
              "\n",
              "    [theme=dark] .colab-df-convert:hover {\n",
              "      background-color: #434B5C;\n",
              "      box-shadow: 0px 1px 3px 1px rgba(0, 0, 0, 0.15);\n",
              "      filter: drop-shadow(0px 1px 2px rgba(0, 0, 0, 0.3));\n",
              "      fill: #FFFFFF;\n",
              "    }\n",
              "  </style>\n",
              "\n",
              "    <script>\n",
              "      const buttonEl =\n",
              "        document.querySelector('#df-c2a24cd1-0690-4b9a-8f93-99a8e8f65994 button.colab-df-convert');\n",
              "      buttonEl.style.display =\n",
              "        google.colab.kernel.accessAllowed ? 'block' : 'none';\n",
              "\n",
              "      async function convertToInteractive(key) {\n",
              "        const element = document.querySelector('#df-c2a24cd1-0690-4b9a-8f93-99a8e8f65994');\n",
              "        const dataTable =\n",
              "          await google.colab.kernel.invokeFunction('convertToInteractive',\n",
              "                                                    [key], {});\n",
              "        if (!dataTable) return;\n",
              "\n",
              "        const docLinkHtml = 'Like what you see? Visit the ' +\n",
              "          '<a target=\"_blank\" href=https://colab.research.google.com/notebooks/data_table.ipynb>data table notebook</a>'\n",
              "          + ' to learn more about interactive tables.';\n",
              "        element.innerHTML = '';\n",
              "        dataTable['output_type'] = 'display_data';\n",
              "        await google.colab.output.renderOutput(dataTable, element);\n",
              "        const docLink = document.createElement('div');\n",
              "        docLink.innerHTML = docLinkHtml;\n",
              "        element.appendChild(docLink);\n",
              "      }\n",
              "    </script>\n",
              "  </div>\n",
              "\n",
              "\n",
              "<div id=\"df-1d812673-dfd6-41c2-b7db-321ff646084b\">\n",
              "  <button class=\"colab-df-quickchart\" onclick=\"quickchart('df-1d812673-dfd6-41c2-b7db-321ff646084b')\"\n",
              "            title=\"Suggest charts.\"\n",
              "            style=\"display:none;\">\n",
              "\n",
              "<svg xmlns=\"http://www.w3.org/2000/svg\" height=\"24px\"viewBox=\"0 0 24 24\"\n",
              "     width=\"24px\">\n",
              "    <g>\n",
              "        <path d=\"M19 3H5c-1.1 0-2 .9-2 2v14c0 1.1.9 2 2 2h14c1.1 0 2-.9 2-2V5c0-1.1-.9-2-2-2zM9 17H7v-7h2v7zm4 0h-2V7h2v10zm4 0h-2v-4h2v4z\"/>\n",
              "    </g>\n",
              "</svg>\n",
              "  </button>\n",
              "\n",
              "<style>\n",
              "  .colab-df-quickchart {\n",
              "      --bg-color: #E8F0FE;\n",
              "      --fill-color: #1967D2;\n",
              "      --hover-bg-color: #E2EBFA;\n",
              "      --hover-fill-color: #174EA6;\n",
              "      --disabled-fill-color: #AAA;\n",
              "      --disabled-bg-color: #DDD;\n",
              "  }\n",
              "\n",
              "  [theme=dark] .colab-df-quickchart {\n",
              "      --bg-color: #3B4455;\n",
              "      --fill-color: #D2E3FC;\n",
              "      --hover-bg-color: #434B5C;\n",
              "      --hover-fill-color: #FFFFFF;\n",
              "      --disabled-bg-color: #3B4455;\n",
              "      --disabled-fill-color: #666;\n",
              "  }\n",
              "\n",
              "  .colab-df-quickchart {\n",
              "    background-color: var(--bg-color);\n",
              "    border: none;\n",
              "    border-radius: 50%;\n",
              "    cursor: pointer;\n",
              "    display: none;\n",
              "    fill: var(--fill-color);\n",
              "    height: 32px;\n",
              "    padding: 0;\n",
              "    width: 32px;\n",
              "  }\n",
              "\n",
              "  .colab-df-quickchart:hover {\n",
              "    background-color: var(--hover-bg-color);\n",
              "    box-shadow: 0 1px 2px rgba(60, 64, 67, 0.3), 0 1px 3px 1px rgba(60, 64, 67, 0.15);\n",
              "    fill: var(--button-hover-fill-color);\n",
              "  }\n",
              "\n",
              "  .colab-df-quickchart-complete:disabled,\n",
              "  .colab-df-quickchart-complete:disabled:hover {\n",
              "    background-color: var(--disabled-bg-color);\n",
              "    fill: var(--disabled-fill-color);\n",
              "    box-shadow: none;\n",
              "  }\n",
              "\n",
              "  .colab-df-spinner {\n",
              "    border: 2px solid var(--fill-color);\n",
              "    border-color: transparent;\n",
              "    border-bottom-color: var(--fill-color);\n",
              "    animation:\n",
              "      spin 1s steps(1) infinite;\n",
              "  }\n",
              "\n",
              "  @keyframes spin {\n",
              "    0% {\n",
              "      border-color: transparent;\n",
              "      border-bottom-color: var(--fill-color);\n",
              "      border-left-color: var(--fill-color);\n",
              "    }\n",
              "    20% {\n",
              "      border-color: transparent;\n",
              "      border-left-color: var(--fill-color);\n",
              "      border-top-color: var(--fill-color);\n",
              "    }\n",
              "    30% {\n",
              "      border-color: transparent;\n",
              "      border-left-color: var(--fill-color);\n",
              "      border-top-color: var(--fill-color);\n",
              "      border-right-color: var(--fill-color);\n",
              "    }\n",
              "    40% {\n",
              "      border-color: transparent;\n",
              "      border-right-color: var(--fill-color);\n",
              "      border-top-color: var(--fill-color);\n",
              "    }\n",
              "    60% {\n",
              "      border-color: transparent;\n",
              "      border-right-color: var(--fill-color);\n",
              "    }\n",
              "    80% {\n",
              "      border-color: transparent;\n",
              "      border-right-color: var(--fill-color);\n",
              "      border-bottom-color: var(--fill-color);\n",
              "    }\n",
              "    90% {\n",
              "      border-color: transparent;\n",
              "      border-bottom-color: var(--fill-color);\n",
              "    }\n",
              "  }\n",
              "</style>\n",
              "\n",
              "  <script>\n",
              "    async function quickchart(key) {\n",
              "      const quickchartButtonEl =\n",
              "        document.querySelector('#' + key + ' button');\n",
              "      quickchartButtonEl.disabled = true;  // To prevent multiple clicks.\n",
              "      quickchartButtonEl.classList.add('colab-df-spinner');\n",
              "      try {\n",
              "        const charts = await google.colab.kernel.invokeFunction(\n",
              "            'suggestCharts', [key], {});\n",
              "      } catch (error) {\n",
              "        console.error('Error during call to suggestCharts:', error);\n",
              "      }\n",
              "      quickchartButtonEl.classList.remove('colab-df-spinner');\n",
              "      quickchartButtonEl.classList.add('colab-df-quickchart-complete');\n",
              "    }\n",
              "    (() => {\n",
              "      let quickchartButtonEl =\n",
              "        document.querySelector('#df-1d812673-dfd6-41c2-b7db-321ff646084b button');\n",
              "      quickchartButtonEl.style.display =\n",
              "        google.colab.kernel.accessAllowed ? 'block' : 'none';\n",
              "    })();\n",
              "  </script>\n",
              "</div>\n",
              "    </div>\n",
              "  </div>\n"
            ],
            "text/plain": [
              "      userId  movieId               tag   timestamp\n",
              "3680     610     3265            gun fu  1493843984\n",
              "3681     610     3265  heroic bloodshed  1493843978\n",
              "3682     610   168248  Heroic Bloodshed  1493844270"
            ]
          },
          "execution_count": 128,
          "metadata": {},
          "output_type": "execute_result"
        }
      ],
      "source": [
        "tags.tail(3)"
      ]
    },
    {
      "attachments": {},
      "cell_type": "markdown",
      "metadata": {
        "id": "SJImBZS0SccS"
      },
      "source": [
        "Column names are irrelevant, but specify only one rating per line, and each line needs to respect the following structure:<br> `user ; item ; rating ; [timestamp]`"
      ]
    },
    {
      "cell_type": "code",
      "execution_count": 129,
      "metadata": {
        "colab": {
          "base_uri": "https://localhost:8080/",
          "height": 143
        },
        "id": "T5rS99tdSX8G",
        "outputId": "b408a61d-56ec-4139-af32-0c7456d24c1f"
      },
      "outputs": [
        {
          "data": {
            "text/html": [
              "\n",
              "  <div id=\"df-a430b5ef-fe3f-4a9a-b473-a3e2493ced9e\" class=\"colab-df-container\">\n",
              "    <div>\n",
              "<style scoped>\n",
              "    .dataframe tbody tr th:only-of-type {\n",
              "        vertical-align: middle;\n",
              "    }\n",
              "\n",
              "    .dataframe tbody tr th {\n",
              "        vertical-align: top;\n",
              "    }\n",
              "\n",
              "    .dataframe thead th {\n",
              "        text-align: right;\n",
              "    }\n",
              "</style>\n",
              "<table border=\"1\" class=\"dataframe\">\n",
              "  <thead>\n",
              "    <tr style=\"text-align: right;\">\n",
              "      <th></th>\n",
              "      <th>userId</th>\n",
              "      <th>movieId</th>\n",
              "      <th>rating</th>\n",
              "    </tr>\n",
              "  </thead>\n",
              "  <tbody>\n",
              "    <tr>\n",
              "      <th>100833</th>\n",
              "      <td>610</td>\n",
              "      <td>168250</td>\n",
              "      <td>5.0</td>\n",
              "    </tr>\n",
              "    <tr>\n",
              "      <th>100834</th>\n",
              "      <td>610</td>\n",
              "      <td>168252</td>\n",
              "      <td>5.0</td>\n",
              "    </tr>\n",
              "    <tr>\n",
              "      <th>100835</th>\n",
              "      <td>610</td>\n",
              "      <td>170875</td>\n",
              "      <td>3.0</td>\n",
              "    </tr>\n",
              "  </tbody>\n",
              "</table>\n",
              "</div>\n",
              "    <div class=\"colab-df-buttons\">\n",
              "\n",
              "  <div class=\"colab-df-container\">\n",
              "    <button class=\"colab-df-convert\" onclick=\"convertToInteractive('df-a430b5ef-fe3f-4a9a-b473-a3e2493ced9e')\"\n",
              "            title=\"Convert this dataframe to an interactive table.\"\n",
              "            style=\"display:none;\">\n",
              "\n",
              "  <svg xmlns=\"http://www.w3.org/2000/svg\" height=\"24px\" viewBox=\"0 -960 960 960\">\n",
              "    <path d=\"M120-120v-720h720v720H120Zm60-500h600v-160H180v160Zm220 220h160v-160H400v160Zm0 220h160v-160H400v160ZM180-400h160v-160H180v160Zm440 0h160v-160H620v160ZM180-180h160v-160H180v160Zm440 0h160v-160H620v160Z\"/>\n",
              "  </svg>\n",
              "    </button>\n",
              "\n",
              "  <style>\n",
              "    .colab-df-container {\n",
              "      display:flex;\n",
              "      gap: 12px;\n",
              "    }\n",
              "\n",
              "    .colab-df-convert {\n",
              "      background-color: #E8F0FE;\n",
              "      border: none;\n",
              "      border-radius: 50%;\n",
              "      cursor: pointer;\n",
              "      display: none;\n",
              "      fill: #1967D2;\n",
              "      height: 32px;\n",
              "      padding: 0 0 0 0;\n",
              "      width: 32px;\n",
              "    }\n",
              "\n",
              "    .colab-df-convert:hover {\n",
              "      background-color: #E2EBFA;\n",
              "      box-shadow: 0px 1px 2px rgba(60, 64, 67, 0.3), 0px 1px 3px 1px rgba(60, 64, 67, 0.15);\n",
              "      fill: #174EA6;\n",
              "    }\n",
              "\n",
              "    .colab-df-buttons div {\n",
              "      margin-bottom: 4px;\n",
              "    }\n",
              "\n",
              "    [theme=dark] .colab-df-convert {\n",
              "      background-color: #3B4455;\n",
              "      fill: #D2E3FC;\n",
              "    }\n",
              "\n",
              "    [theme=dark] .colab-df-convert:hover {\n",
              "      background-color: #434B5C;\n",
              "      box-shadow: 0px 1px 3px 1px rgba(0, 0, 0, 0.15);\n",
              "      filter: drop-shadow(0px 1px 2px rgba(0, 0, 0, 0.3));\n",
              "      fill: #FFFFFF;\n",
              "    }\n",
              "  </style>\n",
              "\n",
              "    <script>\n",
              "      const buttonEl =\n",
              "        document.querySelector('#df-a430b5ef-fe3f-4a9a-b473-a3e2493ced9e button.colab-df-convert');\n",
              "      buttonEl.style.display =\n",
              "        google.colab.kernel.accessAllowed ? 'block' : 'none';\n",
              "\n",
              "      async function convertToInteractive(key) {\n",
              "        const element = document.querySelector('#df-a430b5ef-fe3f-4a9a-b473-a3e2493ced9e');\n",
              "        const dataTable =\n",
              "          await google.colab.kernel.invokeFunction('convertToInteractive',\n",
              "                                                    [key], {});\n",
              "        if (!dataTable) return;\n",
              "\n",
              "        const docLinkHtml = 'Like what you see? Visit the ' +\n",
              "          '<a target=\"_blank\" href=https://colab.research.google.com/notebooks/data_table.ipynb>data table notebook</a>'\n",
              "          + ' to learn more about interactive tables.';\n",
              "        element.innerHTML = '';\n",
              "        dataTable['output_type'] = 'display_data';\n",
              "        await google.colab.output.renderOutput(dataTable, element);\n",
              "        const docLink = document.createElement('div');\n",
              "        docLink.innerHTML = docLinkHtml;\n",
              "        element.appendChild(docLink);\n",
              "      }\n",
              "    </script>\n",
              "  </div>\n",
              "\n",
              "\n",
              "<div id=\"df-708ed86f-d24b-464a-bef7-bd48f8554e63\">\n",
              "  <button class=\"colab-df-quickchart\" onclick=\"quickchart('df-708ed86f-d24b-464a-bef7-bd48f8554e63')\"\n",
              "            title=\"Suggest charts.\"\n",
              "            style=\"display:none;\">\n",
              "\n",
              "<svg xmlns=\"http://www.w3.org/2000/svg\" height=\"24px\"viewBox=\"0 0 24 24\"\n",
              "     width=\"24px\">\n",
              "    <g>\n",
              "        <path d=\"M19 3H5c-1.1 0-2 .9-2 2v14c0 1.1.9 2 2 2h14c1.1 0 2-.9 2-2V5c0-1.1-.9-2-2-2zM9 17H7v-7h2v7zm4 0h-2V7h2v10zm4 0h-2v-4h2v4z\"/>\n",
              "    </g>\n",
              "</svg>\n",
              "  </button>\n",
              "\n",
              "<style>\n",
              "  .colab-df-quickchart {\n",
              "      --bg-color: #E8F0FE;\n",
              "      --fill-color: #1967D2;\n",
              "      --hover-bg-color: #E2EBFA;\n",
              "      --hover-fill-color: #174EA6;\n",
              "      --disabled-fill-color: #AAA;\n",
              "      --disabled-bg-color: #DDD;\n",
              "  }\n",
              "\n",
              "  [theme=dark] .colab-df-quickchart {\n",
              "      --bg-color: #3B4455;\n",
              "      --fill-color: #D2E3FC;\n",
              "      --hover-bg-color: #434B5C;\n",
              "      --hover-fill-color: #FFFFFF;\n",
              "      --disabled-bg-color: #3B4455;\n",
              "      --disabled-fill-color: #666;\n",
              "  }\n",
              "\n",
              "  .colab-df-quickchart {\n",
              "    background-color: var(--bg-color);\n",
              "    border: none;\n",
              "    border-radius: 50%;\n",
              "    cursor: pointer;\n",
              "    display: none;\n",
              "    fill: var(--fill-color);\n",
              "    height: 32px;\n",
              "    padding: 0;\n",
              "    width: 32px;\n",
              "  }\n",
              "\n",
              "  .colab-df-quickchart:hover {\n",
              "    background-color: var(--hover-bg-color);\n",
              "    box-shadow: 0 1px 2px rgba(60, 64, 67, 0.3), 0 1px 3px 1px rgba(60, 64, 67, 0.15);\n",
              "    fill: var(--button-hover-fill-color);\n",
              "  }\n",
              "\n",
              "  .colab-df-quickchart-complete:disabled,\n",
              "  .colab-df-quickchart-complete:disabled:hover {\n",
              "    background-color: var(--disabled-bg-color);\n",
              "    fill: var(--disabled-fill-color);\n",
              "    box-shadow: none;\n",
              "  }\n",
              "\n",
              "  .colab-df-spinner {\n",
              "    border: 2px solid var(--fill-color);\n",
              "    border-color: transparent;\n",
              "    border-bottom-color: var(--fill-color);\n",
              "    animation:\n",
              "      spin 1s steps(1) infinite;\n",
              "  }\n",
              "\n",
              "  @keyframes spin {\n",
              "    0% {\n",
              "      border-color: transparent;\n",
              "      border-bottom-color: var(--fill-color);\n",
              "      border-left-color: var(--fill-color);\n",
              "    }\n",
              "    20% {\n",
              "      border-color: transparent;\n",
              "      border-left-color: var(--fill-color);\n",
              "      border-top-color: var(--fill-color);\n",
              "    }\n",
              "    30% {\n",
              "      border-color: transparent;\n",
              "      border-left-color: var(--fill-color);\n",
              "      border-top-color: var(--fill-color);\n",
              "      border-right-color: var(--fill-color);\n",
              "    }\n",
              "    40% {\n",
              "      border-color: transparent;\n",
              "      border-right-color: var(--fill-color);\n",
              "      border-top-color: var(--fill-color);\n",
              "    }\n",
              "    60% {\n",
              "      border-color: transparent;\n",
              "      border-right-color: var(--fill-color);\n",
              "    }\n",
              "    80% {\n",
              "      border-color: transparent;\n",
              "      border-right-color: var(--fill-color);\n",
              "      border-bottom-color: var(--fill-color);\n",
              "    }\n",
              "    90% {\n",
              "      border-color: transparent;\n",
              "      border-bottom-color: var(--fill-color);\n",
              "    }\n",
              "  }\n",
              "</style>\n",
              "\n",
              "  <script>\n",
              "    async function quickchart(key) {\n",
              "      const quickchartButtonEl =\n",
              "        document.querySelector('#' + key + ' button');\n",
              "      quickchartButtonEl.disabled = true;  // To prevent multiple clicks.\n",
              "      quickchartButtonEl.classList.add('colab-df-spinner');\n",
              "      try {\n",
              "        const charts = await google.colab.kernel.invokeFunction(\n",
              "            'suggestCharts', [key], {});\n",
              "      } catch (error) {\n",
              "        console.error('Error during call to suggestCharts:', error);\n",
              "      }\n",
              "      quickchartButtonEl.classList.remove('colab-df-spinner');\n",
              "      quickchartButtonEl.classList.add('colab-df-quickchart-complete');\n",
              "    }\n",
              "    (() => {\n",
              "      let quickchartButtonEl =\n",
              "        document.querySelector('#df-708ed86f-d24b-464a-bef7-bd48f8554e63 button');\n",
              "      quickchartButtonEl.style.display =\n",
              "        google.colab.kernel.accessAllowed ? 'block' : 'none';\n",
              "    })();\n",
              "  </script>\n",
              "</div>\n",
              "    </div>\n",
              "  </div>\n"
            ],
            "text/plain": [
              "        userId  movieId  rating\n",
              "100833     610   168250     5.0\n",
              "100834     610   168252     5.0\n",
              "100835     610   170875     3.0"
            ]
          },
          "execution_count": 129,
          "metadata": {},
          "output_type": "execute_result"
        }
      ],
      "source": [
        "df = ratings[['userId', 'movieId', 'rating']]\n",
        "df.tail(3)"
      ]
    },
    {
      "cell_type": "code",
      "execution_count": 130,
      "metadata": {
        "id": "scjqh4dObJPS"
      },
      "outputs": [],
      "source": [
        "r_mean = df['rating'].mean()\n",
        "r_std = df['rating'].std()"
      ]
    },
    {
      "cell_type": "code",
      "execution_count": 131,
      "metadata": {
        "colab": {
          "base_uri": "https://localhost:8080/"
        },
        "id": "8xm8cIEbSaAE",
        "outputId": "af42f27f-edda-411b-d6e0-aa6a74f48576"
      },
      "outputs": [
        {
          "data": {
            "text/plain": [
              "(5.0, 0.5, 3.501556983616962, 1.042529239060635)"
            ]
          },
          "execution_count": 131,
          "metadata": {},
          "output_type": "execute_result"
        }
      ],
      "source": [
        "df['rating'].max(), df['rating'].min(), r_mean, r_std"
      ]
    },
    {
      "attachments": {},
      "cell_type": "markdown",
      "metadata": {
        "id": "3zgAXXI7SwIg"
      },
      "source": [
        "0.5 мінімальний рейтинг, тому логічно що межа мінімума 0:"
      ]
    },
    {
      "attachments": {},
      "cell_type": "markdown",
      "metadata": {
        "id": "PivFEGenbwA7"
      },
      "source": [
        "- https://surprise.readthedocs.io/en/stable/reader.html?highlight=Reader#surprise.reader.Reader"
      ]
    },
    {
      "cell_type": "code",
      "execution_count": 132,
      "metadata": {
        "colab": {
          "base_uri": "https://localhost:8080/"
        },
        "id": "jMuL43_-SZeK",
        "outputId": "6f821356-6144-4956-bea1-012a62286b3e"
      },
      "outputs": [
        {
          "data": {
            "text/plain": [
              "<surprise.reader.Reader at 0x7dcd6b53ece0>"
            ]
          },
          "execution_count": 132,
          "metadata": {},
          "output_type": "execute_result"
        }
      ],
      "source": [
        "# A reader is still needed but only the rating_scale param is requiered.\n",
        "reader = Reader(rating_scale=(0, 5))\n",
        "reader"
      ]
    },
    {
      "cell_type": "code",
      "execution_count": 133,
      "metadata": {
        "colab": {
          "base_uri": "https://localhost:8080/"
        },
        "id": "vAPHw01_SzzS",
        "outputId": "e13ab314-4cfe-4cff-8a95-fcd16b254318"
      },
      "outputs": [
        {
          "data": {
            "text/plain": [
              "<surprise.dataset.DatasetAutoFolds at 0x7dcd6b53d7b0>"
            ]
          },
          "execution_count": 133,
          "metadata": {},
          "output_type": "execute_result"
        }
      ],
      "source": [
        "# The columns must correspond to user id, item id and ratings (in that order).\n",
        "data = Dataset.load_from_df(df[['userId', 'movieId', 'rating']], reader)\n",
        "data"
      ]
    },
    {
      "attachments": {},
      "cell_type": "markdown",
      "metadata": {
        "id": "j75RVxRMJHYD"
      },
      "source": [
        "### __`MODEL`__ &  __`Training`__"
      ]
    },
    {
      "attachments": {},
      "cell_type": "markdown",
      "metadata": {
        "id": "JZhobXrPkkgu"
      },
      "source": [
        "#### `SVD`"
      ]
    },
    {
      "attachments": {},
      "cell_type": "markdown",
      "metadata": {
        "id": "SRmU-aS1JIsc"
      },
      "source": [
        "- модель матричної факторизації `SVD`"
      ]
    },
    {
      "attachments": {},
      "cell_type": "markdown",
      "metadata": {
        "id": "Ak3SFP_zJNz4"
      },
      "source": [
        "- https://surprise.readthedocs.io/en/stable/matrix_factorization.html#surprise.prediction_algorithms.matrix_factorization.SVD\n",
        "- https://www.piwheels.org/project/scikit-surprise/\n",
        "- https://pypi.org/project/scikit-surprise/\n",
        "- https://github.com/NicolasHug/Surprise"
      ]
    },
    {
      "cell_type": "code",
      "execution_count": 134,
      "metadata": {
        "id": "5a9q9693JXQJ"
      },
      "outputs": [],
      "source": [
        "# from surprise.prediction_algorithms.matrix_factorization import SVD  # poetry add surprise  # poetry add scikit-surprise==1.1.3 --use-pep517"
      ]
    },
    {
      "attachments": {},
      "cell_type": "markdown",
      "metadata": {
        "id": "pUT3w_YPZxVe"
      },
      "source": [
        "- https://surprise.readthedocs.io/en/stable/getting_started.html#cross-validate-example\n",
        "- https://surprise.readthedocs.io/en/stable/model_selection.html\n",
        "- https://surprise.readthedocs.io/en/stable/getting_started.html?highlight=Dataset#use-a-custom-dataset\n"
      ]
    },
    {
      "cell_type": "code",
      "execution_count": 135,
      "metadata": {
        "id": "6TLgdp29cq64"
      },
      "outputs": [],
      "source": [
        "# from surprise import SVD\n",
        "# from surprise import Dataset, Reader\n",
        "# from surprise.model_selection import cross_validate"
      ]
    },
    {
      "cell_type": "code",
      "execution_count": 136,
      "metadata": {
        "id": "Lh5wlMy3hm_1"
      },
      "outputs": [],
      "source": [
        "# from surprise.model_selection import train_test_split\n",
        "# trainset, testset = train_test_split(data, test_size=0.2, random_state=42)\n",
        "# model = SVD()\n",
        "# model.fit(trainset)\n",
        "# # Прогнозування рейтингів\n",
        "# test_predictions = model.test(testset)\n",
        "# predictions = model.predict(uid=1, iid=1)"
      ]
    },
    {
      "cell_type": "code",
      "execution_count": 137,
      "metadata": {
        "id": "iYY_NxpsTZUt"
      },
      "outputs": [],
      "source": [
        "algo = SVD()"
      ]
    },
    {
      "cell_type": "code",
      "execution_count": 138,
      "metadata": {
        "colab": {
          "base_uri": "https://localhost:8080/"
        },
        "id": "80rMv4oMVa2e",
        "outputId": "7b83e64b-af43-45f1-c5ad-462099d76991"
      },
      "outputs": [
        {
          "data": {
            "text/plain": [
              "<surprise.prediction_algorithms.matrix_factorization.SVD at 0x7dcd6b53fc40>"
            ]
          },
          "execution_count": 138,
          "metadata": {},
          "output_type": "execute_result"
        }
      ],
      "source": [
        "algo"
      ]
    },
    {
      "cell_type": "code",
      "execution_count": 139,
      "metadata": {
        "id": "xK4JOafnTebI"
      },
      "outputs": [],
      "source": [
        "algo2 = SVD(\n",
        "            n_factors=1,\n",
        "            n_epochs=10,\n",
        "            biased=True,\n",
        "            init_mean=2.5,\n",
        "            init_std_dev=0.5,\n",
        "            lr_all=0.005,\n",
        "            reg_all=0.02,\n",
        "            lr_bu=None,\n",
        "            lr_bi=None,\n",
        "            lr_pu=None,\n",
        "            lr_qi=None,\n",
        "            reg_bu=None,\n",
        "            reg_bi=None,\n",
        "            reg_pu=None,\n",
        "            reg_qi=None,\n",
        "            random_state=None,\n",
        "            verbose=False\n",
        "            )"
      ]
    },
    {
      "cell_type": "code",
      "execution_count": 140,
      "metadata": {
        "id": "cLnvuYmyPWMY"
      },
      "outputs": [],
      "source": [
        "# cross_validate(\n",
        "#                algo,\n",
        "#                data,\n",
        "#                measures=['rmse', 'mae'],\n",
        "#                cv=None,\n",
        "#                return_train_measures=False,\n",
        "#                n_jobs=1,\n",
        "#                pre_dispatch='2*n_jobs',\n",
        "#                verbose=False\n",
        "#                )"
      ]
    },
    {
      "attachments": {},
      "cell_type": "markdown",
      "metadata": {
        "id": "s53ryheWcHCn"
      },
      "source": [
        "- Підбір найкращих параметрів за допомогою крос-валідації"
      ]
    },
    {
      "cell_type": "code",
      "execution_count": 141,
      "metadata": {
        "colab": {
          "base_uri": "https://localhost:8080/"
        },
        "id": "nxXv3l0JTmFm",
        "outputId": "25bdb9e9-ae18-41ff-8ff4-e7c52d334954"
      },
      "outputs": [
        {
          "name": "stdout",
          "output_type": "stream",
          "text": [
            "Evaluating RMSE, MAE of algorithm SVD on 6 split(s).\n",
            "\n",
            "                  Fold 1  Fold 2  Fold 3  Fold 4  Fold 5  Fold 6  Mean    Std     \n",
            "RMSE (testset)    0.8750  0.8633  0.8713  0.8784  0.8712  0.8753  0.8724  0.0048  \n",
            "MAE (testset)     0.6706  0.6639  0.6692  0.6777  0.6682  0.6716  0.6702  0.0042  \n",
            "Fit time          1.82    1.49    2.07    2.94    3.69    2.01    2.34    0.75    \n",
            "Test time         0.16    0.10    0.84    0.22    0.25    0.12    0.28    0.25    \n"
          ]
        },
        {
          "data": {
            "text/plain": [
              "{'test_rmse': array([0.87495113, 0.86327261, 0.87125727, 0.87841512, 0.87122477,\n",
              "        0.87529899]),\n",
              " 'test_mae': array([0.67061167, 0.66393946, 0.66918979, 0.67774807, 0.66815439,\n",
              "        0.67161136]),\n",
              " 'fit_time': (1.8200418949127197,\n",
              "  1.4873108863830566,\n",
              "  2.074875831604004,\n",
              "  2.9426469802856445,\n",
              "  3.685574769973755,\n",
              "  2.0123400688171387),\n",
              " 'test_time': (0.15635013580322266,\n",
              "  0.09995627403259277,\n",
              "  0.8353290557861328,\n",
              "  0.22399449348449707,\n",
              "  0.25064945220947266,\n",
              "  0.11501479148864746)}"
            ]
          },
          "execution_count": 141,
          "metadata": {},
          "output_type": "execute_result"
        }
      ],
      "source": [
        "cross_validate(algo, data, measures=['RMSE', 'MAE'], cv=6, verbose=True)"
      ]
    },
    {
      "cell_type": "code",
      "execution_count": 142,
      "metadata": {
        "colab": {
          "base_uri": "https://localhost:8080/"
        },
        "id": "mt672lViWUMd",
        "outputId": "380526da-36ee-4354-c84c-022eb4e81344"
      },
      "outputs": [
        {
          "name": "stdout",
          "output_type": "stream",
          "text": [
            "Evaluating RMSE, MAE of algorithm SVD on 6 split(s).\n",
            "\n",
            "                  Fold 1  Fold 2  Fold 3  Fold 4  Fold 5  Fold 6  Mean    Std     \n",
            "RMSE (testset)    0.9020  0.8982  0.9062  0.8888  0.8889  0.9032  0.8979  0.0068  \n",
            "MAE (testset)     0.6943  0.6900  0.6980  0.6887  0.6845  0.6934  0.6915  0.0043  \n",
            "Fit time          0.34    0.37    0.37    0.37    0.35    0.37    0.36    0.01    \n",
            "Test time         0.10    0.09    0.10    0.09    0.12    0.10    0.10    0.01    \n"
          ]
        },
        {
          "data": {
            "text/plain": [
              "{'test_rmse': array([0.90204838, 0.89815799, 0.90622792, 0.88876659, 0.88886203,\n",
              "        0.90323361]),\n",
              " 'test_mae': array([0.69427831, 0.68998837, 0.69803931, 0.68865522, 0.68452513,\n",
              "        0.6934053 ]),\n",
              " 'fit_time': (0.33513712882995605,\n",
              "  0.3654625415802002,\n",
              "  0.3718702793121338,\n",
              "  0.3654508590698242,\n",
              "  0.3549935817718506,\n",
              "  0.36893796920776367),\n",
              " 'test_time': (0.1030879020690918,\n",
              "  0.09238934516906738,\n",
              "  0.09917163848876953,\n",
              "  0.09246134757995605,\n",
              "  0.1163184642791748,\n",
              "  0.1032407283782959)}"
            ]
          },
          "execution_count": 142,
          "metadata": {},
          "output_type": "execute_result"
        }
      ],
      "source": [
        "# Run 6-fold cross-validation and print results.\n",
        "cross_validate(algo2, data, measures=['RMSE', 'MAE'], cv=6, verbose=True)"
      ]
    },
    {
      "attachments": {},
      "cell_type": "markdown",
      "metadata": {
        "id": "6CcJoGaVWALu"
      },
      "source": [
        "model set:"
      ]
    },
    {
      "cell_type": "code",
      "execution_count": 143,
      "metadata": {
        "id": "UO37DV_qigYJ"
      },
      "outputs": [],
      "source": [
        "algo_SVD = {\n",
        "            f'SVD(nfc{nfs}, neph{eph})':\n",
        "            SVD(\n",
        "                n_factors=nfs,\n",
        "                n_epochs=eph,\n",
        "                init_mean=r_mean, # df['rating'].mean(), # (0+5)/2 ...\n",
        "                init_std_dev=r_std  # df['rating'].std()\n",
        "                )\n",
        "            for nfs in (1, 5, 10, 20, 40)\n",
        "            for eph in (5, 10, 20)\n",
        "           }"
      ]
    },
    {
      "cell_type": "code",
      "execution_count": 144,
      "metadata": {
        "colab": {
          "base_uri": "https://localhost:8080/"
        },
        "id": "RzMOUzUImTu6",
        "outputId": "5069f91c-95b3-4ae5-86f3-2c8a7c46377c"
      },
      "outputs": [
        {
          "data": {
            "text/plain": [
              "{'SVD(nfc1, neph5)': <surprise.prediction_algorithms.matrix_factorization.SVD at 0x7dcd6b53f160>,\n",
              " 'SVD(nfc1, neph10)': <surprise.prediction_algorithms.matrix_factorization.SVD at 0x7dcd6b53c8b0>,\n",
              " 'SVD(nfc1, neph20)': <surprise.prediction_algorithms.matrix_factorization.SVD at 0x7dcd6b53f250>,\n",
              " 'SVD(nfc5, neph5)': <surprise.prediction_algorithms.matrix_factorization.SVD at 0x7dcd6b53dcf0>,\n",
              " 'SVD(nfc5, neph10)': <surprise.prediction_algorithms.matrix_factorization.SVD at 0x7dcd6b53f0d0>,\n",
              " 'SVD(nfc5, neph20)': <surprise.prediction_algorithms.matrix_factorization.SVD at 0x7dcd6b53e590>,\n",
              " 'SVD(nfc10, neph5)': <surprise.prediction_algorithms.matrix_factorization.SVD at 0x7dcd6b53d8a0>,\n",
              " 'SVD(nfc10, neph10)': <surprise.prediction_algorithms.matrix_factorization.SVD at 0x7dcd6b53da50>,\n",
              " 'SVD(nfc10, neph20)': <surprise.prediction_algorithms.matrix_factorization.SVD at 0x7dcd6b53f520>,\n",
              " 'SVD(nfc20, neph5)': <surprise.prediction_algorithms.matrix_factorization.SVD at 0x7dcd6b53e0e0>,\n",
              " 'SVD(nfc20, neph10)': <surprise.prediction_algorithms.matrix_factorization.SVD at 0x7dcd6b53d870>,\n",
              " 'SVD(nfc20, neph20)': <surprise.prediction_algorithms.matrix_factorization.SVD at 0x7dcd6b53ef80>,\n",
              " 'SVD(nfc40, neph5)': <surprise.prediction_algorithms.matrix_factorization.SVD at 0x7dcd6b53e470>,\n",
              " 'SVD(nfc40, neph10)': <surprise.prediction_algorithms.matrix_factorization.SVD at 0x7dcd6b53c700>,\n",
              " 'SVD(nfc40, neph20)': <surprise.prediction_algorithms.matrix_factorization.SVD at 0x7dcd6b53d720>}"
            ]
          },
          "execution_count": 144,
          "metadata": {},
          "output_type": "execute_result"
        }
      ],
      "source": [
        "algo_SVD"
      ]
    },
    {
      "attachments": {},
      "cell_type": "markdown",
      "metadata": {
        "id": "YJSP7fNkWG-q"
      },
      "source": [
        "model results by cross validation:"
      ]
    },
    {
      "cell_type": "code",
      "execution_count": 145,
      "metadata": {
        "colab": {
          "base_uri": "https://localhost:8080/"
        },
        "id": "tqfamSKnlZFQ",
        "outputId": "d593a9b8-ee2a-4f4c-aa7d-694b9998edd8"
      },
      "outputs": [
        {
          "name": "stdout",
          "output_type": "stream",
          "text": [
            "Evaluating RMSE, MAE of algorithm SVD on 3 split(s).\n",
            "\n",
            "                  Fold 1  Fold 2  Fold 3  Mean    Std     \n",
            "RMSE (testset)    0.9521  0.9475  0.9515  0.9504  0.0021  \n",
            "MAE (testset)     0.7389  0.7395  0.7379  0.7388  0.0007  \n",
            "Fit time          0.16    0.24    0.24    0.21    0.04    \n",
            "Test time         0.32    0.88    0.31    0.50    0.26    \n",
            "Evaluating RMSE, MAE of algorithm SVD on 5 split(s).\n",
            "\n",
            "                  Fold 1  Fold 2  Fold 3  Fold 4  Fold 5  Mean    Std     \n",
            "RMSE (testset)    0.9396  0.9313  0.9329  0.9386  0.9479  0.9380  0.0059  \n",
            "MAE (testset)     0.7262  0.7220  0.7225  0.7278  0.7325  0.7262  0.0038  \n",
            "Fit time          0.20    0.21    0.21    0.21    0.22    0.21    0.00    \n",
            "Test time         0.13    0.54    0.12    0.18    0.59    0.31    0.21    \n",
            "Evaluating RMSE, MAE of algorithm SVD on 6 split(s).\n",
            "\n",
            "                  Fold 1  Fold 2  Fold 3  Fold 4  Fold 5  Fold 6  Mean    Std     \n",
            "RMSE (testset)    0.9287  0.9301  0.9285  0.9328  0.9451  0.9357  0.9335  0.0058  \n",
            "MAE (testset)     0.7209  0.7207  0.7188  0.7200  0.7314  0.7283  0.7233  0.0047  \n",
            "Fit time          0.22    0.22    0.22    0.22    0.22    0.22    0.22    0.00    \n",
            "Test time         0.09    0.09    0.54    0.10    0.09    0.16    0.18    0.16    \n",
            "Evaluating RMSE, MAE of algorithm SVD on 3 split(s).\n",
            "\n",
            "                  Fold 1  Fold 2  Fold 3  Mean    Std     \n",
            "RMSE (testset)    0.9096  0.9094  0.9155  0.9115  0.0028  \n",
            "MAE (testset)     0.7012  0.7055  0.7061  0.7043  0.0022  \n",
            "Fit time          0.27    0.29    0.29    0.28    0.01    \n",
            "Test time         0.47    0.31    0.42    0.40    0.06    \n",
            "Evaluating RMSE, MAE of algorithm SVD on 5 split(s).\n",
            "\n",
            "                  Fold 1  Fold 2  Fold 3  Fold 4  Fold 5  Mean    Std     \n",
            "RMSE (testset)    0.9116  0.9027  0.9017  0.9063  0.9012  0.9047  0.0039  \n",
            "MAE (testset)     0.7026  0.6940  0.6949  0.6991  0.6993  0.6980  0.0031  \n",
            "Fit time          0.49    0.49    0.37    0.36    0.35    0.41    0.07    \n",
            "Test time         0.21    0.64    0.12    0.29    0.64    0.38    0.22    \n",
            "Evaluating RMSE, MAE of algorithm SVD on 6 split(s).\n",
            "\n",
            "                  Fold 1  Fold 2  Fold 3  Fold 4  Fold 5  Fold 6  Mean    Std     \n",
            "RMSE (testset)    0.8984  0.9021  0.9017  0.9088  0.8978  0.9183  0.9045  0.0071  \n",
            "MAE (testset)     0.6938  0.6978  0.6981  0.7018  0.6949  0.7059  0.6987  0.0041  \n",
            "Fit time          0.37    0.36    0.37    0.37    0.36    0.37    0.37    0.00    \n",
            "Test time         0.09    0.11    0.49    0.10    0.12    0.09    0.17    0.15    \n",
            "Evaluating RMSE, MAE of algorithm SVD on 3 split(s).\n",
            "\n",
            "                  Fold 1  Fold 2  Fold 3  Mean    Std     \n",
            "RMSE (testset)    0.8963  0.9044  0.8906  0.8971  0.0056  \n",
            "MAE (testset)     0.6884  0.6960  0.6866  0.6903  0.0040  \n",
            "Fit time          0.52    0.53    0.72    0.59    0.09    \n",
            "Test time         0.27    0.32    0.38    0.32    0.04    \n",
            "Evaluating RMSE, MAE of algorithm SVD on 5 split(s).\n",
            "\n",
            "                  Fold 1  Fold 2  Fold 3  Fold 4  Fold 5  Mean    Std     \n",
            "RMSE (testset)    0.8772  0.8827  0.8926  0.8974  0.8906  0.8881  0.0072  \n",
            "MAE (testset)     0.6750  0.6784  0.6853  0.6908  0.6853  0.6830  0.0056  \n",
            "Fit time          0.86    0.64    0.63    0.62    0.62    0.68    0.09    \n",
            "Test time         0.21    0.59    0.12    0.13    0.56    0.32    0.21    \n",
            "Evaluating RMSE, MAE of algorithm SVD on 6 split(s).\n",
            "\n",
            "                  Fold 1  Fold 2  Fold 3  Fold 4  Fold 5  Fold 6  Mean    Std     \n",
            "RMSE (testset)    0.8821  0.8740  0.8891  0.8856  0.8915  0.8930  0.8859  0.0064  \n",
            "MAE (testset)     0.6801  0.6746  0.6851  0.6803  0.6846  0.6830  0.6813  0.0035  \n",
            "Fit time          0.66    0.65    0.65    0.66    0.67    0.83    0.69    0.07    \n",
            "Test time         0.10    0.10    0.52    0.10    0.10    0.20    0.18    0.15    \n",
            "Evaluating RMSE, MAE of algorithm SVD on 3 split(s).\n",
            "\n",
            "                  Fold 1  Fold 2  Fold 3  Mean    Std     \n",
            "RMSE (testset)    1.0591  1.0505  1.0647  1.0581  0.0058  \n",
            "MAE (testset)     0.8158  0.8060  0.8187  0.8135  0.0054  \n",
            "Fit time          0.23    0.18    0.18    0.20    0.02    \n",
            "Test time         0.93    0.20    0.61    0.58    0.30    \n",
            "Evaluating RMSE, MAE of algorithm SVD on 5 split(s).\n",
            "\n",
            "                  Fold 1  Fold 2  Fold 3  Fold 4  Fold 5  Mean    Std     \n",
            "RMSE (testset)    1.0427  1.0471  1.0500  1.0511  1.0334  1.0449  0.0064  \n",
            "MAE (testset)     0.8060  0.8096  0.8082  0.8109  0.7892  0.8048  0.0080  \n",
            "Fit time          0.21    0.22    0.22    0.22    0.22    0.22    0.00    \n",
            "Test time         0.14    0.12    0.12    0.13    0.11    0.12    0.01    \n",
            "Evaluating RMSE, MAE of algorithm SVD on 6 split(s).\n",
            "\n",
            "                  Fold 1  Fold 2  Fold 3  Fold 4  Fold 5  Fold 6  Mean    Std     \n",
            "RMSE (testset)    1.0368  1.0424  1.0415  1.0361  1.0333  1.0371  1.0379  0.0031  \n",
            "MAE (testset)     0.7953  0.8022  0.7999  0.7949  0.7930  0.7947  0.7967  0.0032  \n",
            "Fit time          0.23    0.23    0.23    0.23    0.23    0.23    0.23    0.00    \n",
            "Test time         0.10    0.11    0.09    0.53    0.09    0.12    0.17    0.16    \n",
            "Evaluating RMSE, MAE of algorithm SVD on 3 split(s).\n",
            "\n",
            "                  Fold 1  Fold 2  Fold 3  Mean    Std     \n",
            "RMSE (testset)    1.0018  0.9911  1.0030  0.9986  0.0053  \n",
            "MAE (testset)     0.7683  0.7582  0.7685  0.7650  0.0048  \n",
            "Fit time          0.28    0.30    0.44    0.34    0.07    \n",
            "Test time         0.68    0.33    0.40    0.47    0.15    \n",
            "Evaluating RMSE, MAE of algorithm SVD on 5 split(s).\n",
            "\n",
            "                  Fold 1  Fold 2  Fold 3  Fold 4  Fold 5  Mean    Std     \n",
            "RMSE (testset)    0.9695  0.9833  0.9658  0.9645  0.9886  0.9743  0.0097  \n",
            "MAE (testset)     0.7456  0.7552  0.7426  0.7412  0.7582  0.7486  0.0068  \n",
            "Fit time          0.38    0.38    0.36    0.37    0.37    0.37    0.01    \n",
            "Test time         0.12    0.12    0.11    0.14    0.11    0.12    0.01    \n",
            "Evaluating RMSE, MAE of algorithm SVD on 6 split(s).\n",
            "\n",
            "                  Fold 1  Fold 2  Fold 3  Fold 4  Fold 5  Fold 6  Mean    Std     \n",
            "RMSE (testset)    0.9731  0.9827  0.9636  0.9819  0.9691  0.9811  0.9752  0.0072  \n",
            "MAE (testset)     0.7457  0.7515  0.7416  0.7528  0.7454  0.7526  0.7483  0.0043  \n",
            "Fit time          0.38    0.39    0.39    0.38    0.38    0.37    0.38    0.01    \n",
            "Test time         0.11    0.51    0.10    0.21    0.09    0.09    0.19    0.15    \n",
            "Evaluating RMSE, MAE of algorithm SVD on 3 split(s).\n",
            "\n",
            "                  Fold 1  Fold 2  Fold 3  Mean    Std     \n",
            "RMSE (testset)    0.9627  0.9657  0.9675  0.9653  0.0020  \n",
            "MAE (testset)     0.7352  0.7358  0.7419  0.7376  0.0030  \n",
            "Fit time          0.54    0.55    0.77    0.62    0.11    \n",
            "Test time         0.19    0.89    0.37    0.48    0.30    \n",
            "Evaluating RMSE, MAE of algorithm SVD on 5 split(s).\n",
            "\n",
            "                  Fold 1  Fold 2  Fold 3  Fold 4  Fold 5  Mean    Std     \n",
            "RMSE (testset)    0.9378  0.9402  0.9365  0.9409  0.9585  0.9428  0.0080  \n",
            "MAE (testset)     0.7125  0.7168  0.7143  0.7184  0.7346  0.7193  0.0079  \n",
            "Fit time          0.64    0.67    0.65    0.67    0.65    0.66    0.01    \n",
            "Test time         0.12    0.67    0.11    0.11    0.56    0.32    0.25    \n",
            "Evaluating RMSE, MAE of algorithm SVD on 6 split(s).\n",
            "\n",
            "                  Fold 1  Fold 2  Fold 3  Fold 4  Fold 5  Fold 6  Mean    Std     \n",
            "RMSE (testset)    0.9536  0.9614  0.9592  0.9554  0.9533  0.9332  0.9527  0.0092  \n",
            "MAE (testset)     0.7332  0.7384  0.7355  0.7353  0.7316  0.7202  0.7324  0.0058  \n",
            "Fit time          0.69    0.68    0.69    0.67    0.96    0.91    0.77    0.12    \n",
            "Test time         0.11    0.09    0.09    0.56    0.18    0.09    0.19    0.17    \n",
            "Evaluating RMSE, MAE of algorithm SVD on 3 split(s).\n",
            "\n",
            "                  Fold 1  Fold 2  Fold 3  Mean    Std     \n",
            "RMSE (testset)    1.2154  1.2163  1.2037  1.2118  0.0057  \n",
            "MAE (testset)     0.9234  0.9256  0.9209  0.9233  0.0019  \n",
            "Fit time          0.18    0.20    0.19    0.19    0.01    \n",
            "Test time         0.67    0.20    0.19    0.35    0.22    \n",
            "Evaluating RMSE, MAE of algorithm SVD on 5 split(s).\n",
            "\n",
            "                  Fold 1  Fold 2  Fold 3  Fold 4  Fold 5  Mean    Std     \n",
            "RMSE (testset)    1.1454  1.1607  1.1485  1.1491  1.1654  1.1538  0.0078  \n",
            "MAE (testset)     0.8686  0.8803  0.8684  0.8725  0.8833  0.8746  0.0061  \n",
            "Fit time          0.23    0.24    0.23    0.24    0.24    0.24    0.01    \n",
            "Test time         0.13    0.12    0.11    0.59    0.11    0.21    0.19    \n",
            "Evaluating RMSE, MAE of algorithm SVD on 6 split(s).\n",
            "\n",
            "                  Fold 1  Fold 2  Fold 3  Fold 4  Fold 5  Fold 6  Mean    Std     \n",
            "RMSE (testset)    1.1495  1.1591  1.1698  1.1464  1.1601  1.1369  1.1536  0.0107  \n",
            "MAE (testset)     0.8727  0.8836  0.8906  0.8749  0.8811  0.8666  0.8783  0.0078  \n",
            "Fit time          0.25    0.24    0.25    0.28    0.24    0.23    0.25    0.02    \n",
            "Test time         0.12    0.10    0.11    0.10    0.10    0.10    0.10    0.01    \n",
            "Evaluating RMSE, MAE of algorithm SVD on 3 split(s).\n",
            "\n",
            "                  Fold 1  Fold 2  Fold 3  Mean    Std     \n",
            "RMSE (testset)    1.0937  1.0976  1.0960  1.0958  0.0016  \n",
            "MAE (testset)     0.8339  0.8404  0.8298  0.8347  0.0044  \n",
            "Fit time          0.42    0.44    0.38    0.41    0.02    \n",
            "Test time         0.37    0.37    0.68    0.47    0.15    \n",
            "Evaluating RMSE, MAE of algorithm SVD on 5 split(s).\n",
            "\n",
            "                  Fold 1  Fold 2  Fold 3  Fold 4  Fold 5  Mean    Std     \n",
            "RMSE (testset)    1.0749  1.0669  1.0661  1.0644  1.0579  1.0660  0.0055  \n",
            "MAE (testset)     0.8140  0.8103  0.8103  0.8070  0.8064  0.8096  0.0027  \n",
            "Fit time          0.39    0.60    0.60    0.39    0.38    0.47    0.10    \n",
            "Test time         0.11    0.13    0.92    0.18    0.16    0.30    0.31    \n",
            "Evaluating RMSE, MAE of algorithm SVD on 6 split(s).\n",
            "\n",
            "                  Fold 1  Fold 2  Fold 3  Fold 4  Fold 5  Fold 6  Mean    Std     \n",
            "RMSE (testset)    1.0730  1.0643  1.0594  1.0621  1.0505  1.0893  1.0664  0.0122  \n",
            "MAE (testset)     0.8145  0.8107  0.8005  0.8095  0.7966  0.8269  0.8098  0.0098  \n",
            "Fit time          0.41    0.41    0.41    0.42    0.41    0.56    0.44    0.06    \n",
            "Test time         0.11    0.10    0.09    0.10    0.10    0.24    0.12    0.05    \n",
            "Evaluating RMSE, MAE of algorithm SVD on 3 split(s).\n",
            "\n",
            "                  Fold 1  Fold 2  Fold 3  Mean    Std     \n",
            "RMSE (testset)    1.0744  1.0594  1.0645  1.0661  0.0062  \n",
            "MAE (testset)     0.8185  0.8038  0.8061  0.8095  0.0065  \n",
            "Fit time          0.82    0.59    0.60    0.67    0.11    \n",
            "Test time         0.37    0.75    0.21    0.45    0.23    \n",
            "Evaluating RMSE, MAE of algorithm SVD on 5 split(s).\n",
            "\n",
            "                  Fold 1  Fold 2  Fold 3  Fold 4  Fold 5  Mean    Std     \n",
            "RMSE (testset)    1.0379  1.0365  1.0363  1.0255  1.0443  1.0361  0.0060  \n",
            "MAE (testset)     0.7862  0.7877  0.7889  0.7806  0.7989  0.7884  0.0059  \n",
            "Fit time          0.72    0.71    0.71    0.71    0.72    0.71    0.00    \n",
            "Test time         0.12    0.12    0.11    0.11    0.11    0.12    0.00    \n",
            "Evaluating RMSE, MAE of algorithm SVD on 6 split(s).\n",
            "\n",
            "                  Fold 1  Fold 2  Fold 3  Fold 4  Fold 5  Fold 6  Mean    Std     \n",
            "RMSE (testset)    1.0230  1.0500  1.0297  1.0113  1.0325  1.0068  1.0256  0.0143  \n",
            "MAE (testset)     0.7786  0.7991  0.7841  0.7747  0.7897  0.7692  0.7826  0.0098  \n",
            "Fit time          0.75    0.90    1.05    0.73    0.77    0.75    0.82    0.11    \n",
            "Test time         0.62    0.19    0.18    0.11    0.60    0.11    0.30    0.22    \n",
            "Evaluating RMSE, MAE of algorithm SVD on 3 split(s).\n",
            "\n",
            "                  Fold 1  Fold 2  Fold 3  Mean    Std     \n",
            "RMSE (testset)    1.4586  1.4423  1.5045  1.4685  0.0264  \n",
            "MAE (testset)     1.1129  1.0945  1.1377  1.1150  0.0177  \n",
            "Fit time          0.19    0.22    0.22    0.21    0.01    \n",
            "Test time         0.22    0.70    0.27    0.40    0.22    \n",
            "Evaluating RMSE, MAE of algorithm SVD on 5 split(s).\n",
            "\n",
            "                  Fold 1  Fold 2  Fold 3  Fold 4  Fold 5  Mean    Std     \n",
            "RMSE (testset)    1.3886  1.3982  1.4118  1.3949  1.4586  1.4104  0.0253  \n",
            "MAE (testset)     1.0496  1.0677  1.0689  1.0522  1.1040  1.0685  0.0194  \n",
            "Fit time          0.27    0.26    0.26    0.26    0.26    0.26    0.00    \n",
            "Test time         0.14    0.66    0.13    0.12    0.14    0.24    0.21    \n",
            "Evaluating RMSE, MAE of algorithm SVD on 6 split(s).\n",
            "\n",
            "                  Fold 1  Fold 2  Fold 3  Fold 4  Fold 5  Fold 6  Mean    Std     \n",
            "RMSE (testset)    1.3851  1.3823  1.3749  1.3858  1.4049  1.3848  1.3863  0.0091  \n",
            "MAE (testset)     1.0486  1.0417  1.0378  1.0447  1.0601  1.0397  1.0454  0.0074  \n",
            "Fit time          0.28    0.37    0.38    0.32    0.28    0.27    0.31    0.04    \n",
            "Test time         0.70    0.18    0.20    0.11    0.11    0.10    0.23    0.21    \n",
            "Evaluating RMSE, MAE of algorithm SVD on 3 split(s).\n",
            "\n",
            "                  Fold 1  Fold 2  Fold 3  Mean    Std     \n",
            "RMSE (testset)    1.3567  1.2986  1.3590  1.3381  0.0280  \n",
            "MAE (testset)     1.0249  0.9801  1.0314  1.0121  0.0228  \n",
            "Fit time          0.37    0.36    0.38    0.37    0.01    \n",
            "Test time         0.22    0.81    0.23    0.42    0.27    \n",
            "Evaluating RMSE, MAE of algorithm SVD on 5 split(s).\n",
            "\n",
            "                  Fold 1  Fold 2  Fold 3  Fold 4  Fold 5  Mean    Std     \n",
            "RMSE (testset)    1.2607  1.2723  1.3032  1.3062  1.3360  1.2957  0.0267  \n",
            "MAE (testset)     0.9479  0.9496  0.9796  0.9785  1.0142  0.9740  0.0243  \n",
            "Fit time          0.44    0.44    0.45    0.44    0.45    0.45    0.00    \n",
            "Test time         0.14    0.12    0.22    0.13    0.12    0.14    0.04    \n",
            "Evaluating RMSE, MAE of algorithm SVD on 6 split(s).\n",
            "\n",
            "                  Fold 1  Fold 2  Fold 3  Fold 4  Fold 5  Fold 6  Mean    Std     \n",
            "RMSE (testset)    1.3172  1.3152  1.3084  1.3192  1.3276  1.3284  1.3193  0.0070  \n",
            "MAE (testset)     0.9878  0.9827  0.9887  1.0003  1.0013  1.0097  0.9951  0.0094  \n",
            "Fit time          0.47    0.62    0.58    0.45    0.46    0.45    0.51    0.07    \n",
            "Test time         0.78    0.20    0.11    0.19    0.65    0.20    0.36    0.26    \n",
            "Evaluating RMSE, MAE of algorithm SVD on 3 split(s).\n",
            "\n",
            "                  Fold 1  Fold 2  Fold 3  Mean    Std     \n",
            "RMSE (testset)    1.3087  1.3323  1.2535  1.2981  0.0330  \n",
            "MAE (testset)     0.9835  1.0060  0.9491  0.9795  0.0234  \n",
            "Fit time          0.65    0.67    0.67    0.66    0.01    \n",
            "Test time         0.21    0.75    0.25    0.40    0.24    \n",
            "Evaluating RMSE, MAE of algorithm SVD on 5 split(s).\n",
            "\n",
            "                  Fold 1  Fold 2  Fold 3  Fold 4  Fold 5  Mean    Std     \n",
            "RMSE (testset)    1.2107  1.1923  1.2111  1.2296  1.2231  1.2134  0.0128  \n",
            "MAE (testset)     0.9134  0.8998  0.9163  0.9278  0.9282  0.9171  0.0105  \n",
            "Fit time          0.81    0.81    0.84    1.07    0.80    0.87    0.10    \n",
            "Test time         0.12    0.17    0.92    0.13    0.13    0.29    0.32    \n",
            "Evaluating RMSE, MAE of algorithm SVD on 6 split(s).\n",
            "\n",
            "                  Fold 1  Fold 2  Fold 3  Fold 4  Fold 5  Fold 6  Mean    Std     \n",
            "RMSE (testset)    1.2470  1.2090  1.2548  1.2247  1.2032  1.2721  1.2351  0.0249  \n",
            "MAE (testset)     0.9370  0.9116  0.9494  0.9298  0.9097  0.9591  0.9328  0.0182  \n",
            "Fit time          0.84    0.83    0.83    0.81    0.84    0.84    0.83    0.01    \n",
            "Test time         0.10    0.71    0.11    0.10    0.11    0.77    0.32    0.30    \n",
            "Evaluating RMSE, MAE of algorithm SVD on 3 split(s).\n",
            "\n",
            "                  Fold 1  Fold 2  Fold 3  Mean    Std     \n",
            "RMSE (testset)    1.8166  1.8290  1.8307  1.8254  0.0063  \n",
            "MAE (testset)     1.4921  1.5031  1.5002  1.4984  0.0046  \n",
            "Fit time          0.25    0.36    0.35    0.32    0.05    \n",
            "Test time         0.24    0.38    1.14    0.59    0.39    \n",
            "Evaluating RMSE, MAE of algorithm SVD on 5 split(s).\n",
            "\n",
            "                  Fold 1  Fold 2  Fold 3  Fold 4  Fold 5  Mean    Std     \n",
            "RMSE (testset)    1.8245  1.8281  1.8283  1.8219  1.8243  1.8254  0.0025  \n",
            "MAE (testset)     1.4928  1.5048  1.4981  1.4993  1.4971  1.4984  0.0039  \n",
            "Fit time          0.29    0.31    0.30    0.30    0.30    0.30    0.01    \n",
            "Test time         0.21    0.12    0.14    0.14    0.12    0.15    0.03    \n",
            "Evaluating RMSE, MAE of algorithm SVD on 6 split(s).\n",
            "\n",
            "                  Fold 1  Fold 2  Fold 3  Fold 4  Fold 5  Fold 6  Mean    Std     \n",
            "RMSE (testset)    1.8363  1.8159  1.8247  1.8206  1.8240  1.8311  1.8254  0.0067  \n",
            "MAE (testset)     1.5126  1.4900  1.4968  1.4921  1.4970  1.5021  1.4984  0.0074  \n",
            "Fit time          0.33    0.31    0.31    0.32    0.32    0.31    0.32    0.01    \n",
            "Test time         0.12    0.11    0.10    0.11    0.11    0.10    0.11    0.01    \n",
            "Evaluating RMSE, MAE of algorithm SVD on 3 split(s).\n",
            "\n",
            "                  Fold 1  Fold 2  Fold 3  Mean    Std     \n",
            "RMSE (testset)    1.8357  1.8185  1.8220  1.8254  0.0074  \n",
            "MAE (testset)     1.5045  1.4932  1.4977  1.4984  0.0047  \n",
            "Fit time          0.43    0.43    0.61    0.49    0.08    \n",
            "Test time         0.77    0.38    0.41    0.52    0.18    \n",
            "Evaluating RMSE, MAE of algorithm SVD on 5 split(s).\n",
            "\n",
            "                  Fold 1  Fold 2  Fold 3  Fold 4  Fold 5  Mean    Std     \n",
            "RMSE (testset)    1.8402  1.8194  1.8252  1.8215  1.8208  1.8254  0.0076  \n",
            "MAE (testset)     1.5125  1.4904  1.4992  1.4962  1.4939  1.4984  0.0076  \n",
            "Fit time          0.51    0.54    0.52    0.53    0.52    0.52    0.01    \n",
            "Test time         0.16    0.12    0.12    0.72    0.12    0.25    0.23    \n",
            "Evaluating RMSE, MAE of algorithm SVD on 6 split(s).\n",
            "\n",
            "                  Fold 1  Fold 2  Fold 3  Fold 4  Fold 5  Fold 6  Mean    Std     \n",
            "RMSE (testset)    1.8242  1.8172  1.8333  1.8337  1.8187  1.8253  1.8254  0.0064  \n",
            "MAE (testset)     1.4979  1.4889  1.5048  1.5094  1.4910  1.4988  1.4984  0.0072  \n",
            "Fit time          0.54    0.54    0.54    0.54    0.56    0.59    0.55    0.02    \n",
            "Test time         0.10    0.11    0.12    0.10    0.10    0.19    0.12    0.03    \n",
            "Evaluating RMSE, MAE of algorithm SVD on 3 split(s).\n",
            "\n",
            "                  Fold 1  Fold 2  Fold 3  Mean    Std     \n",
            "RMSE (testset)    1.8269  1.8195  1.8299  1.8254  0.0044  \n",
            "MAE (testset)     1.4972  1.4942  1.5040  1.4984  0.0041  \n",
            "Fit time          1.08    0.78    0.80    0.89    0.14    \n",
            "Test time         0.38    0.22    0.20    0.27    0.08    \n",
            "Evaluating RMSE, MAE of algorithm SVD on 5 split(s).\n",
            "\n",
            "                  Fold 1  Fold 2  Fold 3  Fold 4  Fold 5  Mean    Std     \n",
            "RMSE (testset)    1.8209  1.8246  1.8183  1.8386  1.8246  1.8254  0.0070  \n",
            "MAE (testset)     1.4933  1.4995  1.4937  1.5083  1.4975  1.4984  0.0055  \n",
            "Fit time          0.94    0.95    0.93    0.94    0.95    0.94    0.01    \n",
            "Test time         0.13    0.23    0.13    0.12    0.17    0.16    0.04    \n",
            "Evaluating RMSE, MAE of algorithm SVD on 6 split(s).\n",
            "\n",
            "                  Fold 1  Fold 2  Fold 3  Fold 4  Fold 5  Fold 6  Mean    Std     \n",
            "RMSE (testset)    1.8307  1.8381  1.8241  1.8245  1.8184  1.8167  1.8254  0.0072  \n",
            "MAE (testset)     1.5054  1.5087  1.4945  1.4998  1.4918  1.4905  1.4984  0.0068  \n",
            "Fit time          1.38    0.96    1.00    0.97    0.98    0.96    1.04    0.15    \n",
            "Test time         0.18    0.12    0.10    0.14    0.75    0.10    0.23    0.23    \n"
          ]
        }
      ],
      "source": [
        "assessment_SVD = {\n",
        "                  f'{name}_cv{cv}':\n",
        "                  cross_validate(alg, data, measures=['RMSE', 'MAE'], cv=cv, verbose=True)\n",
        "                  for name, alg in algo_SVD.items() for cv in (3, 5, 6)\n",
        "                  }"
      ]
    },
    {
      "cell_type": "code",
      "execution_count": 146,
      "metadata": {
        "id": "_OxeKqrsm_S3"
      },
      "outputs": [],
      "source": [
        "# assessment_SVD"
      ]
    },
    {
      "cell_type": "code",
      "execution_count": 147,
      "metadata": {
        "id": "FxVYKHUzrC4M"
      },
      "outputs": [],
      "source": [
        "# best_SVD_by_rmse = min(assessment_SVD, key=lambda x: x['test_rmse'].mean())\n",
        "all_SVD_by_rmse = {\n",
        "                   name: value['test_rmse'].mean()\n",
        "                   for name, value in assessment_SVD.items()\n",
        "                   }\n",
        "best_SVD_by_rmse = min(all_SVD_by_rmse, key=all_SVD_by_rmse.get)"
      ]
    },
    {
      "cell_type": "code",
      "execution_count": 148,
      "metadata": {
        "colab": {
          "base_uri": "https://localhost:8080/",
          "height": 35
        },
        "id": "B0Sma8Ajrk9x",
        "outputId": "8b650463-a00b-436d-c353-2b6126eaa608"
      },
      "outputs": [
        {
          "data": {
            "application/vnd.google.colaboratory.intrinsic+json": {
              "type": "string"
            },
            "text/plain": [
              "'SVD(nfc1, neph20)_cv6'"
            ]
          },
          "execution_count": 148,
          "metadata": {},
          "output_type": "execute_result"
        }
      ],
      "source": [
        "best_SVD_by_rmse"
      ]
    },
    {
      "cell_type": "code",
      "execution_count": 149,
      "metadata": {
        "id": "Cs7TQtP4rd6R"
      },
      "outputs": [],
      "source": [
        "# best_SVD_by_mae = min(assessment_SVD, key=lambda x:x['test_mae'].mean())\n",
        "all_SVD_by_mae = {\n",
        "                  name: value['test_mae'].mean()\n",
        "                  for name, value in assessment_SVD.items()\n",
        "                  }\n",
        "best_SVD_by_mae = min(all_SVD_by_mae, key=all_SVD_by_mae.get)"
      ]
    },
    {
      "cell_type": "code",
      "execution_count": 150,
      "metadata": {
        "colab": {
          "base_uri": "https://localhost:8080/",
          "height": 35
        },
        "id": "K9VESQagsQEz",
        "outputId": "a1750491-c58c-4852-8c0f-8ef718f25c60"
      },
      "outputs": [
        {
          "data": {
            "application/vnd.google.colaboratory.intrinsic+json": {
              "type": "string"
            },
            "text/plain": [
              "'SVD(nfc1, neph20)_cv6'"
            ]
          },
          "execution_count": 150,
          "metadata": {},
          "output_type": "execute_result"
        }
      ],
      "source": [
        "best_SVD_by_mae"
      ]
    },
    {
      "attachments": {},
      "cell_type": "markdown",
      "metadata": {
        "id": "w1B1sSvu1kRK"
      },
      "source": [
        "Для моделі матричної факторизації (SVD) серед деякого набору параметрів виявився найкращим варіант з 1 фактором, 20 епохами при 6 сегментах кросвалідації."
      ]
    },
    {
      "cell_type": "code",
      "execution_count": 151,
      "metadata": {
        "colab": {
          "base_uri": "https://localhost:8080/"
        },
        "id": "-tzVZzqzlcdF",
        "outputId": "5d71b666-5829-4bcd-c599-45bd8c04892e"
      },
      "outputs": [
        {
          "data": {
            "text/plain": [
              "Prediction(uid=1, iid=1, r_ui=None, est=4.586234359102049, details={'was_impossible': False})"
            ]
          },
          "execution_count": 151,
          "metadata": {},
          "output_type": "execute_result"
        }
      ],
      "source": [
        "predictions = algo_SVD.get(best_SVD_by_rmse[:-4]).predict(uid=1, iid=1)\n",
        "predictions"
      ]
    },
    {
      "attachments": {},
      "cell_type": "markdown",
      "metadata": {
        "id": "swJL2wY8XIwM"
      },
      "source": [
        "врахуємо й інші деякі гіперпараметри для SVD"
      ]
    },
    {
      "cell_type": "code",
      "execution_count": 152,
      "metadata": {
        "id": "3LT3bUzenf13"
      },
      "outputs": [],
      "source": [
        "from surprise.model_selection import GridSearchCV"
      ]
    },
    {
      "cell_type": "code",
      "execution_count": 153,
      "metadata": {
        "id": "7EF9iXODV11Z"
      },
      "outputs": [],
      "source": [
        "another_r_mean = (max([r[2] for r in data.raw_ratings]) + min([r[2] for r in data.raw_ratings])) / 2"
      ]
    },
    {
      "cell_type": "code",
      "execution_count": 154,
      "metadata": {
        "id": "P0QOb4uxollY"
      },
      "outputs": [],
      "source": [
        "param_grid = {\n",
        "              'n_factors': (1, 5, 10, 20, 40),\n",
        "              'n_epochs': (5, 10, 20),\n",
        "              'init_mean': (r_mean, another_r_mean), # (df['rating'].mean(), ((df['rating'].max() + df['rating'].min()) / 2)),\n",
        "              'init_std_dev': (r_std, 1), # (df['rating'].std(), 1),\n",
        "              'lr_all': (0.002, 0.005),\n",
        "              'reg_all': (0.4, 0.6)\n",
        "              }\n",
        "gs = GridSearchCV(SVD, param_grid, measures=['rmse', 'mae'], cv=6)\n",
        "\n",
        "gs.fit(data)\n"
      ]
    },
    {
      "cell_type": "code",
      "execution_count": 155,
      "metadata": {
        "colab": {
          "base_uri": "https://localhost:8080/"
        },
        "id": "nYKjTH8Nr-ZA",
        "outputId": "2efc3bdb-a243-4162-c992-207d9c02c763"
      },
      "outputs": [
        {
          "name": "stdout",
          "output_type": "stream",
          "text": [
            "0.6807\n",
            "{'n_factors': 1, 'n_epochs': 20, 'init_mean': 2.75, 'init_std_dev': 1.042529239060635, 'lr_all': 0.005, 'reg_all': 0.4}\n"
          ]
        }
      ],
      "source": [
        "# best MAE score\n",
        "print(gs.best_score['mae'].round(4))\n",
        "\n",
        "# combination of parameters that gave the best MAE score\n",
        "print(gs.best_params['mae'])"
      ]
    },
    {
      "cell_type": "code",
      "execution_count": 156,
      "metadata": {
        "colab": {
          "base_uri": "https://localhost:8080/"
        },
        "id": "h9u6o0vykyKA",
        "outputId": "17d08f6a-4979-431e-ff4e-5c5e94fb8e2e"
      },
      "outputs": [
        {
          "name": "stdout",
          "output_type": "stream",
          "text": [
            "0.8806\n",
            "{'n_factors': 1, 'n_epochs': 20, 'init_mean': 2.75, 'init_std_dev': 1.042529239060635, 'lr_all': 0.005, 'reg_all': 0.4}\n"
          ]
        }
      ],
      "source": [
        "# best RMSE score\n",
        "print(gs.best_score['rmse'].round(4))\n",
        "\n",
        "# combination of parameters that gave the best RMSE score\n",
        "print(gs.best_params['rmse'])"
      ]
    },
    {
      "cell_type": "code",
      "execution_count": 157,
      "metadata": {
        "id": "GRIDjrCqd7pF"
      },
      "outputs": [],
      "source": [
        "# the_best_svd = gs.best_estimator['rmse']\n",
        "# the_best_svd.__dict__"
      ]
    },
    {
      "cell_type": "code",
      "execution_count": 158,
      "metadata": {
        "id": "b7mY7P9PtPJs"
      },
      "outputs": [],
      "source": [
        "# the_best_svd = gs.best_estimator['mae']\n",
        "# the_best_svd.__dict__"
      ]
    },
    {
      "attachments": {},
      "cell_type": "markdown",
      "metadata": {
        "id": "NiLkAU9c6Zl_"
      },
      "source": [
        "0.8806<br>\n",
        "{'n_factors': 1, 'n_epochs': 20, 'init_mean': 2.75, 'init_std_dev': 1, 'lr_all': 0.005, 'reg_all': 0.4}<br>\n",
        "(22+ хв.оброблення ~240 models)"
      ]
    },
    {
      "cell_type": "code",
      "execution_count": 159,
      "metadata": {
        "colab": {
          "base_uri": "https://localhost:8080/"
        },
        "id": "_USfA2Y0sPlq",
        "outputId": "91714c25-5346-422d-82bc-149c9fcb046e"
      },
      "outputs": [
        {
          "name": "stdout",
          "output_type": "stream",
          "text": [
            "0.8801\n",
            "{'n_factors': 1, 'n_epochs': 20, 'init_mean': 2.75, 'init_std_dev': 0.2, 'lr_all': 0.005, 'reg_all': 0.4}\n",
            "0.6799\n",
            "{'n_factors': 1, 'n_epochs': 20, 'init_mean': 2.75, 'init_std_dev': 0.2, 'lr_all': 0.005, 'reg_all': 0.4}\n"
          ]
        }
      ],
      "source": [
        "param_grid = {\n",
        "              'n_factors': (1, ),\n",
        "              'n_epochs': (20, ),\n",
        "              'init_mean': (2.75,),\n",
        "              'init_std_dev': (0.2,),\n",
        "              'lr_all': (0.005,),\n",
        "              'reg_all': (0.4, )\n",
        "              }\n",
        "gs = GridSearchCV(SVD, param_grid, measures=['rmse', 'mae'], cv=6)\n",
        "\n",
        "gs.fit(data)\n",
        "\n",
        "# best RMSE score\n",
        "print(gs.best_score['rmse'].round(4))\n",
        "\n",
        "# combination of parameters that gave the best RMSE score\n",
        "print(gs.best_params['rmse'])\n",
        "\n",
        "# best MAE score\n",
        "print(gs.best_score['mae'].round(4))\n",
        "\n",
        "# combination of parameters that gave the best MAE score\n",
        "print(gs.best_params['mae'])"
      ]
    },
    {
      "cell_type": "code",
      "execution_count": 160,
      "metadata": {
        "id": "CWEp5u9NtvvL"
      },
      "outputs": [],
      "source": [
        "parameters = gs.best_params['rmse']\n",
        "compare_results_RMSE = {f'''SVD_nf{parameters.get('n_factors')}_nep{parameters.get('n_epochs')}''': gs.best_score['rmse']}\n",
        "parameters = gs.best_params['mae']\n",
        "compare_results_MAE = {f'''SVD_nf{parameters.get('n_factors')}_nep{parameters.get('n_epochs')}''': gs.best_score['mae']}\n",
        "compare_results_fit_time = {f'''SVD_nf{parameters.get('n_factors')}_nep{parameters.get('n_epochs')}''': 7}"
      ]
    },
    {
      "cell_type": "code",
      "execution_count": 161,
      "metadata": {
        "colab": {
          "base_uri": "https://localhost:8080/"
        },
        "id": "zksYO9hnvjqJ",
        "outputId": "3fa814fc-4dde-4ca4-9f90-c8fcfc3d53e0"
      },
      "outputs": [
        {
          "data": {
            "text/plain": [
              "({'SVD_nf1_nep20': 0.880074625316146}, {'SVD_nf1_nep20': 0.6798870906595543})"
            ]
          },
          "execution_count": 161,
          "metadata": {},
          "output_type": "execute_result"
        }
      ],
      "source": [
        "compare_results_RMSE, compare_results_MAE"
      ]
    },
    {
      "attachments": {},
      "cell_type": "markdown",
      "metadata": {
        "id": "eJS3IzR01Djh"
      },
      "source": [
        "Для моделі матричної факторизації (SVD) серед деякого набору параметрів виявився найкращим варіант з 1 фактором, 20 епохами за 6 сегментів кросвалідації."
      ]
    },
    {
      "cell_type": "code",
      "execution_count": 161,
      "metadata": {
        "id": "3lOS6z11nJiC"
      },
      "outputs": [],
      "source": []
    },
    {
      "attachments": {},
      "cell_type": "markdown",
      "metadata": {
        "id": "CGRxOG7ib_9Y"
      },
      "source": [
        "SVDpp, NMF"
      ]
    },
    {
      "attachments": {},
      "cell_type": "markdown",
      "metadata": {
        "id": "eNROxNPcm073"
      },
      "source": [
        "- https://surprise.readthedocs.io/en/stable/matrix_factorization.html#surprise.prediction_algorithms.matrix_factorization.NMF"
      ]
    },
    {
      "attachments": {},
      "cell_type": "markdown",
      "metadata": {
        "id": "2HPJ0pMCmzTA"
      },
      "source": [
        "- https://surprise.readthedocs.io/en/stable/building_custom_algo.html"
      ]
    },
    {
      "cell_type": "code",
      "execution_count": 162,
      "metadata": {
        "id": "BWICglKQ63Q2"
      },
      "outputs": [],
      "source": [
        "from surprise import SVDpp, NMF"
      ]
    },
    {
      "attachments": {},
      "cell_type": "markdown",
      "metadata": {
        "id": "Ui6exSQOk0Ac"
      },
      "source": [
        "#### `SVD++`"
      ]
    },
    {
      "cell_type": "code",
      "execution_count": 163,
      "metadata": {
        "colab": {
          "base_uri": "https://localhost:8080/"
        },
        "id": "HcJf0pXW7hTY",
        "outputId": "28989e76-ed93-4299-b025-457118d6aa81"
      },
      "outputs": [
        {
          "name": "stdout",
          "output_type": "stream",
          "text": [
            "1.8254159284465967\n",
            "{'n_factors': 1, 'n_epochs': 10, 'init_mean': 3.501556983616962, 'init_std_dev': 1.042529239060635, 'lr_all': 0.005, 'reg_all': 0.4}\n"
          ]
        }
      ],
      "source": [
        "param_grid = {\n",
        "              'n_factors': (1,),\n",
        "              'n_epochs': (10, 20),\n",
        "              'init_mean': (r_mean,),  # another_r_mean # (df['rating'].mean(), ((df['rating'].max() + df['rating'].min()) / 2)),\n",
        "              'init_std_dev': (r_std, 1), # (df['rating'].std(), 1),\n",
        "              'lr_all': (0.005,),\n",
        "              'reg_all': (0.4,)\n",
        "              }\n",
        "gspp = GridSearchCV(SVDpp, param_grid, measures=['rmse', 'mae'], cv=6)\n",
        "\n",
        "gspp.fit(data)\n",
        "\n",
        "# best RMSE score\n",
        "print(gspp.best_score['rmse'])\n",
        "\n",
        "# combination of parameters that gave the best RMSE score\n",
        "print(gspp.best_params['rmse'])"
      ]
    },
    {
      "cell_type": "code",
      "execution_count": 164,
      "metadata": {
        "colab": {
          "base_uri": "https://localhost:8080/"
        },
        "id": "sYC87Kcb8TR2",
        "outputId": "c03a90ae-4122-4353-c3f4-3309a7ae8bcd"
      },
      "outputs": [
        {
          "name": "stdout",
          "output_type": "stream",
          "text": [
            "1.498443016383038\n",
            "{'n_factors': 1, 'n_epochs': 10, 'init_mean': 3.501556983616962, 'init_std_dev': 1.042529239060635, 'lr_all': 0.005, 'reg_all': 0.4}\n"
          ]
        }
      ],
      "source": [
        "# best MAE score\n",
        "print(gspp.best_score['mae'])\n",
        "\n",
        "# combination of parameters that gave the best MAE score\n",
        "print(gspp.best_params['mae'])"
      ]
    },
    {
      "cell_type": "code",
      "execution_count": 165,
      "metadata": {
        "colab": {
          "base_uri": "https://localhost:8080/"
        },
        "id": "Ob8aCp0WwT4A",
        "outputId": "9cc52d88-97ff-4592-81c7-16c25c0e64c1"
      },
      "outputs": [
        {
          "name": "stdout",
          "output_type": "stream",
          "text": [
            "1.825412753039325\n",
            "{'n_factors': 1, 'n_epochs': 10, 'init_mean': 3.501556983616962, 'init_std_dev': 1.042529239060635, 'lr_all': 0.005, 'reg_all': 0.4}\n",
            "1.4984430163830378\n",
            "{'n_factors': 1, 'n_epochs': 10, 'init_mean': 3.501556983616962, 'init_std_dev': 1.042529239060635, 'lr_all': 0.005, 'reg_all': 0.4}\n"
          ]
        }
      ],
      "source": [
        "param_grid = {\n",
        "              'n_factors': (1,),\n",
        "              'n_epochs': (10,),\n",
        "              'init_mean': (r_mean,), # (df['rating'].mean(), 2.5),\n",
        "              'init_std_dev': (r_std,), # (df['rating'].std(),),\n",
        "              'lr_all': (0.005,),\n",
        "              'reg_all': (0.4,)\n",
        "              }\n",
        "gspp = GridSearchCV(SVDpp, param_grid, measures=['rmse', 'mae'], cv=6)\n",
        "\n",
        "gspp.fit(data)\n",
        "\n",
        "# best RMSE score\n",
        "print(gspp.best_score['rmse'])\n",
        "\n",
        "# combination of parameters that gave the best RMSE score\n",
        "print(gspp.best_params['rmse'])\n",
        "\n",
        "# best MAE score\n",
        "print(gspp.best_score['mae'])\n",
        "\n",
        "# combination of parameters that gave the best MAE score\n",
        "print(gspp.best_params['mae'])"
      ]
    },
    {
      "cell_type": "code",
      "execution_count": 166,
      "metadata": {
        "colab": {
          "base_uri": "https://localhost:8080/"
        },
        "id": "J-z4W_DYdRHZ",
        "outputId": "5681ce41-7a6d-4f07-896b-a1cd41f92451"
      },
      "outputs": [
        {
          "name": "stdout",
          "output_type": "stream",
          "text": [
            "1.8254183704982334\n",
            "{'n_factors': 10, 'n_epochs': 30, 'init_mean': 3.501556983616962, 'init_std_dev': 1.042529239060635, 'lr_all': 0.005, 'reg_all': 0.4}\n",
            "1.4984429289038275\n",
            "{'n_factors': 10, 'n_epochs': 30, 'init_mean': 3.501556983616962, 'init_std_dev': 1.042529239060635, 'lr_all': 0.005, 'reg_all': 0.4}\n"
          ]
        }
      ],
      "source": [
        "param_grid = {\n",
        "              'n_factors': (10,),\n",
        "              'n_epochs': (30,),\n",
        "              'init_mean': (r_mean,), # (df['rating'].mean(), 2.5),\n",
        "              'init_std_dev': (r_std,), # (df['rating'].std(),),\n",
        "              'lr_all': (0.005,),\n",
        "              'reg_all': (0.4,)\n",
        "              }\n",
        "gspp = GridSearchCV(SVDpp, param_grid, measures=['rmse', 'mae'], cv=5)\n",
        "\n",
        "gspp.fit(data)\n",
        "\n",
        "# best RMSE score\n",
        "print(gspp.best_score['rmse'])\n",
        "\n",
        "# combination of parameters that gave the best RMSE score\n",
        "print(gspp.best_params['rmse'])\n",
        "\n",
        "# best MAE score\n",
        "print(gspp.best_score['mae'])\n",
        "\n",
        "# combination of parameters that gave the best MAE score\n",
        "print(gspp.best_params['mae'])"
      ]
    },
    {
      "cell_type": "code",
      "execution_count": 167,
      "metadata": {
        "colab": {
          "base_uri": "https://localhost:8080/"
        },
        "id": "i6jeibh-gbFV",
        "outputId": "51defd80-bd6b-46fa-cd87-b08c7a988002"
      },
      "outputs": [
        {
          "name": "stdout",
          "output_type": "stream",
          "text": [
            "0.8790485337594897\n",
            "{'n_factors': 10, 'n_epochs': 30, 'lr_all': 0.005, 'reg_all': 0.4}\n",
            "0.6789601853742753\n",
            "{'n_factors': 10, 'n_epochs': 30, 'lr_all': 0.005, 'reg_all': 0.4}\n"
          ]
        }
      ],
      "source": [
        "param_grid = {\n",
        "              'n_factors': (10,),\n",
        "              'n_epochs': (30,),\n",
        "              # 'init_mean': (r_mean,), # (df['rating'].mean(), 2.5),\n",
        "              # 'init_std_dev': (r_std,), # (df['rating'].std(),),\n",
        "              'lr_all': (0.005,),\n",
        "              'reg_all': (0.4,)\n",
        "              }\n",
        "gspp = GridSearchCV(SVDpp, param_grid, measures=['rmse', 'mae'], cv=5)\n",
        "\n",
        "gspp.fit(data)\n",
        "\n",
        "# best RMSE score\n",
        "print(gspp.best_score['rmse'])\n",
        "\n",
        "# combination of parameters that gave the best RMSE score\n",
        "print(gspp.best_params['rmse'])\n",
        "\n",
        "# best MAE score\n",
        "print(gspp.best_score['mae'])\n",
        "\n",
        "# combination of parameters that gave the best MAE score\n",
        "print(gspp.best_params['mae'])"
      ]
    },
    {
      "cell_type": "code",
      "execution_count": 168,
      "metadata": {
        "colab": {
          "base_uri": "https://localhost:8080/"
        },
        "id": "X3GYkSJfhdxt",
        "outputId": "a6aeba9e-f973-442a-8967-1086f5fe0c58"
      },
      "outputs": [
        {
          "data": {
            "text/plain": [
              "(0, 0.1)"
            ]
          },
          "execution_count": 168,
          "metadata": {},
          "output_type": "execute_result"
        }
      ],
      "source": [
        "gspp.best_estimator['rmse'].init_mean, gspp.best_estimator['rmse'].init_std_dev"
      ]
    },
    {
      "cell_type": "code",
      "execution_count": 169,
      "metadata": {
        "colab": {
          "base_uri": "https://localhost:8080/"
        },
        "id": "Gc2aLjUViBDS",
        "outputId": "43c36f11-29f6-4611-9961-906a22353257"
      },
      "outputs": [
        {
          "data": {
            "text/plain": [
              "(10, 30)"
            ]
          },
          "execution_count": 169,
          "metadata": {},
          "output_type": "execute_result"
        }
      ],
      "source": [
        "gspp.best_estimator['rmse'].n_factors, gspp.best_estimator['rmse'].n_epochs"
      ]
    },
    {
      "cell_type": "code",
      "execution_count": 170,
      "metadata": {
        "id": "m9Dkp4FxwBOe"
      },
      "outputs": [],
      "source": [
        "parameters = gspp.best_params['rmse']\n",
        "compare_results_RMSE.update({f'''SVDpp_nf{parameters.get('n_factors')}_nep{parameters.get('n_epochs')}''': gspp.best_score['rmse']})\n",
        "parameters = gspp.best_params['mae']\n",
        "compare_results_MAE.update({f'''SVDpp_nf{parameters.get('n_factors')}_nep{parameters.get('n_epochs')}''': gspp.best_score['mae']})\n",
        "compare_results_fit_time.update({f'''SVDpp_nf{parameters.get('n_factors')}_nep{parameters.get('n_epochs')}''': 278 / 2})"
      ]
    },
    {
      "cell_type": "code",
      "execution_count": 171,
      "metadata": {
        "colab": {
          "base_uri": "https://localhost:8080/"
        },
        "id": "frbdPq-iwDKN",
        "outputId": "18fe051e-9666-4d66-eaa8-c0d3cdc00381"
      },
      "outputs": [
        {
          "data": {
            "text/plain": [
              "({'SVD_nf1_nep20': 0.880074625316146, 'SVDpp_nf10_nep30': 0.8790485337594897},\n",
              " {'SVD_nf1_nep20': 0.6798870906595543, 'SVDpp_nf10_nep30': 0.6789601853742753})"
            ]
          },
          "execution_count": 171,
          "metadata": {},
          "output_type": "execute_result"
        }
      ],
      "source": [
        "compare_results_RMSE, compare_results_MAE"
      ]
    },
    {
      "attachments": {},
      "cell_type": "markdown",
      "metadata": {
        "id": "DozO2BqaZd1_"
      },
      "source": [
        "#### `NMF`"
      ]
    },
    {
      "attachments": {},
      "cell_type": "markdown",
      "metadata": {
        "id": "ootbC3kAmW_V"
      },
      "source": [
        "- https://surprise.readthedocs.io/en/stable/matrix_factorization.html#surprise.prediction_algorithms.matrix_factorization.NMF"
      ]
    },
    {
      "cell_type": "code",
      "execution_count": 172,
      "metadata": {
        "id": "q2ZQjzhkn7SQ"
      },
      "outputs": [],
      "source": [
        "init_low = min([r[2] for r in data.raw_ratings])\n",
        "init_high = max([r[2] for r in data.raw_ratings])"
      ]
    },
    {
      "cell_type": "code",
      "execution_count": 173,
      "metadata": {
        "colab": {
          "base_uri": "https://localhost:8080/"
        },
        "id": "TiDiUoZP8aKz",
        "outputId": "a50902a8-d5fa-4e9b-b49b-c97cbfff5387"
      },
      "outputs": [
        {
          "name": "stdout",
          "output_type": "stream",
          "text": [
            "0.9370779006110879\n",
            "{'n_factors': 1, 'n_epochs': 75, 'init_low': 0, 'init_high': 5.0}\n"
          ]
        }
      ],
      "source": [
        "param_grid = {\n",
        "              'n_factors': (1, 5, 15, 20),\n",
        "              'n_epochs': (10, 20, 30, 50, 75),\n",
        "              # 'reg_pu': (0.01, 0.06, 0.1),\n",
        "              # 'reg_qi': (0.01, 0.06, 0.1),\n",
        "              # 'reg_bu': (0.01, 0.02, 0.03),\n",
        "              # 'reg_bi': (0.01, 0.02, 0.03),\n",
        "              # 'lr_bu': (0.005,),\n",
        "              # 'lr_bi': (0.005,),\n",
        "              'init_low': (0, init_low) if init_low > 0 else (0,),\n",
        "              'init_high': (init_high,),\n",
        "              }\n",
        "gsNMF= GridSearchCV(NMF, param_grid, measures=['rmse', 'mae'], cv=6)\n",
        "\n",
        "gsNMF.fit(data)\n",
        "\n",
        "# best RMSE score\n",
        "print(gsNMF.best_score['rmse'])\n",
        "\n",
        "# combination of parameters that gave the best RMSE score\n",
        "print(gsNMF.best_params['rmse'])"
      ]
    },
    {
      "cell_type": "code",
      "execution_count": 174,
      "metadata": {
        "id": "I8AInd7VfCw-"
      },
      "outputs": [],
      "source": [
        "# model_nmf.pu  # Матриця P (фактори користувача)\n",
        "# model_nmf.qi  # Матриця Q (фактори товару)\n",
        "# avg_ratings_item = model_nmf.qi.mean(axis=1)"
      ]
    },
    {
      "cell_type": "code",
      "execution_count": 175,
      "metadata": {
        "colab": {
          "base_uri": "https://localhost:8080/"
        },
        "id": "yoTwNArO8j1j",
        "outputId": "c6166f88-b95d-431a-e199-ced95b4dde38"
      },
      "outputs": [
        {
          "name": "stdout",
          "output_type": "stream",
          "text": [
            "0.7447791040327644\n",
            "{'n_factors': 1, 'n_epochs': 75, 'init_low': 0, 'init_high': 5.0}\n"
          ]
        }
      ],
      "source": [
        "# best MAE score\n",
        "print(gsNMF.best_score['mae'])\n",
        "\n",
        "# combination of parameters that gave the best MAE score\n",
        "print(gsNMF.best_params['mae'])"
      ]
    },
    {
      "cell_type": "code",
      "execution_count": 176,
      "metadata": {
        "colab": {
          "base_uri": "https://localhost:8080/"
        },
        "id": "53hXqcGqABv3",
        "outputId": "2517a331-1934-4e75-ae94-246b51d587b2"
      },
      "outputs": [
        {
          "name": "stdout",
          "output_type": "stream",
          "text": [
            "0.919641758678024\n",
            "{'n_factors': 15, 'n_epochs': 50}\n",
            "0.7038049160122294\n",
            "{'n_factors': 15, 'n_epochs': 50}\n"
          ]
        }
      ],
      "source": [
        "param_grid = {\n",
        "              'n_factors': (15,),\n",
        "              'n_epochs': (50,),\n",
        "              # 'reg_pu': (0.1,),\n",
        "              # 'reg_qi': (0.1,),\n",
        "              # 'reg_bu': (0.03,),\n",
        "              # 'reg_bi': (0.03,),\n",
        "              # 'lr_bu': (0.002,),\n",
        "              # 'lr_bi': (0.002,)\n",
        "              }\n",
        "gsNMF= GridSearchCV(NMF, param_grid, measures=['rmse', 'mae'], cv=6)\n",
        "\n",
        "gsNMF.fit(data)\n",
        "\n",
        "# best RMSE score\n",
        "print(gsNMF.best_score['rmse'])\n",
        "\n",
        "# combination of parameters that gave the best RMSE score\n",
        "print(gsNMF.best_params['rmse'])\n",
        "\n",
        "# best MAE score\n",
        "print(gsNMF.best_score['mae'])\n",
        "\n",
        "# combination of parameters that gave the best MAE score\n",
        "print(gsNMF.best_params['mae'])"
      ]
    },
    {
      "cell_type": "code",
      "execution_count": 177,
      "metadata": {
        "colab": {
          "base_uri": "https://localhost:8080/"
        },
        "id": "H62HV48pzkzo",
        "outputId": "a441456d-4770-4f75-dfe5-cb4a6f549f87"
      },
      "outputs": [
        {
          "name": "stdout",
          "output_type": "stream",
          "text": [
            "0.9046710820375528\n",
            "{'n_factors': 15, 'n_epochs': 50, 'reg_pu': 0.1, 'reg_qi': 0.1, 'reg_bu': 0.03, 'reg_bi': 0.03, 'lr_bu': 0.002, 'lr_bi': 0.002}\n",
            "0.6978892341115174\n",
            "{'n_factors': 15, 'n_epochs': 50, 'reg_pu': 0.1, 'reg_qi': 0.1, 'reg_bu': 0.03, 'reg_bi': 0.03, 'lr_bu': 0.002, 'lr_bi': 0.002}\n"
          ]
        }
      ],
      "source": [
        "param_grid = {\n",
        "              'n_factors': (15,),\n",
        "              'n_epochs': (50,),\n",
        "              'reg_pu': (0.1,),\n",
        "              'reg_qi': (0.1,),\n",
        "              'reg_bu': (0.03,),\n",
        "              'reg_bi': (0.03,),\n",
        "              'lr_bu': (0.002,),\n",
        "              'lr_bi': (0.002,)\n",
        "              }\n",
        "gsNMF= GridSearchCV(NMF, param_grid, measures=['rmse', 'mae'], cv=6)\n",
        "\n",
        "gsNMF.fit(data)\n",
        "\n",
        "# best RMSE score\n",
        "print(gsNMF.best_score['rmse'])\n",
        "\n",
        "# combination of parameters that gave the best RMSE score\n",
        "print(gsNMF.best_params['rmse'])\n",
        "\n",
        "# best MAE score\n",
        "print(gsNMF.best_score['mae'])\n",
        "\n",
        "# combination of parameters that gave the best MAE score\n",
        "print(gsNMF.best_params['mae'])"
      ]
    },
    {
      "cell_type": "code",
      "execution_count": 178,
      "metadata": {
        "colab": {
          "base_uri": "https://localhost:8080/"
        },
        "id": "7JiF52b5CscM",
        "outputId": "5ff37406-7979-426b-deb2-5bd192645d3d"
      },
      "outputs": [
        {
          "name": "stdout",
          "output_type": "stream",
          "text": [
            "0.8996856094961729\n",
            "{'n_factors': 20, 'n_epochs': 75, 'init_low': 0, 'init_high': 5, 'reg_pu': 0.1, 'reg_qi': 0.1, 'reg_bu': 0.03, 'reg_bi': 0.03, 'lr_bu': 0.002, 'lr_bi': 0.002}\n",
            "0.6985667000484241\n",
            "{'n_factors': 20, 'n_epochs': 75, 'init_low': 0, 'init_high': 5, 'reg_pu': 0.1, 'reg_qi': 0.1, 'reg_bu': 0.03, 'reg_bi': 0.03, 'lr_bu': 0.002, 'lr_bi': 0.002}\n"
          ]
        }
      ],
      "source": [
        "param_grid = {\n",
        "              'n_factors': (20,),\n",
        "              'n_epochs': (75,),\n",
        "              'init_low': (0,),\n",
        "              'init_high': (5,),\n",
        "              'reg_pu': (0.1,),\n",
        "              'reg_qi': (0.1,),\n",
        "              'reg_bu': (0.03,),\n",
        "              'reg_bi': (0.03,),\n",
        "              'lr_bu': (0.002,),\n",
        "              'lr_bi': (0.002,)\n",
        "              }\n",
        "gsNMF= GridSearchCV(NMF, param_grid, measures=['rmse', 'mae'], cv=6)\n",
        "\n",
        "gsNMF.fit(data)\n",
        "\n",
        "# best RMSE score\n",
        "print(gsNMF.best_score['rmse'])\n",
        "\n",
        "# combination of parameters that gave the best RMSE score\n",
        "print(gsNMF.best_params['rmse'])\n",
        "\n",
        "# best MAE score\n",
        "print(gsNMF.best_score['mae'])\n",
        "\n",
        "# combination of parameters that gave the best MAE score\n",
        "print(gsNMF.best_params['mae'])"
      ]
    },
    {
      "cell_type": "code",
      "execution_count": 179,
      "metadata": {
        "id": "sdx0O5UA0NPX"
      },
      "outputs": [],
      "source": [
        "parameters = gsNMF.best_params['rmse']\n",
        "compare_results_RMSE.update({f'''NMF_nf{parameters.get('n_factors')}_nep{parameters.get('n_epochs')}''': gsNMF.best_score['rmse']})\n",
        "parameters = gsNMF.best_params['mae']\n",
        "compare_results_MAE.update({f'''NMF_nf{parameters.get('n_factors')}_nep{parameters.get('n_epochs')}''': gsNMF.best_score['mae']})\n",
        "compare_results_fit_time.update({f'''NMF_nf{parameters.get('n_factors')}_nep{parameters.get('n_epochs')}''': 9})"
      ]
    },
    {
      "cell_type": "code",
      "execution_count": 180,
      "metadata": {
        "colab": {
          "base_uri": "https://localhost:8080/"
        },
        "id": "vabyQ30C0SeD",
        "outputId": "30fcf9d1-a2f6-4b16-9163-51c580f7cf6d"
      },
      "outputs": [
        {
          "data": {
            "text/plain": [
              "({'SVD_nf1_nep20': 0.880074625316146,\n",
              "  'SVDpp_nf10_nep30': 0.8790485337594897,\n",
              "  'NMF_nf20_nep75': 0.8996856094961729},\n",
              " {'SVD_nf1_nep20': 0.6798870906595543,\n",
              "  'SVDpp_nf10_nep30': 0.6789601853742753,\n",
              "  'NMF_nf20_nep75': 0.6985667000484241},\n",
              " {'SVD_nf1_nep20': 7, 'SVDpp_nf10_nep30': 139.0, 'NMF_nf20_nep75': 9})"
            ]
          },
          "execution_count": 180,
          "metadata": {},
          "output_type": "execute_result"
        }
      ],
      "source": [
        "compare_results_RMSE, compare_results_MAE, compare_results_fit_time"
      ]
    },
    {
      "attachments": {},
      "cell_type": "markdown",
      "metadata": {},
      "source": [
        "### __PREDICT__"
      ]
    },
    {
      "attachments": {},
      "cell_type": "markdown",
      "metadata": {},
      "source": [
        "- https://stackoverflow.com/questions/35388647/how-to-use-gridsearchcv-output-for-a-scikit-prediction"
      ]
    },
    {
      "cell_type": "code",
      "execution_count": 191,
      "metadata": {
        "colab": {
          "base_uri": "https://localhost:8080/"
        },
        "id": "JsuX217qC6CX",
        "outputId": "0f9c0c14-3ea4-4d1f-9b70-de311c8fd9e9"
      },
      "outputs": [
        {
          "data": {
            "text/plain": [
              "{'n_factors': 1,\n",
              " 'n_epochs': 20,\n",
              " 'biased': True,\n",
              " 'init_mean': 3.501556983616962,\n",
              " 'init_std_dev': 1.042529239060635,\n",
              " 'lr_bu': 0.005,\n",
              " 'lr_bi': 0.005,\n",
              " 'lr_pu': 0.005,\n",
              " 'lr_qi': 0.005,\n",
              " 'reg_bu': 0.02,\n",
              " 'reg_bi': 0.02,\n",
              " 'reg_pu': 0.02,\n",
              " 'reg_qi': 0.02,\n",
              " 'random_state': None,\n",
              " 'verbose': False,\n",
              " 'bsl_options': {},\n",
              " 'sim_options': {'user_based': True},\n",
              " 'trainset': <surprise.trainset.Trainset at 0x7dcd6b53fcd0>,\n",
              " 'bu': array([-1.14033291e-01, -7.09933022e-01,  2.84385920e-02, -1.52528897e-01,\n",
              "        -5.41109222e-01,  4.54405429e-01, -7.55730131e-01, -4.13610544e-01,\n",
              "        -6.31708243e-01, -2.81646924e-01, -9.03084693e-02, -4.31061417e-01,\n",
              "        -1.76238505e-01, -3.80442224e-01, -4.53431424e-01,  3.66356824e-01,\n",
              "        -4.27117645e-01, -1.02450975e-01, -5.16858870e-01, -2.38364767e-01,\n",
              "        -2.37816229e-01, -2.99428462e-01,  6.92637758e-02, -1.81386310e-01,\n",
              "        -7.19374161e-01, -2.24012330e-01, -4.27725877e-01, -4.70041650e-01,\n",
              "        -1.48772361e-01, -2.96496016e-01,  1.80018631e-01, -1.54480877e-01,\n",
              "        -8.39373901e-01, -2.04267092e-01,  4.06798805e-01, -5.53333398e-01,\n",
              "        -1.70625013e-01, -2.49793177e-01, -4.79466861e-02, -3.14730392e-02,\n",
              "         9.46244199e-02, -9.34308228e-01, -7.93638394e-01,  3.56462737e-01,\n",
              "        -4.40554550e-02, -1.21132856e+00, -4.52892318e-01, -8.63503511e-01,\n",
              "        -3.09123616e-01, -1.10569948e+00,  1.79137505e-01,  1.98941789e-01,\n",
              "         5.74950402e-03, -5.05861305e-01, -6.14913510e-01,  1.15116346e-01,\n",
              "        -5.29869794e-01, -3.30178620e-01,  2.01272774e-01, -5.11561083e-01,\n",
              "         1.35682855e-01, -2.07615148e-01,  1.32594921e-03, -9.90802135e-02,\n",
              "        -1.69463373e-01,  2.69135601e-01, -1.64406297e-01, -4.18668467e-01,\n",
              "        -4.32655827e-01, -2.56008074e-01, -2.91703441e-01, -4.16843543e-01,\n",
              "        -4.64349988e-01, -1.10076501e+00, -6.03086801e-01, -5.57599819e-01,\n",
              "        -4.67440721e-01, -4.19830963e-01,  2.32520685e-01, -4.77480007e-01,\n",
              "         8.69312719e-02,  5.71878670e-02, -1.01964025e+00, -8.05124628e-02,\n",
              "         1.76252466e-01, -9.48116483e-02, -1.44991653e-01, -2.81491387e-01,\n",
              "        -7.90921577e-01, -3.55352987e-01,  8.62077606e-02, -6.93716403e-01,\n",
              "        -2.62203101e-01, -5.61322724e-01, -4.77203602e-01, -3.72764864e-01,\n",
              "        -1.63252866e-01, -2.46951926e-01, -2.29029806e-01, -8.82681779e-01,\n",
              "         4.16713348e-02, -6.09169851e-01, -2.26121721e-01,  1.70296088e-01,\n",
              "        -7.13093134e-02, -7.73202554e-01, -5.89296356e-01,  1.44544710e-01,\n",
              "         9.97866150e-02, -3.92179780e-01, -4.61542250e-01, -5.73268072e-01,\n",
              "        -4.04317494e-01, -3.87347186e-01, -1.54135287e-01, -2.25988562e-01,\n",
              "         3.27204047e-01, -3.02496430e-01, -7.16658343e-02, -8.61421922e-01,\n",
              "        -5.67842885e-01,  6.65389447e-02, -2.15745725e-01, -4.27489733e-01,\n",
              "         7.37938030e-02, -3.68326680e-01, -7.06204129e-01, -8.03867628e-01,\n",
              "        -3.92528419e-01, -7.28909473e-02,  1.59735704e-01,  7.90787324e-02,\n",
              "        -6.23068238e-01, -4.07670031e-01, -1.03631193e+00,  3.26287394e-01,\n",
              "        -6.19415038e-01, -1.60522912e-01, -5.80545646e-01, -1.66799615e-01,\n",
              "        -1.14017442e+00, -2.36970852e-01, -3.73382524e-01,  1.37786051e-01,\n",
              "        -2.72974334e-02, -7.65914799e-01,  7.04951973e-02, -4.79060016e-01,\n",
              "        -3.64098177e-01, -5.28006039e-01,  2.02237852e-02,  9.45915643e-02,\n",
              "        -2.04690993e-02, -1.03492714e+00, -2.64476002e-01, -2.77798440e-01,\n",
              "        -5.64672303e-01,  1.82503117e-01, -1.85597372e-01, -4.28440429e-01,\n",
              "        -3.50351682e-02, -1.85998804e-01, -2.02353527e-01, -5.89456162e-01,\n",
              "        -1.71629527e-01, -7.05723133e-01,  6.70896554e-02, -5.27230261e-01,\n",
              "        -1.77226427e-01, -4.93751065e-01, -2.89596115e-01, -2.22691175e-01,\n",
              "        -1.06596943e+00, -1.05191697e+00, -4.01489077e-01, -3.17827137e-01,\n",
              "        -8.72239177e-01, -6.09557306e-01, -5.78187371e-01, -3.21705488e-01,\n",
              "        -3.22976025e-01, -6.20721330e-02, -2.14929416e-02, -1.04167087e-01,\n",
              "        -3.65297621e-01,  1.77396939e-01, -9.35664718e-01, -1.62714447e-02,\n",
              "        -2.26913932e-01, -4.86221666e-01,  1.09797741e-01, -9.58090656e-01,\n",
              "        -1.23891369e-01, -2.31203385e-01, -1.93950296e-01, -1.33912819e-01,\n",
              "         4.89834679e-01,  2.11103555e-01, -6.68769427e-01,  7.30425260e-02,\n",
              "        -7.53880964e-01, -4.97116811e-01, -2.18356592e-01, -5.03077176e-01,\n",
              "        -4.05130608e-01, -3.70816263e-01, -5.15068861e-01, -2.97489490e-01,\n",
              "        -6.70956089e-01, -5.41776335e-01, -6.01680956e-01, -2.11557109e-01,\n",
              "        -1.50384720e-01, -6.72571963e-01, -7.09404788e-01, -3.26768177e-01,\n",
              "        -7.39963270e-01, -6.85555688e-01, -4.68869475e-01, -4.58898215e-01,\n",
              "        -4.92555572e-01,  2.51651570e-01, -9.34724018e-01, -5.82323297e-01,\n",
              "        -5.13034782e-01, -3.86449109e-01, -3.51111762e-01,  2.51045068e-01,\n",
              "        -3.90224954e-01, -4.95640723e-01, -2.32339619e-01, -8.06055082e-01,\n",
              "        -9.15278164e-01, -2.48513092e-01, -2.44110209e-01,  3.46616199e-02,\n",
              "        -1.90366795e-01, -2.12757208e-01, -4.03261115e-01,  1.80302640e-01,\n",
              "        -4.20112755e-01, -2.29355053e-01,  5.17106031e-01, -7.26058573e-01,\n",
              "        -2.27152210e-01,  3.27370727e-01, -6.82988675e-01, -1.17887024e+00,\n",
              "        -2.33828048e-01, -6.11197820e-01, -6.46996896e-01, -2.99706985e-01,\n",
              "        -2.85808438e-01, -3.50134960e-01, -3.21512110e-01, -5.35229377e-01,\n",
              "        -2.74076770e-02, -5.29478910e-01,  3.20645832e-01, -6.36221437e-01,\n",
              "         2.94133151e-02, -3.58030590e-01, -5.49477480e-01, -1.10098974e-01,\n",
              "         5.06424485e-01,  2.83716137e-01, -1.34331147e-01, -5.17803363e-01,\n",
              "        -1.01683798e+00, -7.11625198e-01, -1.87777742e+00, -2.07380568e-01,\n",
              "        -6.94647637e-01,  2.06478630e-01, -3.56061301e-01, -5.53591392e-01,\n",
              "        -9.30707336e-01, -5.05866390e-01, -3.90607790e-01, -5.13436583e-01,\n",
              "        -4.99096529e-01, -4.24649110e-01, -5.14428291e-01, -3.83844542e-01,\n",
              "        -5.51518917e-01, -1.14156109e+00, -1.17427835e+00, -7.43575595e-01,\n",
              "        -3.49260935e-02, -8.79814617e-01, -1.26886984e+00, -8.78951739e-02,\n",
              "         1.10803654e-01, -5.75723052e-01, -2.34802730e-01, -1.68478515e-02,\n",
              "        -1.22353935e+00, -3.32345076e-01, -5.16159524e-01, -9.11846834e-01,\n",
              "        -5.97621408e-01,  3.25695979e-01, -1.47860436e+00, -1.09678987e+00,\n",
              "        -9.57666272e-01, -7.21919444e-02, -3.79867827e-01, -3.86640186e-01,\n",
              "        -1.26265961e+00,  1.06065352e-01, -4.03201351e-01, -5.65336523e-01,\n",
              "        -6.95171375e-01, -1.83412051e-01, -3.64432153e-02, -5.00840214e-01,\n",
              "        -6.77619987e-01, -6.01907688e-01, -3.73288193e-01, -6.38183390e-01,\n",
              "        -6.59011760e-02, -5.46523980e-01,  2.34413976e-01, -9.72675407e-01,\n",
              "        -3.54779689e-01, -3.78202401e-01, -1.64515942e+00, -4.01752967e-01,\n",
              "        -3.87288918e-01, -1.00725531e+00, -7.50944906e-01, -5.34186814e-01,\n",
              "        -5.97210081e-01, -1.17274476e+00, -2.23933354e-01, -1.03094671e+00,\n",
              "        -8.16449770e-01, -1.60612114e-01, -9.88512230e-02, -4.55342762e-01,\n",
              "        -8.08552758e-01, -3.72357038e-01, -1.97686843e-01, -2.11218065e+00,\n",
              "        -9.37703369e-01,  1.31028835e-01, -8.85180300e-01, -3.34454747e-01,\n",
              "        -2.76465639e-01, -6.52527101e-02, -5.74498349e-01, -1.03676752e+00,\n",
              "        -3.90785524e-01, -1.14804136e+00, -9.23108872e-01, -3.23232663e-01,\n",
              "         2.50025867e-01, -6.82387002e-01, -1.23456310e+00, -8.31767033e-01,\n",
              "        -4.79961723e-01, -7.33282783e-01, -4.49587729e-01, -6.04733216e-01,\n",
              "        -7.00964816e-01, -1.31430271e-01, -5.92502765e-01, -5.39340630e-01,\n",
              "        -8.93536124e-01, -8.31594518e-01, -4.93234734e-01, -1.00320172e+00,\n",
              "        -8.19632821e-01, -4.79300474e-01, -1.19282692e-01, -6.21004276e-01,\n",
              "        -9.74943345e-01, -1.55893622e-01, -8.86338882e-02, -3.51342856e-01,\n",
              "        -6.35792211e-01, -5.95371163e-01, -5.88750199e-01, -1.10835791e+00,\n",
              "        -3.72966196e-01, -4.99118874e-01, -1.24237079e+00, -7.90539998e-01,\n",
              "        -4.17501803e-01, -5.65374371e-02, -7.44224660e-01, -2.97138826e-01,\n",
              "        -9.02440511e-01, -6.33432644e-01, -6.39203583e-01, -4.48698288e-01,\n",
              "        -3.20201572e-01, -7.55998427e-01, -6.54289668e-01, -8.13861040e-01,\n",
              "        -7.13906476e-01, -1.19518313e-01, -1.03214454e+00, -7.82473667e-01,\n",
              "        -1.05632339e+00, -9.80153783e-01, -6.05978630e-01, -1.30239192e+00,\n",
              "        -1.22987518e+00, -2.81401635e-01, -5.28555526e-01, -9.43805259e-01,\n",
              "        -1.84152730e-01, -8.85534593e-01, -4.45172547e-01, -5.65389200e-02,\n",
              "        -1.37601960e+00, -3.95096401e-01, -4.49247831e-01, -8.65070302e-01,\n",
              "        -6.27699077e-01, -1.10508333e+00, -5.24342911e-01, -3.64272416e-01,\n",
              "        -2.48371547e-01, -9.51433305e-01, -5.34466793e-01, -2.65390227e-04,\n",
              "        -9.62368679e-01, -4.53734176e-01, -3.31878569e-01, -7.09060360e-01,\n",
              "        -6.27792991e-01,  3.88624729e-01, -6.82693211e-01, -9.47893642e-01,\n",
              "        -5.84719908e-01, -3.88013517e-01, -1.74755982e-01, -9.63887533e-01,\n",
              "        -3.92714867e-01, -5.94828935e-01, -9.87115583e-01, -4.87933118e-01,\n",
              "        -3.25170075e-01, -5.86321510e-01, -4.23607112e-01, -6.74599831e-01,\n",
              "        -9.94478982e-01, -8.70740711e-01, -5.83023199e-01,  9.02695610e-02,\n",
              "        -3.32462183e-01, -2.85899768e-01, -6.05502275e-01, -8.13085176e-01,\n",
              "        -9.34802591e-01, -1.72762694e-01, -7.06170507e-01, -1.35196197e+00,\n",
              "        -7.09878740e-01, -2.09746658e-04, -4.51644165e-01, -5.60965293e-01,\n",
              "        -8.94393106e-01, -3.80243138e-01, -6.21930360e-01, -2.97221096e-01,\n",
              "        -4.18314957e-01, -3.61701454e-01, -9.61392964e-01, -1.09843506e+00,\n",
              "        -1.01729993e+00, -6.31856791e-01,  2.34553280e-02, -4.65096496e-01,\n",
              "        -1.49555601e+00, -1.04009440e+00, -5.78700059e-01, -1.15187905e+00,\n",
              "        -3.48848597e-01, -9.01501232e-01,  3.28814958e-02, -2.68814969e-01,\n",
              "        -7.56763757e-01, -3.69663188e-01, -9.38804562e-01, -8.87651433e-01,\n",
              "        -1.00190744e+00, -4.53951524e-01, -1.05876581e+00, -1.03363633e-01,\n",
              "        -9.87124468e-01, -1.33867388e+00, -4.10910976e-01, -1.72858191e+00,\n",
              "        -4.57728834e-01, -1.48371985e+00, -1.04678619e+00, -6.89581103e-01,\n",
              "        -6.87637338e-01, -9.15875795e-01, -1.11545464e+00, -3.29265882e-01,\n",
              "        -3.85225425e-01, -8.41052990e-01, -8.16025953e-01, -9.68929392e-02,\n",
              "        -4.08754365e-01, -8.45181660e-01, -9.06564038e-01, -8.75795302e-01,\n",
              "        -3.76849208e-01, -5.02571673e-01, -4.06743392e-02, -7.96730352e-01,\n",
              "        -8.54954750e-01, -1.14535368e+00, -7.09965887e-01, -9.47313046e-01,\n",
              "        -1.90711918e-01,  2.88177383e-01, -1.01377531e+00, -2.63051861e-01,\n",
              "        -1.15789515e+00, -3.48813099e-01, -1.11548024e+00, -1.36166180e+00,\n",
              "        -1.20027677e+00, -5.46177152e-01, -1.21224206e+00, -6.29608778e-01,\n",
              "        -2.75357136e-01, -1.58295966e+00, -3.64658427e-01, -7.24440079e-01,\n",
              "        -6.74076062e-01, -8.50045305e-01, -6.92009620e-01, -6.44744891e-01,\n",
              "        -9.94453067e-01, -1.05477208e+00, -4.62466917e-01, -7.47249769e-01,\n",
              "        -9.26220598e-01, -6.92849455e-02, -3.35666288e-01, -6.19607416e-01,\n",
              "        -1.40328779e+00, -6.53468751e-01, -9.17258778e-01, -1.49542511e+00,\n",
              "        -5.88288512e-01, -2.32537315e-01, -4.95168267e-01, -1.13435901e+00,\n",
              "        -4.46199884e-01, -2.25657434e-01, -2.07168266e+00, -1.23023853e+00,\n",
              "        -1.48774161e+00, -3.26160590e-01, -1.56925919e+00, -1.14846224e+00,\n",
              "        -3.75820507e-01, -1.24089603e+00, -2.27652372e-01, -2.69848360e-01,\n",
              "        -4.65975392e-01, -4.83305074e-01, -7.35995559e-01, -8.75467498e-01,\n",
              "        -7.11770135e-01, -1.01896750e+00, -3.29057133e-01, -9.90447282e-01,\n",
              "        -7.49481852e-01, -8.68622819e-01, -7.01707278e-01, -1.08713819e+00,\n",
              "        -1.11321590e+00, -9.32237159e-01, -1.16567271e+00, -8.85195771e-01,\n",
              "        -9.78146911e-01, -1.61170104e+00, -1.19106590e+00, -8.02137099e-01,\n",
              "        -1.45448060e+00, -6.06234461e-01, -5.94276042e-01, -7.78384801e-01,\n",
              "        -1.56166185e+00, -8.13203364e-01, -1.13137347e+00, -6.67812117e-01,\n",
              "        -9.75089141e-01, -5.15044109e-01, -2.89020953e-01, -1.09203771e+00,\n",
              "        -4.70023146e-01, -1.09109947e+00, -1.13499807e+00, -1.37377448e+00,\n",
              "        -5.52844504e-01, -7.83808289e-01, -7.13064244e-01, -6.77617818e-01,\n",
              "        -1.06435508e+00, -2.21137989e+00]),\n",
              " 'bi': array([ 0.17020483,  0.48084032, -0.09794073, ...,  0.05108947,\n",
              "         0.04431532, -0.04556377]),\n",
              " 'pu': array([[ 6.15789835e-02],\n",
              "        [ 2.72333985e-01],\n",
              "        [ 1.27465143e-02],\n",
              "        [ 7.58989414e-02],\n",
              "        [ 6.72271073e-02],\n",
              "        [ 2.24483114e-03],\n",
              "        [ 1.15172913e-01],\n",
              "        [-1.28454891e-02],\n",
              "        [ 8.71391049e-02],\n",
              "        [ 2.81906105e-01],\n",
              "        [ 3.13878013e-03],\n",
              "        [-6.00395049e-02],\n",
              "        [ 6.07933365e-02],\n",
              "        [ 1.59396566e-01],\n",
              "        [ 1.94795164e-01],\n",
              "        [ 1.78060938e-01],\n",
              "        [ 3.30936559e-02],\n",
              "        [ 2.11383973e-02],\n",
              "        [ 9.07570362e-02],\n",
              "        [-1.10868345e-02],\n",
              "        [ 1.24784714e-01],\n",
              "        [-6.23807447e-02],\n",
              "        [ 4.87127913e-02],\n",
              "        [ 2.46131431e-03],\n",
              "        [ 1.63633087e-01],\n",
              "        [-2.46554597e-02],\n",
              "        [ 6.01545065e-02],\n",
              "        [ 1.51444612e-01],\n",
              "        [-1.29228233e-01],\n",
              "        [ 5.27990430e-02],\n",
              "        [-1.13315717e-01],\n",
              "        [-1.01455345e-02],\n",
              "        [ 2.93564348e-01],\n",
              "        [-1.19758905e-01],\n",
              "        [-1.47034835e-01],\n",
              "        [-9.84510085e-02],\n",
              "        [ 1.48803123e-02],\n",
              "        [ 1.67830271e-01],\n",
              "        [ 3.79855462e-02],\n",
              "        [-3.12820092e-02],\n",
              "        [ 1.29067926e-01],\n",
              "        [ 3.94616531e-01],\n",
              "        [ 1.58510390e-01],\n",
              "        [ 2.10453820e-01],\n",
              "        [-7.10274319e-02],\n",
              "        [ 2.76041546e-01],\n",
              "        [ 1.88825139e-01],\n",
              "        [ 3.44307814e-01],\n",
              "        [ 8.93532595e-02],\n",
              "        [-1.00754551e-01],\n",
              "        [ 2.34993348e-01],\n",
              "        [-2.97339044e-02],\n",
              "        [ 1.86227329e-01],\n",
              "        [ 3.82088898e-01],\n",
              "        [ 3.54641697e-01],\n",
              "        [ 1.68923064e-01],\n",
              "        [ 2.74115621e-01],\n",
              "        [ 2.54674619e-01],\n",
              "        [-2.35193001e-02],\n",
              "        [ 3.90182996e-02],\n",
              "        [ 1.01869572e-01],\n",
              "        [ 3.66401135e-02],\n",
              "        [ 1.98609302e-01],\n",
              "        [ 4.84668872e-01],\n",
              "        [-8.58967440e-02],\n",
              "        [-5.50005131e-03],\n",
              "        [ 1.25289153e-01],\n",
              "        [ 2.05188778e-01],\n",
              "        [ 2.62270433e-02],\n",
              "        [ 3.27466797e-02],\n",
              "        [ 6.30334603e-03],\n",
              "        [ 1.80205851e-01],\n",
              "        [ 1.34738707e-01],\n",
              "        [ 1.48841496e-01],\n",
              "        [ 1.77719116e-01],\n",
              "        [ 7.50858129e-02],\n",
              "        [ 4.16171929e-03],\n",
              "        [ 1.13579930e-01],\n",
              "        [-4.66388560e-02],\n",
              "        [ 2.42193707e-02],\n",
              "        [-1.25516487e-01],\n",
              "        [-9.22794066e-02],\n",
              "        [-1.77166834e-01],\n",
              "        [ 1.23822866e-01],\n",
              "        [ 8.97451796e-02],\n",
              "        [ 1.01886953e-01],\n",
              "        [ 1.20047967e-01],\n",
              "        [ 1.81134490e-01],\n",
              "        [ 2.72100930e-01],\n",
              "        [ 1.63900854e-01],\n",
              "        [ 7.38782677e-02],\n",
              "        [-1.29341209e-02],\n",
              "        [ 1.38676498e-01],\n",
              "        [ 3.93049283e-01],\n",
              "        [-1.56865941e-01],\n",
              "        [ 1.38674051e-01],\n",
              "        [ 1.03342358e-01],\n",
              "        [ 2.50745380e-01],\n",
              "        [ 1.00211083e-01],\n",
              "        [ 3.84813678e-02],\n",
              "        [-4.63190989e-02],\n",
              "        [-1.00030099e-01],\n",
              "        [-6.44147729e-02],\n",
              "        [ 2.13676399e-01],\n",
              "        [ 1.05560557e-01],\n",
              "        [ 2.74022827e-01],\n",
              "        [ 1.72724985e-01],\n",
              "        [ 7.35612217e-02],\n",
              "        [ 8.25432376e-02],\n",
              "        [ 1.79203195e-02],\n",
              "        [ 2.18543128e-01],\n",
              "        [ 1.13593627e-01],\n",
              "        [ 2.07916498e-01],\n",
              "        [ 5.30281170e-01],\n",
              "        [ 6.33484722e-02],\n",
              "        [ 6.27163941e-02],\n",
              "        [ 1.15938020e-01],\n",
              "        [-2.87057170e-02],\n",
              "        [ 1.71284357e-01],\n",
              "        [ 2.28693965e-01],\n",
              "        [ 3.01483815e-01],\n",
              "        [-5.75228792e-03],\n",
              "        [ 2.76602080e-01],\n",
              "        [ 1.60901674e-01],\n",
              "        [ 1.39877015e-01],\n",
              "        [ 2.09729114e-01],\n",
              "        [ 1.20927373e-01],\n",
              "        [ 2.47087855e-01],\n",
              "        [ 1.76134873e-01],\n",
              "        [-5.61956597e-02],\n",
              "        [ 2.69011445e-01],\n",
              "        [ 4.67982261e-03],\n",
              "        [ 5.62227294e-01],\n",
              "        [ 1.18676424e-01],\n",
              "        [ 2.14179419e-01],\n",
              "        [-5.83197954e-02],\n",
              "        [ 1.96395201e-01],\n",
              "        [ 3.52199969e-01],\n",
              "        [ 2.35361838e-01],\n",
              "        [ 1.83545728e-01],\n",
              "        [ 5.88828706e-01],\n",
              "        [ 1.83547293e-01],\n",
              "        [-1.57170421e-02],\n",
              "        [ 1.04424344e-01],\n",
              "        [ 2.10082323e-01],\n",
              "        [ 3.98348887e-01],\n",
              "        [ 7.83151624e-02],\n",
              "        [-5.53571979e-02],\n",
              "        [ 2.98731995e-01],\n",
              "        [ 1.10574193e-01],\n",
              "        [ 2.13671309e-01],\n",
              "        [ 2.98940624e-01],\n",
              "        [-2.16123764e-02],\n",
              "        [ 2.38630943e-01],\n",
              "        [ 1.22805751e-01],\n",
              "        [-4.23880788e-02],\n",
              "        [-2.60058605e-02],\n",
              "        [ 1.37109797e-02],\n",
              "        [ 1.57648135e-01],\n",
              "        [ 6.78949899e-02],\n",
              "        [ 8.37882493e-02],\n",
              "        [ 1.70761296e-01],\n",
              "        [ 1.88691876e-01],\n",
              "        [ 2.60755852e-01],\n",
              "        [-9.58118996e-03],\n",
              "        [ 5.67376206e-01],\n",
              "        [-1.14652712e-01],\n",
              "        [ 1.22739743e-01],\n",
              "        [ 2.90848194e-01],\n",
              "        [ 4.39677119e-01],\n",
              "        [ 7.41771788e-02],\n",
              "        [ 2.43488666e-01],\n",
              "        [-5.45156167e-03],\n",
              "        [ 9.07650744e-01],\n",
              "        [ 1.34170503e-01],\n",
              "        [ 2.40448940e-01],\n",
              "        [ 1.62013687e-01],\n",
              "        [ 3.33963824e-01],\n",
              "        [ 1.18362069e-01],\n",
              "        [ 5.41065128e-02],\n",
              "        [ 7.33402580e-02],\n",
              "        [-2.60712393e-02],\n",
              "        [ 8.29503895e-02],\n",
              "        [ 7.48440994e-02],\n",
              "        [ 2.94039585e-01],\n",
              "        [ 6.31889513e-02],\n",
              "        [ 1.59084306e-01],\n",
              "        [ 6.07792782e-02],\n",
              "        [ 1.69143013e-01],\n",
              "        [ 1.51665525e-01],\n",
              "        [-1.31234469e-02],\n",
              "        [ 1.98656225e-01],\n",
              "        [-5.07259861e-03],\n",
              "        [ 2.45017108e-01],\n",
              "        [ 1.11895895e-01],\n",
              "        [ 5.06259679e-01],\n",
              "        [ 1.07145459e-01],\n",
              "        [ 6.61663804e-02],\n",
              "        [-4.55737117e-02],\n",
              "        [ 7.56338914e-02],\n",
              "        [ 1.02764610e+00],\n",
              "        [ 2.32646783e-01],\n",
              "        [ 8.84592941e-02],\n",
              "        [ 1.81314405e-01],\n",
              "        [ 5.22127573e-02],\n",
              "        [-2.36830871e-02],\n",
              "        [ 3.48594147e-01],\n",
              "        [ 3.50547064e-02],\n",
              "        [ 3.68117995e-01],\n",
              "        [ 1.99964962e-01],\n",
              "        [ 3.41361465e-01],\n",
              "        [ 3.07309496e-01],\n",
              "        [-9.42755678e-02],\n",
              "        [ 3.39641979e-01],\n",
              "        [ 3.57284099e-01],\n",
              "        [ 2.13973465e-01],\n",
              "        [ 6.03595409e-02],\n",
              "        [ 3.70879761e-01],\n",
              "        [ 8.54817718e-02],\n",
              "        [ 1.46223904e-01],\n",
              "        [ 1.35283320e-02],\n",
              "        [ 8.85254031e-02],\n",
              "        [ 1.64855764e-01],\n",
              "        [ 3.96733746e-02],\n",
              "        [ 4.21925356e-02],\n",
              "        [ 1.18443676e-01],\n",
              "        [ 7.92678218e-02],\n",
              "        [ 1.04869841e-01],\n",
              "        [ 3.04475480e-02],\n",
              "        [ 1.57562564e-01],\n",
              "        [ 2.78749706e-01],\n",
              "        [ 4.29084969e-01],\n",
              "        [ 3.53856646e-01],\n",
              "        [ 2.99184013e-01],\n",
              "        [ 1.70535345e-02],\n",
              "        [ 2.09728860e-01],\n",
              "        [ 1.13010062e-01],\n",
              "        [ 2.03248245e-01],\n",
              "        [-4.10955874e-02],\n",
              "        [-2.61507448e-02],\n",
              "        [ 1.14440377e-01],\n",
              "        [ 1.40386543e-01],\n",
              "        [-2.20076186e-01],\n",
              "        [ 2.09368777e-01],\n",
              "        [-1.29852701e-01],\n",
              "        [-6.84525921e-02],\n",
              "        [ 7.22446997e-02],\n",
              "        [ 8.18109534e-01],\n",
              "        [ 2.46882306e-01],\n",
              "        [ 1.28157356e-01],\n",
              "        [ 3.24458325e-01],\n",
              "        [ 2.42724954e-01],\n",
              "        [ 2.09869650e-02],\n",
              "        [ 4.66079810e-01],\n",
              "        [ 2.80728419e-01],\n",
              "        [ 2.32299220e-01],\n",
              "        [ 1.53129752e-01],\n",
              "        [ 3.99812554e-01],\n",
              "        [ 7.03168221e-02],\n",
              "        [ 2.29842884e-01],\n",
              "        [ 1.62897649e-01],\n",
              "        [ 1.15482564e-01],\n",
              "        [-4.44307726e-02],\n",
              "        [ 1.80502015e-01],\n",
              "        [ 1.14633155e-01],\n",
              "        [ 6.62781970e-02],\n",
              "        [ 3.87119840e-01],\n",
              "        [ 3.24120113e-01],\n",
              "        [ 8.31398344e-02],\n",
              "        [ 1.17434611e-02],\n",
              "        [ 1.67823376e-01],\n",
              "        [ 9.20492384e-02],\n",
              "        [ 4.27143065e-01],\n",
              "        [ 1.38466408e-01],\n",
              "        [ 1.91927928e-01],\n",
              "        [ 6.59098482e-02],\n",
              "        [ 5.85945418e-01],\n",
              "        [-6.03784643e-02],\n",
              "        [ 4.61679487e-02],\n",
              "        [ 5.39727809e-01],\n",
              "        [ 8.04738433e-02],\n",
              "        [ 1.34683939e-01],\n",
              "        [ 3.74648294e-01],\n",
              "        [ 1.67803224e-01],\n",
              "        [ 2.91125634e-01],\n",
              "        [ 3.54729485e-01],\n",
              "        [ 8.28274445e-01],\n",
              "        [ 3.56262168e-01],\n",
              "        [ 1.96206638e-01],\n",
              "        [ 2.88195947e-01],\n",
              "        [ 4.52190498e-01],\n",
              "        [ 1.30300539e-01],\n",
              "        [ 1.01441167e-01],\n",
              "        [ 1.40197006e-01],\n",
              "        [ 1.55484151e-01],\n",
              "        [ 2.14336214e-01],\n",
              "        [ 1.41957942e-01],\n",
              "        [ 1.19339382e-03],\n",
              "        [ 7.36847573e-02],\n",
              "        [ 6.21497673e-01],\n",
              "        [ 2.65382964e-01],\n",
              "        [ 4.04172339e-02],\n",
              "        [ 1.55129598e-01],\n",
              "        [ 3.29706899e-02],\n",
              "        [ 2.62279094e-01],\n",
              "        [ 2.67152914e-02],\n",
              "        [ 4.42997468e-01],\n",
              "        [ 2.68346101e-01],\n",
              "        [ 3.77646459e-01],\n",
              "        [ 1.08217744e-03],\n",
              "        [ 2.27210463e-01],\n",
              "        [ 5.26670014e-01],\n",
              "        [ 5.24831355e-01],\n",
              "        [ 1.42198427e-01],\n",
              "        [-1.32963026e-02],\n",
              "        [ 1.38800717e-01],\n",
              "        [ 4.20855358e-01],\n",
              "        [ 2.82916051e-01],\n",
              "        [ 5.84678799e-02],\n",
              "        [ 5.16859204e-01],\n",
              "        [ 2.68604681e-01],\n",
              "        [ 9.00133296e-02],\n",
              "        [ 5.83531612e-02],\n",
              "        [ 3.29518097e-01],\n",
              "        [ 1.96825404e-01],\n",
              "        [ 1.06120602e-01],\n",
              "        [ 2.60167241e-01],\n",
              "        [ 2.80739750e-01],\n",
              "        [ 5.65908070e-01],\n",
              "        [ 7.42783561e-01],\n",
              "        [-9.32746789e-02],\n",
              "        [ 1.47571223e-01],\n",
              "        [ 1.08197471e-01],\n",
              "        [ 4.90127910e-03],\n",
              "        [ 8.97470288e-02],\n",
              "        [ 2.81890044e-01],\n",
              "        [-5.51713893e-02],\n",
              "        [ 4.37390096e-01],\n",
              "        [-1.13074216e-01],\n",
              "        [ 8.28680870e-02],\n",
              "        [ 2.45613195e-01],\n",
              "        [ 3.25121846e-01],\n",
              "        [ 1.40781517e-01],\n",
              "        [ 3.12503827e-01],\n",
              "        [ 3.36665187e-01],\n",
              "        [ 2.97949040e-02],\n",
              "        [-3.26778647e-03],\n",
              "        [ 2.79869543e-01],\n",
              "        [ 1.84231172e-01],\n",
              "        [-1.69753515e-01],\n",
              "        [ 1.64415018e-01],\n",
              "        [ 1.83976881e-01],\n",
              "        [-6.06406764e-02],\n",
              "        [ 2.05901973e-01],\n",
              "        [ 4.15708329e-01],\n",
              "        [ 3.70188782e-01],\n",
              "        [ 2.36947579e-01],\n",
              "        [ 3.23221412e-01],\n",
              "        [ 6.98769091e-01],\n",
              "        [ 4.25049781e-01],\n",
              "        [ 1.36404497e-01],\n",
              "        [ 2.79379289e-01],\n",
              "        [ 3.46943330e-01],\n",
              "        [ 6.44010356e-02],\n",
              "        [ 2.58557642e-01],\n",
              "        [ 1.60068304e-01],\n",
              "        [ 2.20199171e-01],\n",
              "        [ 2.42861529e-01],\n",
              "        [ 8.99922432e-01],\n",
              "        [ 1.36927480e-01],\n",
              "        [ 9.42005173e-02],\n",
              "        [ 4.62854346e-01],\n",
              "        [ 1.76961043e-01],\n",
              "        [ 1.51626458e-01],\n",
              "        [ 1.49946381e-01],\n",
              "        [ 2.22662217e-01],\n",
              "        [ 2.84718724e-01],\n",
              "        [ 2.20042055e-01],\n",
              "        [-4.00065891e-03],\n",
              "        [ 3.59500744e-01],\n",
              "        [ 2.40663678e-01],\n",
              "        [ 1.24190822e-01],\n",
              "        [ 2.48467251e-01],\n",
              "        [-3.96580036e-02],\n",
              "        [ 3.48663120e-01],\n",
              "        [ 2.77506978e-01],\n",
              "        [ 2.25980125e-01],\n",
              "        [ 3.50279755e-01],\n",
              "        [ 1.74074912e-01],\n",
              "        [ 2.15915615e-01],\n",
              "        [ 1.32224455e-01],\n",
              "        [ 4.94181932e-01],\n",
              "        [ 2.26546753e-01],\n",
              "        [-2.01768470e-01],\n",
              "        [ 1.93668111e-01],\n",
              "        [ 1.34308900e-01],\n",
              "        [-8.20352990e-02],\n",
              "        [ 1.33499090e-01],\n",
              "        [ 9.12885252e-02],\n",
              "        [ 3.58006905e-01],\n",
              "        [ 5.89819525e-01],\n",
              "        [ 1.46375492e-01],\n",
              "        [ 5.21878644e-01],\n",
              "        [ 3.91082158e-01],\n",
              "        [ 2.18125310e-02],\n",
              "        [ 2.86970162e-01],\n",
              "        [ 1.29044132e-01],\n",
              "        [ 3.05700002e-01],\n",
              "        [ 5.16248934e-01],\n",
              "        [ 9.20924040e-02],\n",
              "        [ 3.39579272e-01],\n",
              "        [ 6.31105554e-01],\n",
              "        [ 1.53002191e-01],\n",
              "        [ 7.95383790e-01],\n",
              "        [ 2.40565711e-03],\n",
              "        [ 4.23643546e-02],\n",
              "        [ 2.16871218e+00],\n",
              "        [ 4.57496119e-01],\n",
              "        [ 8.09214715e-01],\n",
              "        [ 3.38056173e-01],\n",
              "        [ 3.68668762e-01],\n",
              "        [ 5.01991974e-01],\n",
              "        [ 3.58751297e-01],\n",
              "        [ 3.70528286e-01],\n",
              "        [ 1.78077563e-01],\n",
              "        [ 8.69723468e-01],\n",
              "        [ 2.62151854e-01],\n",
              "        [-8.26575640e-02],\n",
              "        [-3.24384575e-02],\n",
              "        [ 2.67465811e-01],\n",
              "        [ 8.82131732e-02],\n",
              "        [ 1.53873723e-01],\n",
              "        [ 2.20239267e-01],\n",
              "        [ 3.61154381e-01],\n",
              "        [ 7.73241642e-02],\n",
              "        [ 2.33694860e-01],\n",
              "        [ 1.88889416e-01],\n",
              "        [ 1.60722867e-01],\n",
              "        [ 1.21935185e-01],\n",
              "        [ 4.76960017e-02],\n",
              "        [ 1.73427672e-01],\n",
              "        [ 1.80459897e-01],\n",
              "        [ 7.80075264e-02],\n",
              "        [ 1.20289319e-01],\n",
              "        [ 1.15919426e-01],\n",
              "        [ 2.66954507e-01],\n",
              "        [ 1.38837767e-01],\n",
              "        [-1.50799531e-01],\n",
              "        [ 1.50114456e+00],\n",
              "        [ 5.92805432e-01],\n",
              "        [ 1.14781048e-01],\n",
              "        [-2.04541890e-01],\n",
              "        [ 1.56227618e-01],\n",
              "        [ 4.19147974e-01],\n",
              "        [ 2.52683242e-01],\n",
              "        [ 3.19032950e-01],\n",
              "        [ 4.03780134e-01],\n",
              "        [ 9.07780236e-02],\n",
              "        [ 3.14034018e-01],\n",
              "        [ 9.60540163e-01],\n",
              "        [ 4.14190633e-02],\n",
              "        [-3.56948220e-02],\n",
              "        [-1.01655395e-01],\n",
              "        [ 4.97297574e-01],\n",
              "        [ 3.37285788e-01],\n",
              "        [ 1.30035203e-03],\n",
              "        [ 3.43459421e-01],\n",
              "        [ 4.57219350e-02],\n",
              "        [ 2.08017006e-01],\n",
              "        [ 1.49860207e-01],\n",
              "        [ 9.18978343e-02],\n",
              "        [ 4.61981401e-01],\n",
              "        [ 2.59931351e-01],\n",
              "        [ 2.42133268e-01],\n",
              "        [ 2.04784807e-01],\n",
              "        [ 3.98045139e-01],\n",
              "        [ 1.95609081e+00],\n",
              "        [ 5.36556927e-01],\n",
              "        [ 3.69633944e-01],\n",
              "        [ 3.88731556e-01],\n",
              "        [ 1.61390202e-01],\n",
              "        [ 5.27422086e-01],\n",
              "        [ 1.17436321e-01],\n",
              "        [ 4.00546727e-01],\n",
              "        [ 4.77773930e-01],\n",
              "        [-4.02663251e-01],\n",
              "        [ 3.19306048e-01],\n",
              "        [-9.77347342e-03],\n",
              "        [ 2.40151931e-01],\n",
              "        [ 1.21989482e-01],\n",
              "        [ 1.27110725e+00],\n",
              "        [ 2.60951448e-01],\n",
              "        [ 3.72010627e-01],\n",
              "        [ 4.10681874e-01],\n",
              "        [ 4.38570245e-01],\n",
              "        [ 1.47261644e+00],\n",
              "        [ 1.88878480e-01],\n",
              "        [ 4.00820703e-01],\n",
              "        [ 5.69971927e-01],\n",
              "        [ 1.62377078e-01],\n",
              "        [ 4.35839321e-01],\n",
              "        [ 7.85386347e-02],\n",
              "        [ 9.22563575e-01],\n",
              "        [ 2.20546868e-01],\n",
              "        [ 3.41783623e-01],\n",
              "        [ 4.35211901e-01],\n",
              "        [ 1.49067882e-01],\n",
              "        [ 3.71787700e-01],\n",
              "        [ 2.29979437e-01],\n",
              "        [ 4.44557279e-01],\n",
              "        [ 3.84586396e-01],\n",
              "        [ 1.24040007e-01],\n",
              "        [ 1.11970076e-01],\n",
              "        [ 1.72078738e-01],\n",
              "        [ 5.19695732e-01],\n",
              "        [ 7.16431344e-01],\n",
              "        [ 2.63118212e-01],\n",
              "        [ 2.82313749e-01],\n",
              "        [ 1.25057696e-01],\n",
              "        [ 4.17693728e-01],\n",
              "        [ 1.76820412e-01],\n",
              "        [ 2.59976296e-01],\n",
              "        [ 3.52641157e-01],\n",
              "        [ 1.26894809e-01],\n",
              "        [ 8.15195784e-01],\n",
              "        [ 3.72256504e-01],\n",
              "        [ 1.14633643e+00],\n",
              "        [ 1.52920529e+00],\n",
              "        [ 6.79791017e-01],\n",
              "        [ 4.05427011e-01],\n",
              "        [ 7.06594411e-01],\n",
              "        [ 4.24714880e-02],\n",
              "        [ 3.75093604e-01],\n",
              "        [ 3.81877037e-01],\n",
              "        [ 3.22896144e-01],\n",
              "        [ 5.61706760e-01],\n",
              "        [ 2.30252900e-01],\n",
              "        [ 6.94694158e-01],\n",
              "        [ 3.15373991e-01],\n",
              "        [ 4.84287999e-01],\n",
              "        [-3.93579233e-03],\n",
              "        [ 2.53268746e-01],\n",
              "        [ 5.92792441e-01],\n",
              "        [ 3.45289574e-01],\n",
              "        [ 4.86210209e-01],\n",
              "        [ 1.36607838e-01],\n",
              "        [ 8.22173476e-02],\n",
              "        [ 4.21378507e-01],\n",
              "        [ 1.03287696e+00],\n",
              "        [ 3.28870150e-01],\n",
              "        [ 8.19753198e-01],\n",
              "        [ 1.08135635e+00],\n",
              "        [ 1.50765354e-01],\n",
              "        [ 2.85246046e-01],\n",
              "        [ 4.37582402e-01],\n",
              "        [-3.84793545e-01],\n",
              "        [-5.96790656e-02],\n",
              "        [-3.02913537e-02],\n",
              "        [ 1.12857499e+00],\n",
              "        [ 5.02788694e-01],\n",
              "        [ 8.99197644e-01],\n",
              "        [ 2.60346847e-02],\n",
              "        [ 3.25789074e-01],\n",
              "        [ 1.51450580e+00],\n",
              "        [ 2.96441545e-01],\n",
              "        [ 4.81216807e-01],\n",
              "        [ 1.00508900e-01],\n",
              "        [ 2.34143080e-01],\n",
              "        [ 2.75482680e-01],\n",
              "        [ 2.21910917e-01],\n",
              "        [ 3.61001332e-01],\n",
              "        [ 2.17663286e-01],\n",
              "        [ 3.14850974e-01],\n",
              "        [ 3.56928485e-01],\n",
              "        [ 2.52344746e-02],\n",
              "        [ 2.92134012e-01],\n",
              "        [ 2.26230682e-01],\n",
              "        [ 3.48910636e-01],\n",
              "        [ 8.53786960e-02],\n",
              "        [ 3.79406467e-01],\n",
              "        [ 5.12215653e-01],\n",
              "        [ 5.31003355e-01],\n",
              "        [ 5.68811279e-01],\n",
              "        [ 2.05907911e-01],\n",
              "        [ 6.15822815e-01],\n",
              "        [ 6.64165555e-01],\n",
              "        [ 7.51638819e-01],\n",
              "        [ 1.86433343e-01],\n",
              "        [ 7.09774472e-01],\n",
              "        [ 4.55955802e-01],\n",
              "        [ 2.47475413e-01],\n",
              "        [ 4.48945760e-01],\n",
              "        [ 6.39658264e-01],\n",
              "        [ 4.69643436e-01],\n",
              "        [-1.70899638e-01],\n",
              "        [ 2.31459580e-01],\n",
              "        [ 6.58826644e-01],\n",
              "        [ 4.56721201e-01],\n",
              "        [ 1.96045042e-01],\n",
              "        [ 2.02460603e-01],\n",
              "        [ 3.27388219e-01],\n",
              "        [ 6.44526873e-01],\n",
              "        [ 5.20138455e-01],\n",
              "        [ 4.60343038e-01],\n",
              "        [ 4.29181500e-01],\n",
              "        [ 2.86153688e-01],\n",
              "        [ 4.84878177e-01],\n",
              "        [-6.82491515e-02],\n",
              "        [ 4.21519704e-01],\n",
              "        [ 1.83498075e+00]]),\n",
              " 'qi': array([[3.06979087],\n",
              "        [1.7826788 ],\n",
              "        [3.74686844],\n",
              "        ...,\n",
              "        [3.72632218],\n",
              "        [2.31182371],\n",
              "        [3.79259453]])}"
            ]
          },
          "execution_count": 191,
          "metadata": {},
          "output_type": "execute_result"
        }
      ],
      "source": [
        "algo_SVD.get(best_SVD_by_rmse[:-4]).__dict__"
      ]
    },
    {
      "cell_type": "code",
      "execution_count": 181,
      "metadata": {
        "colab": {
          "base_uri": "https://localhost:8080/"
        },
        "id": "FjK_IXAMqQMC",
        "outputId": "6cde9952-d3d0-4d2a-b05a-47b2a7f3ef90"
      },
      "outputs": [
        {
          "data": {
            "text/plain": [
              "Prediction(uid=1, iid=1, r_ui=None, est=4.586234359102049, details={'was_impossible': False})"
            ]
          },
          "execution_count": 181,
          "metadata": {},
          "output_type": "execute_result"
        }
      ],
      "source": [
        "predictions = algo_SVD.get(best_SVD_by_rmse[:-4]).predict(uid=1, iid=1)\n",
        "predictions"
      ]
    },
    {
      "cell_type": "code",
      "execution_count": 182,
      "metadata": {
        "colab": {
          "base_uri": "https://localhost:8080/"
        },
        "id": "plkelSqIgRTK",
        "outputId": "d2f51a16-964d-49f1-f648-1e98fb2f8beb"
      },
      "outputs": [
        {
          "data": {
            "text/plain": [
              "4.586234359102049"
            ]
          },
          "execution_count": 182,
          "metadata": {},
          "output_type": "execute_result"
        }
      ],
      "source": [
        "predictions.est"
      ]
    },
    {
      "cell_type": "code",
      "execution_count": 197,
      "metadata": {
        "id": "3qjKwFWiD23D"
      },
      "outputs": [],
      "source": [
        "algo_SVD_1 = SVD(\n",
        "                 n_factors=1,\n",
        "                 n_epochs=20,\n",
        "                 biased=True,\n",
        "                 init_mean=3.501556983616962,\n",
        "                 init_std_dev=1.042529239060635,\n",
        "                 lr_bu=0.005,\n",
        "                 lr_bi=0.005,\n",
        "                 lr_pu=0.005,\n",
        "                 lr_qi=0.005,\n",
        "                 reg_bu=0.02,\n",
        "                 reg_bi=0.02,\n",
        "                 reg_pu=0.02,\n",
        "                 reg_qi=0.02,\n",
        "                 random_state=None,\n",
        "                 verbose=False\n",
        "                 )"
      ]
    },
    {
      "cell_type": "code",
      "execution_count": 198,
      "metadata": {
        "colab": {
          "base_uri": "https://localhost:8080/"
        },
        "id": "v0bQK13AD2AK",
        "outputId": "d8eddf92-02ba-4738-9d3f-f2677124b8a5"
      },
      "outputs": [
        {
          "name": "stdout",
          "output_type": "stream",
          "text": [
            "Evaluating RMSE, MAE of algorithm SVD on 6 split(s).\n",
            "\n",
            "                  Fold 1  Fold 2  Fold 3  Fold 4  Fold 5  Fold 6  Mean    Std     \n",
            "RMSE (testset)    0.8859  0.8872  0.8887  0.8853  0.8975  0.8790  0.8873  0.0055  \n",
            "MAE (testset)     0.6817  0.6800  0.6810  0.6811  0.6919  0.6747  0.6817  0.0051  \n",
            "Fit time          0.62    0.90    0.83    0.68    0.67    0.67    0.73    0.10    \n",
            "Test time         0.20    0.20    0.10    0.11    0.11    0.09    0.13    0.04    \n"
          ]
        },
        {
          "data": {
            "text/plain": [
              "{'test_rmse': array([0.88589328, 0.88715723, 0.88867932, 0.88528644, 0.89749134,\n",
              "        0.87899553]),\n",
              " 'test_mae': array([0.68173055, 0.67995597, 0.68096466, 0.68113494, 0.69185808,\n",
              "        0.67474374]),\n",
              " 'fit_time': (0.6248815059661865,\n",
              "  0.8994846343994141,\n",
              "  0.8292737007141113,\n",
              "  0.6796760559082031,\n",
              "  0.6687231063842773,\n",
              "  0.6720678806304932),\n",
              " 'test_time': (0.19831132888793945,\n",
              "  0.19502973556518555,\n",
              "  0.10313272476196289,\n",
              "  0.10672783851623535,\n",
              "  0.11003613471984863,\n",
              "  0.09494662284851074)}"
            ]
          },
          "execution_count": 198,
          "metadata": {},
          "output_type": "execute_result"
        }
      ],
      "source": [
        "cross_validate(algo_SVD_1, data, measures=['RMSE', 'MAE'], cv=6, verbose=True)"
      ]
    },
    {
      "cell_type": "code",
      "execution_count": 199,
      "metadata": {
        "colab": {
          "base_uri": "https://localhost:8080/"
        },
        "id": "Fdu71IJJFcSX",
        "outputId": "0d026d31-a29f-46b7-f34f-ef255b9b4a9d"
      },
      "outputs": [
        {
          "data": {
            "text/plain": [
              "Prediction(uid=1, iid=1, r_ui=None, est=4.478592493373982, details={'was_impossible': False})"
            ]
          },
          "execution_count": 199,
          "metadata": {},
          "output_type": "execute_result"
        }
      ],
      "source": [
        "predictions1 = algo_SVD_1.predict(uid=1, iid=1)\n",
        "predictions1"
      ]
    },
    {
      "cell_type": "code",
      "execution_count": 192,
      "metadata": {
        "colab": {
          "base_uri": "https://localhost:8080/"
        },
        "id": "vKxz5KL0A7ri",
        "outputId": "30f44b68-f2a4-44f2-d525-6f4d905c4602"
      },
      "outputs": [
        {
          "data": {
            "text/plain": [
              "{'n_factors': 1,\n",
              " 'n_epochs': 20,\n",
              " 'biased': True,\n",
              " 'init_mean': 2.75,\n",
              " 'init_std_dev': 0.2,\n",
              " 'lr_bu': 0.005,\n",
              " 'lr_bi': 0.005,\n",
              " 'lr_pu': 0.005,\n",
              " 'lr_qi': 0.005,\n",
              " 'reg_bu': 0.4,\n",
              " 'reg_bi': 0.4,\n",
              " 'reg_pu': 0.4,\n",
              " 'reg_qi': 0.4,\n",
              " 'random_state': None,\n",
              " 'verbose': False,\n",
              " 'bsl_options': {},\n",
              " 'sim_options': {'user_based': True}}"
            ]
          },
          "execution_count": 192,
          "metadata": {},
          "output_type": "execute_result"
        }
      ],
      "source": [
        "gs.best_estimator['rmse'].__dict__"
      ]
    },
    {
      "cell_type": "code",
      "execution_count": 205,
      "metadata": {
        "colab": {
          "base_uri": "https://localhost:8080/"
        },
        "id": "Qam0f2l6F1LW",
        "outputId": "16aa566e-ac83-4b9c-edf7-e202da9a9ea6"
      },
      "outputs": [
        {
          "name": "stdout",
          "output_type": "stream",
          "text": [
            "Evaluating RMSE, MAE of algorithm SVD on 6 split(s).\n",
            "\n",
            "                  Fold 1  Fold 2  Fold 3  Fold 4  Fold 5  Fold 6  Mean    Std     \n",
            "RMSE (testset)    0.8802  0.8701  0.8850  0.8805  0.8817  0.8803  0.8796  0.0046  \n",
            "MAE (testset)     0.6799  0.6751  0.6832  0.6782  0.6782  0.6821  0.6794  0.0027  \n",
            "Fit time          0.67    0.69    0.69    0.99    0.96    0.76    0.79    0.13    \n",
            "Test time         0.14    0.10    0.14    0.21    0.29    0.90    0.30    0.28    \n"
          ]
        },
        {
          "data": {
            "text/plain": [
              "{'test_rmse': array([0.88019364, 0.87011156, 0.8850459 , 0.88045319, 0.88170053,\n",
              "        0.88028071]),\n",
              " 'test_mae': array([0.6798545 , 0.67510349, 0.68315716, 0.67821597, 0.67815387,\n",
              "        0.68209943]),\n",
              " 'fit_time': (0.6721510887145996,\n",
              "  0.6876275539398193,\n",
              "  0.6892197132110596,\n",
              "  0.9852011203765869,\n",
              "  0.9573357105255127,\n",
              "  0.7594242095947266),\n",
              " 'test_time': (0.14191532135009766,\n",
              "  0.10269308090209961,\n",
              "  0.13662028312683105,\n",
              "  0.21170258522033691,\n",
              "  0.2929048538208008,\n",
              "  0.9005699157714844)}"
            ]
          },
          "execution_count": 205,
          "metadata": {},
          "output_type": "execute_result"
        }
      ],
      "source": [
        "algo_SVD_2 = SVD(\n",
        "                 n_factors=1,\n",
        "                 n_epochs=20,\n",
        "                 biased=True,\n",
        "                 init_mean=2.75,\n",
        "                 init_std_dev=0.2,\n",
        "                 lr_bu=0.005,\n",
        "                 lr_bi=0.005,\n",
        "                 lr_pu=0.005,\n",
        "                 lr_qi=0.005,\n",
        "                 reg_bu=0.4,\n",
        "                 reg_bi=0.4,\n",
        "                 reg_pu=0.4,\n",
        "                 reg_qi=0.4,\n",
        "                 random_state=None,\n",
        "                 verbose=False\n",
        "                 )\n",
        "cross_validate(algo_SVD_2, data, measures=['RMSE', 'MAE'], cv=6, verbose=True)"
      ]
    },
    {
      "cell_type": "code",
      "execution_count": 203,
      "metadata": {
        "colab": {
          "base_uri": "https://localhost:8080/"
        },
        "id": "qUMrM3ws-Wx7",
        "outputId": "b21f7d9a-76f7-4140-94fe-9feec1d39ab4"
      },
      "outputs": [
        {
          "data": {
            "text/plain": [
              "Prediction(uid=1, iid=1, r_ui=None, est=4.254468434837564, details={'was_impossible': False})"
            ]
          },
          "execution_count": 203,
          "metadata": {},
          "output_type": "execute_result"
        }
      ],
      "source": [
        "predictions2 = algo_SVD_2.predict(uid=1, iid=1)\n",
        "predictions2"
      ]
    },
    {
      "cell_type": "code",
      "execution_count": 204,
      "metadata": {
        "colab": {
          "base_uri": "https://localhost:8080/"
        },
        "id": "G3eoWUqA-zlk",
        "outputId": "fb293124-0ff7-4587-a16d-a5a0981696c4"
      },
      "outputs": [
        {
          "data": {
            "text/plain": [
              "{'n_factors': 10,\n",
              " 'n_epochs': 30,\n",
              " 'init_mean': 0,\n",
              " 'init_std_dev': 0.1,\n",
              " 'lr_bu': 0.005,\n",
              " 'lr_bi': 0.005,\n",
              " 'lr_pu': 0.005,\n",
              " 'lr_qi': 0.005,\n",
              " 'lr_yj': 0.005,\n",
              " 'reg_bu': 0.4,\n",
              " 'reg_bi': 0.4,\n",
              " 'reg_pu': 0.4,\n",
              " 'reg_qi': 0.4,\n",
              " 'reg_yj': 0.4,\n",
              " 'random_state': None,\n",
              " 'verbose': False,\n",
              " 'cache_ratings': False,\n",
              " 'bsl_options': {},\n",
              " 'sim_options': {'user_based': True}}"
            ]
          },
          "execution_count": 204,
          "metadata": {},
          "output_type": "execute_result"
        }
      ],
      "source": [
        "gspp.best_estimator['rmse'].__dict__"
      ]
    },
    {
      "cell_type": "code",
      "execution_count": 206,
      "metadata": {
        "colab": {
          "base_uri": "https://localhost:8080/"
        },
        "id": "siD9HI0iHXj_",
        "outputId": "d21e9a0c-8112-43ab-9d37-bb2ebdbb79f2"
      },
      "outputs": [
        {
          "name": "stdout",
          "output_type": "stream",
          "text": [
            "Evaluating RMSE, MAE of algorithm SVD on 6 split(s).\n",
            "\n",
            "                  Fold 1  Fold 2  Fold 3  Fold 4  Fold 5  Fold 6  Mean    Std     \n",
            "RMSE (testset)    0.8782  0.8766  0.8885  0.8713  0.8731  0.8815  0.8782  0.0057  \n",
            "MAE (testset)     0.6787  0.6765  0.6887  0.6724  0.6718  0.6801  0.6780  0.0056  \n",
            "Fit time          1.29    1.08    1.12    1.10    1.13    1.08    1.13    0.07    \n",
            "Test time         0.10    0.10    0.12    0.10    0.10    0.10    0.10    0.01    \n"
          ]
        },
        {
          "data": {
            "text/plain": [
              "{'test_rmse': array([0.87819979, 0.8765685 , 0.88848631, 0.87128222, 0.87311453,\n",
              "        0.88153739]),\n",
              " 'test_mae': array([0.67871874, 0.67648718, 0.68866662, 0.67239871, 0.67176171,\n",
              "        0.68006918]),\n",
              " 'fit_time': (1.2944934368133545,\n",
              "  1.0768423080444336,\n",
              "  1.1183114051818848,\n",
              "  1.0992112159729004,\n",
              "  1.1301133632659912,\n",
              "  1.0774996280670166),\n",
              " 'test_time': (0.09768319129943848,\n",
              "  0.10087227821350098,\n",
              "  0.12119078636169434,\n",
              "  0.0973820686340332,\n",
              "  0.0962216854095459,\n",
              "  0.09785985946655273)}"
            ]
          },
          "execution_count": 206,
          "metadata": {},
          "output_type": "execute_result"
        }
      ],
      "source": [
        "algo_SVDpp = SVD(\n",
        "                 n_factors=10,\n",
        "                 n_epochs=30,\n",
        "                 init_mean=0,\n",
        "                 init_std_dev=0.1,\n",
        "                 lr_bu=0.005,\n",
        "                 lr_bi=0.005,\n",
        "                 lr_pu=0.005,\n",
        "                 lr_qi=0.005,\n",
        "                 reg_bu=0.4,\n",
        "                 reg_bi=0.4,\n",
        "                 reg_pu=0.4,\n",
        "                 reg_qi=0.4,\n",
        "                 random_state=None,\n",
        "                 verbose=False\n",
        "                 )\n",
        "cross_validate(algo_SVDpp, data, measures=['RMSE', 'MAE'], cv=6, verbose=True)"
      ]
    },
    {
      "cell_type": "code",
      "execution_count": 207,
      "metadata": {
        "colab": {
          "base_uri": "https://localhost:8080/"
        },
        "id": "5r0_Ql8QHqq2",
        "outputId": "95b0c162-c93a-4995-c025-752ddf748fe2"
      },
      "outputs": [
        {
          "data": {
            "text/plain": [
              "Prediction(uid=1, iid=1, r_ui=None, est=4.308400650270771, details={'was_impossible': False})"
            ]
          },
          "execution_count": 207,
          "metadata": {},
          "output_type": "execute_result"
        }
      ],
      "source": [
        "predictions3 = algo_SVDpp.predict(uid=1, iid=1)\n",
        "predictions3"
      ]
    },
    {
      "cell_type": "code",
      "execution_count": 208,
      "metadata": {
        "colab": {
          "base_uri": "https://localhost:8080/"
        },
        "id": "usfdBiJEHwB1",
        "outputId": "695109e5-3d60-4512-8672-37ae0becaa5a"
      },
      "outputs": [
        {
          "data": {
            "text/plain": [
              "{'n_factors': 20,\n",
              " 'n_epochs': 75,\n",
              " 'biased': False,\n",
              " 'reg_pu': 0.1,\n",
              " 'reg_qi': 0.1,\n",
              " 'lr_bu': 0.002,\n",
              " 'lr_bi': 0.002,\n",
              " 'reg_bu': 0.03,\n",
              " 'reg_bi': 0.03,\n",
              " 'init_low': 0,\n",
              " 'init_high': 5,\n",
              " 'random_state': None,\n",
              " 'verbose': False,\n",
              " 'bsl_options': {},\n",
              " 'sim_options': {'user_based': True}}"
            ]
          },
          "execution_count": 208,
          "metadata": {},
          "output_type": "execute_result"
        }
      ],
      "source": [
        "gsNMF.best_estimator['rmse'].__dict__"
      ]
    },
    {
      "cell_type": "code",
      "execution_count": 210,
      "metadata": {
        "colab": {
          "base_uri": "https://localhost:8080/"
        },
        "id": "9K6HSzT1H-K6",
        "outputId": "e5819e84-4b08-4744-82b7-a3913d0afe5c"
      },
      "outputs": [
        {
          "name": "stdout",
          "output_type": "stream",
          "text": [
            "Evaluating RMSE, MAE of algorithm NMF on 6 split(s).\n",
            "\n",
            "                  Fold 1  Fold 2  Fold 3  Fold 4  Fold 5  Fold 6  Mean    Std     \n",
            "RMSE (testset)    0.8935  0.9047  0.9042  0.9007  0.9051  0.9084  0.9028  0.0047  \n",
            "MAE (testset)     0.6912  0.7017  0.7019  0.6998  0.7059  0.7079  0.7014  0.0053  \n",
            "Fit time          5.10    5.36    4.67    5.07    4.89    4.58    4.94    0.27    \n",
            "Test time         0.09    0.10    0.73    0.18    0.09    0.09    0.21    0.23    \n"
          ]
        },
        {
          "data": {
            "text/plain": [
              "{'test_rmse': array([0.89352855, 0.90474124, 0.90417976, 0.90065999, 0.90513334,\n",
              "        0.90837804]),\n",
              " 'test_mae': array([0.69118407, 0.70166846, 0.70187377, 0.69981521, 0.70591347,\n",
              "        0.70790093]),\n",
              " 'fit_time': (5.09546160697937,\n",
              "  5.364324569702148,\n",
              "  4.671360969543457,\n",
              "  5.074461460113525,\n",
              "  4.8859803676605225,\n",
              "  4.576553583145142),\n",
              " 'test_time': (0.08793473243713379,\n",
              "  0.09647607803344727,\n",
              "  0.7258057594299316,\n",
              "  0.17620611190795898,\n",
              "  0.09053301811218262,\n",
              "  0.08816933631896973)}"
            ]
          },
          "execution_count": 210,
          "metadata": {},
          "output_type": "execute_result"
        }
      ],
      "source": [
        "algo_NMF = NMF(\n",
        "               n_factors=20,\n",
        "               n_epochs=75,\n",
        "               biased=False,\n",
        "               reg_pu=0.1,\n",
        "               reg_qi=0.1,\n",
        "               lr_bu=0.002,\n",
        "               lr_bi=0.002,\n",
        "               reg_bu=0.03,\n",
        "               reg_bi=0.03,\n",
        "               init_low=0,\n",
        "               init_high=5,\n",
        "               random_state=None,\n",
        "               verbose=False\n",
        "               )\n",
        "cross_validate(algo_NMF, data, measures=['RMSE', 'MAE'], cv=6, verbose=True)"
      ]
    },
    {
      "cell_type": "code",
      "execution_count": 211,
      "metadata": {
        "colab": {
          "base_uri": "https://localhost:8080/"
        },
        "id": "bNsiBAcQI6o9",
        "outputId": "3fcad7f1-a0e3-4db2-e45d-8f9e44927158"
      },
      "outputs": [
        {
          "data": {
            "text/plain": [
              "Prediction(uid=1, iid=1, r_ui=None, est=4.544657600970317, details={'was_impossible': False})"
            ]
          },
          "execution_count": 211,
          "metadata": {},
          "output_type": "execute_result"
        }
      ],
      "source": [
        "predictions4 = algo_NMF.predict(uid=1, iid=1)\n",
        "predictions4"
      ]
    }
  ],
  "metadata": {
    "colab": {
      "provenance": []
    },
    "kernelspec": {
      "display_name": "Python 3",
      "name": "python3"
    },
    "language_info": {
      "name": "python",
      "version": "3.10.12"
    }
  },
  "nbformat": 4,
  "nbformat_minor": 0
}
