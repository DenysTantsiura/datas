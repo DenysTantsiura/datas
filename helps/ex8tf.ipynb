{
 "cells": [
  {
   "attachments": {},
   "cell_type": "markdown",
   "metadata": {},
   "source": [
    "# __SimpleNN__ (tensorflow)"
   ]
  },
  {
   "attachments": {},
   "cell_type": "markdown",
   "metadata": {},
   "source": [
    "механізми бібліотеки tensorflow.\n",
    "- https://www.tensorflow.org/"
   ]
  },
  {
   "cell_type": "code",
   "execution_count": 253,
   "metadata": {},
   "outputs": [],
   "source": [
    "import os\n",
    "import random\n",
    "\n",
    "import matplotlib.pyplot as plt\n",
    "import numpy as np\n",
    "import pandas as pd\n",
    "import tensorflow as tf"
   ]
  },
  {
   "cell_type": "code",
   "execution_count": 254,
   "metadata": {},
   "outputs": [],
   "source": [
    "def set_seed(seed_value: int) -> None:\n",
    "    \"\"\"Set a random state for repeatability of results.\"\"\"\n",
    "    random.seed(seed_value)\n",
    "    np.random.seed(seed_value)\n",
    "    tf.random.set_seed(seed_value)\n",
    "    os.environ['PYTHONHASHSEED'] = str(seed_value)\n",
    "    os.environ['TF_DETERMINISTIC_OPS'] = 'true'\n",
    "    \n",
    "\n",
    "set_seed(42)"
   ]
  },
  {
   "attachments": {},
   "cell_type": "markdown",
   "metadata": {},
   "source": [
    "### __`OBTAIN` & `SCRUB`__ + __`EXPLORE`__ (DATASET)"
   ]
  },
  {
   "cell_type": "code",
   "execution_count": 255,
   "metadata": {},
   "outputs": [],
   "source": [
    "TRUE_W = 3.0\n",
    "TRUE_B = 2.0\n",
    "\n",
    "NUM_EXAMPLES = 1000\n",
    "\n",
    "x = tf.random.normal(shape=[NUM_EXAMPLES])\n",
    "noise = tf.random.normal(shape=[NUM_EXAMPLES])\n",
    "y = x * TRUE_W + TRUE_B + noise * 10"
   ]
  },
  {
   "cell_type": "code",
   "execution_count": 256,
   "metadata": {},
   "outputs": [
    {
     "data": {
      "text/plain": [
       "<tf.Tensor: shape=(1000,), dtype=float32, numpy=\n",
       "array([ 8.42245817e-02, -8.60903740e-01,  3.78123045e-01, -5.19627379e-03,\n",
       "       -4.94531959e-01,  6.17819190e-01, -3.30820471e-01, -1.38408062e-03,\n",
       "       -4.23734099e-01, -1.38720870e+00, -1.54881907e+00, -5.31983912e-01,\n",
       "       -4.47564334e-01, -2.01158142e+00, -5.79260111e-01,  5.79389274e-01,\n",
       "        1.30419672e+00,  6.77202582e-01, -7.45876133e-01,  1.03789639e+00,\n",
       "        1.38204789e+00,  1.43191707e+00, -3.76431167e-01,  9.81584728e-01,\n",
       "       -2.35978618e-01, -3.37632596e-01, -8.95932496e-01,  4.27540720e-01,\n",
       "       -3.81055176e-01,  4.70069915e-01,  3.54137793e-02, -2.92727590e+00,\n",
       "       -9.67070043e-01, -4.14027095e-01, -4.01375860e-01,  6.23287678e-01,\n",
       "       -9.36488628e-01,  9.54493880e-01,  4.90253896e-01, -9.98048425e-01,\n",
       "       -1.16864061e+00, -6.78972900e-01,  1.73310387e+00,  7.86430180e-01,\n",
       "        9.22370180e-02,  2.27117896e-01, -9.18961167e-02,  1.12249768e+00,\n",
       "       -9.17323411e-01,  8.05410087e-01,  1.17660987e+00,  1.34334743e+00,\n",
       "       -1.31798172e+00, -5.97367585e-01, -1.69033492e+00,  7.48534858e-01,\n",
       "       -4.12243009e-01,  8.19554985e-01, -1.44723272e+00,  8.75594735e-01,\n",
       "       -2.34310150e+00,  7.72985518e-01,  4.78407145e-01,  3.79423648e-01,\n",
       "       -9.98167768e-02,  5.36433756e-01, -3.45694214e-01, -8.11068118e-01,\n",
       "       -7.25531101e-01,  6.42205656e-01,  1.22750640e+00,  1.46470571e+00,\n",
       "       -5.95784009e-01, -7.82639921e-01, -1.28186509e-01, -9.52056468e-01,\n",
       "        6.08240008e-01,  1.73814073e-01,  1.44946074e+00,  1.10278368e+00,\n",
       "       -1.50703466e+00,  1.23848093e+00, -1.17763672e-02, -4.16821063e-01,\n",
       "       -5.14207244e-01, -1.55233845e-01,  9.01849747e-01, -6.63321137e-01,\n",
       "       -8.02082300e-01,  5.20391881e-01,  1.23606825e+00, -3.72522920e-01,\n",
       "        5.49890101e-01,  1.57655701e-01, -7.41773367e-01, -1.15404856e+00,\n",
       "       -4.99220192e-01, -9.61200669e-02, -6.88563883e-01,  2.03510070e+00,\n",
       "        1.08893454e+00, -6.54119670e-01, -1.22977698e+00,  3.14039260e-01,\n",
       "       -2.93221951e-01, -9.37173545e-01,  3.45071793e-01,  1.14678152e-01,\n",
       "        5.34173906e-01, -1.63234770e-01, -1.08620620e+00, -1.70397389e+00,\n",
       "       -2.18452692e+00,  6.94677055e-01, -1.33231044e+00,  4.36967283e-01,\n",
       "        4.50480908e-01, -2.23492479e+00,  5.27262211e-01, -1.25150239e+00,\n",
       "       -1.66969132e+00, -2.65029430e-01, -3.42102915e-01, -1.24106359e+00,\n",
       "       -2.27922741e-02, -3.18986773e-01,  1.98504418e-01,  2.53141522e-01,\n",
       "       -2.94550866e-01,  6.39769316e-01, -4.17426586e-01, -2.30147056e-02,\n",
       "       -8.86300921e-01,  1.18954122e+00, -6.73251748e-01, -1.29994047e+00,\n",
       "       -7.59279579e-02, -6.69560730e-02, -4.01700974e-01, -1.78175122e-01,\n",
       "        1.06756771e+00, -1.00339210e+00, -3.29369962e-01,  1.34475946e+00,\n",
       "        1.08186221e+00,  3.26659679e-01, -1.46791482e+00, -6.22357130e-01,\n",
       "        5.39396942e-01,  2.83643544e-01,  1.06493115e+00, -8.85854244e-01,\n",
       "       -6.23729467e-01,  1.13671052e+00, -7.89447650e-02, -3.47416133e-01,\n",
       "       -1.15623665e+00, -1.06806707e+00, -1.41871616e-01, -3.62238914e-01,\n",
       "        1.18480551e+00, -3.92594337e-01, -5.58864295e-01,  1.60738319e-01,\n",
       "       -1.15084406e-02, -1.88733554e+00, -1.02200854e+00,  4.56388235e-01,\n",
       "       -1.62470460e+00,  1.55065013e-02, -1.06227076e+00, -1.08612800e+00,\n",
       "       -8.34978998e-01,  1.55661011e+00,  2.82815635e-01, -3.42131443e-02,\n",
       "       -1.30291331e+00,  1.34395170e+00, -5.65496206e-01,  1.76608634e+00,\n",
       "       -4.60435957e-01, -6.61161542e-01,  4.77718472e-01,  1.02416456e+00,\n",
       "       -4.45439965e-01, -2.72017503e+00,  2.92351693e-01,  1.19176996e+00,\n",
       "       -1.29302704e+00, -1.06597602e+00,  1.49652243e+00, -1.42197931e+00,\n",
       "        3.43184710e-01, -6.61258459e-01, -9.68627274e-01, -9.42962110e-01,\n",
       "        2.11525178e+00,  3.50969076e-01,  5.58717668e-01,  1.47080529e+00,\n",
       "       -9.37873945e-02,  6.50554836e-01, -3.58887255e-01, -6.20859742e-01,\n",
       "       -8.47306013e-01, -1.46248424e+00,  6.94234967e-01,  1.24634458e-02,\n",
       "       -1.41299114e-01,  1.22527504e+00, -1.79942894e+00, -4.17757519e-02,\n",
       "        1.19403470e+00,  8.05457652e-01,  2.18477435e-02, -1.10297942e+00,\n",
       "        1.15482759e+00,  3.89550298e-01, -4.48661149e-01,  5.27980745e-01,\n",
       "       -6.22923195e-01,  1.11519635e+00, -5.35292506e-01, -1.54374406e-01,\n",
       "       -7.32353553e-02,  2.76115030e-01, -1.44441867e+00,  1.20052490e-02,\n",
       "       -1.14516899e-01, -9.39135134e-01,  2.12044314e-01, -6.11231029e-01,\n",
       "        6.15418673e-01,  5.51181972e-01, -1.48694086e+00, -5.14067292e-01,\n",
       "        1.29047310e+00,  1.22948039e+00,  9.76162672e-01,  2.64897466e-01,\n",
       "        1.84885299e+00, -2.19550204e+00,  6.94786727e-01, -9.51816559e-01,\n",
       "       -4.33110625e-01,  3.33117843e-01, -3.53525877e+00,  3.10652316e-01,\n",
       "       -6.45043492e-01,  2.17160553e-01, -1.30224824e+00, -1.59199849e-01,\n",
       "        7.50686586e-01,  3.27558294e-02,  2.25415540e+00,  1.12164092e+00,\n",
       "       -1.44470763e+00,  4.29155052e-01,  1.01900899e+00, -1.21992838e+00,\n",
       "       -2.55555773e+00, -1.79437339e+00, -2.80615479e-01,  1.98573366e-01,\n",
       "       -2.78604049e-02, -1.96271718e+00, -1.01998091e+00, -5.85428238e-01,\n",
       "        6.40406013e-01,  2.17397317e-01,  1.43331635e+00, -4.72103834e-01,\n",
       "       -2.73704588e-01,  1.92830071e-01,  3.96564901e-01, -5.78108191e-01,\n",
       "        1.44166067e-01, -4.23989743e-01, -3.36351782e-01, -1.21686864e+00,\n",
       "       -4.89982396e-01,  1.94334671e-01,  2.15577722e+00,  9.16617453e-01,\n",
       "        2.01566696e+00, -2.24559927e+00,  6.95473075e-01,  6.17170691e-01,\n",
       "       -2.17465782e+00,  3.63701910e-01,  9.30225670e-01,  1.21993899e+00,\n",
       "        9.78313506e-01, -6.04659557e-01,  8.11125994e-01,  5.50185442e-01,\n",
       "       -1.51861382e+00, -5.78462124e-01, -7.05303192e-01,  1.30727983e+00,\n",
       "        9.97161090e-01,  1.26377225e+00, -6.05887234e-01, -7.63528526e-01,\n",
       "        1.10011983e+00, -8.28235686e-01, -1.22934043e+00,  7.63198197e-01,\n",
       "       -1.59573996e+00,  1.97047368e-02, -1.29062402e+00,  3.70560527e-01,\n",
       "        9.23341036e-01, -5.82330441e-03, -1.09234214e+00, -1.24578226e+00,\n",
       "       -1.16876864e+00, -5.13565242e-01, -6.71280265e-01, -8.42489302e-01,\n",
       "        1.76583417e-02, -2.56520361e-01,  1.33030379e+00,  8.30573380e-01,\n",
       "        1.47987652e+00, -1.44801712e+00, -1.17990375e+00, -1.61557233e+00,\n",
       "        6.80898488e-01,  1.75271058e+00,  9.16109458e-02,  1.65522456e-01,\n",
       "        3.50427210e-01, -2.01875478e-01,  8.19724202e-01, -4.38762873e-01,\n",
       "        1.61226198e-01, -5.87676093e-02, -1.28656283e-01,  1.46211147e+00,\n",
       "       -7.40113378e-01, -1.27535450e+00,  7.69324481e-01,  4.42847937e-01,\n",
       "        1.22906113e+00,  8.65668595e-01,  4.03344870e-01,  8.02462220e-01,\n",
       "        1.94385362e+00, -3.36557239e-01, -6.19432591e-02,  3.16717529e+00,\n",
       "        1.33833385e+00,  7.79354393e-01,  1.16503632e+00, -6.36822522e-01,\n",
       "        7.41612434e-01,  7.98748136e-01,  1.94710195e-02,  2.27965426e+00,\n",
       "       -4.74829733e-01,  6.26980901e-01,  4.37477916e-01, -9.35842574e-01,\n",
       "       -8.24599028e-01, -3.13582011e-02, -6.74957454e-01, -1.68189192e+00,\n",
       "        1.07053173e+00,  9.17825699e-01, -2.67060369e-01, -1.75797164e-01,\n",
       "       -7.47937739e-01, -2.78362602e-01, -1.02563715e+00,  7.61417210e-01,\n",
       "        7.55879283e-01, -6.49090946e-01, -5.17383553e-02,  6.57287121e-01,\n",
       "       -6.92061484e-01,  6.56825244e-01, -4.91021931e-01,  1.41156960e+00,\n",
       "       -9.90665376e-01, -6.47554919e-02, -1.30403352e+00, -6.51084661e-01,\n",
       "       -1.37487078e+00, -6.73158884e-01, -1.28879480e-03,  1.22819078e+00,\n",
       "       -3.68678272e-01,  9.31323990e-02,  5.83851993e-01,  7.26117074e-01,\n",
       "       -1.52867222e+00, -2.64020771e-01,  7.23931193e-01, -1.22121131e+00,\n",
       "       -3.57783556e-01, -4.52715039e-01,  1.17228365e+00, -1.78263211e+00,\n",
       "        1.09921232e-01, -1.36219335e+00,  1.35945544e-01, -6.81414127e-01,\n",
       "       -9.50033903e-01, -6.26889169e-01,  2.10531011e-01,  6.69279918e-02,\n",
       "       -2.42461610e+00,  5.91467798e-01, -6.42205596e-01, -7.39210695e-02,\n",
       "       -3.58956605e-01, -6.04643404e-01,  1.54413760e+00, -1.90445274e-01,\n",
       "        2.17127427e-01,  9.52583730e-01, -9.10584390e-01,  4.86428320e-01,\n",
       "        8.20468247e-01,  1.23138569e-01,  1.43088150e+00, -2.26206228e-01,\n",
       "        4.34746683e-01,  3.46348822e-01,  1.33923486e-01, -1.54759455e+00,\n",
       "        1.12569582e+00, -2.37390757e+00,  3.01772952e+00,  2.64010382e+00,\n",
       "        7.25247383e-01, -1.24981785e+00, -1.26661849e+00,  1.39361489e+00,\n",
       "        3.05071497e+00, -3.36696327e-01,  4.33557242e-01, -7.82603025e-01,\n",
       "       -5.10906756e-01,  1.04714119e+00,  5.87166607e-01, -4.24826205e-01,\n",
       "        1.01019762e-01,  2.06850719e+00,  7.21754968e-01, -1.08525157e-01,\n",
       "       -2.08672285e-01,  1.52603209e+00,  5.30422926e-01, -3.90911922e-02,\n",
       "        4.26735908e-01, -1.80429959e+00, -4.81735431e-02,  4.85739321e-01,\n",
       "        5.89226544e-01, -2.94043243e-01,  7.68761262e-02,  9.72228646e-01,\n",
       "        9.98839855e-01,  9.92090464e-01,  1.06268835e+00, -8.82472843e-02,\n",
       "       -4.94485527e-01, -9.54556584e-01,  8.88617516e-01,  1.19063593e-01,\n",
       "        1.99446678e-01, -1.72850892e-01, -7.76346743e-01, -6.04845248e-02,\n",
       "       -1.71014249e+00,  2.74701655e-01, -4.87690210e-01, -3.71967316e-01,\n",
       "        7.38473415e-01, -8.08930516e-01, -3.29273552e-01,  4.15666327e-02,\n",
       "        1.23761034e+00,  1.33546665e-01,  5.78566909e-01,  1.08030096e-01,\n",
       "       -1.62259817e-01,  2.05457067e+00, -3.13542277e-01, -9.49425757e-01,\n",
       "        2.08670712e+00, -1.36974323e+00, -1.60195088e+00, -1.27217782e+00,\n",
       "       -9.86372054e-01,  3.56160879e-01, -3.25559765e-01, -1.15142114e-01,\n",
       "        1.07063696e-01,  5.11546850e-01,  9.36104298e-01,  1.03876626e+00,\n",
       "       -6.69111371e-01,  1.41221738e+00, -9.72681582e-01,  1.29239166e+00,\n",
       "        1.40920371e-01,  1.37235320e+00,  8.67353439e-01, -4.19015616e-01,\n",
       "       -1.13533783e+00,  7.48807132e-01,  5.22890747e-01, -9.64500427e-01,\n",
       "        1.91147006e+00,  1.53064919e+00, -2.47625843e-01, -1.49762368e+00,\n",
       "       -1.83292735e+00,  1.48652112e+00,  6.58400893e-01,  1.73067534e+00,\n",
       "       -1.94424522e+00, -7.34561265e-01, -1.73747051e+00,  7.99166739e-01,\n",
       "        1.21397448e+00, -1.49008822e+00, -5.33191741e-01,  1.31490946e+00,\n",
       "       -1.64244309e-01, -1.17074287e+00, -3.35841358e-01, -1.59593418e-01,\n",
       "       -3.30068320e-01,  2.31559706e+00,  3.76157045e-01,  1.46788418e+00,\n",
       "       -1.78063944e-01,  6.13149107e-01, -5.57853997e-01, -1.82804525e-01,\n",
       "       -1.03807473e+00,  4.28405941e-01,  4.84813392e-01,  8.25377285e-01,\n",
       "       -1.72561622e+00,  8.09122145e-01, -6.96672857e-01, -6.38273776e-01,\n",
       "        2.10453629e+00,  1.11133933e+00,  6.53018236e-01, -2.15204549e+00,\n",
       "        1.97091892e-01,  2.48779416e+00, -1.16993308e+00, -9.03076053e-01,\n",
       "       -7.63824463e-01,  2.02259049e-01, -1.68344545e+00, -7.33501136e-01,\n",
       "        9.26018730e-02,  2.90692806e-01, -6.76283002e-01, -1.31977320e+00,\n",
       "        4.36404437e-01, -5.18923879e-01,  1.13090158e+00, -4.63962287e-01,\n",
       "        9.02748406e-01,  3.66522163e-01, -1.08139861e+00, -1.48830220e-01,\n",
       "        4.67726231e-01,  5.15375659e-02,  6.13226712e-01, -6.07387364e-01,\n",
       "        8.55248451e-01,  5.35498679e-01,  1.09204781e+00,  1.34185576e+00,\n",
       "        4.55324382e-01,  8.82189572e-01, -1.72156918e+00,  1.33745086e+00,\n",
       "        1.39724100e+00,  1.42935550e+00, -9.73885536e-01, -1.88910067e+00,\n",
       "       -7.51961350e-01, -1.01589859e+00,  2.51577586e-01,  3.47233891e-01,\n",
       "        1.33441001e-01, -3.26292813e-01, -1.42982855e-01, -1.53596520e+00,\n",
       "        2.19493151e+00, -2.13514400e+00,  6.29361510e-01, -7.95335844e-02,\n",
       "        8.48174334e-01,  1.51010489e+00, -1.15501881e+00,  4.56101477e-01,\n",
       "       -8.76218855e-01, -6.91829249e-03, -9.57711041e-01, -1.86924756e+00,\n",
       "        1.20171666e+00, -7.67739952e-01,  3.90427634e-02,  1.66039124e-01,\n",
       "       -6.54291272e-01,  5.21685779e-01, -3.00654709e-01,  8.38376209e-02,\n",
       "       -8.93564224e-01, -1.00963247e+00, -3.65796030e-01, -1.47939420e+00,\n",
       "       -8.95543873e-01,  7.07345922e-03, -7.64575481e-01, -1.39817238e+00,\n",
       "       -5.64394653e-01,  5.64247549e-01, -3.46164882e-01, -1.10949647e+00,\n",
       "        2.99891084e-01,  4.19573665e-01, -3.28616917e-01, -1.49612582e+00,\n",
       "        6.48684740e-01, -1.18452585e+00,  6.56428695e-01, -7.42220938e-01,\n",
       "       -2.33267263e-01, -1.11193895e+00,  1.12120700e+00, -8.12684357e-01,\n",
       "        9.69314501e-02,  2.97447294e-01,  1.03075767e+00, -6.72017276e-01,\n",
       "        1.02353501e+00,  6.04879677e-01, -2.11093515e-01,  2.79197633e-01,\n",
       "        6.61175370e-01,  1.09811080e+00,  1.34623945e+00, -6.70874298e-01,\n",
       "        2.86489329e-03,  3.46354991e-01,  1.44554153e-01,  4.59975153e-01,\n",
       "       -2.81187087e-01, -1.29763198e+00,  5.51135838e-01,  7.27746725e-01,\n",
       "       -1.18733458e-02,  3.83172005e-01, -6.53265953e-01,  9.58728135e-01,\n",
       "       -1.26495326e+00, -1.15851891e+00, -1.09168744e+00, -1.24350893e+00,\n",
       "        3.94207805e-01,  9.73992944e-01,  1.27714586e+00, -3.69007319e-01,\n",
       "       -1.95457017e+00,  1.26128745e+00,  4.01002795e-01, -8.19520950e-02,\n",
       "       -1.12813346e-01,  4.71332014e-01,  1.22174251e+00,  3.41518760e-01,\n",
       "       -7.75249243e-01,  5.70396304e-01, -4.66131270e-01, -4.45409387e-01,\n",
       "        8.61104965e-01, -1.05610859e+00,  1.74494356e-01, -1.79701731e-01,\n",
       "       -5.18361568e-01, -2.10919118e+00, -2.44981870e-01, -6.48620844e-01,\n",
       "        7.10903704e-01, -1.04397126e-01, -7.46818662e-01, -2.66249090e-01,\n",
       "       -1.16118479e+00, -3.03400815e-01, -1.05719578e+00, -7.77545512e-01,\n",
       "        5.45870662e-01,  7.23628223e-01, -2.48279452e+00, -3.58660035e-02,\n",
       "       -7.52406299e-01,  4.07718629e-01,  1.76877663e-01, -4.31097180e-01,\n",
       "        6.82888627e-01,  1.43981390e-02, -6.70031607e-02,  1.65613008e+00,\n",
       "       -8.21011484e-01, -6.89506233e-01,  9.67615426e-01, -1.05465114e+00,\n",
       "       -5.70380926e-01,  1.25681973e+00, -4.31630164e-01,  2.55429983e-01,\n",
       "        4.62301046e-01, -2.85122454e-01, -4.57825512e-01,  7.33527988e-02,\n",
       "        4.89309490e-01, -5.65125823e-01, -1.14709532e+00, -1.82200515e+00,\n",
       "       -3.04868174e+00,  6.17059916e-02, -7.44833410e-01, -2.60459185e-01,\n",
       "       -3.32162082e-01,  8.95384908e-01,  6.23983324e-01, -4.15695012e-01,\n",
       "        8.23123097e-01,  9.22322631e-01, -5.85376740e-01, -2.43158117e-01,\n",
       "       -1.04027355e+00, -7.91913986e-01, -1.43230200e+00,  1.18294820e-01,\n",
       "       -5.32622337e-01, -5.37062027e-02, -1.35734022e+00,  1.79549277e+00,\n",
       "       -1.56750590e-01,  7.47481227e-01,  6.80337310e-01, -8.65831494e-01,\n",
       "        9.26413000e-01, -2.25358915e+00,  7.85460830e-01,  8.50216627e-01,\n",
       "        1.80280066e+00,  1.49466670e+00,  5.00081897e-01,  5.24922490e-01,\n",
       "        1.47783971e+00, -4.70089227e-01, -5.91073215e-01, -3.22306305e-01,\n",
       "        2.77838737e-01, -2.03538442e+00, -6.38313115e-01, -1.75475180e+00,\n",
       "        4.34019715e-02, -3.53515029e-01, -1.37865698e+00, -8.33297491e-01,\n",
       "       -6.59629941e-01,  7.67374635e-01, -5.01473188e-01, -8.95432651e-01,\n",
       "        3.75877857e-01, -6.54198229e-01,  8.38610709e-01, -3.34003419e-01,\n",
       "        1.30327955e-01, -1.22522712e+00,  1.48505121e-01,  4.51690882e-01,\n",
       "        1.01314582e-01, -5.36973000e-01, -1.84173942e-01,  2.26026011e+00,\n",
       "        1.15868962e+00,  2.16426086e+00, -2.67869174e-01,  9.16092843e-02,\n",
       "        1.46255243e+00,  7.72780538e-01, -5.01240909e-01, -1.55096352e+00,\n",
       "        1.26130080e+00,  8.34946036e-01,  1.11168042e-01,  9.04661775e-01,\n",
       "       -5.84048450e-01,  6.48515344e-01,  7.71099404e-02,  1.43392241e+00,\n",
       "       -8.27053547e-01, -5.83985925e-01,  1.11516845e+00, -4.59102154e-01,\n",
       "       -4.50622886e-01, -1.44317865e+00,  6.14826739e-01,  1.23822641e+00,\n",
       "       -8.74409527e-02,  3.93994719e-01, -1.91079271e+00, -1.13834977e+00,\n",
       "        1.31434277e-01,  1.13953507e+00, -2.16951013e+00, -4.61592853e-01,\n",
       "       -6.41986728e-01, -5.24417639e-01, -1.25359488e+00,  3.82340014e-01,\n",
       "        4.81644094e-01, -1.27043021e+00, -1.04675842e-02, -9.60558355e-02,\n",
       "       -4.47468087e-02,  8.56413960e-01,  1.10842967e+00,  1.53774038e-01,\n",
       "        1.00337613e+00,  1.15405536e+00,  9.92386937e-01,  2.80451700e-02,\n",
       "       -1.56558156e+00, -1.32699251e+00,  1.86101639e+00, -1.58629227e+00,\n",
       "        9.67733443e-01,  1.30436993e+00,  2.29052350e-01,  1.26288638e-01,\n",
       "        9.32257652e-01, -2.67115772e-01, -1.36270785e+00, -1.02187586e+00,\n",
       "       -3.43841076e-01, -1.45772964e-01, -9.34785247e-01, -7.33391345e-02,\n",
       "        1.79975784e+00, -2.08972499e-01, -3.10502172e-01, -7.40727127e-01,\n",
       "        8.59619260e-01, -9.89053920e-02,  4.12106007e-01,  1.31643310e-01,\n",
       "        6.46868706e-01,  1.70651662e+00, -1.84684098e-01, -1.00969505e+00,\n",
       "        6.11515306e-02, -3.62923771e-01, -6.64598763e-01, -3.90187413e-01,\n",
       "       -8.49734247e-01, -1.18705642e+00,  1.23935640e+00,  1.44861311e-01,\n",
       "        5.82615435e-01,  5.44889450e-01, -6.37837470e-01, -6.02684975e-01,\n",
       "        1.10158408e+00,  6.55949175e-01, -4.92352188e-01, -1.92011869e+00,\n",
       "        4.03732628e-01, -1.72444892e+00,  4.15943414e-01, -8.21901262e-01,\n",
       "        1.20170844e+00,  1.05628860e+00, -9.00440931e-01,  3.68576556e-01,\n",
       "        4.26287353e-02,  8.45148087e-01, -1.66622937e-01,  1.63871038e+00,\n",
       "       -3.11749518e-01, -6.86272383e-01, -8.02719742e-02,  1.18830132e+00,\n",
       "        2.54925281e-01,  4.20598626e-01,  2.05258322e+00, -2.87392307e-02,\n",
       "       -1.79228652e+00, -3.93907994e-01,  1.18116021e+00, -2.25475240e+00,\n",
       "       -7.52645612e-01, -5.24346977e-02,  2.66149282e-01,  8.00897598e-01,\n",
       "       -6.80148900e-01, -8.59090805e-01, -6.93524778e-01,  5.66574484e-02,\n",
       "        3.01264018e-01,  1.00646877e+00,  1.18523383e+00,  1.87443972e-01,\n",
       "        9.15770054e-01,  2.47499442e+00,  4.93334159e-02,  2.63354272e-01,\n",
       "       -9.86070395e-01, -2.64439970e-01,  3.50565076e-01, -5.46577275e-01,\n",
       "        1.32089818e+00, -3.50443572e-01, -5.91996491e-01, -2.41169357e+00,\n",
       "       -1.91620600e+00,  2.53696084e-01,  4.83904064e-01, -6.98639989e-01,\n",
       "        7.52808511e-01,  6.32059395e-01, -1.53061342e+00,  5.74116886e-01,\n",
       "        1.01733100e+00, -5.07208526e-01, -6.27688229e-01,  2.39104819e+00,\n",
       "       -6.27023757e-01,  7.62544513e-01, -7.97528267e-01,  5.22600591e-01,\n",
       "        8.38163733e-01,  2.67821550e-01,  1.66895837e-01, -8.72375071e-01,\n",
       "        8.49758923e-01, -1.72507930e+00,  9.11705732e-01,  1.79892802e+00,\n",
       "       -1.32350111e+00,  7.23854065e-01,  8.69097114e-02,  1.82256743e-01,\n",
       "        3.18657011e-01,  9.51569974e-01, -3.16317248e+00,  4.42179322e-01,\n",
       "       -3.34248990e-01,  7.38157511e-01, -1.63743412e+00, -4.77032304e-01,\n",
       "       -9.97098923e-01, -8.12655568e-01, -1.35221267e+00,  3.13491434e-01,\n",
       "       -1.12697542e+00, -1.12919235e+00, -5.17777562e-01,  4.02465165e-01,\n",
       "        3.80712718e-01,  5.58147013e-01,  9.91378546e-01,  3.16778034e-01,\n",
       "        1.55033454e-01, -1.22016303e-01, -5.39144099e-01, -1.81529596e-01,\n",
       "        7.12312758e-01, -9.62912202e-01,  3.67597193e-01, -9.55187917e-01,\n",
       "        2.38993430e+00,  1.30584049e+00,  5.76947272e-01, -3.37338924e-01,\n",
       "        8.50131691e-01, -1.82245508e-01,  3.02247237e-02, -1.94369841e+00,\n",
       "       -1.68838465e+00, -3.31698924e-01, -8.55314910e-01,  3.30652744e-01],\n",
       "      dtype=float32)>"
      ]
     },
     "execution_count": 256,
     "metadata": {},
     "output_type": "execute_result"
    }
   ],
   "source": [
    "noise"
   ]
  },
  {
   "attachments": {},
   "cell_type": "markdown",
   "metadata": {},
   "source": [
    "### __`MODEL`__"
   ]
  },
  {
   "attachments": {},
   "cell_type": "markdown",
   "metadata": {},
   "source": [
    "- https://www.tensorflow.org/guide/intro_to_graphs\n",
    "- https://www.tensorflow.org/guide/intro_to_modules"
   ]
  },
  {
   "attachments": {},
   "cell_type": "markdown",
   "metadata": {},
   "source": [
    "У нейронних мережах часто використовується активаційна функція ReLU:<br>\n",
    "- `f(x) = max(x, 0)`"
   ]
  },
  {
   "cell_type": "code",
   "execution_count": 257,
   "metadata": {},
   "outputs": [
    {
     "name": "stdout",
     "output_type": "stream",
     "text": [
      "1\n",
      "0\n"
     ]
    }
   ],
   "source": [
    "import tensorflow as tf\n",
    "from tensorflow.python.framework.ops import EagerTensor\n",
    "\n",
    "\n",
    "@tf.function\n",
    "def relu_activation(x: EagerTensor) -> EagerTensor:  # not Union[int, tf.Tensor] be cause @tf.function\n",
    "    if tf.greater(x, 0):  # <tf.Tensor: shape=(), dtype=bool, numpy=True>\n",
    "        return x\n",
    "    \n",
    "    return 0\n",
    "\n",
    "\n",
    "print(relu_activation(tf.constant(1)).numpy())\n",
    "print(relu_activation(tf.constant(-1)).numpy())"
   ]
  },
  {
   "attachments": {},
   "cell_type": "markdown",
   "metadata": {},
   "source": [
    "__Автоматичне диференціювання__\n",
    "- https://www.tensorflow.org/guide/intro_to_graphs\n",
    "<br>\n",
    "За допомогою класу `GradientTape` - `tensorflow` записує всі операції,<br>\n",
    "необхідні для обчислення похідної в змінну `tape` . Для того, щоб обчислити<br>\n",
    "значення похідної в __конкретній точці__, потрібно викликати метод `gradient`.<br>\n",
    "`x`- другий аргумент після функції - аргумент, за яким обчислюється похідна (причому це може бути тензор)."
   ]
  },
  {
   "cell_type": "code",
   "execution_count": 258,
   "metadata": {},
   "outputs": [
    {
     "name": "stdout",
     "output_type": "stream",
     "text": [
      "tf.Tensor(-0.25, shape=(), dtype=float32)\n"
     ]
    }
   ],
   "source": [
    "import tensorflow as tf\n",
    "from tensorflow.python.framework.ops import EagerTensor\n",
    "\n",
    "\n",
    "def f(x: EagerTensor) -> EagerTensor:\n",
    "    return 1 / x ** 2\n",
    "\n",
    "\n",
    "x1 = tf.Variable(2.0)\n",
    "with tf.GradientTape() as tape:\n",
    "    y1 = f(x1)\n",
    "    dydx: EagerTensor = tape.gradient(y1, x1)\n",
    "    print(dydx)  # tf.Tensor(-0.25, shape=(), dtype=float32)"
   ]
  },
  {
   "attachments": {},
   "cell_type": "markdown",
   "metadata": {},
   "source": [
    "Для того, щоб створити шар нейромережі, достатньо написати клас, який успадковується від `tf.Module`.<br>\n",
    "Обов'язковою є реалізація магічного методу `__call__`, оскільки всі фактичні обчислення відбуваються саме там."
   ]
  },
  {
   "cell_type": "code",
   "execution_count": 259,
   "metadata": {},
   "outputs": [
    {
     "data": {
      "text/plain": [
       "<tf.Tensor: shape=(), dtype=float32, numpy=30.0>"
      ]
     },
     "execution_count": 259,
     "metadata": {},
     "output_type": "execute_result"
    }
   ],
   "source": [
    "from typing import Optional, Union\n",
    "\n",
    "import tensorflow as tf\n",
    "from tensorflow.python.framework.ops import EagerTensor\n",
    "\n",
    "\n",
    "class SimpleModule(tf.Module):\n",
    "    def __init__(self, name: Optional[str]=None) -> None:\n",
    "        super().__init__(name=name)\n",
    "        self.w = tf.Variable(5.0)\n",
    "        self.b = tf.Variable(5.0)\n",
    "\n",
    "    def __call__(self, x: EagerTensor) -> EagerTensor:\n",
    "        return self.w * x + self.b\n",
    "\n",
    "\n",
    "simple_module = SimpleModule(name='simple')\n",
    "simple_module(tf.constant(5.0))"
   ]
  },
  {
   "cell_type": "code",
   "execution_count": 260,
   "metadata": {},
   "outputs": [
    {
     "name": "stdout",
     "output_type": "stream",
     "text": [
      "Results: tf.Tensor([[0.]], shape=(1, 1), dtype=float32)\n"
     ]
    }
   ],
   "source": [
    "class DenseLayer(tf.Module):\n",
    "    def __init__(self, in_features: int, out_features: int, name: Optional[str]=None):\n",
    "        super().__init__(name=name)\n",
    "        self.w = tf.Variable(\n",
    "                             tf.random.normal([in_features, out_features]), name='w'\n",
    "                             )\n",
    "        self.b = tf.Variable(tf.zeros([out_features]), name='b')\n",
    "\n",
    "    def __call__(self, x: EagerTensor):\n",
    "        y: tf.Tensor = tf.matmul(x, self.w) + self.b\n",
    "\n",
    "        return tf.nn.relu(y)\n",
    "\n",
    "\n",
    "class NN(tf.Module):\n",
    "  def __init__(self, name=None) -> EagerTensor:\n",
    "    super().__init__(name=name)\n",
    "    self.layer_1 = DenseLayer(in_features=3, out_features=3)\n",
    "    self.layer_2 = DenseLayer(in_features=3, out_features=1)\n",
    "\n",
    "  def __call__(self, x):\n",
    "    x: tf.Tensor = self.layer_1(x)\n",
    "\n",
    "    return self.layer_2(x)\n",
    "\n",
    "\n",
    "nn = NN(name='neural_network')\n",
    "print('Results:', nn(tf.constant([[2.0, 2.0, 2.0]])))  # start w from random"
   ]
  },
  {
   "attachments": {},
   "cell_type": "markdown",
   "metadata": {},
   "source": [
    "#### __`Training`__"
   ]
  },
  {
   "attachments": {},
   "cell_type": "markdown",
   "metadata": {},
   "source": [
    "- https://www.tensorflow.org/guide/basic_training_loops"
   ]
  },
  {
   "attachments": {},
   "cell_type": "markdown",
   "metadata": {},
   "source": [
    "визначимо дві функції: `loss` та `train`. Одна буде __обчислювати помилку__, а друга - __підлаштовувати ваги__.<br>"
   ]
  },
  {
   "cell_type": "code",
   "execution_count": 261,
   "metadata": {},
   "outputs": [],
   "source": [
    "def loss(target_y: EagerTensor, predicted_y: EagerTensor) -> EagerTensor:\n",
    "    return tf.reduce_mean(tf.square(target_y - predicted_y))\n",
    "\n",
    "\n",
    "def train(model: SimpleModule, x: EagerTensor, y: EagerTensor, learning_rate: float) -> None:\n",
    "    \"\"\"Лише одна ітерація навчання.\"\"\"\n",
    "    with tf.GradientTape() as t:\n",
    "        current_loss: tf.Tensor = loss(y, model(x))\n",
    "        # механізми tensorflow для автоматичного диференціювання:\n",
    "        dw, db = t.gradient(current_loss, [model.w, model.b])\n",
    "        model.w.assign_sub(learning_rate * dw)  # метод assign_sub веде себе як оператор -=\n",
    "        model.b.assign_sub(learning_rate * db)"
   ]
  },
  {
   "cell_type": "code",
   "execution_count": 262,
   "metadata": {},
   "outputs": [],
   "source": [
    "def training_loop(model, x: EagerTensor, y: EagerTensor) -> None:\n",
    "    for epoch in range(22):\n",
    "        train(model, x, y, learning_rate=0.1)\n",
    "        current_loss: EagerTensor = loss(y, model(x))\n",
    "        print(f'loss: {current_loss}')"
   ]
  },
  {
   "cell_type": "code",
   "execution_count": 263,
   "metadata": {},
   "outputs": [
    {
     "name": "stdout",
     "output_type": "stream",
     "text": [
      "loss: 108.90384674072266\n",
      "loss: 104.99842071533203\n",
      "loss: 102.4900894165039\n",
      "loss: 100.87901306152344\n",
      "loss: 99.84420776367188\n",
      "loss: 99.17951202392578\n",
      "loss: 98.75257110595703\n",
      "loss: 98.47830200195312\n",
      "loss: 98.30211639404297\n",
      "loss: 98.18893432617188\n",
      "loss: 98.1162338256836\n",
      "loss: 98.06952667236328\n",
      "loss: 98.03950500488281\n",
      "loss: 98.02023315429688\n",
      "loss: 98.0078353881836\n",
      "loss: 97.99988555908203\n",
      "loss: 97.99476623535156\n",
      "loss: 97.9914779663086\n",
      "loss: 97.9893569946289\n",
      "loss: 97.9880142211914\n",
      "loss: 97.98713684082031\n",
      "loss: 97.98657989501953\n"
     ]
    }
   ],
   "source": [
    "linear_model = SimpleModule()\n",
    "training_loop(linear_model, x, y)"
   ]
  },
  {
   "cell_type": "code",
   "execution_count": 264,
   "metadata": {},
   "outputs": [
    {
     "data": {
      "text/plain": [
       "('simple_module', 1.6132723, 2.6781948)"
      ]
     },
     "execution_count": 264,
     "metadata": {},
     "output_type": "execute_result"
    }
   ],
   "source": [
    "linear_model.name, linear_model.b.numpy(), linear_model.w.numpy()"
   ]
  },
  {
   "attachments": {},
   "cell_type": "markdown",
   "metadata": {},
   "source": [
    "- https://www.tensorflow.org/api_docs/python/tf/keras/optimizers/experimental/SGD\n",
    "- https://www.tensorflow.org/api_docs/python/tf/GradientTape"
   ]
  },
  {
   "cell_type": "code",
   "execution_count": 265,
   "metadata": {},
   "outputs": [],
   "source": [
    "TRUE_W = [3.0, 2.0, 1.0]\n",
    "TRUE_B = 2.0\n",
    "\n",
    "NUM_EXAMPLES = 1000\n",
    "\n",
    "x = tf.random.normal(shape=[NUM_EXAMPLES, 3])\n",
    "noise = tf.random.normal(shape=[NUM_EXAMPLES])\n",
    "y = tf.reduce_sum(x * TRUE_W + TRUE_B, axis=1) + noise"
   ]
  },
  {
   "cell_type": "code",
   "execution_count": 266,
   "metadata": {},
   "outputs": [],
   "source": [
    "neural_network = NN(name='neural_network_1')"
   ]
  },
  {
   "cell_type": "code",
   "execution_count": 267,
   "metadata": {},
   "outputs": [],
   "source": [
    "# Функція навчання нейромережі\n",
    "def train_NN(nn, input_x, output_y, learning_rate):\n",
    "    # Для припасування ваг мережі будемо використовувати стохастичний градієнтний спуск:\n",
    "    optimizer = tf.optimizers.legacy.SGD(learning_rate)  # .Adam\n",
    "\n",
    "    # Активація автоматичного диференціювання\n",
    "    with tf.GradientTape() as g:\n",
    "        pred = nn(input_x)  #  neural_net(input_x)\n",
    "        loss1 = loss(pred, output_y)  # cross_entropy(pred, output_y)\n",
    "\n",
    "        # Створимо список параметрів, що оптимізуються\n",
    "        params = [nn.layer_1.trainable_variables, nn.layer_2.trainable_variables]\n",
    "\n",
    "        # Обчислимо за ними значення градієнта\n",
    "        grads = g.gradient(loss1, params)\n",
    "\n",
    "        # Модифікуємо параметри\n",
    "        optimizer.apply_gradients(zip(grads[0], nn.layer_1.trainable_variables))\n",
    "        optimizer.apply_gradients(zip(grads[1], nn.layer_2.trainable_variables))"
   ]
  },
  {
   "cell_type": "code",
   "execution_count": 268,
   "metadata": {},
   "outputs": [
    {
     "data": {
      "text/plain": [
       "<_PrefetchDataset element_spec=(TensorSpec(shape=(None, 3), dtype=tf.float32, name=None), TensorSpec(shape=(None,), dtype=tf.float32, name=None))>"
      ]
     },
     "execution_count": 268,
     "metadata": {},
     "output_type": "execute_result"
    }
   ],
   "source": [
    "# Перемішаємо тренувальні дані (split to batches & ...)\n",
    "train_data = tf.data.Dataset.from_tensor_slices((x, y))\n",
    "train_data = train_data.repeat().shuffle(256).batch(128).prefetch(1)\n",
    "train_data"
   ]
  },
  {
   "cell_type": "code",
   "execution_count": 269,
   "metadata": {},
   "outputs": [],
   "source": [
    "# Тренування мережі\n",
    "loss_history = []  # кожні display_step кроків зберігатимемо в цьому списку поточну помилку нейромережі\n",
    "\n",
    "# При тренуванні у циклі\n",
    "# з тренувального датасету train_data виймаємо (метод take для тренувального датасету) випадкову підмножину для тренування\n",
    "for step, (batch_x, batch_y) in enumerate(train_data.take(256)):  # train_data.take(batch_size)\n",
    "    # оновлюємо ваги нейромережі\n",
    "    train_NN(neural_network, batch_x, batch_y, learning_rate=0.1)\n",
    "    pred = neural_network(batch_x)\n",
    "    current_loss = loss(pred, batch_y)\n",
    "    \n",
    "    if step % 1 == 0:\n",
    "        loss_history.append(current_loss)"
   ]
  },
  {
   "cell_type": "code",
   "execution_count": 270,
   "metadata": {},
   "outputs": [
    {
     "data": {
      "text/plain": [
       "[<tf.Tensor: shape=(), dtype=float32, numpy=42.370625>,\n",
       " <tf.Tensor: shape=(), dtype=float32, numpy=36.640892>,\n",
       " <tf.Tensor: shape=(), dtype=float32, numpy=28.821293>,\n",
       " <tf.Tensor: shape=(), dtype=float32, numpy=32.367043>,\n",
       " <tf.Tensor: shape=(), dtype=float32, numpy=19.44344>]"
      ]
     },
     "execution_count": 270,
     "metadata": {},
     "output_type": "execute_result"
    }
   ],
   "source": [
    "loss_history[:5]"
   ]
  },
  {
   "attachments": {},
   "cell_type": "markdown",
   "metadata": {},
   "source": [
    "### __`INTERPRET`__ / __`Error Analysis`__"
   ]
  },
  {
   "cell_type": "code",
   "execution_count": 271,
   "metadata": {},
   "outputs": [
    {
     "data": {
      "image/png": "[encoded data removed]",
      "text/plain": [
       "<Figure size 1500x500 with 2 Axes>"
      ]
     },
     "metadata": {},
     "output_type": "display_data"
    }
   ],
   "source": [
    "# Виведемо графіки залежності зміни точності та втрат від кроку\n",
    "def draw_2simple_2d(x1: np.array, y1: np.array, suptitle: str) -> None:\n",
    "    fig, axs = plt.subplots(1, 2, figsize=(15, 5))\n",
    "    axs[0].plot(x1, y1)\n",
    "    axs[0].grid()\n",
    "    # axs[1].plot(x1, y2)\n",
    "    fig.suptitle(suptitle)\n",
    "    # axs[1].grid()\n",
    "\n",
    "\n",
    "x = np.array([point * 1 for point in range(len(loss_history))])\n",
    "\n",
    "draw_2simple_2d(x, loss_history, suptitle='loss_history')"
   ]
  },
  {
   "attachments": {},
   "cell_type": "markdown",
   "metadata": {},
   "source": [
    "- https://github.com/tensorflow/docs"
   ]
  }
 ],
 "metadata": {
  "kernelspec": {
   "display_name": "datas-cYPLqW4U-py3.10",
   "language": "python",
   "name": "python3"
  },
  "language_info": {
   "codemirror_mode": {
    "name": "ipython",
    "version": 3
   },
   "file_extension": ".py",
   "mimetype": "text/x-python",
   "name": "python",
   "nbconvert_exporter": "python",
   "pygments_lexer": "ipython3",
   "version": "3.10.12"
  },
  "orig_nbformat": 4
 },
 "nbformat": 4,
 "nbformat_minor": 2
}
