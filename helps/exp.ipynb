{
 "cells": [
  {
   "attachments": {},
   "cell_type": "markdown",
   "metadata": {},
   "source": [
    "# __EXAMPLE__ (cifar_10, vgg16, ...)"
   ]
  },
  {
   "attachments": {},
   "cell_type": "markdown",
   "metadata": {},
   "source": [
    "Description & tasks"
   ]
  },
  {
   "cell_type": "code",
   "execution_count": 1,
   "metadata": {},
   "outputs": [
    {
     "name": "stderr",
     "output_type": "stream",
     "text": [
      "2023-09-11 22:32:48.619645: I tensorflow/core/util/port.cc:110] oneDNN custom operations are on. You may see slightly different numerical results due to floating-point round-off errors from different computation orders. To turn them off, set the environment variable `TF_ENABLE_ONEDNN_OPTS=0`.\n",
      "2023-09-11 22:32:48.621979: I tensorflow/tsl/cuda/cudart_stub.cc:28] Could not find cuda drivers on your machine, GPU will not be used.\n",
      "2023-09-11 22:32:48.685323: I tensorflow/tsl/cuda/cudart_stub.cc:28] Could not find cuda drivers on your machine, GPU will not be used.\n",
      "2023-09-11 22:32:48.686600: I tensorflow/core/platform/cpu_feature_guard.cc:182] This TensorFlow binary is optimized to use available CPU instructions in performance-critical operations.\n",
      "To enable the following instructions: AVX2 AVX512F AVX512_VNNI FMA, in other operations, rebuild TensorFlow with the appropriate compiler flags.\n",
      "2023-09-11 22:32:49.813854: W tensorflow/compiler/tf2tensorrt/utils/py_utils.cc:38] TF-TRT Warning: Could not find TensorRT\n"
     ]
    }
   ],
   "source": [
    "import itertools\n",
    "import math \n",
    "import os\n",
    "import random\n",
    "\n",
    "import cv2\n",
    "import matplotlib.pyplot as plt\n",
    "import numpy as np\n",
    "import pandas as pd\n",
    "import tensorflow as tf\n",
    "from tensorflow import keras\n",
    "from tensorflow.keras.activations import mish, relu, sigmoid, softmax\n",
    "from tensorflow.keras.callbacks import EarlyStopping, ModelCheckpoint\n",
    "from tensorflow.keras.datasets import fashion_mnist\n",
    "from tensorflow.keras.utils import to_categorical\n",
    "from keras.applications.vgg16 import VGG16\n",
    "from keras.datasets import imdb\n",
    "from keras.models import Sequential\n",
    "from keras.layers import Dense\n",
    "from keras.preprocessing.image import ImageDataGenerator\n",
    "from keras import layers\n",
    "from keras import losses\n",
    "from keras import metrics\n",
    "from keras import models\n",
    "from keras import optimizers\n",
    "from sklearn.model_selection import train_test_split\n"
   ]
  },
  {
   "attachments": {},
   "cell_type": "markdown",
   "metadata": {},
   "source": [
    "- https://www.w3schools.com/python/ref_random_seed.asp"
   ]
  },
  {
   "cell_type": "code",
   "execution_count": 2,
   "metadata": {},
   "outputs": [],
   "source": [
    "def set_seed(seed_value: int) -> None:\n",
    "    \"\"\"Set a random state for repeatability of results.\"\"\"\n",
    "    random.seed(seed_value)\n",
    "    np.random.seed(seed_value)\n",
    "    tf.random.set_seed(seed_value)\n",
    "    os.environ['PYTHONHASHSEED'] = str(seed_value)\n",
    "    os.environ['TF_DETERMINISTIC_OPS'] = 'true'\n",
    "    \n",
    "\n",
    "set_seed(1)  # 42 from The Hitchhiker's Guide to the Galaxy ^_^"
   ]
  },
  {
   "attachments": {},
   "cell_type": "markdown",
   "metadata": {},
   "source": [
    "### __`OBTAIN` & `SCRUB`__ + __`EXPLORE`__ (DATASET)"
   ]
  },
  {
   "attachments": {},
   "cell_type": "markdown",
   "metadata": {},
   "source": [
    "- https://www.tensorflow.org/datasets/catalog/cifar10\n",
    "- https://www.cs.toronto.edu/~kriz/cifar.html\n",
    "- https://github.com/YoongiKim/CIFAR-10-images"
   ]
  },
  {
   "cell_type": "code",
   "execution_count": 73,
   "metadata": {},
   "outputs": [],
   "source": [
    "PATH_IMGS = os.path.join(os.getcwd(), 'CIFAR-10-images-master', 'train')\n",
    "PATH_TEST_IMGS = os.path.join(os.getcwd(), 'CIFAR-10-images-master', 'test')\n",
    "\n",
    "cfg = {\n",
    "       'train_limit': 500,  # limit 500 for each - for example\n",
    "       'image_size': 32,\n",
    "       'batch_size': 256,\n",
    "       }"
   ]
  },
  {
   "cell_type": "code",
   "execution_count": 74,
   "metadata": {},
   "outputs": [
    {
     "data": {
      "text/plain": [
       "10"
      ]
     },
     "execution_count": 74,
     "metadata": {},
     "output_type": "execute_result"
    }
   ],
   "source": [
    "ids, ids_test = [], []  # full image paths\n",
    "labels, labels_test = [], []  # true mark 'images name-description' by label2index:\n",
    "label2index = {}\n",
    "\n",
    "for num, folder in enumerate(os.listdir(PATH_IMGS)):\n",
    "    label2index[folder] = num\n",
    "    train_heap = os.listdir(os.path.join(PATH_IMGS, folder)) if cfg.get('train_limit') == 0 else os.listdir(os.path.join(PATH_IMGS, folder))[:cfg.get('train_limit')]\n",
    "    for image_name in train_heap:  \n",
    "        ids.append(os.path.join(PATH_IMGS, folder, image_name))\n",
    "        labels.append(label2index[folder])\n",
    "\n",
    "cfg['num_classes'] = num + 1\n",
    "cfg.get('num_classes')"
   ]
  },
  {
   "cell_type": "code",
   "execution_count": 75,
   "metadata": {},
   "outputs": [
    {
     "data": {
      "text/plain": [
       "(5000, 5000)"
      ]
     },
     "execution_count": 75,
     "metadata": {},
     "output_type": "execute_result"
    }
   ],
   "source": [
    "len(ids), len(labels)"
   ]
  },
  {
   "cell_type": "code",
   "execution_count": 76,
   "metadata": {},
   "outputs": [],
   "source": [
    "for num, folder in enumerate(os.listdir(PATH_TEST_IMGS)):\n",
    "    test_heap = os.listdir(os.path.join(PATH_TEST_IMGS, folder)) if cfg.get('test_limit') == 0 else os.listdir(os.path.join(PATH_TEST_IMGS, folder))[:cfg.get('test_limit')]\n",
    "    for image_name in test_heap:  \n",
    "        ids_test.append(os.path.join(PATH_TEST_IMGS, folder, image_name))\n",
    "        labels_test.append(label2index[folder])  # .get?"
   ]
  },
  {
   "cell_type": "code",
   "execution_count": 77,
   "metadata": {},
   "outputs": [
    {
     "data": {
      "text/plain": [
       "(10000, 10000)"
      ]
     },
     "execution_count": 77,
     "metadata": {},
     "output_type": "execute_result"
    }
   ],
   "source": [
    "len(ids_test), len(labels_test)"
   ]
  },
  {
   "cell_type": "code",
   "execution_count": 78,
   "metadata": {},
   "outputs": [
    {
     "data": {
      "text/plain": [
       "{'dog': 0,\n",
       " 'ship': 1,\n",
       " 'frog': 2,\n",
       " 'automobile': 3,\n",
       " 'bird': 4,\n",
       " 'deer': 5,\n",
       " 'truck': 6,\n",
       " 'cat': 7,\n",
       " 'airplane': 8,\n",
       " 'horse': 9}"
      ]
     },
     "execution_count": 78,
     "metadata": {},
     "output_type": "execute_result"
    }
   ],
   "source": [
    "label2index"
   ]
  },
  {
   "cell_type": "code",
   "execution_count": 79,
   "metadata": {},
   "outputs": [
    {
     "data": {
      "text/plain": [
       "{0: 'dog',\n",
       " 1: 'ship',\n",
       " 2: 'frog',\n",
       " 3: 'automobile',\n",
       " 4: 'bird',\n",
       " 5: 'deer',\n",
       " 6: 'truck',\n",
       " 7: 'cat',\n",
       " 8: 'airplane',\n",
       " 9: 'horse'}"
      ]
     },
     "execution_count": 79,
     "metadata": {},
     "output_type": "execute_result"
    }
   ],
   "source": [
    "index2label = {y: x for x, y in label2index.items()}\n",
    "index2label"
   ]
  },
  {
   "cell_type": "code",
   "execution_count": 80,
   "metadata": {},
   "outputs": [
    {
     "data": {
      "text/plain": [
       "(4000, 1000, 4000, 1000)"
      ]
     },
     "execution_count": 80,
     "metadata": {},
     "output_type": "execute_result"
    }
   ],
   "source": [
    "ids_train, ids_valid, y_train, y_valid = train_test_split(ids, labels, test_size=0.2, shuffle=True)\n",
    "len(ids_train), len(ids_valid), len(y_train), len(y_valid)"
   ]
  },
  {
   "attachments": {},
   "cell_type": "markdown",
   "metadata": {},
   "source": [
    "- https://www.tensorflow.org/api_docs/python/tf/keras/utils/Sequence\n",
    "- https://numpy.org/doc/stable/reference/random/generated/numpy.random.shuffle.html\n",
    "- https://www.tensorflow.org/api_docs/python/tf/keras/utils/to_categorical\n",
    "\n",
    "- https://docs.opencv.org/3.4/d4/da8/group__imgcodecs.html\n",
    "- https://www.geeksforgeeks.org/python-opencv-cv2-imread-method/"
   ]
  },
  {
   "cell_type": "code",
   "execution_count": 11,
   "metadata": {},
   "outputs": [],
   "source": [
    "class Dataset(tf.keras.utils.Sequence):\n",
    "    def __init__(self, ids: list, y: list, num_classes: int, to_size: int, shuffle: bool=True, batch_size: int=256) -> None:\n",
    "        self.ids = ids  # list of imgs path\n",
    "        self.y = y  # list of labels ids (List[int])\n",
    "        self.num_classes = num_classes\n",
    "        self.to_size = to_size\n",
    "        self.shuffle = shuffle\n",
    "        self.indexes = np.arange(len(self.ids))\n",
    "        self.batch_size = batch_size\n",
    "        self.num_features = self.num_features if self.__getitem__(0) else 0\n",
    "        \n",
    "        if shuffle:\n",
    "            self.on_epoch_end()\n",
    "    \n",
    "    def __len__(self) -> int:\n",
    "        return len(self.ids) // self.batch_size\n",
    "    \n",
    "    def __getitem__(self, idx: int) -> tuple:  # get one batch\n",
    "        indexes = self.indexes[idx * self.batch_size : (idx + 1) * self.batch_size]\n",
    "        batch_ids = [self.ids[i] for i in indexes]\n",
    "        batch_y = [tf.keras.utils.to_categorical(self.y[i], self.num_classes) for i in indexes]\n",
    "        \n",
    "        batch_X = []\n",
    "        for i in range(self.batch_size):\n",
    "            img = cv2.imread(batch_ids[i])  # i/o disk operation! but low RAM uses\n",
    "            # img = np.mean(img, axis=-1)  # RGB to grayscale\n",
    "            # img = np.mean(img, cv2.COLOR_BGR2RGB, axis=-1)  # RGB to grayscale\n",
    "            img = cv2.cvtColor(img, cv2.COLOR_BGR2RGB)\n",
    "            batch_X.append(cv2.resize(img, (self.to_size, self.to_size), interpolation=cv2.INTER_NEAREST))\n",
    "            # batch_X.append(cv2.cvtColor(cv2.resize(img, (self.to_size, self.to_size), interpolation=cv2.INTER_NEAREST), cv2.COLOR_GRAY2RGB))\n",
    "        \n",
    "        self.num_features = len(img[0]) * len(img) # !!\n",
    "        \n",
    "        return np.array(batch_X), np.array(batch_y)\n",
    "        \n",
    "    def on_epoch_end(self) -> None:\n",
    "        if self.shuffle:\n",
    "            np.random.shuffle(self.indexes)"
   ]
  },
  {
   "cell_type": "code",
   "execution_count": 92,
   "metadata": {},
   "outputs": [
    {
     "data": {
      "text/plain": [
       "((256, 32, 32, 3), (256, 10))"
      ]
     },
     "execution_count": 92,
     "metadata": {},
     "output_type": "execute_result"
    }
   ],
   "source": [
    "train_dataset = Dataset(ids_train, y_train, num_classes=cfg.get('num_classes'), to_size=cfg.get('image_size'), shuffle=True, batch_size=cfg.get('batch_size'))\n",
    "X, y = train_dataset[0]\n",
    "X.shape, y.shape"
   ]
  },
  {
   "cell_type": "code",
   "execution_count": 93,
   "metadata": {},
   "outputs": [
    {
     "data": {
      "text/plain": [
       "((256, 32, 32, 3), (256, 10))"
      ]
     },
     "execution_count": 93,
     "metadata": {},
     "output_type": "execute_result"
    }
   ],
   "source": [
    "test_dataset = Dataset(ids_test, labels_test, num_classes=cfg.get('num_classes'), to_size=cfg.get('image_size'), shuffle=True, batch_size=cfg.get('batch_size'))\n",
    "X_test, y_test = test_dataset[0]\n",
    "X_test.shape, y_test.shape"
   ]
  },
  {
   "cell_type": "code",
   "execution_count": 95,
   "metadata": {},
   "outputs": [
    {
     "data": {
      "image/png": "[encoded data removed]",
      "text/plain": [
       "<Figure size 200x200 with 1 Axes>"
      ]
     },
     "metadata": {},
     "output_type": "display_data"
    },
    {
     "data": {
      "image/png": "[encoded data removed]",
      "text/plain": [
       "<Figure size 200x200 with 1 Axes>"
      ]
     },
     "metadata": {},
     "output_type": "display_data"
    },
    {
     "data": {
      "image/png": "[encoded data removed]",
      "text/plain": [
       "<Figure size 200x200 with 1 Axes>"
      ]
     },
     "metadata": {},
     "output_type": "display_data"
    },
    {
     "data": {
      "image/png": "[encoded data removed]",
      "text/plain": [
       "<Figure size 200x200 with 1 Axes>"
      ]
     },
     "metadata": {},
     "output_type": "display_data"
    }
   ],
   "source": [
    "for i in range(4):\n",
    "    plt.figure(figsize=(2, 2))\n",
    "    plt.title(index2label[np.where(y[i] == 1)[0][0]])\n",
    "    # plt.imshow(X[i].reshape(32, 32))\n",
    "    plt.imshow(X[i])\n",
    "    plt.show()"
   ]
  },
  {
   "cell_type": "code",
   "execution_count": 96,
   "metadata": {},
   "outputs": [
    {
     "data": {
      "text/plain": [
       "1024"
      ]
     },
     "execution_count": 96,
     "metadata": {},
     "output_type": "execute_result"
    }
   ],
   "source": [
    "# train_dataset = Dataset(ids_train, y_train, shuffle=True, batch_size=cfg.get('batch_size'))\n",
    "# train_dataset[0]\n",
    "cfg['num_features'] = train_dataset.num_features\n",
    "cfg.get('num_features')"
   ]
  },
  {
   "cell_type": "code",
   "execution_count": 97,
   "metadata": {},
   "outputs": [],
   "source": [
    "valid_dataset = Dataset(ids_valid, y_valid, num_classes=cfg.get('num_classes'), to_size=cfg.get('image_size'), shuffle=False, batch_size=cfg.get('batch_size'))"
   ]
  },
  {
   "cell_type": "code",
   "execution_count": 98,
   "metadata": {},
   "outputs": [
    {
     "data": {
      "text/plain": [
       "(256, 32, 32, 3)"
      ]
     },
     "execution_count": 98,
     "metadata": {},
     "output_type": "execute_result"
    }
   ],
   "source": [
    "valid_dataset[0][0].shape  # (batch_size, num_features)"
   ]
  },
  {
   "attachments": {},
   "cell_type": "markdown",
   "metadata": {},
   "source": [
    "#### fix Pre-preparation"
   ]
  },
  {
   "cell_type": "code",
   "execution_count": 3,
   "metadata": {},
   "outputs": [],
   "source": [
    "PATH_IMGS = os.path.join(os.getcwd(), 'CIFAR-10-images-master', 'train')\n",
    "PATH_TEST_IMGS = os.path.join(os.getcwd(), 'CIFAR-10-images-master', 'test')\n",
    "\n",
    "cfg = {\n",
    "       'train_limit': 500,  # limit 500 for each - for example\n",
    "       'image_size': 32,\n",
    "       'batch_size': 256,\n",
    "       }\n",
    "\n",
    "label2index = {}"
   ]
  },
  {
   "cell_type": "code",
   "execution_count": 4,
   "metadata": {},
   "outputs": [
    {
     "data": {
      "text/plain": [
       "10"
      ]
     },
     "execution_count": 4,
     "metadata": {},
     "output_type": "execute_result"
    }
   ],
   "source": [
    "ids, ids_test = [], []  # full image paths\n",
    "labels, labels_test = [], []  # true mark 'images name-description' by label2index:\n",
    "\n",
    "\n",
    "for num, folder in enumerate(os.listdir(PATH_IMGS)):\n",
    "    label2index[folder] = num\n",
    "    train_heap = os.listdir(os.path.join(PATH_IMGS, folder)) if cfg.get('train_limit') == 0 else os.listdir(os.path.join(PATH_IMGS, folder))[:cfg.get('train_limit')]\n",
    "    for image_name in train_heap:  \n",
    "        ids.append(os.path.join(PATH_IMGS, folder, image_name))\n",
    "        labels.append(label2index[folder])\n",
    "\n",
    "cfg['num_classes'] = num + 1\n",
    "cfg.get('num_classes')"
   ]
  },
  {
   "cell_type": "code",
   "execution_count": 35,
   "metadata": {},
   "outputs": [],
   "source": [
    "def pre_preparation_data(path_imgs: str, path_test_imgs: str) -> tuple:\n",
    "    train_limit = cfg.get('train_limit')\n",
    "    test_size = cfg.get('test_limit')\n",
    "    ids, ids_test = [], []  # full image paths\n",
    "    labels, labels_test = [], []  # true mark 'images name-description' by label2index:\n",
    "    for num, folder in enumerate(os.listdir(path_imgs)):\n",
    "        label2index[folder] = num\n",
    "        train_heap = os.listdir(os.path.join(path_imgs, folder)) if train_limit == 0 else os.listdir(os.path.join(path_imgs, folder))[:train_limit]\n",
    "        for image_name in train_heap:  \n",
    "            ids.append(os.path.join(path_imgs, folder, image_name))\n",
    "            labels.append(label2index[folder])\n",
    "    \n",
    "    cfg['num_classes'] = num + 1\n",
    "\n",
    "    for num, folder in enumerate(os.listdir(path_test_imgs)):\n",
    "        test_heap = os.listdir(os.path.join(path_test_imgs, folder)) if test_size == 0 else os.listdir(os.path.join(path_test_imgs, folder))[:test_size]\n",
    "        for image_name in test_heap:  \n",
    "            ids_test.append(os.path.join(path_test_imgs, folder, image_name))\n",
    "            labels_test.append(label2index[folder])  # .get?         \n",
    "\n",
    "    ids_train, _, y_train, __ = train_test_split(ids, labels, test_size=0.0001, shuffle=True)\n",
    "    ids_valid, ids_test, y_valid, y_test = train_test_split(ids_test, labels_test, test_size=0.5, shuffle=True)   \n",
    "\n",
    "    return ids_train, y_train, ids_valid, y_valid, ids_test, y_test"
   ]
  },
  {
   "cell_type": "code",
   "execution_count": 36,
   "metadata": {},
   "outputs": [
    {
     "data": {
      "text/plain": [
       "(4999, 4999, 5000, 5000, 5000, 5000)"
      ]
     },
     "execution_count": 36,
     "metadata": {},
     "output_type": "execute_result"
    }
   ],
   "source": [
    "ids_train, labels_train, ids_valid, labels_valid, ids_test, labels_test = pre_preparation_data(PATH_IMGS, PATH_TEST_IMGS)\n",
    "len(ids_train), len(labels_train), len(ids_valid), len(labels_valid), len(ids_test), len(labels_test)"
   ]
  },
  {
   "attachments": {},
   "cell_type": "markdown",
   "metadata": {},
   "source": [
    "train_limit(500) * num_classes(10) = size(5000)"
   ]
  },
  {
   "cell_type": "code",
   "execution_count": 37,
   "metadata": {},
   "outputs": [
    {
     "data": {
      "text/plain": [
       "10"
      ]
     },
     "execution_count": 37,
     "metadata": {},
     "output_type": "execute_result"
    }
   ],
   "source": [
    "cfg.get('num_classes')"
   ]
  },
  {
   "cell_type": "code",
   "execution_count": 38,
   "metadata": {},
   "outputs": [
    {
     "data": {
      "text/plain": [
       "{'dog': 0,\n",
       " 'ship': 1,\n",
       " 'frog': 2,\n",
       " 'automobile': 3,\n",
       " 'bird': 4,\n",
       " 'deer': 5,\n",
       " 'truck': 6,\n",
       " 'cat': 7,\n",
       " 'airplane': 8,\n",
       " 'horse': 9}"
      ]
     },
     "execution_count": 38,
     "metadata": {},
     "output_type": "execute_result"
    }
   ],
   "source": [
    "label2index"
   ]
  },
  {
   "cell_type": "code",
   "execution_count": 39,
   "metadata": {},
   "outputs": [
    {
     "data": {
      "text/plain": [
       "{0: 'dog',\n",
       " 1: 'ship',\n",
       " 2: 'frog',\n",
       " 3: 'automobile',\n",
       " 4: 'bird',\n",
       " 5: 'deer',\n",
       " 6: 'truck',\n",
       " 7: 'cat',\n",
       " 8: 'airplane',\n",
       " 9: 'horse'}"
      ]
     },
     "execution_count": 39,
     "metadata": {},
     "output_type": "execute_result"
    }
   ],
   "source": [
    "index2label = {y: x for x, y in label2index.items()}\n",
    "index2label"
   ]
  },
  {
   "cell_type": "code",
   "execution_count": 40,
   "metadata": {},
   "outputs": [],
   "source": [
    "class Dataset(tf.keras.utils.Sequence):\n",
    "    def __init__(self, ids: list, y: list, num_classes: int, to_size: int, shuffle: bool=True, batch_size: int=256) -> None:\n",
    "        self.ids = ids  # list of imgs path\n",
    "        self.y = y  # list of labels ids (List[int])\n",
    "        self.num_classes = num_classes\n",
    "        self.to_size = to_size\n",
    "        self.shuffle = shuffle\n",
    "        self.indexes = np.arange(len(self.ids))\n",
    "        self.batch_size = batch_size\n",
    "        self.num_features = self.num_features if self.__getitem__(0) else 0\n",
    "        \n",
    "        if shuffle:\n",
    "            self.on_epoch_end()\n",
    "    \n",
    "    def __len__(self) -> int:\n",
    "        return len(self.ids) // self.batch_size\n",
    "    \n",
    "    def __getitem__(self, idx: int) -> tuple:  # get one batch\n",
    "        indexes = self.indexes[idx * self.batch_size : (idx + 1) * self.batch_size]\n",
    "        batch_ids = [self.ids[i] for i in indexes]\n",
    "        batch_y = [tf.keras.utils.to_categorical(self.y[i], self.num_classes) for i in indexes]\n",
    "        \n",
    "        batch_X = []\n",
    "        for i in range(self.batch_size):\n",
    "            img = cv2.imread(batch_ids[i])  # i/o disk operation! but low RAM uses\n",
    "            # img = np.mean(img, axis=-1)  # RGB to grayscale\n",
    "            # img = np.mean(img, cv2.COLOR_BGR2RGB, axis=-1)  # RGB to grayscale\n",
    "            img = cv2.cvtColor(img, cv2.COLOR_BGR2RGB)\n",
    "            batch_X.append(cv2.resize(img, (self.to_size, self.to_size), interpolation=cv2.INTER_NEAREST))\n",
    "            # batch_X.append(cv2.cvtColor(cv2.resize(img, (self.to_size, self.to_size), interpolation=cv2.INTER_NEAREST), cv2.COLOR_GRAY2RGB))\n",
    "        \n",
    "        self.num_features = len(img[0]) * len(img) # !!\n",
    "        \n",
    "        return np.array(batch_X), np.array(batch_y)\n",
    "        \n",
    "    def on_epoch_end(self) -> None:\n",
    "        if self.shuffle:\n",
    "            np.random.shuffle(self.indexes)"
   ]
  },
  {
   "cell_type": "code",
   "execution_count": 41,
   "metadata": {},
   "outputs": [
    {
     "data": {
      "text/plain": [
       "((256, 32, 32, 3),\n",
       " (256, 10),\n",
       " (256, 32, 32, 3),\n",
       " (256, 10),\n",
       " (256, 32, 32, 3),\n",
       " (256, 10))"
      ]
     },
     "execution_count": 41,
     "metadata": {},
     "output_type": "execute_result"
    }
   ],
   "source": [
    "train_dataset = Dataset(ids_train, labels_train, num_classes=cfg.get('num_classes'), to_size=cfg.get('image_size'), shuffle=True, batch_size=cfg.get('batch_size'))\n",
    "valid_dataset = Dataset(ids_valid, labels_valid, num_classes=cfg.get('num_classes'), to_size=cfg.get('image_size'), shuffle=False, batch_size=cfg.get('batch_size'))\n",
    "test_dataset = Dataset(ids_test, labels_test, num_classes=cfg.get('num_classes'), to_size=cfg.get('image_size'), shuffle=True, batch_size=cfg.get('batch_size'))\n",
    "X_test, y_test = test_dataset[0]\n",
    "X_test.shape, y_test.shape, valid_dataset[0][0].shape, valid_dataset[0][1].shape, test_dataset[0][0].shape, test_dataset[0][1].shape"
   ]
  },
  {
   "cell_type": "code",
   "execution_count": 42,
   "metadata": {},
   "outputs": [
    {
     "data": {
      "text/plain": [
       "1024"
      ]
     },
     "execution_count": 42,
     "metadata": {},
     "output_type": "execute_result"
    }
   ],
   "source": [
    "cfg['num_features'] = train_dataset.num_features\n",
    "cfg.get('num_features')"
   ]
  },
  {
   "cell_type": "code",
   "execution_count": 45,
   "metadata": {},
   "outputs": [
    {
     "data": {
      "image/png": "[encoded data removed]",
      "text/plain": [
       "<Figure size 200x200 with 1 Axes>"
      ]
     },
     "metadata": {},
     "output_type": "display_data"
    },
    {
     "data": {
      "image/png": "[encoded data removed]",
      "text/plain": [
       "<Figure size 200x200 with 1 Axes>"
      ]
     },
     "metadata": {},
     "output_type": "display_data"
    },
    {
     "data": {
      "image/png": "[encoded data removed]",
      "text/plain": [
       "<Figure size 200x200 with 1 Axes>"
      ]
     },
     "metadata": {},
     "output_type": "display_data"
    },
    {
     "data": {
      "image/png": "[encoded data removed]",
      "text/plain": [
       "<Figure size 200x200 with 1 Axes>"
      ]
     },
     "metadata": {},
     "output_type": "display_data"
    }
   ],
   "source": [
    "for i in range(4):\n",
    "    plt.figure(figsize=(2, 2))\n",
    "    plt.title(index2label[np.where(y_test[i] == 1)[0][0]])\n",
    "    # plt.imshow(X[i].reshape(32, 32))\n",
    "    plt.imshow(X_test[i])\n",
    "    plt.show()"
   ]
  },
  {
   "cell_type": "code",
   "execution_count": null,
   "metadata": {},
   "outputs": [],
   "source": [
    "# train_dataset, valid_dataset, test_dataset"
   ]
  },
  {
   "attachments": {},
   "cell_type": "markdown",
   "metadata": {},
   "source": [
    "### __`MODEL`__"
   ]
  },
  {
   "attachments": {},
   "cell_type": "markdown",
   "metadata": {},
   "source": [
    "- https://www.tensorflow.org/api_docs/python/tf/keras/optimizers\n",
    "- https://www.tensorflow.org/api_docs/python/tf/keras/losses/CategoricalCrossentropy\n",
    "- https://keras.io/api/layers/regularization_layers/dropout/"
   ]
  },
  {
   "cell_type": "code",
   "execution_count": null,
   "metadata": {},
   "outputs": [],
   "source": []
  },
  {
   "cell_type": "code",
   "execution_count": 26,
   "metadata": {},
   "outputs": [],
   "source": [
    "def create_NN(n_hidden_: list, activation: list, optimizer=optimizers.SGD, learning_rate=0.1) -> Sequential:\n",
    "    model = Sequential(name=f'''m-{''.join(map(str, [f'{i}-' for i in n_hidden_[1:-1]]))}{''.join(map(str, [f'{a}-' for a in activation[:-1]]))}{optimizer.__name__}-{learning_rate}''')\n",
    "    n_layers = len(n_hidden_)\n",
    "    for layer in range(1, n_layers):\n",
    "        model.add(Dense(n_hidden_[layer], activation=activation[layer-1], input_shape=(n_hidden_[layer-1],)))\n",
    "        # model.add(Dropout(.5)) if layer + 1 != n_layers else None # 0.5 Fraction of the input units to drop.\n",
    "\n",
    "    model.compile(\n",
    "                  optimizer=optimizer(learning_rate=learning_rate), # legacy\n",
    "                  loss=losses.CategoricalCrossentropy(),  # 'categorical_crossentropy' losses.binary_crossentropy,\n",
    "                  metrics=['accuracy', metrics.CategoricalAccuracy()]  # metrics.BinaryAccuracy()  metrics.CategoricalAccuracy()  or metrics.Accuracy()?\n",
    "                  )\n",
    "\n",
    "    return model"
   ]
  },
  {
   "cell_type": "code",
   "execution_count": null,
   "metadata": {},
   "outputs": [],
   "source": []
  },
  {
   "attachments": {},
   "cell_type": "markdown",
   "metadata": {},
   "source": [
    "#### __`Training`__"
   ]
  },
  {
   "cell_type": "code",
   "execution_count": 27,
   "metadata": {},
   "outputs": [],
   "source": [
    "def draw_2twin_2d(y00: np.array, y01: np.array, y10: np.array, y11: np.array, suptitle: str) -> None:\n",
    "    x = range(1, len(y00) + 1)\n",
    "    \n",
    "    fig, axs = plt.subplots(1, 2, figsize=(10, 8))\n",
    "\n",
    "    axs[0].plot(x, y00, 'bo', label='Training loss')\n",
    "    axs[0].plot(x, y01, 'g', label='Validation loss')\n",
    "    axs[0].title.set_text('Training and validation loss')\n",
    "    axs[0].set_xlabel('Epochs')\n",
    "    axs[0].set_ylabel('Loss')\n",
    "    axs[0].legend()\n",
    "    axs[0].grid()\n",
    "\n",
    "    axs[1].plot(x, y10, 'bo', label='Training acc')\n",
    "    axs[1].plot(x, y11, 'g', label='Validation acc')\n",
    "    axs[1].title.set_text('Training and validation acc')\n",
    "    axs[1].set_xlabel('Epochs')\n",
    "    axs[1].set_ylabel('Acc')\n",
    "    axs[1].legend()\n",
    "    axs[1].grid()\n",
    "    \n",
    "    fig.suptitle(suptitle)\n",
    "    # plt.legend()\n",
    "    # plt.grid()\n",
    "    plt.show()"
   ]
  },
  {
   "cell_type": "code",
   "execution_count": null,
   "metadata": {},
   "outputs": [],
   "source": [
    "# print(history[0].history.keys())\n",
    "\"\"\" \n",
    "loss - список, в якому зберігається історія змін помилки на навчальних даних залежно від епохи\n",
    "val_loss - список, де зберігається історія змін помилки на тестових даних залежно від епохи\n",
    "accuracy - список, в якому зберігається історія змін точності на навчальних даних залежно від епохи\n",
    "val_accuracy - список, де зберігається історія змін точності на тестових даних залежно від епохи\n",
    "\"\"\""
   ]
  },
  {
   "attachments": {},
   "cell_type": "markdown",
   "metadata": {},
   "source": [
    "- https://www.tensorflow.org/api_docs/python/tf/keras/callbacks/EarlyStopping\n",
    "- https://www.tensorflow.org/api_docs/python/tf/keras/callbacks/ModelCheckpoint"
   ]
  },
  {
   "cell_type": "code",
   "execution_count": 28,
   "metadata": {},
   "outputs": [],
   "source": [
    "callback_early_stopping = EarlyStopping(\n",
    "                                        monitor='val_categorical_accuracy',  # val_loss\n",
    "                                        patience=4,\n",
    "                                        )\n",
    "\n",
    "callback_save = ModelCheckpoint(\n",
    "                                'best.hdf5',  # name to save the resulting model\n",
    "                                monitor='val_loss',\n",
    "                                save_best_only=True,\n",
    "                                )"
   ]
  },
  {
   "cell_type": "code",
   "execution_count": 29,
   "metadata": {},
   "outputs": [],
   "source": [
    "def test_NN(\n",
    "            train_dataset: Dataset, \n",
    "            valid_dataset: Dataset, \n",
    "            set_layers: list, \n",
    "            act: list, \n",
    "            opt: optimizers, \n",
    "            lr: float,  \n",
    "            epochs: int=100\n",
    "            ) -> None:\n",
    "    \"\"\"For test one model.\"\"\"\n",
    "    model = create_NN(\n",
    "                      n_hidden_=set_layers, \n",
    "                      activation=act, \n",
    "                      optimizer=opt, \n",
    "                      learning_rate=lr\n",
    "                      )\n",
    "\n",
    "    history = model.fit(\n",
    "                        train_dataset,\n",
    "                        validation_data=valid_dataset,\n",
    "                        epochs=epochs,\n",
    "                        verbose=1, # print logs\n",
    "                        callbacks=[callback_early_stopping]  # callback_save\n",
    "                        )\n",
    "\n",
    "    loss_values = history.history['loss']\n",
    "    val_loss_values = history.history['val_loss']\n",
    "    acc_values = history.history['categorical_accuracy']\n",
    "    val_acc_values = history.history['val_categorical_accuracy']   \n",
    "\n",
    "    draw_2twin_2d(loss_values, val_loss_values, acc_values, val_acc_values, suptitle=f'{model.name}({train_dataset.batch_size})')"
   ]
  },
  {
   "cell_type": "code",
   "execution_count": 30,
   "metadata": {},
   "outputs": [
    {
     "data": {
      "text/plain": [
       "256"
      ]
     },
     "execution_count": 30,
     "metadata": {},
     "output_type": "execute_result"
    }
   ],
   "source": [
    "train_dataset.batch_size"
   ]
  },
  {
   "cell_type": "code",
   "execution_count": 31,
   "metadata": {},
   "outputs": [
    {
     "name": "stdout",
     "output_type": "stream",
     "text": [
      "Epoch 1/100\n",
      "15/15 [==============================] - 2s 94ms/step - loss: 222.3452 - accuracy: 0.1133 - categorical_accuracy: 0.1133 - val_loss: 48.8268 - val_accuracy: 0.1328 - val_categorical_accuracy: 0.1328\n",
      "Epoch 2/100\n",
      "15/15 [==============================] - 1s 37ms/step - loss: 30.4226 - accuracy: 0.1344 - categorical_accuracy: 0.1344 - val_loss: 18.6894 - val_accuracy: 0.1771 - val_categorical_accuracy: 0.1771\n",
      "Epoch 3/100\n",
      "15/15 [==============================] - 1s 35ms/step - loss: 13.7550 - accuracy: 0.1706 - categorical_accuracy: 0.1706 - val_loss: 12.5812 - val_accuracy: 0.1562 - val_categorical_accuracy: 0.1562\n",
      "Epoch 4/100\n",
      "15/15 [==============================] - 1s 36ms/step - loss: 10.4520 - accuracy: 0.1602 - categorical_accuracy: 0.1602 - val_loss: 9.2630 - val_accuracy: 0.1810 - val_categorical_accuracy: 0.1810\n",
      "Epoch 5/100\n",
      "15/15 [==============================] - 1s 35ms/step - loss: 8.8113 - accuracy: 0.1698 - categorical_accuracy: 0.1698 - val_loss: 8.8033 - val_accuracy: 0.1771 - val_categorical_accuracy: 0.1771\n",
      "Epoch 6/100\n",
      "15/15 [==============================] - 1s 34ms/step - loss: 7.7984 - accuracy: 0.1799 - categorical_accuracy: 0.1799 - val_loss: 9.0903 - val_accuracy: 0.1641 - val_categorical_accuracy: 0.1641\n",
      "Epoch 7/100\n",
      "15/15 [==============================] - 1s 36ms/step - loss: 7.9713 - accuracy: 0.1893 - categorical_accuracy: 0.1893 - val_loss: 7.5862 - val_accuracy: 0.1784 - val_categorical_accuracy: 0.1784\n",
      "Epoch 8/100\n",
      "15/15 [==============================] - 1s 38ms/step - loss: 8.0538 - accuracy: 0.1865 - categorical_accuracy: 0.1865 - val_loss: 8.6352 - val_accuracy: 0.1693 - val_categorical_accuracy: 0.1693\n"
     ]
    },
    {
     "data": {
      "image/png": "[encoded data removed]",
      "text/plain": [
       "<Figure size 1000x800 with 2 Axes>"
      ]
     },
     "metadata": {},
     "output_type": "display_data"
    }
   ],
   "source": [
    "test_NN(\n",
    "        train_dataset=train_dataset,\n",
    "        valid_dataset=valid_dataset,\n",
    "        set_layers=[NUM_FEATURES, 512, 256, NUM_CLASSES], \n",
    "        act=['relu', 'relu', 'softmax'], \n",
    "        opt=optimizers.legacy.Adam, \n",
    "        lr=0.001,\n",
    "        epochs=100\n",
    "        )"
   ]
  },
  {
   "attachments": {},
   "cell_type": "markdown",
   "metadata": {},
   "source": [
    "### __`INTERPRET`__ / __`Error Analysis`__"
   ]
  },
  {
   "cell_type": "code",
   "execution_count": null,
   "metadata": {},
   "outputs": [],
   "source": [
    "# draw"
   ]
  },
  {
   "attachments": {},
   "cell_type": "markdown",
   "metadata": {},
   "source": [
    "### __`RE-TEST`__"
   ]
  },
  {
   "cell_type": "code",
   "execution_count": null,
   "metadata": {},
   "outputs": [],
   "source": [
    "# deploy..."
   ]
  },
  {
   "attachments": {},
   "cell_type": "markdown",
   "metadata": {},
   "source": [
    "### __`RESULTS` & `CONCLUSIONS`__"
   ]
  },
  {
   "attachments": {},
   "cell_type": "markdown",
   "metadata": {},
   "source": []
  }
 ],
 "metadata": {
  "kernelspec": {
   "display_name": "datas-cYPLqW4U-py3.10",
   "language": "python",
   "name": "python3"
  },
  "language_info": {
   "codemirror_mode": {
    "name": "ipython",
    "version": 3
   },
   "file_extension": ".py",
   "mimetype": "text/x-python",
   "name": "python",
   "nbconvert_exporter": "python",
   "pygments_lexer": "ipython3",
   "version": "3.10.12"
  },
  "orig_nbformat": 4
 },
 "nbformat": 4,
 "nbformat_minor": 2
}
