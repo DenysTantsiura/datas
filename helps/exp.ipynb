{
 "cells": [
  {
   "attachments": {},
   "cell_type": "markdown",
   "metadata": {},
   "source": [
    "# __EXAMPLE__ (cifar_10, vgg16, ...)"
   ]
  },
  {
   "attachments": {},
   "cell_type": "markdown",
   "metadata": {},
   "source": [
    "Description & tasks"
   ]
  },
  {
   "cell_type": "code",
   "execution_count": 81,
   "metadata": {},
   "outputs": [],
   "source": [
    "import itertools\n",
    "import math \n",
    "import os\n",
    "import random\n",
    "import shutil\n",
    "\n",
    "import cv2\n",
    "import matplotlib.pyplot as plt\n",
    "import numpy as np\n",
    "import pandas as pd\n",
    "import tensorflow as tf\n",
    "from tensorflow import keras\n",
    "from tensorflow.keras.activations import mish, relu, sigmoid, softmax\n",
    "from tensorflow.keras.callbacks import EarlyStopping, ModelCheckpoint\n",
    "from tensorflow.keras.datasets import fashion_mnist\n",
    "from tensorflow.keras.utils import to_categorical\n",
    "from keras.applications.vgg16 import VGG16\n",
    "from keras.datasets import imdb\n",
    "from keras.models import Sequential\n",
    "from keras.layers import Dense\n",
    "from keras.preprocessing.image import ImageDataGenerator\n",
    "from keras import layers\n",
    "from keras import losses\n",
    "from keras import metrics\n",
    "from keras import models\n",
    "from keras import optimizers\n",
    "from sklearn.model_selection import train_test_split\n"
   ]
  },
  {
   "attachments": {},
   "cell_type": "markdown",
   "metadata": {},
   "source": [
    "- https://www.w3schools.com/python/ref_random_seed.asp"
   ]
  },
  {
   "cell_type": "code",
   "execution_count": 82,
   "metadata": {},
   "outputs": [],
   "source": [
    "def set_seed(seed_value: int) -> None:\n",
    "    \"\"\"Set a random state for repeatability of results.\"\"\"\n",
    "    random.seed(seed_value)\n",
    "    np.random.seed(seed_value)\n",
    "    tf.random.set_seed(seed_value)\n",
    "    os.environ['PYTHONHASHSEED'] = str(seed_value)\n",
    "    os.environ['TF_DETERMINISTIC_OPS'] = 'true'\n",
    "    \n",
    "\n",
    "set_seed(1)  # 42 from The Hitchhiker's Guide to the Galaxy ^_^"
   ]
  },
  {
   "attachments": {},
   "cell_type": "markdown",
   "metadata": {},
   "source": [
    "### __`OBTAIN` & `SCRUB`__ + __`EXPLORE`__ (DATASET)"
   ]
  },
  {
   "attachments": {},
   "cell_type": "markdown",
   "metadata": {},
   "source": [
    "#### prepare..."
   ]
  },
  {
   "attachments": {},
   "cell_type": "markdown",
   "metadata": {},
   "source": [
    "- https://www.tensorflow.org/datasets/catalog/cifar10\n",
    "- https://www.cs.toronto.edu/~kriz/cifar.html\n",
    "- https://github.com/YoongiKim/CIFAR-10-images"
   ]
  },
  {
   "cell_type": "code",
   "execution_count": 73,
   "metadata": {},
   "outputs": [],
   "source": [
    "PATH_IMGS = os.path.join(os.getcwd(), 'CIFAR-10-images-master', 'train')\n",
    "PATH_TEST_IMGS = os.path.join(os.getcwd(), 'CIFAR-10-images-master', 'test')\n",
    "\n",
    "cfg = {\n",
    "       'train_limit': 500,  # limit 500 for each - for example\n",
    "       'image_size': 32,\n",
    "       'batch_size': 256,\n",
    "       }"
   ]
  },
  {
   "cell_type": "code",
   "execution_count": 74,
   "metadata": {},
   "outputs": [
    {
     "data": {
      "text/plain": [
       "10"
      ]
     },
     "execution_count": 74,
     "metadata": {},
     "output_type": "execute_result"
    }
   ],
   "source": [
    "ids, ids_test = [], []  # full image paths\n",
    "labels, labels_test = [], []  # true mark 'images name-description' by label2index:\n",
    "label2index = {}\n",
    "\n",
    "for num, folder in enumerate(os.listdir(PATH_IMGS)):\n",
    "    label2index[folder] = num\n",
    "    train_heap = os.listdir(os.path.join(PATH_IMGS, folder)) if cfg.get('train_limit') == 0 else os.listdir(os.path.join(PATH_IMGS, folder))[:cfg.get('train_limit')]\n",
    "    for image_name in train_heap:  \n",
    "        ids.append(os.path.join(PATH_IMGS, folder, image_name))\n",
    "        labels.append(label2index[folder])\n",
    "\n",
    "cfg['num_classes'] = num + 1\n",
    "cfg.get('num_classes')"
   ]
  },
  {
   "cell_type": "code",
   "execution_count": 75,
   "metadata": {},
   "outputs": [
    {
     "data": {
      "text/plain": [
       "(5000, 5000)"
      ]
     },
     "execution_count": 75,
     "metadata": {},
     "output_type": "execute_result"
    }
   ],
   "source": [
    "len(ids), len(labels)"
   ]
  },
  {
   "cell_type": "code",
   "execution_count": 76,
   "metadata": {},
   "outputs": [],
   "source": [
    "for num, folder in enumerate(os.listdir(PATH_TEST_IMGS)):\n",
    "    test_heap = os.listdir(os.path.join(PATH_TEST_IMGS, folder)) if cfg.get('test_limit') == 0 else os.listdir(os.path.join(PATH_TEST_IMGS, folder))[:cfg.get('test_limit')]\n",
    "    for image_name in test_heap:  \n",
    "        ids_test.append(os.path.join(PATH_TEST_IMGS, folder, image_name))\n",
    "        labels_test.append(label2index[folder])  # .get?"
   ]
  },
  {
   "cell_type": "code",
   "execution_count": 77,
   "metadata": {},
   "outputs": [
    {
     "data": {
      "text/plain": [
       "(10000, 10000)"
      ]
     },
     "execution_count": 77,
     "metadata": {},
     "output_type": "execute_result"
    }
   ],
   "source": [
    "len(ids_test), len(labels_test)"
   ]
  },
  {
   "cell_type": "code",
   "execution_count": 78,
   "metadata": {},
   "outputs": [
    {
     "data": {
      "text/plain": [
       "{'dog': 0,\n",
       " 'ship': 1,\n",
       " 'frog': 2,\n",
       " 'automobile': 3,\n",
       " 'bird': 4,\n",
       " 'deer': 5,\n",
       " 'truck': 6,\n",
       " 'cat': 7,\n",
       " 'airplane': 8,\n",
       " 'horse': 9}"
      ]
     },
     "execution_count": 78,
     "metadata": {},
     "output_type": "execute_result"
    }
   ],
   "source": [
    "label2index"
   ]
  },
  {
   "cell_type": "code",
   "execution_count": 79,
   "metadata": {},
   "outputs": [
    {
     "data": {
      "text/plain": [
       "{0: 'dog',\n",
       " 1: 'ship',\n",
       " 2: 'frog',\n",
       " 3: 'automobile',\n",
       " 4: 'bird',\n",
       " 5: 'deer',\n",
       " 6: 'truck',\n",
       " 7: 'cat',\n",
       " 8: 'airplane',\n",
       " 9: 'horse'}"
      ]
     },
     "execution_count": 79,
     "metadata": {},
     "output_type": "execute_result"
    }
   ],
   "source": [
    "index2label = {y: x for x, y in label2index.items()}\n",
    "index2label"
   ]
  },
  {
   "cell_type": "code",
   "execution_count": 80,
   "metadata": {},
   "outputs": [
    {
     "data": {
      "text/plain": [
       "(4000, 1000, 4000, 1000)"
      ]
     },
     "execution_count": 80,
     "metadata": {},
     "output_type": "execute_result"
    }
   ],
   "source": [
    "ids_train, ids_valid, y_train, y_valid = train_test_split(ids, labels, test_size=0.2, shuffle=True)\n",
    "len(ids_train), len(ids_valid), len(y_train), len(y_valid)"
   ]
  },
  {
   "attachments": {},
   "cell_type": "markdown",
   "metadata": {},
   "source": [
    "- https://www.tensorflow.org/api_docs/python/tf/keras/utils/Sequence\n",
    "- https://numpy.org/doc/stable/reference/random/generated/numpy.random.shuffle.html\n",
    "- https://www.tensorflow.org/api_docs/python/tf/keras/utils/to_categorical\n",
    "\n",
    "- https://docs.opencv.org/3.4/d4/da8/group__imgcodecs.html\n",
    "- https://www.geeksforgeeks.org/python-opencv-cv2-imread-method/"
   ]
  },
  {
   "cell_type": "code",
   "execution_count": 11,
   "metadata": {},
   "outputs": [],
   "source": [
    "class Dataset(tf.keras.utils.Sequence):\n",
    "    def __init__(self, ids: list, y: list, num_classes: int, to_size: int, shuffle: bool=True, batch_size: int=256) -> None:\n",
    "        self.ids = ids  # list of imgs path\n",
    "        self.y = y  # list of labels ids (List[int])\n",
    "        self.num_classes = num_classes\n",
    "        self.to_size = to_size\n",
    "        self.shuffle = shuffle\n",
    "        self.indexes = np.arange(len(self.ids))\n",
    "        self.batch_size = batch_size\n",
    "        self.num_features = self.num_features if self.__getitem__(0) else 0\n",
    "        \n",
    "        if shuffle:\n",
    "            self.on_epoch_end()\n",
    "    \n",
    "    def __len__(self) -> int:\n",
    "        return len(self.ids) // self.batch_size\n",
    "    \n",
    "    def __getitem__(self, idx: int) -> tuple:  # get one batch\n",
    "        indexes = self.indexes[idx * self.batch_size : (idx + 1) * self.batch_size]\n",
    "        batch_ids = [self.ids[i] for i in indexes]\n",
    "        batch_y = [tf.keras.utils.to_categorical(self.y[i], self.num_classes) for i in indexes]\n",
    "        \n",
    "        batch_X = []\n",
    "        for i in range(self.batch_size):\n",
    "            img = cv2.imread(batch_ids[i])  # i/o disk operation! but low RAM uses\n",
    "            # img = np.mean(img, axis=-1)  # RGB to grayscale\n",
    "            # img = np.mean(img, cv2.COLOR_BGR2RGB, axis=-1)  # RGB to grayscale\n",
    "            img = cv2.cvtColor(img, cv2.COLOR_BGR2RGB)\n",
    "            batch_X.append(cv2.resize(img, (self.to_size, self.to_size), interpolation=cv2.INTER_NEAREST))\n",
    "            # batch_X.append(cv2.cvtColor(cv2.resize(img, (self.to_size, self.to_size), interpolation=cv2.INTER_NEAREST), cv2.COLOR_GRAY2RGB))\n",
    "        \n",
    "        self.num_features = len(img[0]) * len(img) # !!\n",
    "        \n",
    "        return np.array(batch_X), np.array(batch_y)\n",
    "        \n",
    "    def on_epoch_end(self) -> None:\n",
    "        if self.shuffle:\n",
    "            np.random.shuffle(self.indexes)"
   ]
  },
  {
   "cell_type": "code",
   "execution_count": 92,
   "metadata": {},
   "outputs": [
    {
     "data": {
      "text/plain": [
       "((256, 32, 32, 3), (256, 10))"
      ]
     },
     "execution_count": 92,
     "metadata": {},
     "output_type": "execute_result"
    }
   ],
   "source": [
    "train_dataset = Dataset(ids_train, y_train, num_classes=cfg.get('num_classes'), to_size=cfg.get('image_size'), shuffle=True, batch_size=cfg.get('batch_size'))\n",
    "X, y = train_dataset[0]\n",
    "X.shape, y.shape"
   ]
  },
  {
   "cell_type": "code",
   "execution_count": 93,
   "metadata": {},
   "outputs": [
    {
     "data": {
      "text/plain": [
       "((256, 32, 32, 3), (256, 10))"
      ]
     },
     "execution_count": 93,
     "metadata": {},
     "output_type": "execute_result"
    }
   ],
   "source": [
    "test_dataset = Dataset(ids_test, labels_test, num_classes=cfg.get('num_classes'), to_size=cfg.get('image_size'), shuffle=True, batch_size=cfg.get('batch_size'))\n",
    "X_test, y_test = test_dataset[0]\n",
    "X_test.shape, y_test.shape"
   ]
  },
  {
   "cell_type": "code",
   "execution_count": 95,
   "metadata": {},
   "outputs": [
    {
     "data": {
      "image/png": "[encoded data removed]",
      "text/plain": [
       "<Figure size 200x200 with 1 Axes>"
      ]
     },
     "metadata": {},
     "output_type": "display_data"
    },
    {
     "data": {
      "image/png": "[encoded data removed]",
      "text/plain": [
       "<Figure size 200x200 with 1 Axes>"
      ]
     },
     "metadata": {},
     "output_type": "display_data"
    },
    {
     "data": {
      "image/png": "[encoded data removed]",
      "text/plain": [
       "<Figure size 200x200 with 1 Axes>"
      ]
     },
     "metadata": {},
     "output_type": "display_data"
    },
    {
     "data": {
      "image/png": "[encoded data removed]",
      "text/plain": [
       "<Figure size 200x200 with 1 Axes>"
      ]
     },
     "metadata": {},
     "output_type": "display_data"
    }
   ],
   "source": [
    "for i in range(4):\n",
    "    plt.figure(figsize=(2, 2))\n",
    "    plt.title(index2label[np.where(y[i] == 1)[0][0]])\n",
    "    # plt.imshow(X[i].reshape(32, 32))\n",
    "    plt.imshow(X[i])\n",
    "    plt.show()"
   ]
  },
  {
   "cell_type": "code",
   "execution_count": 96,
   "metadata": {},
   "outputs": [
    {
     "data": {
      "text/plain": [
       "1024"
      ]
     },
     "execution_count": 96,
     "metadata": {},
     "output_type": "execute_result"
    }
   ],
   "source": [
    "# train_dataset = Dataset(ids_train, y_train, shuffle=True, batch_size=cfg.get('batch_size'))\n",
    "# train_dataset[0]\n",
    "cfg['num_features'] = train_dataset.num_features\n",
    "cfg.get('num_features')"
   ]
  },
  {
   "cell_type": "code",
   "execution_count": 97,
   "metadata": {},
   "outputs": [],
   "source": [
    "valid_dataset = Dataset(ids_valid, y_valid, num_classes=cfg.get('num_classes'), to_size=cfg.get('image_size'), shuffle=False, batch_size=cfg.get('batch_size'))"
   ]
  },
  {
   "cell_type": "code",
   "execution_count": 98,
   "metadata": {},
   "outputs": [
    {
     "data": {
      "text/plain": [
       "(256, 32, 32, 3)"
      ]
     },
     "execution_count": 98,
     "metadata": {},
     "output_type": "execute_result"
    }
   ],
   "source": [
    "valid_dataset[0][0].shape  # (batch_size, num_features)"
   ]
  },
  {
   "attachments": {},
   "cell_type": "markdown",
   "metadata": {},
   "source": [
    "#### fix Pre-preparation"
   ]
  },
  {
   "cell_type": "code",
   "execution_count": 83,
   "metadata": {},
   "outputs": [],
   "source": [
    "PATH_IMGS = os.path.join(os.getcwd(), 'CIFAR-10-images-master', 'train')\n",
    "PATH_TEST_IMGS = os.path.join(os.getcwd(), 'CIFAR-10-images-master', 'test')\n",
    "\n",
    "cfg = {\n",
    "       'train_limit': 500,  # limit 500 for each - for example\n",
    "       'image_size': 32,\n",
    "       'batch_size': 256,\n",
    "       'epochs_limit': 100,\n",
    "       'filter': 256,\n",
    "       }\n",
    "\n",
    "label2index = {}"
   ]
  },
  {
   "cell_type": "code",
   "execution_count": 84,
   "metadata": {},
   "outputs": [
    {
     "data": {
      "text/plain": [
       "10"
      ]
     },
     "execution_count": 84,
     "metadata": {},
     "output_type": "execute_result"
    }
   ],
   "source": [
    "ids, ids_test = [], []  # full image paths\n",
    "labels, labels_test = [], []  # true mark 'images name-description' by label2index:\n",
    "\n",
    "\n",
    "for num, folder in enumerate(os.listdir(PATH_IMGS)):\n",
    "    label2index[folder] = num\n",
    "    train_heap = os.listdir(os.path.join(PATH_IMGS, folder)) if cfg.get('train_limit') == 0 else os.listdir(os.path.join(PATH_IMGS, folder))[:cfg.get('train_limit')]\n",
    "    for image_name in train_heap:  \n",
    "        ids.append(os.path.join(PATH_IMGS, folder, image_name))\n",
    "        labels.append(label2index[folder])\n",
    "\n",
    "cfg['num_classes'] = num + 1\n",
    "cfg.get('num_classes')"
   ]
  },
  {
   "cell_type": "code",
   "execution_count": 85,
   "metadata": {},
   "outputs": [],
   "source": [
    "def pre_preparation_data(path_imgs: str, path_test_imgs: str) -> tuple:\n",
    "    train_limit = cfg.get('train_limit')\n",
    "    test_size = cfg.get('test_limit')\n",
    "    ids, ids_test = [], []  # full image paths\n",
    "    labels, labels_test = [], []  # true mark 'images name-description' by label2index:\n",
    "    for num, folder in enumerate(os.listdir(path_imgs)):\n",
    "        label2index[folder] = num\n",
    "        train_heap = os.listdir(os.path.join(path_imgs, folder)) if train_limit == 0 else os.listdir(os.path.join(path_imgs, folder))[:train_limit]\n",
    "        for image_name in train_heap:  \n",
    "            ids.append(os.path.join(path_imgs, folder, image_name))\n",
    "            labels.append(label2index[folder])\n",
    "    \n",
    "    cfg['num_classes'] = num + 1\n",
    "\n",
    "    for num, folder in enumerate(os.listdir(path_test_imgs)):\n",
    "        test_heap = os.listdir(os.path.join(path_test_imgs, folder)) if test_size == 0 else os.listdir(os.path.join(path_test_imgs, folder))[:test_size]\n",
    "        for image_name in test_heap:  \n",
    "            ids_test.append(os.path.join(path_test_imgs, folder, image_name))\n",
    "            labels_test.append(label2index[folder])  # .get?         \n",
    "\n",
    "    ids_train, _, y_train, __ = train_test_split(ids, labels, test_size=0.0001, shuffle=True)\n",
    "    ids_valid, ids_test, y_valid, y_test = train_test_split(ids_test, labels_test, test_size=0.5, shuffle=True)   \n",
    "\n",
    "    return ids_train, y_train, ids_valid, y_valid, ids_test, y_test"
   ]
  },
  {
   "cell_type": "code",
   "execution_count": 86,
   "metadata": {},
   "outputs": [
    {
     "data": {
      "text/plain": [
       "(4999, 4999, 5000, 5000, 5000, 5000)"
      ]
     },
     "execution_count": 86,
     "metadata": {},
     "output_type": "execute_result"
    }
   ],
   "source": [
    "ids_train, labels_train, ids_valid, labels_valid, ids_test, labels_test = pre_preparation_data(PATH_IMGS, PATH_TEST_IMGS)\n",
    "len(ids_train), len(labels_train), len(ids_valid), len(labels_valid), len(ids_test), len(labels_test)"
   ]
  },
  {
   "attachments": {},
   "cell_type": "markdown",
   "metadata": {},
   "source": [
    "train_limit(500) * num_classes(10) = size(5000)"
   ]
  },
  {
   "cell_type": "code",
   "execution_count": 87,
   "metadata": {},
   "outputs": [
    {
     "data": {
      "text/plain": [
       "10"
      ]
     },
     "execution_count": 87,
     "metadata": {},
     "output_type": "execute_result"
    }
   ],
   "source": [
    "cfg.get('num_classes')"
   ]
  },
  {
   "cell_type": "code",
   "execution_count": 88,
   "metadata": {},
   "outputs": [
    {
     "data": {
      "text/plain": [
       "{'dog': 0,\n",
       " 'ship': 1,\n",
       " 'frog': 2,\n",
       " 'automobile': 3,\n",
       " 'bird': 4,\n",
       " 'deer': 5,\n",
       " 'truck': 6,\n",
       " 'cat': 7,\n",
       " 'airplane': 8,\n",
       " 'horse': 9}"
      ]
     },
     "execution_count": 88,
     "metadata": {},
     "output_type": "execute_result"
    }
   ],
   "source": [
    "label2index"
   ]
  },
  {
   "cell_type": "code",
   "execution_count": 89,
   "metadata": {},
   "outputs": [
    {
     "data": {
      "text/plain": [
       "{0: 'dog',\n",
       " 1: 'ship',\n",
       " 2: 'frog',\n",
       " 3: 'automobile',\n",
       " 4: 'bird',\n",
       " 5: 'deer',\n",
       " 6: 'truck',\n",
       " 7: 'cat',\n",
       " 8: 'airplane',\n",
       " 9: 'horse'}"
      ]
     },
     "execution_count": 89,
     "metadata": {},
     "output_type": "execute_result"
    }
   ],
   "source": [
    "index2label = {y: x for x, y in label2index.items()}\n",
    "index2label"
   ]
  },
  {
   "cell_type": "code",
   "execution_count": 90,
   "metadata": {},
   "outputs": [],
   "source": [
    "class Dataset(tf.keras.utils.Sequence):\n",
    "    def __init__(self, ids: list, y: list, num_classes: int, to_size: int, shuffle: bool=True, batch_size: int=256) -> None:\n",
    "        self.ids = ids  # list of imgs path\n",
    "        self.y = y  # list of labels ids (List[int])\n",
    "        self.num_classes = num_classes\n",
    "        self.to_size = to_size\n",
    "        self.shuffle = shuffle\n",
    "        self.indexes = np.arange(len(self.ids))\n",
    "        self.batch_size = batch_size\n",
    "        self.num_features = self.num_features if self.__getitem__(0) else 0\n",
    "        \n",
    "        if shuffle:\n",
    "            self.on_epoch_end()\n",
    "    \n",
    "    def __len__(self) -> int:\n",
    "        return len(self.ids) // self.batch_size\n",
    "    \n",
    "    def __getitem__(self, idx: int) -> tuple:  # get one batch\n",
    "        indexes = self.indexes[idx * self.batch_size : (idx + 1) * self.batch_size]\n",
    "        batch_ids = [self.ids[i] for i in indexes]\n",
    "        batch_y = [tf.keras.utils.to_categorical(self.y[i], self.num_classes) for i in indexes]\n",
    "        \n",
    "        batch_X = []\n",
    "        for i in range(self.batch_size):\n",
    "            img = cv2.imread(batch_ids[i])  # i/o disk operation! but low RAM uses\n",
    "            # img = np.mean(img, axis=-1)  # RGB to grayscale\n",
    "            # img = np.mean(img, cv2.COLOR_BGR2RGB, axis=-1)  # RGB to grayscale\n",
    "            img = cv2.cvtColor(img, cv2.COLOR_BGR2RGB)\n",
    "            batch_X.append(cv2.resize(img, (self.to_size, self.to_size), interpolation=cv2.INTER_NEAREST))\n",
    "            # batch_X.append(cv2.cvtColor(cv2.resize(img, (self.to_size, self.to_size), interpolation=cv2.INTER_NEAREST), cv2.COLOR_GRAY2RGB))\n",
    "        \n",
    "        self.num_features = len(img[0]) * len(img) # !!\n",
    "        \n",
    "        return np.array(batch_X), np.array(batch_y)\n",
    "        \n",
    "    def on_epoch_end(self) -> None:\n",
    "        if self.shuffle:\n",
    "            np.random.shuffle(self.indexes)"
   ]
  },
  {
   "cell_type": "code",
   "execution_count": 91,
   "metadata": {},
   "outputs": [
    {
     "data": {
      "text/plain": [
       "((256, 32, 32, 3),\n",
       " (256, 10),\n",
       " (256, 32, 32, 3),\n",
       " (256, 10),\n",
       " (256, 32, 32, 3),\n",
       " (256, 10))"
      ]
     },
     "execution_count": 91,
     "metadata": {},
     "output_type": "execute_result"
    }
   ],
   "source": [
    "train_dataset = Dataset(ids_train, labels_train, num_classes=cfg.get('num_classes'), to_size=cfg.get('image_size'), shuffle=True, batch_size=cfg.get('batch_size'))\n",
    "valid_dataset = Dataset(ids_valid, labels_valid, num_classes=cfg.get('num_classes'), to_size=cfg.get('image_size'), shuffle=False, batch_size=cfg.get('batch_size'))\n",
    "test_dataset = Dataset(ids_test, labels_test, num_classes=cfg.get('num_classes'), to_size=cfg.get('image_size'), shuffle=True, batch_size=cfg.get('batch_size'))\n",
    "X_test, y_test = test_dataset[0]\n",
    "X_test.shape, y_test.shape, valid_dataset[0][0].shape, valid_dataset[0][1].shape, test_dataset[0][0].shape, test_dataset[0][1].shape"
   ]
  },
  {
   "cell_type": "code",
   "execution_count": 92,
   "metadata": {},
   "outputs": [
    {
     "data": {
      "text/plain": [
       "1024"
      ]
     },
     "execution_count": 92,
     "metadata": {},
     "output_type": "execute_result"
    }
   ],
   "source": [
    "cfg['num_features'] = train_dataset.num_features\n",
    "cfg.get('num_features')"
   ]
  },
  {
   "cell_type": "code",
   "execution_count": 93,
   "metadata": {},
   "outputs": [
    {
     "data": {
      "image/png": "[encoded data removed]",
      "text/plain": [
       "<Figure size 200x200 with 1 Axes>"
      ]
     },
     "metadata": {},
     "output_type": "display_data"
    },
    {
     "data": {
      "image/png": "[encoded data removed]",
      "text/plain": [
       "<Figure size 200x200 with 1 Axes>"
      ]
     },
     "metadata": {},
     "output_type": "display_data"
    },
    {
     "data": {
      "image/png": "[encoded data removed]",
      "text/plain": [
       "<Figure size 200x200 with 1 Axes>"
      ]
     },
     "metadata": {},
     "output_type": "display_data"
    },
    {
     "data": {
      "image/png": "[encoded data removed]",
      "text/plain": [
       "<Figure size 200x200 with 1 Axes>"
      ]
     },
     "metadata": {},
     "output_type": "display_data"
    }
   ],
   "source": [
    "for i in range(4):\n",
    "    plt.figure(figsize=(2, 2))\n",
    "    plt.title(index2label[np.where(y_test[i] == 1)[0][0]])\n",
    "    # plt.imshow(X[i].reshape(32, 32))\n",
    "    plt.imshow(X_test[i])\n",
    "    plt.show()"
   ]
  },
  {
   "cell_type": "code",
   "execution_count": 94,
   "metadata": {},
   "outputs": [],
   "source": [
    "# train_dataset, valid_dataset, test_dataset"
   ]
  },
  {
   "cell_type": "code",
   "execution_count": 73,
   "metadata": {},
   "outputs": [
    {
     "name": "stdout",
     "output_type": "stream",
     "text": [
      "Start creation of dataset directories...\n",
      "Done\n"
     ]
    }
   ],
   "source": [
    "def create_dataset_directories(base_dir: str) -> None:\n",
    "    print('Start creation of dataset directories...')\n",
    "\n",
    "    os.mkdir(base_dir) if not os.path.exists(base_dir) else None\n",
    "\n",
    "    sub_dir = os.path.join(base_dir, 'validation')\n",
    "    os.mkdir(sub_dir)\n",
    "\n",
    "    for key in label2index:\n",
    "        os.mkdir(os.path.join(sub_dir, key))\n",
    "\n",
    "    print('Done')\n",
    "\n",
    "\n",
    "# move ?\n",
    "def copy_data(\n",
    "              src: str, dst: str, start: int, end: int\n",
    "              ) -> None:\n",
    "    for num, fname in enumerate(os.listdir(src)):\n",
    "        if num >= start and num <= end:\n",
    "            shutil.copyfile(\n",
    "                            os.path.join(src, fname),\n",
    "                            os.path.join(dst, fname)\n",
    "                            )\n",
    "\n",
    "create_dataset_directories(os.path.join(os.getcwd(), 'CIFAR-10-images-master'))\n",
    "\n",
    "for key in label2index:\n",
    "    edge = len(next(os.walk(os.path.join(PATH_TEST_IMGS, key)))[2])\n",
    "    copy_data(os.path.join(PATH_TEST_IMGS, key), os.path.join(os.getcwd(), 'CIFAR-10-images-master', 'validation', key), edge // 2, edge)\n"
   ]
  },
  {
   "cell_type": "code",
   "execution_count": 95,
   "metadata": {},
   "outputs": [
    {
     "name": "stdout",
     "output_type": "stream",
     "text": [
      "Found 50000 images belonging to 10 classes.\n",
      "Found 5000 images belonging to 10 classes.\n",
      "Found 10000 images belonging to 10 classes.\n"
     ]
    }
   ],
   "source": [
    "train_datagen = ImageDataGenerator(\n",
    "                                   rescale=1./255,\n",
    "                                   rotation_range=40,\n",
    "                                   width_shift_range=0.2,\n",
    "                                   height_shift_range=0.2,\n",
    "                                   shear_range=0.2,\n",
    "                                   zoom_range=0.2,\n",
    "                                   horizontal_flip=True,\n",
    "                                   fill_mode='nearest'\n",
    "                                   )\n",
    "\n",
    "valid_datagen = ImageDataGenerator(rescale=1./255)\n",
    "test_datagen = ImageDataGenerator(rescale=1./255)\n",
    "\n",
    "train_generator = train_datagen.flow_from_directory(\n",
    "                                                    PATH_IMGS,\n",
    "                                                    target_size=(cfg.get('image_size'), cfg.get('image_size')),\n",
    "                                                    batch_size=cfg.get('batch_size'),\n",
    "                                                    class_mode='categorical'\n",
    "                                                    )\n",
    "\n",
    "validation_generator = valid_datagen.flow_from_directory(\n",
    "                                                         os.path.join(os.getcwd(), 'CIFAR-10-images-master', 'validation'),\n",
    "                                                         target_size=(cfg.get('image_size'), cfg.get('image_size')),\n",
    "                                                         batch_size=cfg.get('batch_size'),\n",
    "                                                         class_mode='categorical'\n",
    "                                                         )\n",
    "\n",
    "test_generator = test_datagen.flow_from_directory(\n",
    "                                                  PATH_TEST_IMGS,\n",
    "                                                  target_size=(cfg.get('image_size'), cfg.get('image_size')),\n",
    "                                                  batch_size=cfg.get('batch_size'),\n",
    "                                                  class_mode='categorical'\n",
    "                                                  )"
   ]
  },
  {
   "cell_type": "code",
   "execution_count": 96,
   "metadata": {},
   "outputs": [
    {
     "data": {
      "text/plain": [
       "(50000, 5000, 10000)"
      ]
     },
     "execution_count": 96,
     "metadata": {},
     "output_type": "execute_result"
    }
   ],
   "source": [
    "train_generator.samples, validation_generator.samples, test_generator.samples"
   ]
  },
  {
   "attachments": {},
   "cell_type": "markdown",
   "metadata": {},
   "source": [
    "### __`MODEL`__"
   ]
  },
  {
   "attachments": {},
   "cell_type": "markdown",
   "metadata": {},
   "source": [
    "- https://www.tensorflow.org/api_docs/python/tf/keras/optimizers\n",
    "- https://www.tensorflow.org/api_docs/python/tf/keras/losses/CategoricalCrossentropy\n",
    "- https://keras.io/api/layers/regularization_layers/dropout/"
   ]
  },
  {
   "attachments": {},
   "cell_type": "markdown",
   "metadata": {},
   "source": [
    "#### prepare for creating model"
   ]
  },
  {
   "cell_type": "code",
   "execution_count": 98,
   "metadata": {},
   "outputs": [
    {
     "data": {
      "text/plain": [
       "(32, 32, 3)"
      ]
     },
     "execution_count": 98,
     "metadata": {},
     "output_type": "execute_result"
    }
   ],
   "source": [
    "# train_dataset[0][0].shape[1], ...\n",
    "(X_test.shape[1], X_test.shape[2], X_test.shape[3])\n",
    "# (cfg.get('image_size'), cfg.get('image_size'), 3)"
   ]
  },
  {
   "cell_type": "code",
   "execution_count": 99,
   "metadata": {},
   "outputs": [],
   "source": [
    "conv_base = VGG16(\n",
    "                  weights='imagenet',  # джерело ваги для ініціалізації моделі\n",
    "                  include_top=False,   # визначає необхідність підключення до повнозв'язкового класифікатора, який відповідає 1000 класів з ImageNet.\n",
    "                  input_shape=(cfg.get('image_size'), cfg.get('image_size'), 3)  # визначає форму тензорів із зображеннями, які подаватимуться на вхід мережі. \n",
    "                    # Це необов'язковий аргумент, тому якщо його прибрати, то мережа зможе обробляти зображення будь-якого розміру.\n",
    "                  )\n",
    "\n",
    "conv_base.trainable = False  # відключається навчання шару.\n",
    "\n",
    "model = models.Sequential([\n",
    "                            conv_base,\n",
    "                            layers.Flatten(),\n",
    "                            # layers.Dropout(0.5),\n",
    "                            layers.Dense(cfg.get('filter'), activation='relu'),\n",
    "                            layers.Dense(cfg.get('num_classes'), activation='softmax'),\n",
    "                            ])\n",
    "\n",
    "model.compile(\n",
    "                loss=losses.CategoricalCrossentropy(),\n",
    "                optimizer=tf.keras.optimizers.RMSprop(learning_rate=2e-4),\n",
    "                metrics=[metrics.CategoricalAccuracy()]\n",
    "                )\n"
   ]
  },
  {
   "cell_type": "code",
   "execution_count": 100,
   "metadata": {},
   "outputs": [
    {
     "name": "stdout",
     "output_type": "stream",
     "text": [
      "Model: \"sequential_3\"\n",
      "_________________________________________________________________\n",
      " Layer (type)                Output Shape              Param #   \n",
      "=================================================================\n",
      " vgg16 (Functional)          (None, 1, 1, 512)         14714688  \n",
      "                                                                 \n",
      " flatten_4 (Flatten)         (None, 512)               0         \n",
      "                                                                 \n",
      " dense_8 (Dense)             (None, 256)               131328    \n",
      "                                                                 \n",
      " dense_9 (Dense)             (None, 10)                2570      \n",
      "                                                                 \n",
      "=================================================================\n",
      "Total params: 14848586 (56.64 MB)\n",
      "Trainable params: 133898 (523.04 KB)\n",
      "Non-trainable params: 14714688 (56.13 MB)\n",
      "_________________________________________________________________\n"
     ]
    }
   ],
   "source": [
    "model.summary()"
   ]
  },
  {
   "attachments": {},
   "cell_type": "markdown",
   "metadata": {},
   "source": [
    "#### __`Training`__"
   ]
  },
  {
   "attachments": {},
   "cell_type": "markdown",
   "metadata": {},
   "source": [
    "- https://www.tensorflow.org/api_docs/python/tf/keras/callbacks/EarlyStopping\n",
    "- https://www.tensorflow.org/api_docs/python/tf/keras/callbacks/ModelCheckpoint"
   ]
  },
  {
   "cell_type": "code",
   "execution_count": 101,
   "metadata": {},
   "outputs": [],
   "source": [
    "callback_early_stopping = EarlyStopping(\n",
    "                                        monitor='val_categorical_accuracy',  # val_loss\n",
    "                                        patience=4,\n",
    "                                        )\n",
    "\n",
    "callback_save = ModelCheckpoint(\n",
    "                                'best.hdf5',  # name to save the resulting model\n",
    "                                monitor='val_loss',\n",
    "                                save_best_only=True,\n",
    "                                )"
   ]
  },
  {
   "cell_type": "code",
   "execution_count": 102,
   "metadata": {},
   "outputs": [
    {
     "name": "stdout",
     "output_type": "stream",
     "text": [
      "Epoch 1/100\n",
      "195/195 [==============================] - 148s 756ms/step - loss: 1.9175 - categorical_accuracy: 0.3344 - val_loss: 1.6849 - val_categorical_accuracy: 0.4224\n",
      "Epoch 2/100\n"
     ]
    },
    {
     "name": "stderr",
     "output_type": "stream",
     "text": [
      "/home/denys/.cache/pypoetry/virtualenvs/datas-cYPLqW4U-py3.10/lib/python3.10/site-packages/keras/src/engine/training.py:3000: UserWarning: You are saving your model as an HDF5 file via `model.save()`. This file format is considered legacy. We recommend using instead the native Keras format, e.g. `model.save('my_model.keras')`.\n",
      "  saving_api.save_model(\n"
     ]
    },
    {
     "name": "stdout",
     "output_type": "stream",
     "text": [
      "195/195 [==============================] - 149s 761ms/step - loss: 1.6826 - categorical_accuracy: 0.4128 - val_loss: 1.5455 - val_categorical_accuracy: 0.4634\n",
      "Epoch 3/100\n",
      "195/195 [==============================] - 147s 751ms/step - loss: 1.6123 - categorical_accuracy: 0.4380 - val_loss: 1.4945 - val_categorical_accuracy: 0.4786\n",
      "Epoch 4/100\n",
      "195/195 [==============================] - 147s 753ms/step - loss: 1.5759 - categorical_accuracy: 0.4506 - val_loss: 1.4574 - val_categorical_accuracy: 0.4970\n",
      "Epoch 5/100\n",
      "195/195 [==============================] - 147s 751ms/step - loss: 1.5431 - categorical_accuracy: 0.4620 - val_loss: 1.4390 - val_categorical_accuracy: 0.4996\n",
      "Epoch 6/100\n",
      "195/195 [==============================] - 147s 751ms/step - loss: 1.5247 - categorical_accuracy: 0.4663 - val_loss: 1.4034 - val_categorical_accuracy: 0.5100\n",
      "Epoch 7/100\n",
      "195/195 [==============================] - 147s 752ms/step - loss: 1.5089 - categorical_accuracy: 0.4739 - val_loss: 1.4093 - val_categorical_accuracy: 0.5016\n",
      "Epoch 8/100\n",
      "195/195 [==============================] - 147s 755ms/step - loss: 1.4954 - categorical_accuracy: 0.4796 - val_loss: 1.3784 - val_categorical_accuracy: 0.5244\n",
      "Epoch 9/100\n",
      "195/195 [==============================] - 148s 756ms/step - loss: 1.4861 - categorical_accuracy: 0.4812 - val_loss: 1.3686 - val_categorical_accuracy: 0.5248\n",
      "Epoch 10/100\n",
      "195/195 [==============================] - 148s 756ms/step - loss: 1.4733 - categorical_accuracy: 0.4869 - val_loss: 1.3577 - val_categorical_accuracy: 0.5318\n",
      "Epoch 11/100\n",
      "195/195 [==============================] - 148s 760ms/step - loss: 1.4672 - categorical_accuracy: 0.4870 - val_loss: 1.3560 - val_categorical_accuracy: 0.5288\n",
      "Epoch 12/100\n",
      "195/195 [==============================] - 148s 760ms/step - loss: 1.4640 - categorical_accuracy: 0.4869 - val_loss: 1.3416 - val_categorical_accuracy: 0.5322\n",
      "Epoch 13/100\n",
      "195/195 [==============================] - 148s 759ms/step - loss: 1.4580 - categorical_accuracy: 0.4903 - val_loss: 1.3528 - val_categorical_accuracy: 0.5268\n",
      "Epoch 14/100\n",
      "195/195 [==============================] - 148s 759ms/step - loss: 1.4532 - categorical_accuracy: 0.4928 - val_loss: 1.3568 - val_categorical_accuracy: 0.5248\n",
      "Epoch 15/100\n",
      "195/195 [==============================] - 149s 761ms/step - loss: 1.4471 - categorical_accuracy: 0.4944 - val_loss: 1.3366 - val_categorical_accuracy: 0.5348\n",
      "Epoch 16/100\n",
      "195/195 [==============================] - 149s 764ms/step - loss: 1.4376 - categorical_accuracy: 0.4976 - val_loss: 1.3509 - val_categorical_accuracy: 0.5250\n",
      "Epoch 17/100\n",
      "195/195 [==============================] - 149s 762ms/step - loss: 1.4359 - categorical_accuracy: 0.4962 - val_loss: 1.3299 - val_categorical_accuracy: 0.5366\n",
      "Epoch 18/100\n",
      "195/195 [==============================] - 149s 764ms/step - loss: 1.4302 - categorical_accuracy: 0.4965 - val_loss: 1.3292 - val_categorical_accuracy: 0.5322\n",
      "Epoch 19/100\n",
      "195/195 [==============================] - 149s 764ms/step - loss: 1.4263 - categorical_accuracy: 0.5015 - val_loss: 1.3373 - val_categorical_accuracy: 0.5338\n",
      "Epoch 20/100\n",
      "195/195 [==============================] - 150s 767ms/step - loss: 1.4215 - categorical_accuracy: 0.5033 - val_loss: 1.3119 - val_categorical_accuracy: 0.5434\n",
      "Epoch 21/100\n",
      "195/195 [==============================] - 150s 769ms/step - loss: 1.4196 - categorical_accuracy: 0.5001 - val_loss: 1.3104 - val_categorical_accuracy: 0.5418\n",
      "Epoch 22/100\n",
      "195/195 [==============================] - 150s 771ms/step - loss: 1.4099 - categorical_accuracy: 0.5037 - val_loss: 1.3171 - val_categorical_accuracy: 0.5396\n",
      "Epoch 23/100\n",
      "195/195 [==============================] - 151s 774ms/step - loss: 1.4120 - categorical_accuracy: 0.5049 - val_loss: 1.3163 - val_categorical_accuracy: 0.5350\n",
      "Epoch 24/100\n",
      "195/195 [==============================] - 151s 775ms/step - loss: 1.4113 - categorical_accuracy: 0.5058 - val_loss: 1.3190 - val_categorical_accuracy: 0.5382\n"
     ]
    }
   ],
   "source": [
    "history_1 = model.fit(\n",
    "                      train_generator,\n",
    "                      steps_per_epoch=train_generator.samples / cfg.get('batch_size'),\n",
    "                      epochs=cfg.get('epochs_limit'),\n",
    "                      validation_data=validation_generator,\n",
    "                      validation_steps=validation_generator.samples / cfg.get('batch_size'),\n",
    "                      callbacks=[callback_early_stopping, callback_save]\n",
    "                      )"
   ]
  },
  {
   "cell_type": "code",
   "execution_count": 103,
   "metadata": {},
   "outputs": [],
   "source": [
    "callback_save2 = ModelCheckpoint(\n",
    "                                 'best2.hdf5',  # name to save the resulting model\n",
    "                                 monitor='val_loss',\n",
    "                                 save_best_only=True,\n",
    "                                 )"
   ]
  },
  {
   "cell_type": "code",
   "execution_count": 104,
   "metadata": {},
   "outputs": [
    {
     "name": "stdout",
     "output_type": "stream",
     "text": [
      "Epoch 1/100\n"
     ]
    },
    {
     "name": "stdout",
     "output_type": "stream",
     "text": [
      "19/19 [==============================] - 22s 1s/step - loss: 114.8362 - categorical_accuracy: 0.0898 - val_loss: 91.2241 - val_categorical_accuracy: 0.1003\n",
      "Epoch 2/100\n",
      "19/19 [==============================] - 22s 1s/step - loss: 76.2381 - categorical_accuracy: 0.1063 - val_loss: 64.0778 - val_categorical_accuracy: 0.1287\n",
      "Epoch 3/100\n",
      "19/19 [==============================] - 22s 1s/step - loss: 53.4284 - categorical_accuracy: 0.1443 - val_loss: 45.9109 - val_categorical_accuracy: 0.1593\n",
      "Epoch 4/100\n",
      "19/19 [==============================] - 22s 1s/step - loss: 38.5359 - categorical_accuracy: 0.1871 - val_loss: 34.1550 - val_categorical_accuracy: 0.1990\n",
      "Epoch 5/100\n",
      "19/19 [==============================] - 22s 1s/step - loss: 28.4263 - categorical_accuracy: 0.2391 - val_loss: 26.3330 - val_categorical_accuracy: 0.2467\n",
      "Epoch 6/100\n",
      "19/19 [==============================] - 22s 1s/step - loss: 21.8509 - categorical_accuracy: 0.2930 - val_loss: 21.1194 - val_categorical_accuracy: 0.2915\n",
      "Epoch 7/100\n",
      "19/19 [==============================] - 22s 1s/step - loss: 17.2070 - categorical_accuracy: 0.3339 - val_loss: 17.4101 - val_categorical_accuracy: 0.3191\n",
      "Epoch 8/100\n",
      "19/19 [==============================] - 22s 1s/step - loss: 13.8468 - categorical_accuracy: 0.3664 - val_loss: 14.8250 - val_categorical_accuracy: 0.3413\n",
      "Epoch 9/100\n",
      "19/19 [==============================] - 22s 1s/step - loss: 11.4752 - categorical_accuracy: 0.3976 - val_loss: 12.8737 - val_categorical_accuracy: 0.3614\n",
      "Epoch 10/100\n",
      "19/19 [==============================] - 22s 1s/step - loss: 9.6894 - categorical_accuracy: 0.4239 - val_loss: 11.4712 - val_categorical_accuracy: 0.3779\n",
      "Epoch 11/100\n",
      "19/19 [==============================] - 22s 1s/step - loss: 8.2622 - categorical_accuracy: 0.4410 - val_loss: 10.3688 - val_categorical_accuracy: 0.3910\n",
      "Epoch 12/100\n",
      "19/19 [==============================] - 22s 1s/step - loss: 7.1456 - categorical_accuracy: 0.4677 - val_loss: 9.4804 - val_categorical_accuracy: 0.3956\n",
      "Epoch 13/100\n",
      "19/19 [==============================] - 22s 1s/step - loss: 6.1958 - categorical_accuracy: 0.4907 - val_loss: 8.7977 - val_categorical_accuracy: 0.4069\n",
      "Epoch 14/100\n",
      "19/19 [==============================] - 22s 1s/step - loss: 5.4612 - categorical_accuracy: 0.5115 - val_loss: 8.2520 - val_categorical_accuracy: 0.4102\n",
      "Epoch 15/100\n",
      "19/19 [==============================] - 22s 1s/step - loss: 4.8560 - categorical_accuracy: 0.5333 - val_loss: 7.8202 - val_categorical_accuracy: 0.4171\n",
      "Epoch 16/100\n",
      "19/19 [==============================] - 22s 1s/step - loss: 4.3119 - categorical_accuracy: 0.5520 - val_loss: 7.4411 - val_categorical_accuracy: 0.4231\n",
      "Epoch 17/100\n",
      "19/19 [==============================] - 22s 1s/step - loss: 3.8302 - categorical_accuracy: 0.5724 - val_loss: 7.1602 - val_categorical_accuracy: 0.4217\n",
      "Epoch 18/100\n",
      "19/19 [==============================] - 22s 1s/step - loss: 3.4590 - categorical_accuracy: 0.5872 - val_loss: 6.9040 - val_categorical_accuracy: 0.4334\n",
      "Epoch 19/100\n",
      "19/19 [==============================] - 22s 1s/step - loss: 3.0988 - categorical_accuracy: 0.6098 - val_loss: 6.6759 - val_categorical_accuracy: 0.4297\n",
      "Epoch 20/100\n",
      "19/19 [==============================] - 22s 1s/step - loss: 2.7653 - categorical_accuracy: 0.6380 - val_loss: 6.5089 - val_categorical_accuracy: 0.4317\n",
      "Epoch 21/100\n",
      "19/19 [==============================] - 22s 1s/step - loss: 2.4940 - categorical_accuracy: 0.6530 - val_loss: 6.3760 - val_categorical_accuracy: 0.4299\n",
      "Epoch 22/100\n",
      "19/19 [==============================] - 22s 1s/step - loss: 2.2707 - categorical_accuracy: 0.6692 - val_loss: 6.2068 - val_categorical_accuracy: 0.4367\n",
      "Epoch 23/100\n",
      "19/19 [==============================] - 22s 1s/step - loss: 2.0115 - categorical_accuracy: 0.6904 - val_loss: 6.1192 - val_categorical_accuracy: 0.4361\n",
      "Epoch 24/100\n",
      "19/19 [==============================] - 22s 1s/step - loss: 1.8010 - categorical_accuracy: 0.7132 - val_loss: 5.9984 - val_categorical_accuracy: 0.4400\n",
      "Epoch 25/100\n",
      "19/19 [==============================] - 22s 1s/step - loss: 1.6498 - categorical_accuracy: 0.7225 - val_loss: 5.9295 - val_categorical_accuracy: 0.4426\n",
      "Epoch 26/100\n",
      "19/19 [==============================] - 22s 1s/step - loss: 1.4781 - categorical_accuracy: 0.7471 - val_loss: 5.8197 - val_categorical_accuracy: 0.4449\n",
      "Epoch 27/100\n",
      "19/19 [==============================] - 22s 1s/step - loss: 1.3176 - categorical_accuracy: 0.7648 - val_loss: 5.7608 - val_categorical_accuracy: 0.4451\n",
      "Epoch 28/100\n",
      "19/19 [==============================] - 22s 1s/step - loss: 1.2069 - categorical_accuracy: 0.7775 - val_loss: 5.6918 - val_categorical_accuracy: 0.4441\n",
      "Epoch 29/100\n",
      "19/19 [==============================] - 22s 1s/step - loss: 1.0868 - categorical_accuracy: 0.8002 - val_loss: 5.6207 - val_categorical_accuracy: 0.4472\n",
      "Epoch 30/100\n",
      "19/19 [==============================] - 22s 1s/step - loss: 0.9759 - categorical_accuracy: 0.8123 - val_loss: 5.5655 - val_categorical_accuracy: 0.4482\n",
      "Epoch 31/100\n",
      "19/19 [==============================] - 22s 1s/step - loss: 0.8742 - categorical_accuracy: 0.8279 - val_loss: 5.5294 - val_categorical_accuracy: 0.4494\n",
      "Epoch 32/100\n",
      "19/19 [==============================] - 22s 1s/step - loss: 0.7803 - categorical_accuracy: 0.8493 - val_loss: 5.4704 - val_categorical_accuracy: 0.4488\n",
      "Epoch 33/100\n",
      "19/19 [==============================] - 22s 1s/step - loss: 0.6937 - categorical_accuracy: 0.8583 - val_loss: 5.4252 - val_categorical_accuracy: 0.4560\n",
      "Epoch 34/100\n",
      "19/19 [==============================] - 22s 1s/step - loss: 0.6334 - categorical_accuracy: 0.8649 - val_loss: 5.3985 - val_categorical_accuracy: 0.4507\n",
      "Epoch 35/100\n",
      "19/19 [==============================] - 22s 1s/step - loss: 0.5563 - categorical_accuracy: 0.8769 - val_loss: 5.3407 - val_categorical_accuracy: 0.4574\n",
      "Epoch 36/100\n",
      "19/19 [==============================] - 22s 1s/step - loss: 0.4893 - categorical_accuracy: 0.8912 - val_loss: 5.3554 - val_categorical_accuracy: 0.4591\n",
      "Epoch 37/100\n",
      "19/19 [==============================] - 22s 1s/step - loss: 0.4348 - categorical_accuracy: 0.9025 - val_loss: 5.3227 - val_categorical_accuracy: 0.4605\n",
      "Epoch 38/100\n",
      "19/19 [==============================] - 22s 1s/step - loss: 0.3839 - categorical_accuracy: 0.9104 - val_loss: 5.3118 - val_categorical_accuracy: 0.4550\n",
      "Epoch 39/100\n",
      "19/19 [==============================] - 22s 1s/step - loss: 0.3409 - categorical_accuracy: 0.9237 - val_loss: 5.2799 - val_categorical_accuracy: 0.4655\n",
      "Epoch 40/100\n",
      "19/19 [==============================] - 22s 1s/step - loss: 0.2969 - categorical_accuracy: 0.9303 - val_loss: 5.2662 - val_categorical_accuracy: 0.4611\n",
      "Epoch 41/100\n",
      "19/19 [==============================] - 22s 1s/step - loss: 0.2572 - categorical_accuracy: 0.9418 - val_loss: 5.2667 - val_categorical_accuracy: 0.4572\n",
      "Epoch 42/100\n",
      "19/19 [==============================] - 22s 1s/step - loss: 0.2328 - categorical_accuracy: 0.9426 - val_loss: 5.2890 - val_categorical_accuracy: 0.4601\n",
      "Epoch 43/100\n",
      "19/19 [==============================] - 22s 1s/step - loss: 0.1925 - categorical_accuracy: 0.9558 - val_loss: 5.2549 - val_categorical_accuracy: 0.4603\n"
     ]
    }
   ],
   "source": [
    "history_2 = model.fit(\n",
    "                    train_dataset,\n",
    "                    steps_per_epoch=len(train_dataset),\n",
    "                    epochs=cfg.get('epochs_limit'),\n",
    "                    validation_data=valid_dataset,\n",
    "                    validation_steps=len(valid_dataset),\n",
    "                    # verbose=1, # print logs\n",
    "                    callbacks=[callback_early_stopping, callback_save2]\n",
    "                    )"
   ]
  },
  {
   "cell_type": "code",
   "execution_count": 105,
   "metadata": {},
   "outputs": [],
   "source": [
    "def draw_2twin_2d(y00: np.array, y01: np.array, y10: np.array, y11: np.array, suptitle: str) -> None:\n",
    "    x = range(1, len(y00) + 1)\n",
    "    \n",
    "    fig, axs = plt.subplots(1, 2, figsize=(10, 8))\n",
    "\n",
    "    axs[0].plot(x, y00, 'bo', label='Training loss')\n",
    "    axs[0].plot(x, y01, 'g', label='Validation loss')\n",
    "    axs[0].title.set_text('Training and validation loss')\n",
    "    axs[0].set_xlabel('Epochs')\n",
    "    axs[0].set_ylabel('Loss')\n",
    "    axs[0].legend()\n",
    "    axs[0].grid()\n",
    "\n",
    "    axs[1].plot(x, y10, 'bo', label='Training acc')\n",
    "    axs[1].plot(x, y11, 'g', label='Validation acc')\n",
    "    axs[1].title.set_text('Training and validation acc')\n",
    "    axs[1].set_xlabel('Epochs')\n",
    "    axs[1].set_ylabel('Acc')\n",
    "    axs[1].legend()\n",
    "    axs[1].grid()\n",
    "    \n",
    "    fig.suptitle(suptitle)\n",
    "    # plt.legend()\n",
    "    # plt.grid()\n",
    "    plt.show()"
   ]
  },
  {
   "cell_type": "code",
   "execution_count": 106,
   "metadata": {},
   "outputs": [],
   "source": [
    "# def test_NN(\n",
    "#             train_dataset: Dataset, \n",
    "#             valid_dataset: Dataset, \n",
    "#             set_layers: list, \n",
    "#             act: list, \n",
    "#             opt: optimizers, \n",
    "#             lr: float,  \n",
    "#             epochs: int=100\n",
    "#             ) -> None:\n",
    "#     \"\"\"For test one model.\"\"\"\n",
    "#     model = create_NN(\n",
    "#                       n_hidden_=set_layers, \n",
    "#                       activation=act, \n",
    "#                       optimizer=opt, \n",
    "#                       learning_rate=lr\n",
    "#                       )\n",
    "\n",
    "#     history = model.fit(\n",
    "#                         train_dataset,\n",
    "#                         validation_data=valid_dataset,\n",
    "#                         epochs=epochs,\n",
    "#                         verbose=1, # print logs\n",
    "#                         callbacks=[callback_early_stopping]  # callback_save\n",
    "#                         )\n",
    "\n",
    "#     loss_values = history.history['loss']\n",
    "#     val_loss_values = history.history['val_loss']\n",
    "#     acc_values = history.history['categorical_accuracy']\n",
    "#     val_acc_values = history.history['val_categorical_accuracy']   \n",
    "\n",
    "#     draw_2twin_2d(loss_values, val_loss_values, acc_values, val_acc_values, suptitle=f'{model.name}({train_dataset.batch_size})')"
   ]
  },
  {
   "cell_type": "code",
   "execution_count": 107,
   "metadata": {},
   "outputs": [],
   "source": [
    "# train_dataset.batch_size"
   ]
  },
  {
   "cell_type": "code",
   "execution_count": 108,
   "metadata": {},
   "outputs": [],
   "source": [
    "# test_NN(\n",
    "#         train_dataset=train_dataset,\n",
    "#         valid_dataset=valid_dataset,\n",
    "#         set_layers=[NUM_FEATURES, 512, 256, NUM_CLASSES], \n",
    "#         act=['relu', 'relu', 'softmax'], \n",
    "#         opt=optimizers.legacy.Adam, \n",
    "#         lr=0.001,\n",
    "#         epochs=100\n",
    "#         )"
   ]
  },
  {
   "attachments": {},
   "cell_type": "markdown",
   "metadata": {},
   "source": [
    "### __`INTERPRET`__ / __`Error Analysis`__"
   ]
  },
  {
   "cell_type": "code",
   "execution_count": 109,
   "metadata": {},
   "outputs": [],
   "source": [
    "# draw"
   ]
  },
  {
   "attachments": {},
   "cell_type": "markdown",
   "metadata": {},
   "source": [
    "### __`RE-TEST`__"
   ]
  },
  {
   "cell_type": "code",
   "execution_count": 110,
   "metadata": {},
   "outputs": [],
   "source": [
    "# deploy..."
   ]
  },
  {
   "attachments": {},
   "cell_type": "markdown",
   "metadata": {},
   "source": [
    "### __`RESULTS` & `CONCLUSIONS`__"
   ]
  },
  {
   "attachments": {},
   "cell_type": "markdown",
   "metadata": {},
   "source": []
  }
 ],
 "metadata": {
  "kernelspec": {
   "display_name": "datas-cYPLqW4U-py3.10",
   "language": "python",
   "name": "python3"
  },
  "language_info": {
   "codemirror_mode": {
    "name": "ipython",
    "version": 3
   },
   "file_extension": ".py",
   "mimetype": "text/x-python",
   "name": "python",
   "nbconvert_exporter": "python",
   "pygments_lexer": "ipython3",
   "version": "3.10.12"
  },
  "orig_nbformat": 4
 },
 "nbformat": 4,
 "nbformat_minor": 2
}
