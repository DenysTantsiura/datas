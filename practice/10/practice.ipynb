{
 "cells": [
  {
   "attachments": {},
   "cell_type": "markdown",
   "metadata": {},
   "source": []
  },
  {
   "cell_type": "code",
   "execution_count": 1,
   "metadata": {},
   "outputs": [
    {
     "name": "stderr",
     "output_type": "stream",
     "text": [
      "2023-08-18 12:41:58.115169: I tensorflow/core/util/port.cc:110] oneDNN custom operations are on. You may see slightly different numerical results due to floating-point round-off errors from different computation orders. To turn them off, set the environment variable `TF_ENABLE_ONEDNN_OPTS=0`.\n",
      "2023-08-18 12:41:58.116832: I tensorflow/tsl/cuda/cudart_stub.cc:28] Could not find cuda drivers on your machine, GPU will not be used.\n",
      "2023-08-18 12:41:58.169442: I tensorflow/tsl/cuda/cudart_stub.cc:28] Could not find cuda drivers on your machine, GPU will not be used.\n",
      "2023-08-18 12:41:58.170120: I tensorflow/core/platform/cpu_feature_guard.cc:182] This TensorFlow binary is optimized to use available CPU instructions in performance-critical operations.\n",
      "To enable the following instructions: AVX2 AVX512F AVX512_VNNI FMA, in other operations, rebuild TensorFlow with the appropriate compiler flags.\n",
      "2023-08-18 12:41:59.018401: W tensorflow/compiler/tf2tensorrt/utils/py_utils.cc:38] TF-TRT Warning: Could not find TensorRT\n"
     ]
    }
   ],
   "source": [
    "import os\n",
    "import random\n",
    "\n",
    "import numpy as np\n",
    "import pandas as pd\n",
    "import cv2\n",
    "import matplotlib.pyplot as plt\n",
    "import seaborn as sn\n",
    "import tensorflow as tf\n",
    "from sklearn.model_selection import train_test_split\n",
    "# from sklearn.metrics import confusion_matrix\n",
    "\n",
    "from tensorflow.keras.models import Sequential, Model\n",
    "from tensorflow.keras.layers import Dense, Dropout\n",
    "\n",
    "import wandb\n",
    "from wandb.keras import WandbMetricsLogger\n",
    "\n",
    "import albumentations as A"
   ]
  },
  {
   "cell_type": "code",
   "execution_count": 2,
   "metadata": {},
   "outputs": [],
   "source": [
    "lr = 0.01\n",
    "n_epochs = 10\n",
    "batch_size = 128"
   ]
  },
  {
   "cell_type": "code",
   "execution_count": 3,
   "metadata": {},
   "outputs": [],
   "source": [
    "def set_seed(seed_value):\n",
    "    random.seed(seed_value)\n",
    "    np.random.seed(seed_value)\n",
    "    tf.random.set_seed(seed_value)\n",
    "    os.environ[\"PYTHONHASHSEED\"] = str(seed_value)\n",
    "    os.environ[\"TF_DETERMINISTIC_OPS\"] = \"true\"\n",
    "    \n",
    "\n",
    "set_seed(42)"
   ]
  },
  {
   "cell_type": "code",
   "execution_count": 4,
   "metadata": {},
   "outputs": [
    {
     "ename": "FileNotFoundError",
     "evalue": "[Errno 2] No such file or directory: '/kaggle/input/cifar10/cifar10/train/'",
     "output_type": "error",
     "traceback": [
      "\u001b[0;31m---------------------------------------------------------------------------\u001b[0m",
      "\u001b[0;31mFileNotFoundError\u001b[0m                         Traceback (most recent call last)",
      "Cell \u001b[0;32mIn[4], line 18\u001b[0m\n\u001b[1;32m      4\u001b[0m labels \u001b[39m=\u001b[39m []  \u001b[39m# fildername - same label\u001b[39;00m\n\u001b[1;32m      5\u001b[0m label2index \u001b[39m=\u001b[39m {\n\u001b[1;32m      6\u001b[0m     \u001b[39m'\u001b[39m\u001b[39mairplane\u001b[39m\u001b[39m'\u001b[39m: \u001b[39m0\u001b[39m,\n\u001b[1;32m      7\u001b[0m     \u001b[39m'\u001b[39m\u001b[39mhorse\u001b[39m\u001b[39m'\u001b[39m: \u001b[39m1\u001b[39m,\n\u001b[0;32m   (...)\u001b[0m\n\u001b[1;32m     15\u001b[0m     \u001b[39m'\u001b[39m\u001b[39mdeer\u001b[39m\u001b[39m'\u001b[39m: \u001b[39m9\u001b[39m,\n\u001b[1;32m     16\u001b[0m }\n\u001b[0;32m---> 18\u001b[0m \u001b[39mfor\u001b[39;00m i, folder \u001b[39min\u001b[39;00m \u001b[39menumerate\u001b[39m(os\u001b[39m.\u001b[39;49mlistdir(PATH_IMGS)):\n\u001b[1;32m     19\u001b[0m     \u001b[39mfor\u001b[39;00m image_name \u001b[39min\u001b[39;00m os\u001b[39m.\u001b[39mlistdir(os\u001b[39m.\u001b[39mpath\u001b[39m.\u001b[39mjoin(PATH_IMGS, folder))[:\u001b[39m500\u001b[39m]:\n\u001b[1;32m     20\u001b[0m         ids\u001b[39m.\u001b[39mappend(os\u001b[39m.\u001b[39mpath\u001b[39m.\u001b[39mjoin(PATH_IMGS, folder, image_name))\n",
      "\u001b[0;31mFileNotFoundError\u001b[0m: [Errno 2] No such file or directory: '/kaggle/input/cifar10/cifar10/train/'"
     ]
    }
   ],
   "source": [
    "PATH_IMGS = \"/kaggle/input/cifar10/cifar10/train/\"\n",
    "\n",
    "ids = []  # paths for each file\n",
    "labels = []  # fildername - same label\n",
    "label2index = {\n",
    "    'airplane': 0,\n",
    "    'horse': 1,\n",
    "    'truck': 2,\n",
    "    'automobile': 3,\n",
    "    'ship': 4,\n",
    "    'dog': 5,\n",
    "    'bird': 6,\n",
    "    'frog': 7,\n",
    "    'cat': 8,\n",
    "    'deer': 9,\n",
    "}\n",
    "\n",
    "for i, folder in enumerate(os.listdir(PATH_IMGS)):\n",
    "    for image_name in os.listdir(os.path.join(PATH_IMGS, folder))[:500]:\n",
    "        ids.append(os.path.join(PATH_IMGS, folder, image_name))\n",
    "        labels.append(label2index[folder])\n",
    "\n",
    "index2label = {y: x for x, y in label2index.items()}"
   ]
  },
  {
   "cell_type": "code",
   "execution_count": null,
   "metadata": {},
   "outputs": [],
   "source": [
    "ids_train, ids_valid, y_train, y_valid = train_test_split(ids, labels, test_size=0.2, shuffle=True)"
   ]
  },
  {
   "cell_type": "code",
   "execution_count": null,
   "metadata": {},
   "outputs": [],
   "source": [
    "class Dataset(tf.keras.utils.Sequence):\n",
    "    def __init__(self, ids, y, shuffle=True, batch_size=256, transforms=None):\n",
    "        self.ids = ids\n",
    "        self.y = y\n",
    "        self.shuffle = shuffle\n",
    "        self.indexes = np.arange(len(self.ids))\n",
    "        self.batch_size = batch_size\n",
    "        self.transforms = transforms\n",
    "        \n",
    "        if shuffle:\n",
    "            self.on_epoch_end()\n",
    "    \n",
    "    def __len__(self):\n",
    "        return len(self.ids) // self.batch_size\n",
    "    \n",
    "    def __getitem__(self, idx):\n",
    "        indexes = self.indexes[idx * self.batch_size : (idx + 1) * self.batch_size]\n",
    "        batch_ids = [self.ids[i] for i in indexes]\n",
    "        batch_y = [tf.keras.utils.to_categorical(self.y[i], 10) for i in indexes]\n",
    "        \n",
    "        batch_X = []\n",
    "        for i in range(self.batch_size):\n",
    "            img = cv2.imread(batch_ids[i])\n",
    "            img = cv2.cvtColor(img, cv2.COLOR_BGR2RGB)\n",
    "            if self.transforms:\n",
    "                img = self.transforms(image=img)[\"image\"]\n",
    "            \n",
    "            batch_X.append(img)\n",
    "        \n",
    "        return np.array(batch_X) / 255., np.array(batch_y)\n",
    "        \n",
    "    def on_epoch_end(self):\n",
    "        if self.shuffle:\n",
    "            np.random.shuffle(self.indexes)"
   ]
  },
  {
   "cell_type": "code",
   "execution_count": null,
   "metadata": {},
   "outputs": [],
   "source": [
    "train_transforms = A.Compose(\n",
    "    [\n",
    "        A.HorizontalFlip(p=0.5),\n",
    "        A.Rotate(limit=90, p=1.),\n",
    "        A.Blur(p=0.25),\n",
    "        A.Resize(224, 224, p=1.),\n",
    "    ]\n",
    ")\n",
    "\n",
    "valid_transforms = A.Compose(\n",
    "    [\n",
    "        A.Resize(224, 224, p=1.),\n",
    "    ]\n",
    ")"
   ]
  },
  {
   "cell_type": "code",
   "execution_count": null,
   "metadata": {},
   "outputs": [],
   "source": [
    "train_dataset = Dataset(ids_train, y_train, shuffle=False, batch_size=1, transforms=train_transforms)"
   ]
  },
  {
   "cell_type": "code",
   "execution_count": null,
   "metadata": {},
   "outputs": [],
   "source": [
    "X, y = train_dataset[0]\n",
    "X.shape, y.shape"
   ]
  },
  {
   "cell_type": "code",
   "execution_count": null,
   "metadata": {},
   "outputs": [],
   "source": [
    "plt.figure(figsize=(3, 3))\n",
    "plt.imshow(train_dataset[0][0][0])"
   ]
  },
  {
   "cell_type": "code",
   "execution_count": null,
   "metadata": {},
   "outputs": [],
   "source": [
    "train_dataset = Dataset(ids_train, y_train, shuffle=True, batch_size=batch_size, transforms=train_transforms)\n",
    "valid_dataset = Dataset(ids_valid, y_valid, shuffle=False, batch_size=batch_size, transforms=valid_transforms)"
   ]
  }
 ],
 "metadata": {
  "kernelspec": {
   "display_name": "datas-cYPLqW4U-py3.10",
   "language": "python",
   "name": "python3"
  },
  "language_info": {
   "codemirror_mode": {
    "name": "ipython",
    "version": 3
   },
   "file_extension": ".py",
   "mimetype": "text/x-python",
   "name": "python",
   "nbconvert_exporter": "python",
   "pygments_lexer": "ipython3",
   "version": "3.10.12"
  },
  "orig_nbformat": 4
 },
 "nbformat": 4,
 "nbformat_minor": 2
}
