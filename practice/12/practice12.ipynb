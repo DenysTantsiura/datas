{
 "cells": [
  {
   "attachments": {},
   "cell_type": "markdown",
   "metadata": {},
   "source": [
    "### __practice_12__"
   ]
  },
  {
   "attachments": {},
   "cell_type": "markdown",
   "metadata": {},
   "source": [
    "Зробіть summary нижчевказаного тексту використовуючи бібліотеки для `NLP`: `nltk` та `SpaCy`"
   ]
  },
  {
   "attachments": {},
   "cell_type": "markdown",
   "metadata": {},
   "source": [
    "The Orbiter Discovery, OV-103, is considered eligible for listing in the National Register of Historic Places (NRHP) in the context of the U.S. Space Shuttle Program (1969-2011) under Criterion A in the areas of Space Exploration and Transportation and under Criterion C in the area of Engineering. Because it has achieved significance within the past fifty years, Criteria Consideration G applies. Under Criterion A, Discovery is significant as the oldest of the three extant orbiter vehicles constructed for the Space Shuttle Program (SSP), the longest running American space program to date; she was the third of five orbiters built by NASA. Unlike the Mercury, Gemini, and Apollo programs, the SSP’s emphasis was on cost effectiveness and reusability, and eventually the construction of a space station. Including her maiden voyage (launched August 30, 1984), Discovery flew to space thirty-nine times, more than any of the other four orbiters; she was also the first orbiter to fly twenty missions. She had the honor of being chosen as the Return to Flight vehicle after both the Challenger and Columbia accidents. Discovery was the first shuttle to fly with the redesigned SRBs, a result of the Challenger accident, and the first shuttle to fly with the Phase II and Block I SSME. Discovery also carried the Hubble Space Telescope to orbit and performed two of the five servicing missions to the observatory. She flew the first and last dedicated Department of Defense (DoD) missions, as well as the first unclassified defense-related mission. In addition, Discovery was vital to the construction of the International Space Station (ISS); she flew thirteen of the thirty-seven total missions flown to the station by a U.S. Space Shuttle. She was the first orbiter to dock to the ISS, and the first to perform an exchange of a resident crew. Under Criterion C, Discovery is significant as a feat of engineering. According to Wayne Hale, a flight director from Johnson Space Center, the Space Shuttle orbiter represents a “huge technological leap from expendable rockets and capsules to a reusable, winged, hypersonic, cargo-carrying spacecraft.” Although her base structure followed a conventional aircraft design, she used advanced materials that both minimized her weight for cargo-carrying purposes and featured low thermal expansion ratios, which provided a stable base for her Thermal Protection System (TPS) materials. The Space Shuttle orbiter also featured the first reusable TPS; all previous spaceflight vehicles had a single-use, ablative heat shield. Other notable engineering achievements of the orbiter included the first reusable orbital propulsion system, and the first two-fault-tolerant Integrated Avionics System. As Hale stated, the Space Shuttle remains “the largest, fastest, winged hypersonic aircraft in history,” having regularly flown at twenty-five times the speed of sound."
   ]
  },
  {
   "attachments": {},
   "cell_type": "markdown",
   "metadata": {},
   "source": [
    "- https://pypi.org/project/nltk/\n",
    "- https://www.nltk.org/\n",
    "- https://dou.ua/lenta/articles/first-steps-in-nlp-nltk/\n",
    "- https://realpython.com/nltk-nlp-python/\n",
    "<br><br>\n",
    "- https://pypi.org/project/spacy/\n",
    "- https://spacy.io/\n",
    "- https://realpython.com/natural-language-processing-spacy-python/\n",
    "- "
   ]
  },
  {
   "cell_type": "code",
   "execution_count": 18,
   "metadata": {},
   "outputs": [],
   "source": [
    "from collections import Counter\n",
    "from heapq import nlargest\n",
    "from string import punctuation\n",
    "\n",
    "import nltk\n",
    "from nltk.corpus import stopwords\n",
    "from nltk.tokenize import word_tokenize, sent_tokenize\n",
    "import spacy\n",
    "from spacy.lang.en.stop_words import STOP_WORDS"
   ]
  },
  {
   "attachments": {},
   "cell_type": "markdown",
   "metadata": {},
   "source": [
    "Перш ніж почати роботу з `SpaCy`, необхідно завантажити потрібну мовну модель. Наприклад, для англійської мови ми можемо завантажити модель `'en_core_web_sm'`:"
   ]
  },
  {
   "attachments": {},
   "cell_type": "markdown",
   "metadata": {},
   "source": [
    "- https://stackoverflow.com/questions/54334304/spacy-cant-find-model-en-core-web-sm-on-windows-10-and-python-3-5-3-anacon"
   ]
  },
  {
   "attachments": {},
   "cell_type": "markdown",
   "metadata": {},
   "source": [
    "python -m spacy download en_core_web_lg<br>\n",
    "python -m spacy download en_core_web_sm<br>\n",
    "python -m spacy download en<br>\n",
    "/home/denys/.cache/pypoetry/virtualenvs/datas-cYPLqW4U-py3.10/bin/python -m spacy download en_core_web_sm"
   ]
  },
  {
   "cell_type": "code",
   "execution_count": 20,
   "metadata": {},
   "outputs": [],
   "source": [
    "nlp = spacy.load('en_core_web_sm')  # nlp = spacy.load('en')"
   ]
  },
  {
   "attachments": {},
   "cell_type": "markdown",
   "metadata": {},
   "source": [
    "#### __`OBTAIN` & `SCRUB`__ + __`EXPLORE`__ (DATASET)"
   ]
  },
  {
   "cell_type": "code",
   "execution_count": 21,
   "metadata": {},
   "outputs": [],
   "source": [
    "data = '''\n",
    "          The Orbiter Discovery, OV-103, is considered eligible for listing in the National Register of Historic Places (NRHP) in the context of the U.S. \n",
    "          Space Shuttle Program (1969-2011) under Criterion A in the areas of Space Exploration and Transportation and under Criterion C in the area of \n",
    "          Engineering. Because it has achieved significance within the past fifty years, Criteria Consideration G applies. Under Criterion A, Discovery \n",
    "          is significant as the oldest of the three extant orbiter vehicles constructed for the Space Shuttle Program (SSP), the longest running American \n",
    "          space program to date; she was the third of five orbiters built by NASA. Unlike the Mercury, Gemini, and Apollo programs, the SSP’s emphasis was \n",
    "          on cost effectiveness and reusability, and eventually the construction of a space station. Including her maiden voyage (launched August 30, \n",
    "          1984), Discovery flew to space thirty-nine times, more than any of the other four orbiters; she was also the first orbiter to fly twenty \n",
    "          missions. She had the honor of being chosen as the Return to Flight vehicle after both the Challenger and Columbia accidents. Discovery was the\n",
    "          first shuttle to fly with the redesigned SRBs, a result of the Challenger accident, and the first shuttle to fly with the Phase II and Block \n",
    "          I SSME. Discovery also carried the Hubble Space Telescope to orbit and performed two of the five servicing missions to the observatory. She \n",
    "          flew the first and last dedicated Department of Defense (DoD) missions, as well as the first unclassified defense-related mission. In addition, \n",
    "          Discovery was vital to the construction of the International Space Station (ISS); she flew thirteen of the thirty-seven total missions flown \n",
    "          to the station by a U.S. Space Shuttle. She was the first orbiter to dock to the ISS, and the first to perform an exchange of a resident crew. \n",
    "          Under Criterion C, Discovery is significant as a feat of engineering. According to Wayne Hale, a flight director from Johnson Space Center, \n",
    "          the Space Shuttle orbiter represents a “huge technological leap from expendable rockets and capsules to a reusable, winged, hypersonic, \n",
    "          cargo-carrying spacecraft.” Although her base structure followed a conventional aircraft design, she used advanced materials that both \n",
    "          minimized her weight for cargo-carrying purposes and featured low thermal expansion ratios, which provided a stable base for her Thermal \n",
    "          Protection System (TPS) materials. The Space Shuttle orbiter also featured the first reusable TPS; all previous spaceflight vehicles had \n",
    "          a single-use, ablative heat shield. Other notable engineering achievements of the orbiter included the first reusable orbital propulsion \n",
    "          system, and the first two-fault-tolerant Integrated Avionics System. As Hale stated, the Space Shuttle remains “the largest, fastest, \n",
    "          winged hypersonic aircraft in history,” having regularly flown at twenty-five times the speed of sound.\n",
    "          '''"
   ]
  },
  {
   "cell_type": "code",
   "execution_count": 22,
   "metadata": {},
   "outputs": [],
   "source": [
    "data_text = data.replace('\\n', '').replace('    ', ' ').replace('   ', ' ').replace('  ', ' ').replace('  ', ' ')[1: -1]"
   ]
  },
  {
   "cell_type": "code",
   "execution_count": 23,
   "metadata": {},
   "outputs": [
    {
     "data": {
      "text/plain": [
       "'The Orbiter Discovery, OV-103, is considered eligible for listing in the National Register of Historic Places (NRHP) in the context of the U.S. Space Shuttle Program (1969-2011) under Criterion A in the areas of Space Exploration and Transportation and under Criterion C in the area of Engineering. Because it has achieved significance within the past fifty years, Criteria Consideration G applies. Under Criterion A, Discovery is significant as the oldest of the three extant orbiter vehicles constructed for the Space Shuttle Program (SSP), the longest running American space program to date; she was the third of five orbiters built by NASA. Unlike the Mercury, Gemini, and Apollo programs, the SSP’s emphasis was on cost effectiveness and reusability, and eventually the construction of a space station. Including her maiden voyage (launched August 30, 1984), Discovery flew to space thirty-nine times, more than any of the other four orbiters; she was also the first orbiter to fly twenty missions. She had the honor of being chosen as the Return to Flight vehicle after both the Challenger and Columbia accidents. Discovery was the first shuttle to fly with the redesigned SRBs, a result of the Challenger accident, and the first shuttle to fly with the Phase II and Block I SSME. Discovery also carried the Hubble Space Telescope to orbit and performed two of the five servicing missions to the observatory. She flew the first and last dedicated Department of Defense (DoD) missions, as well as the first unclassified defense-related mission. In addition, Discovery was vital to the construction of the International Space Station (ISS); she flew thirteen of the thirty-seven total missions flown to the station by a U.S. Space Shuttle. She was the first orbiter to dock to the ISS, and the first to perform an exchange of a resident crew. Under Criterion C, Discovery is significant as a feat of engineering. According to Wayne Hale, a flight director from Johnson Space Center, the Space Shuttle orbiter represents a “huge technological leap from expendable rockets and capsules to a reusable, winged, hypersonic, cargo-carrying spacecraft.” Although her base structure followed a conventional aircraft design, she used advanced materials that both minimized her weight for cargo-carrying purposes and featured low thermal expansion ratios, which provided a stable base for her Thermal Protection System (TPS) materials. The Space Shuttle orbiter also featured the first reusable TPS; all previous spaceflight vehicles had a single-use, ablative heat shield. Other notable engineering achievements of the orbiter included the first reusable orbital propulsion system, and the first two-fault-tolerant Integrated Avionics System. As Hale stated, the Space Shuttle remains “the largest, fastest, winged hypersonic aircraft in history,” having regularly flown at twenty-five times the speed of sound.'"
      ]
     },
     "execution_count": 23,
     "metadata": {},
     "output_type": "execute_result"
    }
   ],
   "source": [
    "data_text"
   ]
  },
  {
   "attachments": {},
   "cell_type": "markdown",
   "metadata": {},
   "source": [
    "Перш ніж почати створювати `text summary`, текст потрібно підготувати. Це включає в себе `видалення непотрібних символів`, `токенізацію` (розбиття тексту на окремі слова або речення), `видалення стоп-слів` (слова, які не несуть суттєвої інформації) і, за необхідності, `інші обробки тексту`, такі як `стемінг` або `лематизація`."
   ]
  },
  {
   "cell_type": "code",
   "execution_count": 25,
   "metadata": {},
   "outputs": [
    {
     "name": "stdout",
     "output_type": "stream",
     "text": [
      "17\n",
      "<class 'spacy.tokens.doc.Doc'>\n",
      "['The', 'Orbiter', 'Discovery', ',', 'OV-103', ',', 'is', 'considered', 'eligible', 'for', 'listing', 'in', 'the', 'National', 'Register', 'of', 'Historic', 'Places', '(', 'NRHP', ')', 'in', 'the', 'context', 'of', 'the', 'U.S.', 'Space', 'Shuttle', 'Program', '(', '1969', '-', '2011', ')', 'under', 'Criterion', 'A', 'in', 'the', 'areas', 'of', 'Space', 'Exploration', 'and', 'Transportation', 'and', 'under', 'Criterion', 'C', 'in', 'the', 'area', 'of', 'Engineering', '.', 'Because', 'it', 'has', 'achieved', 'significance', 'within', 'the', 'past', 'fifty', 'years', ',', 'Criteria', 'Consideration', 'G', 'applies', '.', 'Under', 'Criterion', 'A', ',', 'Discovery', 'is', 'significant', 'as', 'the', 'oldest', 'of', 'the', 'three', 'extant', 'orbiter', 'vehicles', 'constructed', 'for', 'the', 'Space', 'Shuttle', 'Program', '(', 'SSP', ')', ',', 'the', 'longest', 'running', 'American', 'space', 'program', 'to', 'date', ';', 'she', 'was', 'the', 'third', 'of', 'five', 'orbiters', 'built', 'by', 'NASA', '.', 'Unlike', 'the', 'Mercury', ',', 'Gemini', ',', 'and', 'Apollo', 'programs', ',', 'the', 'SSP', '’s', 'emphasis', 'was', 'on', 'cost', 'effectiveness', 'and', 'reusability', ',', 'and', 'eventually', 'the', 'construction', 'of', 'a', 'space', 'station', '.', 'Including', 'her', 'maiden', 'voyage', '(', 'launched', 'August', '30', ',', '1984', ')', ',', 'Discovery', 'flew', 'to', 'space', 'thirty', '-', 'nine', 'times', ',', 'more', 'than', 'any', 'of', 'the', 'other', 'four', 'orbiters', ';', 'she', 'was', 'also', 'the', 'first', 'orbiter', 'to', 'fly', 'twenty', 'missions', '.', 'She', 'had', 'the', 'honor', 'of', 'being', 'chosen', 'as', 'the', 'Return', 'to', 'Flight', 'vehicle', 'after', 'both', 'the', 'Challenger', 'and', 'Columbia', 'accidents', '.', 'Discovery', 'was', 'the', 'first', 'shuttle', 'to', 'fly', 'with', 'the', 'redesigned', 'SRBs', ',', 'a', 'result', 'of', 'the', 'Challenger', 'accident', ',', 'and', 'the', 'first', 'shuttle', 'to', 'fly', 'with', 'the', 'Phase', 'II', 'and', 'Block', 'I', 'SSME', '.', 'Discovery', 'also', 'carried', 'the', 'Hubble', 'Space', 'Telescope', 'to', 'orbit', 'and', 'performed', 'two', 'of', 'the', 'five', 'servicing', 'missions', 'to', 'the', 'observatory', '.', 'She', 'flew', 'the', 'first', 'and', 'last', 'dedicated', 'Department', 'of', 'Defense', '(', 'DoD', ')', 'missions', ',', 'as', 'well', 'as', 'the', 'first', 'unclassified', 'defense', '-', 'related', 'mission', '.', 'In', 'addition', ',', 'Discovery', 'was', 'vital', 'to', 'the', 'construction', 'of', 'the', 'International', 'Space', 'Station', '(', 'ISS', ')', ';', 'she', 'flew', 'thirteen', 'of', 'the', 'thirty', '-', 'seven', 'total', 'missions', 'flown', 'to', 'the', 'station', 'by', 'a', 'U.S.', 'Space', 'Shuttle', '.', 'She', 'was', 'the', 'first', 'orbiter', 'to', 'dock', 'to', 'the', 'ISS', ',', 'and', 'the', 'first', 'to', 'perform', 'an', 'exchange', 'of', 'a', 'resident', 'crew', '.', 'Under', 'Criterion', 'C', ',', 'Discovery', 'is', 'significant', 'as', 'a', 'feat', 'of', 'engineering', '.', 'According', 'to', 'Wayne', 'Hale', ',', 'a', 'flight', 'director', 'from', 'Johnson', 'Space', 'Center', ',', 'the', 'Space', 'Shuttle', 'orbiter', 'represents', 'a', '“', 'huge', 'technological', 'leap', 'from', 'expendable', 'rockets', 'and', 'capsules', 'to', 'a', 'reusable', ',', 'winged', ',', 'hypersonic', ',', 'cargo', '-', 'carrying', 'spacecraft', '.', '”', 'Although', 'her', 'base', 'structure', 'followed', 'a', 'conventional', 'aircraft', 'design', ',', 'she', 'used', 'advanced', 'materials', 'that', 'both', 'minimized', 'her', 'weight', 'for', 'cargo', '-', 'carrying', 'purposes', 'and', 'featured', 'low', 'thermal', 'expansion', 'ratios', ',', 'which', 'provided', 'a', 'stable', 'base', 'for', 'her', 'Thermal', 'Protection', 'System', '(', 'TPS', ')', 'materials', '.', 'The', 'Space', 'Shuttle', 'orbiter', 'also', 'featured', 'the', 'first', 'reusable', 'TPS', ';', 'all', 'previous', 'spaceflight', 'vehicles', 'had', 'a', 'single', '-', 'use', ',', 'ablative', 'heat', 'shield', '.', 'Other', 'notable', 'engineering', 'achievements', 'of', 'the', 'orbiter', 'included', 'the', 'first', 'reusable', 'orbital', 'propulsion', 'system', ',', 'and', 'the', 'first', 'two', '-', 'fault', '-', 'tolerant', 'Integrated', 'Avionics', 'System', '.', 'As', 'Hale', 'stated', ',', 'the', 'Space', 'Shuttle', 'remains', '“', 'the', 'largest', ',', 'fastest', ',', 'winged', 'hypersonic', 'aircraft', 'in', 'history', ',', '”', 'having', 'regularly', 'flown', 'at', 'twenty', '-', 'five', 'times', 'the', 'speed', 'of', 'sound', '.']\n",
      "539\n"
     ]
    }
   ],
   "source": [
    "# Токенізація\n",
    "doc = nlp(data_text)\n",
    "print(len(list(doc.sents)))\n",
    "tokens1 = [token.text for token in doc]\n",
    "print(type(doc))\n",
    "print(tokens1)\n",
    "print(len(tokens1))"
   ]
  },
  {
   "cell_type": "code",
   "execution_count": 30,
   "metadata": {},
   "outputs": [],
   "source": [
    "keyword = []\n",
    "stopwords = list(STOP_WORDS)\n",
    "pos_tag = ['PROPN', 'ADJ', 'NOUN', 'VERB']\n",
    "for token in doc:\n",
    "    if token.text not in stopwords and token.text not in punctuation and token.pos_ in pos_tag:\n",
    "        keyword.append(token.text)"
   ]
  },
  {
   "cell_type": "code",
   "execution_count": 32,
   "metadata": {},
   "outputs": [
    {
     "data": {
      "text/plain": [
       "(246,\n",
       " ['Orbiter',\n",
       "  'Discovery',\n",
       "  'OV-103',\n",
       "  'considered',\n",
       "  'eligible',\n",
       "  'listing',\n",
       "  'National',\n",
       "  'Register',\n",
       "  'Historic',\n",
       "  'Places',\n",
       "  'NRHP',\n",
       "  'context',\n",
       "  'U.S.',\n",
       "  'Space',\n",
       "  'Shuttle',\n",
       "  'Program',\n",
       "  'Criterion',\n",
       "  'A',\n",
       "  'areas',\n",
       "  'Space',\n",
       "  'Exploration',\n",
       "  'Transportation',\n",
       "  'Criterion',\n",
       "  'C',\n",
       "  'area',\n",
       "  'Engineering',\n",
       "  'achieved',\n",
       "  'significance',\n",
       "  'past',\n",
       "  'years',\n",
       "  'Criteria',\n",
       "  'Consideration',\n",
       "  'G',\n",
       "  'applies',\n",
       "  'Criterion',\n",
       "  'A',\n",
       "  'Discovery',\n",
       "  'significant',\n",
       "  'oldest',\n",
       "  'extant',\n",
       "  'orbiter',\n",
       "  'vehicles',\n",
       "  'constructed',\n",
       "  'Space',\n",
       "  'Shuttle',\n",
       "  'Program',\n",
       "  'SSP',\n",
       "  'longest',\n",
       "  'running',\n",
       "  'American',\n",
       "  'space',\n",
       "  'program',\n",
       "  'date',\n",
       "  'orbiters',\n",
       "  'built',\n",
       "  'NASA',\n",
       "  'Mercury',\n",
       "  'Gemini',\n",
       "  'Apollo',\n",
       "  'programs',\n",
       "  'SSP',\n",
       "  'emphasis',\n",
       "  'cost',\n",
       "  'effectiveness',\n",
       "  'reusability',\n",
       "  'construction',\n",
       "  'space',\n",
       "  'station',\n",
       "  'Including',\n",
       "  'maiden',\n",
       "  'voyage',\n",
       "  'launched',\n",
       "  'August',\n",
       "  'Discovery',\n",
       "  'flew',\n",
       "  'space',\n",
       "  'times',\n",
       "  'orbiters',\n",
       "  'orbiter',\n",
       "  'fly',\n",
       "  'missions',\n",
       "  'honor',\n",
       "  'chosen',\n",
       "  'Return',\n",
       "  'Flight',\n",
       "  'vehicle',\n",
       "  'Challenger',\n",
       "  'Columbia',\n",
       "  'accidents',\n",
       "  'Discovery',\n",
       "  'shuttle',\n",
       "  'fly',\n",
       "  'redesigned',\n",
       "  'SRBs',\n",
       "  'result',\n",
       "  'Challenger',\n",
       "  'accident',\n",
       "  'shuttle',\n",
       "  'fly',\n",
       "  'Phase',\n",
       "  'II',\n",
       "  'Block',\n",
       "  'SSME',\n",
       "  'Discovery',\n",
       "  'carried',\n",
       "  'Hubble',\n",
       "  'Space',\n",
       "  'Telescope',\n",
       "  'orbit',\n",
       "  'performed',\n",
       "  'servicing',\n",
       "  'missions',\n",
       "  'observatory',\n",
       "  'flew',\n",
       "  'dedicated',\n",
       "  'Department',\n",
       "  'Defense',\n",
       "  'DoD',\n",
       "  'missions',\n",
       "  'unclassified',\n",
       "  'defense',\n",
       "  'related',\n",
       "  'mission',\n",
       "  'addition',\n",
       "  'Discovery',\n",
       "  'vital',\n",
       "  'construction',\n",
       "  'International',\n",
       "  'Space',\n",
       "  'Station',\n",
       "  'ISS',\n",
       "  'flew',\n",
       "  'total',\n",
       "  'missions',\n",
       "  'flown',\n",
       "  'station',\n",
       "  'U.S.',\n",
       "  'Space',\n",
       "  'Shuttle',\n",
       "  'orbiter',\n",
       "  'dock',\n",
       "  'ISS',\n",
       "  'perform',\n",
       "  'exchange',\n",
       "  'resident',\n",
       "  'crew',\n",
       "  'Criterion',\n",
       "  'C',\n",
       "  'Discovery',\n",
       "  'significant',\n",
       "  'feat',\n",
       "  'engineering',\n",
       "  'According',\n",
       "  'Wayne',\n",
       "  'Hale',\n",
       "  'flight',\n",
       "  'director',\n",
       "  'Johnson',\n",
       "  'Space',\n",
       "  'Center',\n",
       "  'Space',\n",
       "  'Shuttle',\n",
       "  'orbiter',\n",
       "  'represents',\n",
       "  'huge',\n",
       "  'technological',\n",
       "  'leap',\n",
       "  'expendable',\n",
       "  'rockets',\n",
       "  'capsules',\n",
       "  'reusable',\n",
       "  'winged',\n",
       "  'hypersonic',\n",
       "  'cargo',\n",
       "  'carrying',\n",
       "  'spacecraft',\n",
       "  'base',\n",
       "  'structure',\n",
       "  'followed',\n",
       "  'conventional',\n",
       "  'aircraft',\n",
       "  'design',\n",
       "  'advanced',\n",
       "  'materials',\n",
       "  'minimized',\n",
       "  'weight',\n",
       "  'cargo',\n",
       "  'carrying',\n",
       "  'purposes',\n",
       "  'featured',\n",
       "  'low',\n",
       "  'thermal',\n",
       "  'expansion',\n",
       "  'ratios',\n",
       "  'provided',\n",
       "  'stable',\n",
       "  'base',\n",
       "  'Thermal',\n",
       "  'Protection',\n",
       "  'System',\n",
       "  'TPS',\n",
       "  'materials',\n",
       "  'Space',\n",
       "  'Shuttle',\n",
       "  'orbiter',\n",
       "  'featured',\n",
       "  'reusable',\n",
       "  'TPS',\n",
       "  'previous',\n",
       "  'spaceflight',\n",
       "  'vehicles',\n",
       "  'single',\n",
       "  'use',\n",
       "  'ablative',\n",
       "  'heat',\n",
       "  'shield',\n",
       "  'Other',\n",
       "  'notable',\n",
       "  'engineering',\n",
       "  'achievements',\n",
       "  'orbiter',\n",
       "  'included',\n",
       "  'reusable',\n",
       "  'orbital',\n",
       "  'propulsion',\n",
       "  'system',\n",
       "  'fault',\n",
       "  'tolerant',\n",
       "  'Integrated',\n",
       "  'Avionics',\n",
       "  'System',\n",
       "  'Hale',\n",
       "  'stated',\n",
       "  'Space',\n",
       "  'Shuttle',\n",
       "  'remains',\n",
       "  'largest',\n",
       "  'fastest',\n",
       "  'winged',\n",
       "  'hypersonic',\n",
       "  'aircraft',\n",
       "  'history',\n",
       "  'flown',\n",
       "  'times',\n",
       "  'speed',\n",
       "  'sound'])"
      ]
     },
     "execution_count": 32,
     "metadata": {},
     "output_type": "execute_result"
    }
   ],
   "source": [
    "len(keyword), keyword"
   ]
  },
  {
   "cell_type": "code",
   "execution_count": 33,
   "metadata": {},
   "outputs": [
    {
     "name": "stdout",
     "output_type": "stream",
     "text": [
      "[('Space', 10), ('Discovery', 7), ('Shuttle', 6), ('orbiter', 6), ('Criterion', 4)]\n"
     ]
    }
   ],
   "source": [
    "freq_word = Counter(keyword)\n",
    "print(freq_word.most_common(5))"
   ]
  },
  {
   "cell_type": "code",
   "execution_count": 34,
   "metadata": {},
   "outputs": [
    {
     "data": {
      "text/plain": [
       "collections.Counter"
      ]
     },
     "execution_count": 34,
     "metadata": {},
     "output_type": "execute_result"
    }
   ],
   "source": [
    "type(freq_word)"
   ]
  },
  {
   "cell_type": "code",
   "execution_count": 35,
   "metadata": {},
   "outputs": [
    {
     "data": {
      "text/plain": [
       "[('Space', 1.0),\n",
       " ('Discovery', 0.7),\n",
       " ('Shuttle', 0.6),\n",
       " ('orbiter', 0.6),\n",
       " ('Criterion', 0.4)]"
      ]
     },
     "execution_count": 35,
     "metadata": {},
     "output_type": "execute_result"
    }
   ],
   "source": [
    "max_freq = Counter(keyword).most_common(1)[0][1]\n",
    "for word in freq_word.keys():  \n",
    "    freq_word[word] = (freq_word[word] / max_freq)\n",
    "    \n",
    "freq_word.most_common(5)"
   ]
  },
  {
   "cell_type": "code",
   "execution_count": 37,
   "metadata": {},
   "outputs": [
    {
     "name": "stdout",
     "output_type": "stream",
     "text": [
      "{The Orbiter Discovery, OV-103, is considered eligible for listing in the National Register of Historic Places (NRHP) in the context of the U.S. Space Shuttle Program (1969-2011) under Criterion A in the areas of Space Exploration and Transportation and under Criterion C in the area of Engineering.: 6.5, Because it has achieved significance within the past fifty years, Criteria Consideration G applies.: 0.7999999999999999, Under Criterion A, Discovery is significant as the oldest of the three extant orbiter vehicles constructed for the Space Shuttle Program (SSP), the longest running American space program to date; she was the third of five orbiters built by NASA.: 5.799999999999998, Unlike the Mercury, Gemini, and Apollo programs, the SSP’s emphasis was on cost effectiveness and reusability, and eventually the construction of a space station.: 1.7, Including her maiden voyage (launched August 30, 1984), Discovery flew to space thirty-nine times, more than any of the other four orbiters; she was also the first orbiter to fly twenty missions.: 3.5, She had the honor of being chosen as the Return to Flight vehicle after both the Challenger and Columbia accidents.: 0.8999999999999999, Discovery was the first shuttle to fly with the redesigned SRBs, a result of the Challenger accident, and the first shuttle to fly with the Phase II and Block I SSME.: 2.7000000000000006, Discovery also carried the Hubble Space Telescope to orbit and performed two of the five servicing missions to the observatory.: 2.8000000000000003, She flew the first and last dedicated Department of Defense (DoD) missions, as well as the first unclassified defense-related mission.: 1.5000000000000004, In addition, Discovery was vital to the construction of the International Space Station (ISS); she flew thirteen of the thirty-seven total missions flown to the station by a U.S. Space Shuttle.: 5.5, She was the first orbiter to dock to the ISS, and the first to perform an exchange of a resident crew.: 1.3, Under Criterion C, Discovery is significant as a feat of engineering.: 1.8, According to Wayne Hale, a flight director from Johnson Space Center, the Space Shuttle orbiter represents a “huge technological leap from expendable rockets and capsules to a reusable, winged, hypersonic, cargo-carrying spacecraft.”: 5.899999999999998, Although her base structure followed a conventional aircraft design, she used advanced materials that both minimized her weight for cargo-carrying purposes and featured low thermal expansion ratios, which provided a stable base for her Thermal Protection System (TPS) materials.: 3.6000000000000014, The Space Shuttle orbiter also featured the first reusable TPS; all previous spaceflight vehicles had a single-use, ablative heat shield.: 3.800000000000001, Other notable engineering achievements of the orbiter included the first reusable orbital propulsion system, and the first two-fault-tolerant Integrated Avionics System.: 2.400000000000001, As Hale stated, the Space Shuttle remains “the largest, fastest, winged hypersonic aircraft in history,” having regularly flown at twenty-five times the speed of sound.: 3.5000000000000013}\n"
     ]
    }
   ],
   "source": [
    "sent_strength={}\n",
    "for sent in doc.sents:\n",
    "    for word in sent:\n",
    "        if word.text in freq_word.keys():\n",
    "            sent_strength[sent] = sent_strength[sent] + freq_word[word.text] if sent in sent_strength.keys() else freq_word[word.text]\n",
    "\n",
    "print(sent_strength)"
   ]
  },
  {
   "cell_type": "code",
   "execution_count": 38,
   "metadata": {},
   "outputs": [
    {
     "name": "stdout",
     "output_type": "stream",
     "text": [
      "[The Orbiter Discovery, OV-103, is considered eligible for listing in the National Register of Historic Places (NRHP) in the context of the U.S. Space Shuttle Program (1969-2011) under Criterion A in the areas of Space Exploration and Transportation and under Criterion C in the area of Engineering., According to Wayne Hale, a flight director from Johnson Space Center, the Space Shuttle orbiter represents a “huge technological leap from expendable rockets and capsules to a reusable, winged, hypersonic, cargo-carrying spacecraft.”, Under Criterion A, Discovery is significant as the oldest of the three extant orbiter vehicles constructed for the Space Shuttle Program (SSP), the longest running American space program to date; she was the third of five orbiters built by NASA.]\n"
     ]
    }
   ],
   "source": [
    "summarized_sentences = nlargest(3, sent_strength, key=sent_strength.get)\n",
    "print(summarized_sentences)"
   ]
  },
  {
   "cell_type": "code",
   "execution_count": 39,
   "metadata": {},
   "outputs": [
    {
     "name": "stdout",
     "output_type": "stream",
     "text": [
      "<class 'spacy.tokens.span.Span'>\n"
     ]
    }
   ],
   "source": [
    "print(type(summarized_sentences[0]))"
   ]
  },
  {
   "cell_type": "code",
   "execution_count": 40,
   "metadata": {},
   "outputs": [
    {
     "name": "stdout",
     "output_type": "stream",
     "text": [
      "The Orbiter Discovery, OV-103, is considered eligible for listing in the National Register of Historic Places (NRHP) in the context of the U.S. Space Shuttle Program (1969-2011) under Criterion A in the areas of Space Exploration and Transportation and under Criterion C in the area of Engineering. According to Wayne Hale, a flight director from Johnson Space Center, the Space Shuttle orbiter represents a “huge technological leap from expendable rockets and capsules to a reusable, winged, hypersonic, cargo-carrying spacecraft.” Under Criterion A, Discovery is significant as the oldest of the three extant orbiter vehicles constructed for the Space Shuttle Program (SSP), the longest running American space program to date; she was the third of five orbiters built by NASA.\n"
     ]
    }
   ],
   "source": [
    "final_sentences = [w.text for w in summarized_sentences]\n",
    "summary = ' '.join(final_sentences)\n",
    "print(summary)"
   ]
  },
  {
   "attachments": {},
   "cell_type": "markdown",
   "metadata": {},
   "source": [
    "- https://snyk.io/advisor/python/gensim-sum-ext\n",
    "\n",
    "- https://pypi.org/project/gensim_sum_ext/\n",
    "\n",
    "- https://stackoverflow.com/questions/69064948/how-to-import-gensim-summarize"
   ]
  },
  {
   "cell_type": "code",
   "execution_count": null,
   "metadata": {},
   "outputs": [],
   "source": [
    "# poetry add gensim==3.6.0    # 3.8.3\n",
    "# !pip install gensim_sum_ext \n",
    "# poetry add gensim_sum_ext"
   ]
  },
  {
   "cell_type": "code",
   "execution_count": 42,
   "metadata": {},
   "outputs": [
    {
     "ename": "ModuleNotFoundError",
     "evalue": "No module named 'gensim.summarization'",
     "output_type": "error",
     "traceback": [
      "\u001b[0;31m---------------------------------------------------------------------------\u001b[0m",
      "\u001b[0;31mModuleNotFoundError\u001b[0m                       Traceback (most recent call last)",
      "Cell \u001b[0;32mIn[42], line 1\u001b[0m\n\u001b[0;32m----> 1\u001b[0m \u001b[39mfrom\u001b[39;00m \u001b[39mgensim\u001b[39;00m\u001b[39m.\u001b[39;00m\u001b[39msummarization\u001b[39;00m \u001b[39mimport\u001b[39;00m summarize\n\u001b[1;32m      4\u001b[0m summarize(doc)\n",
      "\u001b[0;31mModuleNotFoundError\u001b[0m: No module named 'gensim.summarization'"
     ]
    }
   ],
   "source": [
    "from gensim.summarization import summarize\n",
    "\n",
    "\n",
    "summarize(doc)"
   ]
  },
  {
   "cell_type": "code",
   "execution_count": null,
   "metadata": {},
   "outputs": [],
   "source": []
  },
  {
   "cell_type": "code",
   "execution_count": null,
   "metadata": {},
   "outputs": [],
   "source": []
  },
  {
   "cell_type": "code",
   "execution_count": null,
   "metadata": {},
   "outputs": [],
   "source": []
  },
  {
   "cell_type": "code",
   "execution_count": null,
   "metadata": {},
   "outputs": [],
   "source": []
  },
  {
   "cell_type": "code",
   "execution_count": null,
   "metadata": {},
   "outputs": [],
   "source": []
  },
  {
   "cell_type": "code",
   "execution_count": null,
   "metadata": {},
   "outputs": [],
   "source": []
  },
  {
   "attachments": {},
   "cell_type": "markdown",
   "metadata": {},
   "source": [
    "- https://github.com/kamal2230/text-summarization/blob/master/Summarisation_using_spaCy.ipynb\n",
    "- https://medium.com/analytics-vidhya/text-summarization-using-spacy-ca4867c6b744\n",
    "- https://realpython.com/natural-language-processing-spacy-python/\n",
    "- https://dou.ua/lenta/articles/first-steps-in-nlp-nltk/\n",
    "- \n"
   ]
  }
 ],
 "metadata": {
  "kernelspec": {
   "display_name": "datas-cYPLqW4U-py3.10",
   "language": "python",
   "name": "python3"
  },
  "language_info": {
   "codemirror_mode": {
    "name": "ipython",
    "version": 3
   },
   "file_extension": ".py",
   "mimetype": "text/x-python",
   "name": "python",
   "nbconvert_exporter": "python",
   "pygments_lexer": "ipython3",
   "version": "3.10.12"
  },
  "orig_nbformat": 4
 },
 "nbformat": 4,
 "nbformat_minor": 2
}
